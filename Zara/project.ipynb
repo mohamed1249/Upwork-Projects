{
 "cells": [
  {
   "cell_type": "code",
   "execution_count": 1,
   "metadata": {},
   "outputs": [
    {
     "name": "stdout",
     "output_type": "stream",
     "text": [
      "Collecting pyod\n",
      "  Downloading pyod-1.0.9.tar.gz (149 kB)\n",
      "     ------------------------------------- 150.0/150.0 kB 45.6 kB/s eta 0:00:00\n",
      "  Preparing metadata (setup.py): started\n",
      "  Preparing metadata (setup.py): finished with status 'done'\n",
      "Requirement already satisfied: joblib in c:\\users\\laptop world\\appdata\\local\\programs\\python\\python39\\lib\\site-packages (from pyod) (1.1.0)\n",
      "Requirement already satisfied: matplotlib in c:\\users\\laptop world\\appdata\\local\\programs\\python\\python39\\lib\\site-packages (from pyod) (3.5.2)\n",
      "Requirement already satisfied: numpy>=1.19 in c:\\users\\laptop world\\appdata\\local\\programs\\python\\python39\\lib\\site-packages (from pyod) (1.23.1)\n",
      "Collecting numba>=0.51\n",
      "  Downloading numba-0.56.4-cp39-cp39-win_amd64.whl (2.5 MB)\n",
      "     ---------------------------------------- 2.5/2.5 MB 85.0 kB/s eta 0:00:00\n",
      "Requirement already satisfied: scipy>=1.5.1 in c:\\users\\laptop world\\appdata\\local\\programs\\python\\python39\\lib\\site-packages (from pyod) (1.9.0)\n",
      "Requirement already satisfied: scikit_learn>=0.20.0 in c:\\users\\laptop world\\appdata\\local\\programs\\python\\python39\\lib\\site-packages (from pyod) (1.1.2)\n",
      "Requirement already satisfied: six in c:\\users\\laptop world\\appdata\\local\\programs\\python\\python39\\lib\\site-packages (from pyod) (1.16.0)\n",
      "Requirement already satisfied: setuptools in c:\\users\\laptop world\\appdata\\local\\programs\\python\\python39\\lib\\site-packages (from numba>=0.51->pyod) (67.5.1)\n",
      "Collecting llvmlite<0.40,>=0.39.0dev0\n",
      "  Downloading llvmlite-0.39.1-cp39-cp39-win_amd64.whl (23.2 MB)\n",
      "     -------------------------------------- 23.2/23.2 MB 155.4 kB/s eta 0:00:00\n",
      "Requirement already satisfied: threadpoolctl>=2.0.0 in c:\\users\\laptop world\\appdata\\local\\programs\\python\\python39\\lib\\site-packages (from scikit_learn>=0.20.0->pyod) (3.1.0)\n",
      "Requirement already satisfied: python-dateutil>=2.7 in c:\\users\\laptop world\\appdata\\local\\programs\\python\\python39\\lib\\site-packages (from matplotlib->pyod) (2.8.2)\n",
      "Requirement already satisfied: packaging>=20.0 in c:\\users\\laptop world\\appdata\\local\\programs\\python\\python39\\lib\\site-packages (from matplotlib->pyod) (21.3)\n",
      "Requirement already satisfied: pyparsing>=2.2.1 in c:\\users\\laptop world\\appdata\\local\\programs\\python\\python39\\lib\\site-packages (from matplotlib->pyod) (3.0.9)\n",
      "Requirement already satisfied: fonttools>=4.22.0 in c:\\users\\laptop world\\appdata\\local\\programs\\python\\python39\\lib\\site-packages (from matplotlib->pyod) (4.34.4)\n",
      "Requirement already satisfied: kiwisolver>=1.0.1 in c:\\users\\laptop world\\appdata\\local\\programs\\python\\python39\\lib\\site-packages (from matplotlib->pyod) (1.4.4)\n",
      "Requirement already satisfied: pillow>=6.2.0 in c:\\users\\laptop world\\appdata\\local\\programs\\python\\python39\\lib\\site-packages (from matplotlib->pyod) (9.2.0)\n",
      "Requirement already satisfied: cycler>=0.10 in c:\\users\\laptop world\\appdata\\local\\programs\\python\\python39\\lib\\site-packages (from matplotlib->pyod) (0.11.0)\n",
      "Building wheels for collected packages: pyod\n",
      "  Building wheel for pyod (setup.py): started\n",
      "  Building wheel for pyod (setup.py): finished with status 'done'\n",
      "  Created wheel for pyod: filename=pyod-1.0.9-py3-none-any.whl size=184163 sha256=a8bf19bf33f63c3471f14a8a688e09ae6b6af2e8e952c17ce0359101fb889fbc\n",
      "  Stored in directory: c:\\users\\laptop world\\appdata\\local\\pip\\cache\\wheels\\83\\b7\\18\\b5ea389c5d1e69456ea53bc05fda0339d6b845cbdeb3a39029\n",
      "Successfully built pyod\n",
      "Installing collected packages: llvmlite, numba, pyod\n",
      "Successfully installed llvmlite-0.39.1 numba-0.56.4 pyod-1.0.9\n",
      "Note: you may need to restart the kernel to use updated packages.\n"
     ]
    },
    {
     "name": "stderr",
     "output_type": "stream",
     "text": [
      "\n",
      "[notice] A new release of pip available: 22.3 -> 23.0.1\n",
      "[notice] To update, run: python.exe -m pip install --upgrade pip\n"
     ]
    }
   ],
   "source": [
    "pip install pyod"
   ]
  },
  {
   "cell_type": "code",
   "execution_count": null,
   "metadata": {},
   "outputs": [],
   "source": [
    "class outliers_detector():\n",
    "\n",
    "    def __init__(self, data) -> None:\n",
    "\n",
    "        import pandas as pd\n",
    "        from pyod.models.knn import KNN\n",
    "\n",
    "        self.data = data\n",
    "\n",
    "        # Create an instance of the KNN outlier detection model\n",
    "        self.model = KNN()\n",
    "\n",
    "        # Fit the model to the dataset\n",
    "        self.model.fit(data)\n",
    "\n",
    "\n",
    "    def outliers_score(self):\n",
    "        # Predict the outlier scores for the dataset\n",
    "        self.outlier_scores = self.model.decision_scores_\n",
    "\n",
    "        # Print the outlier scores for each data point\n",
    "        return self.outlier_scores\n",
    "    \n",
    "    def detect_outliers(self):\n",
    "        # Predict the outlier labels for the dataset\n",
    "        self.outlier_labels = self.model.predict(self.data)\n",
    "\n",
    "        # Print the outlier labels for each data point\n",
    "        return self.outlier_labels"
   ]
  }
 ],
 "metadata": {
  "kernelspec": {
   "display_name": "Python 3",
   "language": "python",
   "name": "python3"
  },
  "language_info": {
   "codemirror_mode": {
    "name": "ipython",
    "version": 3
   },
   "file_extension": ".py",
   "mimetype": "text/x-python",
   "name": "python",
   "nbconvert_exporter": "python",
   "pygments_lexer": "ipython3",
   "version": "3.9.4"
  },
  "orig_nbformat": 4
 },
 "nbformat": 4,
 "nbformat_minor": 2
}
