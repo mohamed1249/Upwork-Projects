{
  "cells": [
    {
      "cell_type": "markdown",
      "source": [
        " This notebook illustrates kernelized ridge regression with RBF kernel"
      ],
      "metadata": {
        "id": "u4WohmxQXOny"
      }
    },
    {
      "cell_type": "code",
      "execution_count": null,
      "metadata": {
        "id": "MfELEDMbi6KS"
      },
      "outputs": [],
      "source": [
        "import numpy as np\n",
        "import scipy\n",
        "from scipy.spatial import distance\n",
        "\n",
        "\"\"\"\n",
        "Constructs a Gram matrix from arrays x1 and x2 using the radial basis function (RBF) kernel\n",
        "with standard deviation s.  I suggest use cdist from scipy.spatial distance \n",
        "\"\"\"\n",
        "def rbf_kernel_matrix (x1, x2, s=1):\n",
        "\n",
        "\n",
        "\"\"\"\n",
        " Algebraically solves the ridge regression for alpha given by\n",
        " y = (K + Lambda I) alpha \n",
        "\"\"\" \n",
        "def kernalized_ridge (Lambda, K, y):\n",
        "    \n",
        "\n",
        "\"\"\"\n",
        "Computes the prediction for y given the regression estimate alpha and Gram matrix K \n",
        "from test data\n",
        "\"\"\"\n",
        "def prediction (alpha,K):\n",
        "    \n",
        "\n",
        "    \n",
        "\n",
        "\n",
        "\n",
        "\"\"\"\n",
        "Splits the data into a training set with numTrain elements,  \n",
        "a validation set with numValidate elements, and the test set with \n",
        "the remaining elements\n",
        "\"\"\"\n",
        "def splitData (data , numTrain , numValidate):\n",
        "    data_train = data [0: numTrain ]\n",
        "    data_validation = data [ numTrain : numTrain + numValidate ]\n",
        "    data_test = data [ numTrain + numValidate :]\n",
        "    return data_train, data_validation, data_test\n",
        "\n",
        "\"\"\"\n",
        "samples features vector x and a response vector y  from\n",
        " x ~ N(0,s1^2) iid\n",
        " y ~ f(x) + N(0,s2^2) iid\n",
        "\n",
        "I suggest using np.random.seed (for debugging) and np.random.normal \n",
        "\"\"\"\n",
        "def distribution (numData, f, s1, s2): \n",
        "    np.random.seed(1)\n",
        "    x = np.random.normal(0,s1,(numData,1))\n",
        "    y = f(x) + np.random.normal(0,s2,(numData,1)) \n",
        "    return x, y\n"
      ]
    },
    {
      "cell_type": "code",
      "execution_count": null,
      "metadata": {
        "colab": {
          "base_uri": "https://localhost:8080/",
          "height": 328
        },
        "id": "DpX0kzZFi6KT",
        "outputId": "b65f03d3-8d37-4ee1-87fd-ec4faafb124f"
      },
      "outputs": [
        {
          "output_type": "stream",
          "name": "stderr",
          "text": [
            "/usr/local/lib/python3.7/dist-packages/ipykernel_launcher.py:51: DeprecationWarning: scipy.exp is deprecated and will be removed in SciPy 2.0.0, use numpy.exp instead\n"
          ]
        },
        {
          "output_type": "display_data",
          "data": {
            "text/plain": [
              "<Figure size 432x288 with 1 Axes>"
            ],
            "image/png": "[encoded data removed]"
          },
          "metadata": {
            "needs_background": "light"
          }
        }
      ],
      "source": [
        "import matplotlib\n",
        "import matplotlib.pyplot as plt\n",
        "from matplotlib.pyplot import Figure, subplot\n",
        "\n",
        "\n",
        "# data generating function\n",
        "def f(x):\n",
        "    return x**2\n",
        "\n",
        "\n",
        "numData = 1000   # size of the entire data set, \n",
        "numTrain = 250   # test set size\n",
        "numValidate = 250 # validation set size (we will not be using validation in this exericse)\n",
        "\n",
        "x_min = -4\n",
        "x_max = 4\n",
        "\n",
        "# Generate the design matrix X, response vector y, and the kernel matrix \n",
        "# for training, validation and test sets\n",
        "s1 = 10\n",
        "s2 = 10\n",
        "x, y =distribution (numData, f, s1, s2) \n",
        "\n",
        "x_train , x_validation , x_test = splitData (x, numTrain, numValidate)\n",
        "y_train , y_validation , y_test = splitData (y, numTrain, numValidate)\n",
        "\n",
        "K_train = rbf_kernel_matrix(x_train, x_train)\n",
        "K_test = rbf_kernel_matrix (x_train, x_test)\n",
        "\n",
        "# Apply the ridge regressions to the training set\n",
        "Lambda =0.1\n",
        "alpha = kernalized_ridge (Lambda, K_train, y_train)\n",
        "\n",
        "# Determine the predictions for the test set\n",
        "y_bar = prediction (alpha, K_test) \n",
        "\n",
        "# Plot the predictions and actual values\n",
        "fig, (ax) = plt.subplots(1, 1) \n",
        "\n",
        "x_min, x_max = x_test.min() - 1, x_test.max() + 1\n",
        "x_actual = np.linspace(x_min,x_max,100) # 100 linearly spaced numbers\n",
        "y_actual = f(x_actual)\n",
        "\n",
        "prediction = ax.scatter (x_test, np.transpose(y_bar), label = 'prediction for test set')\n",
        "actual, = ax.plot (x_actual, y_actual, label = 'actual function')\n",
        "\n",
        "ax.set_ylabel(r\"$y$\", fontsize=11)\n",
        "ax.set_xlabel(r\"$x$\", fontsize=11)\n",
        "ax.set_title('Ridge with RBF Kernel: training set size = %s'% numTrain, fontsize=9)  \n",
        "ax.axis('tight')\n",
        "ax.legend(handles=[prediction, actual], fontsize=9)\n",
        "\n",
        "plt.show()"
      ]
    }
  ],
  "metadata": {
    "anaconda-cloud": {},
    "kernelspec": {
      "display_name": "Python [default]",
      "language": "python",
      "name": "python3"
    },
    "language_info": {
      "codemirror_mode": {
        "name": "ipython",
        "version": 3
      },
      "file_extension": ".py",
      "mimetype": "text/x-python",
      "name": "python",
      "nbconvert_exporter": "python",
      "pygments_lexer": "ipython3",
      "version": "3.5.2"
    },
    "colab": {
      "name": "hw7.ipynb",
      "provenance": []
    }
  },
  "nbformat": 4,
  "nbformat_minor": 0
}