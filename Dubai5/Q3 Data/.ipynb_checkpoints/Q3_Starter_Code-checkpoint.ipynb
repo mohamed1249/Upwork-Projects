{
 "cells": [
  {
   "cell_type": "markdown",
   "metadata": {
    "id": "5Y9uyZ2Wa5j1"
   },
   "source": [
    "<h1 style=\"background:yellow;\">Ahmad Abdulla</h1>\n",
    "\n",
    "\n",
    "# Demand Forecasting Project\n",
    "1.\tDownload electricityLoadData.csv from the shared box and upload to your own google drive \n",
    "2.\tInstructions for coding (What you need to code):\n",
    "    - Load data and preprocess data using the predefined functions.\n",
    "    - Go to `build_model` section and define your own network.\n",
    "    - Choose your parameters to set up the training routine.\n",
    "    - Plot your result by using the `Analyze Result` section.\n",
    "    - Print your notebook by clicking File > Save > PDF to upload your work."
   ]
  },
  {
   "cell_type": "code",
   "execution_count": 1,
   "metadata": {
    "colab": {
     "base_uri": "https://localhost:8080/"
    },
    "id": "MEdf7gRBbXy5",
    "outputId": "e0e30010-da6c-4e19-89f6-4b37dd301112"
   },
   "outputs": [],
   "source": [
    "import numpy as np\n",
    "import matplotlib.pyplot as plt\n",
    "plt.style.use('fivethirtyeight')\n",
    "import pandas as pd\n",
    "from pandas import datetime\n",
    "import math, time\n",
    "import itertools\n",
    "from sklearn import preprocessing\n",
    "import datetime\n",
    "from operator import itemgetter\n",
    "from sklearn.metrics import mean_squared_error\n",
    "from math import sqrt\n",
    "from tensorflow.keras.models import Sequential\n",
    "from tensorflow.keras.models import model_from_json\n",
    "from tensorflow.keras.layers import Dense, Dropout, Activation\n",
    "from tensorflow.keras.layers import LSTM\n",
    "from sklearn.metrics import mean_absolute_error"
   ]
  },
  {
   "cell_type": "code",
   "execution_count": 2,
   "metadata": {
    "colab": {
     "base_uri": "https://localhost:8080/"
    },
    "id": "eVbbBJiP5dd7",
    "outputId": "1e045aff-c6b1-497c-b0ae-564b4ebc80fe"
   },
   "outputs": [
    {
     "data": {
      "text/plain": [
       "\"\\nfrom google.colab import drive\\ndrive.mount('/content/drive')\\n\""
      ]
     },
     "execution_count": 2,
     "metadata": {},
     "output_type": "execute_result"
    }
   ],
   "source": [
    "# Uncomment this code if data is read from Google Drive\n",
    "\"\"\"\n",
    "from google.colab import drive\n",
    "drive.mount('/content/drive')\n",
    "\"\"\""
   ]
  },
  {
   "cell_type": "code",
   "execution_count": 3,
   "metadata": {
    "id": "9ZhMKpeb5f5g"
   },
   "outputs": [],
   "source": [
    "FILE_PATH = \"electricityLoadData.csv\""
   ]
  },
  {
   "cell_type": "code",
   "execution_count": 4,
   "metadata": {
    "id": "BkUtjpCQRS28"
   },
   "outputs": [],
   "source": [
    "### Functions to load and preprocess data [You do NOT have to change anything here.]\n",
    "\n",
    "def get_dataset(file_path):\n",
    "    my_data = pd.read_csv(file_path, header=1, error_bad_lines=False)\n",
    "    df = pd.DataFrame(my_data)\n",
    "    df.drop(df.columns[[2]], axis=1, inplace=True) # drop year\n",
    "    return df\n",
    "  \n",
    "def normalize_dataset(dataset): \n",
    "    # minmax normalize \n",
    "    values = dataset.values\n",
    "    minima_demand = np.amin(values[:, -1])\n",
    "    maxima_demand = np.amax(values[:, -1])\n",
    "    scaling_parameter_demand = maxima_demand - minima_demand\n",
    "    for i in range(values.shape[1]):\n",
    "        values[:, i] = (values[:, i]-np.amin(values[:, i]))/(np.amax(values[:, i])-np.amin(values[:, i]))\n",
    "    return minima_demand, maxima_demand, scaling_parameter_demand, pd.DataFrame(values)\n",
    "\n",
    "def load_data(dataset, window_size):\n",
    "    amount_of_features = len(dataset.columns)\n",
    "    data = dataset.values\n",
    "    sequence_length = window_size + 1\n",
    "    result = []\n",
    "    for index in range(len(data) - sequence_length):\n",
    "        result.append(data[index: index + sequence_length])\n",
    "    windowed_mat = np.array(result)\n",
    "\n",
    "    train_split = int(round(0.8 * windowed_mat.shape[0]))\n",
    "    x_train = windowed_mat[:train_split, :-1]\n",
    "    y_train = windowed_mat[:train_split, -1][:,-1]\n",
    "    x_test = windowed_mat[train_split:, :-1]\n",
    "    y_test = windowed_mat[train_split:, -1][:,-1]\n",
    "    x_train = np.reshape(x_train, (x_train.shape[0], x_train.shape[1], amount_of_features))\n",
    "    x_test = np.reshape(x_test, (x_test.shape[0], x_test.shape[1], amount_of_features))\n",
    "    return x_train, y_train, x_test, y_test"
   ]
  },
  {
   "cell_type": "code",
   "execution_count": 5,
   "metadata": {
    "id": "bE0flKF6R1zU"
   },
   "outputs": [
    {
     "name": "stdout",
     "output_type": "stream",
     "text": [
      "X_train shape (56062, 48, 5)\n",
      "y_train shape (56062,)\n",
      "X_test shape (14016, 48, 5)\n",
      "y_test shape (14016,)\n"
     ]
    }
   ],
   "source": [
    "### Load your data using the above functions\n",
    "dataset = get_dataset(FILE_PATH)\n",
    "minima, maxima, scaling_parameter, dataset = normalize_dataset(dataset)\n",
    "WINDOW = 48\n",
    "X_train, y_train, X_test, y_test = load_data(dataset[::-1], WINDOW)\n",
    "print(\"X_train shape\", X_train.shape)\n",
    "print(\"y_train shape\", y_train.shape)\n",
    "print(\"X_test shape\", X_test.shape)\n",
    "print(\"y_test shape\", y_test.shape)"
   ]
  },
  {
   "cell_type": "code",
   "execution_count": 6,
   "metadata": {
    "id": "ynfrbXK1CJW5"
   },
   "outputs": [
    {
     "name": "stdout",
     "output_type": "stream",
     "text": [
      "Model Summary\n",
      "Model: \"sequential_1\"\n",
      "_________________________________________________________________\n",
      "Layer (type)                 Output Shape              Param #   \n",
      "=================================================================\n",
      "lstm (LSTM)                  (None, 256)               268288    \n",
      "_________________________________________________________________\n",
      "dense (Dense)                (None, 128)               32896     \n",
      "_________________________________________________________________\n",
      "dense_1 (Dense)              (None, 64)                8256      \n",
      "_________________________________________________________________\n",
      "dense_2 (Dense)              (None, 32)                2080      \n",
      "_________________________________________________________________\n",
      "dense_3 (Dense)              (None, 1)                 33        \n",
      "=================================================================\n",
      "Total params: 311,553\n",
      "Trainable params: 311,553\n",
      "Non-trainable params: 0\n",
      "_________________________________________________________________\n"
     ]
    }
   ],
   "source": [
    "# Buid model section\n",
    "model = Sequential()\n",
    "### DEFINE YOUR MODEL HERE\n",
    "model = Sequential()\n",
    "model.add(LSTM(256, activation='relu', input_shape=(48,5)))\n",
    "model.add(Dense(128))\n",
    "model.add(Dense(64))\n",
    "model.add(Dense(32))\n",
    "model.add(Dense(1))\n",
    "\n",
    "model.compile(optimizer='adam', loss='mse')\n",
    "print(\"Model Summary\")\n",
    "model.summary()"
   ]
  },
  {
   "cell_type": "code",
   "execution_count": 8,
   "metadata": {
    "id": "trCGiosgDEmu"
   },
   "outputs": [
    {
     "name": "stdout",
     "output_type": "stream",
     "text": [
      "----------------\n",
      "Train on 44849 samples, validate on 11213 samples\n",
      "Epoch 1/15\n",
      "44849/44849 - 121s - loss: 0.0032 - val_loss: 9.8040e-04\n",
      "Epoch 2/15\n",
      "44849/44849 - 145s - loss: 3.8332e-04 - val_loss: 4.3640e-04\n",
      "Epoch 3/15\n",
      "44849/44849 - 169s - loss: 2.1526e-04 - val_loss: 1.9901e-04\n",
      "Epoch 4/15\n",
      "44849/44849 - 221s - loss: 1.8281e-04 - val_loss: 3.1000e-04\n",
      "Epoch 5/15\n",
      "44849/44849 - 226s - loss: 1.6307e-04 - val_loss: 3.6753e-04\n",
      "Epoch 6/15\n",
      "44849/44849 - 220s - loss: 1.5446e-04 - val_loss: 1.3823e-04\n",
      "Epoch 7/15\n",
      "44849/44849 - 151s - loss: 1.3039e-04 - val_loss: 1.3348e-04\n",
      "Epoch 8/15\n",
      "44849/44849 - 124s - loss: 1.2628e-04 - val_loss: 1.3150e-04\n",
      "Epoch 9/15\n",
      "44849/44849 - 141s - loss: 1.3728e-04 - val_loss: 1.2629e-04\n",
      "Epoch 10/15\n",
      "44849/44849 - 232s - loss: 1.1015e-04 - val_loss: 1.0568e-04\n",
      "Epoch 11/15\n",
      "44849/44849 - 232s - loss: 1.1409e-04 - val_loss: 2.2406e-04\n",
      "Epoch 12/15\n",
      "44849/44849 - 227s - loss: 1.0751e-04 - val_loss: 1.1036e-04\n",
      "Epoch 13/15\n",
      "44849/44849 - 224s - loss: 1.0607e-04 - val_loss: 1.0723e-04\n",
      "Epoch 14/15\n",
      "44849/44849 - 221s - loss: 1.0622e-04 - val_loss: 9.5146e-05\n",
      "Epoch 15/15\n",
      "44849/44849 - 218s - loss: 1.0291e-04 - val_loss: 8.0856e-05\n"
     ]
    },
    {
     "data": {
      "text/plain": [
       "<tensorflow.python.keras.callbacks.History at 0x29cd6907a90>"
      ]
     },
     "execution_count": 8,
     "metadata": {},
     "output_type": "execute_result"
    }
   ],
   "source": [
    "# Train\n",
    "print(\"----------------\")\n",
    "model.fit(\n",
    "    X_train,\n",
    "    y_train,\n",
    "    batch_size=128,\n",
    "    epochs=15,\n",
    "    validation_split=0.2,\n",
    "    verbose=2)"
   ]
  },
  {
   "cell_type": "code",
   "execution_count": 9,
   "metadata": {
    "id": "6Ky2ofAPbfzh"
   },
   "outputs": [
    {
     "name": "stdout",
     "output_type": "stream",
     "text": [
      "Test MAPE: 5.302\n",
      "Test MAE: 406.963\n"
     ]
    },
    {
     "data": {
      "image/png": "[encoded data removed]",
      "text/plain": [
       "<Figure size 432x288 with 1 Axes>"
      ]
     },
     "metadata": {
      "needs_background": "light"
     },
     "output_type": "display_data"
    }
   ],
   "source": [
    "### Analyze Result (You do NOT have to change this)\n",
    "def inverse_normalization(data):\n",
    "    return (data*scaling_parameter)+minima\n",
    "\n",
    "def mean_absolute_percentage_error(y_true, y_pred):\n",
    "    y_true, y_pred = np.array(y_true), np.array(y_pred)\n",
    "    return np.mean(np.abs((y_true - y_pred) / y_true)) * 100\n",
    "\n",
    "def plot_result(y_true, y_pred):\n",
    "    plt.plot(y_true[:24], label='Actual', color=\"blue\")\n",
    "    plt.plot(y_pred[:24], label='Predict', color=\"red\")\n",
    "    plt.xlabel(\"Time Sequence\")\n",
    "    plt.ylabel(\"Load(MW)\")\n",
    "    plt.title(\"Actual Vs Predicted Results in the Next x*1800 Seconds\")\n",
    "    plt.legend()\n",
    "    plt.show()\n",
    "\n",
    "predicted = model.predict(X_test)\n",
    "predicted = inverse_normalization(predicted)\n",
    "\n",
    "actual = y_test\n",
    "actual = inverse_normalization(actual)\n",
    "\n",
    "# Find Mean Absolute Percentage Error\n",
    "mape = sqrt(mean_absolute_percentage_error(actual, predicted))\n",
    "print('Test MAPE: %.3f' % mape)\n",
    "# Find Mean Absolute Error\n",
    "mae  = mean_absolute_error(actual, predicted)\n",
    "print('Test MAE: %.3f' % mae)\n",
    "\n",
    "# Plot true vs predicted demand forecast\n",
    "plot_result(actual, predicted)"
   ]
  },
  {
   "cell_type": "code",
   "execution_count": null,
   "metadata": {},
   "outputs": [],
   "source": []
  }
 ],
 "metadata": {
  "colab": {
   "collapsed_sections": [],
   "name": "Q3_Starter_Code.ipynb",
   "provenance": []
  },
  "kernelspec": {
   "display_name": "Python 3",
   "language": "python",
   "name": "python3"
  },
  "language_info": {
   "codemirror_mode": {
    "name": "ipython",
    "version": 3
   },
   "file_extension": ".py",
   "mimetype": "text/x-python",
   "name": "python",
   "nbconvert_exporter": "python",
   "pygments_lexer": "ipython3",
   "version": "3.7.3"
  }
 },
 "nbformat": 4,
 "nbformat_minor": 1
}
