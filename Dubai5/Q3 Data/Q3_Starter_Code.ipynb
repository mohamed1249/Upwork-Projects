{
 "cells": [
  {
   "attachments": {},
   "cell_type": "markdown",
   "metadata": {
    "id": "5Y9uyZ2Wa5j1"
   },
   "source": [
    "<!-- <h1 style=\"background:green;\">Your Name</h1> -->\n",
    "\n",
    "\n",
    "# Demand Forecasting Project\n",
    "1.\tDownload electricityLoadData.csv from the shared box and upload to your own google drive \n",
    "2.\tInstructions for coding (What you need to code):\n",
    "    - Load data and preprocess data using the predefined functions.\n",
    "    - Go to `build_model` section and define your own network.\n",
    "    - Choose your parameters to set up the training routine.\n",
    "    - Plot your result by using the `Analyze Result` section.\n",
    "    - Print your notebook by clicking File > Save > PDF to upload your work."
   ]
  },
  {
   "cell_type": "code",
   "execution_count": 8,
   "metadata": {
    "colab": {
     "base_uri": "https://localhost:8080/"
    },
    "id": "MEdf7gRBbXy5",
    "outputId": "e0e30010-da6c-4e19-89f6-4b37dd301112"
   },
   "outputs": [],
   "source": [
    "import numpy as np\n",
    "import pandas as pd\n",
    "import matplotlib.pyplot as plt\n",
    "from sklearn import preprocessing\n",
    "from sklearn.metrics import mean_absolute_error\n",
    "from tensorflow.keras.models import Sequential\n",
    "from tensorflow.keras.layers import Dense, Activation, LSTM\n",
    "import time\n",
    "\n",
    "plt.style.use('fivethirtyeight')\n",
    "FILE_PATH = \"electricityLoadData - Q3.csv\"\n",
    "WINDOW = 48"
   ]
  },
  {
   "cell_type": "code",
   "execution_count": 9,
   "metadata": {
    "id": "BkUtjpCQRS28"
   },
   "outputs": [],
   "source": [
    "### Data Loading and Preprocessing Functions ###\n",
    "def read_data(file_path):\n",
    "    data = pd.read_csv(file_path, header=1, error_bad_lines=False)\n",
    "    data.drop(data.columns[[2]], axis=1, inplace=True) # drop year\n",
    "    return data\n",
    "  \n",
    "def normalize_data(dataset): \n",
    "    # minmax normalize \n",
    "    values = dataset.values\n",
    "    minima_demand = np.amin(values[:, -1])\n",
    "    maxima_demand = np.amax(values[:, -1])\n",
    "    scaling_parameter_demand = maxima_demand - minima_demand\n",
    "    for i in range(values.shape[1]):\n",
    "        values[:, i] = (values[:, i]-np.amin(values[:, i]))/(np.amax(values[:, i])-np.amin(values[:, i]))\n",
    "    return minima_demand, maxima_demand, scaling_parameter_demand, pd.DataFrame(values)\n",
    "\n",
    "def prepare_data(dataset, window_size):\n",
    "    amount_of_features = len(dataset.columns)\n",
    "    data = dataset.values\n",
    "    sequence_length = window_size + 1\n",
    "    result = []\n",
    "    for index in range(len(data) - sequence_length):\n",
    "        result.append(data[index: index + sequence_length])\n",
    "    windowed_mat = np.array(result)\n",
    "\n",
    "    train_split = int(round(0.8 * windowed_mat.shape[0]))\n",
    "    x_train = windowed_mat[:train_split, :-1]\n",
    "    y_train = windowed_mat[:train_split, -1][:,-1]\n",
    "    x_test = windowed_mat[train_split:, :-1]\n",
    "    y_test = windowed_mat[train_split:, -1][:,-1]\n",
    "    x_train = np.reshape(x_train, (x_train.shape[0], x_train.shape[1], amount_of_features))\n",
    "    x_test = np.reshape(x_test, (x_test.shape[0], x_test.shape[1], amount_of_features))\n",
    "    return x_train, y_train, x_test, y_test\n"
   ]
  },
  {
   "cell_type": "code",
   "execution_count": 10,
   "metadata": {
    "id": "bE0flKF6R1zU"
   },
   "outputs": [
    {
     "name": "stdout",
     "output_type": "stream",
     "text": [
      "X_train shape: (56062, 48, 5)\n",
      "y_train shape: (56062,)\n",
      "X_test shape: (14016, 48, 5)\n",
      "y_test shape: (14016,)\n"
     ]
    },
    {
     "name": "stderr",
     "output_type": "stream",
     "text": [
      "C:\\Users\\LAPTOP WORLD\\AppData\\Local\\Temp\\ipykernel_5836\\811291537.py:3: FutureWarning: The error_bad_lines argument has been deprecated and will be removed in a future version. Use on_bad_lines in the future.\n",
      "\n",
      "\n",
      "  data = pd.read_csv(file_path, header=1, error_bad_lines=False)\n"
     ]
    }
   ],
   "source": [
    "### Load and Preprocess Data ###\n",
    "dataset = read_data(FILE_PATH)\n",
    "min_demand, max_demand, demand_scaling_param, dataset = normalize_data(dataset)\n",
    "X_train, y_train, X_test, y_test = prepare_data(dataset[::-1], WINDOW)\n",
    "print(f\"X_train shape: {X_train.shape}\")\n",
    "print(f\"y_train shape: {y_train.shape}\")\n",
    "print(f\"X_test shape: {X_test.shape}\")\n",
    "print(f\"y_test shape: {y_test.shape}\")"
   ]
  },
  {
   "cell_type": "code",
   "execution_count": 11,
   "metadata": {
    "id": "ynfrbXK1CJW5"
   },
   "outputs": [
    {
     "name": "stdout",
     "output_type": "stream",
     "text": [
      "Model Summary:\n",
      "Model: \"sequential\"\n",
      "_________________________________________________________________\n",
      " Layer (type)                Output Shape              Param #   \n",
      "=================================================================\n",
      " lstm (LSTM)                 (None, 256)               268288    \n",
      "                                                                 \n",
      " dense (Dense)               (None, 128)               32896     \n",
      "                                                                 \n",
      " dense_1 (Dense)             (None, 64)                8256      \n",
      "                                                                 \n",
      " dense_2 (Dense)             (None, 32)                2080      \n",
      "                                                                 \n",
      " dense_3 (Dense)             (None, 1)                 33        \n",
      "                                                                 \n",
      "=================================================================\n",
      "Total params: 311,553\n",
      "Trainable params: 311,553\n",
      "Non-trainable params: 0\n",
      "_________________________________________________________________\n",
      "Epoch 1/15\n",
      "351/351 - 42s - loss: 0.0027 - val_loss: 5.6236e-04 - 42s/epoch - 119ms/step\n",
      "Epoch 2/15\n",
      "351/351 - 45s - loss: 3.6419e-04 - val_loss: 2.6328e-04 - 45s/epoch - 127ms/step\n",
      "Epoch 3/15\n",
      "351/351 - 41s - loss: 1.9942e-04 - val_loss: 1.6032e-04 - 41s/epoch - 116ms/step\n",
      "Epoch 4/15\n",
      "351/351 - 41s - loss: 1.6193e-04 - val_loss: 1.5070e-04 - 41s/epoch - 117ms/step\n",
      "Epoch 5/15\n",
      "351/351 - 42s - loss: 1.3783e-04 - val_loss: 1.5970e-04 - 42s/epoch - 121ms/step\n",
      "Epoch 6/15\n",
      "351/351 - 42s - loss: 1.3582e-04 - val_loss: 1.5808e-04 - 42s/epoch - 119ms/step\n",
      "Epoch 7/15\n",
      "351/351 - 42s - loss: 1.3338e-04 - val_loss: 1.1439e-04 - 42s/epoch - 119ms/step\n",
      "Epoch 8/15\n",
      "351/351 - 41s - loss: 1.1574e-04 - val_loss: 1.1279e-04 - 41s/epoch - 118ms/step\n",
      "Epoch 9/15\n",
      "351/351 - 47s - loss: 1.2203e-04 - val_loss: 1.1309e-04 - 47s/epoch - 133ms/step\n",
      "Epoch 10/15\n",
      "351/351 - 47s - loss: 1.1535e-04 - val_loss: 1.9756e-04 - 47s/epoch - 134ms/step\n",
      "Epoch 11/15\n",
      "351/351 - 46s - loss: 1.1396e-04 - val_loss: 1.0305e-04 - 46s/epoch - 132ms/step\n",
      "Epoch 12/15\n",
      "351/351 - 46s - loss: 1.1496e-04 - val_loss: 9.7395e-05 - 46s/epoch - 131ms/step\n",
      "Epoch 13/15\n",
      "351/351 - 46s - loss: 1.0499e-04 - val_loss: 2.9820e-04 - 46s/epoch - 131ms/step\n",
      "Epoch 14/15\n",
      "351/351 - 46s - loss: 1.0556e-04 - val_loss: 8.9849e-05 - 46s/epoch - 131ms/step\n",
      "Epoch 15/15\n",
      "351/351 - 47s - loss: 1.0188e-04 - val_loss: 1.4822e-04 - 47s/epoch - 133ms/step\n"
     ]
    },
    {
     "data": {
      "text/plain": [
       "<keras.callbacks.History at 0x27bc7859670>"
      ]
     },
     "execution_count": 11,
     "metadata": {},
     "output_type": "execute_result"
    }
   ],
   "source": [
    "### Model Definition and Training ###\n",
    "model = Sequential([\n",
    "    LSTM(256, activation='relu', input_shape=(48,5)),\n",
    "    Dense(128),\n",
    "    Dense(64),\n",
    "    Dense(32),\n",
    "    Dense(1)\n",
    "])\n",
    "\n",
    "model.compile(optimizer='adam', loss='mse')\n",
    "\n",
    "print(\"Model Summary:\")\n",
    "model.summary()\n",
    "\n",
    "model.fit(\n",
    "    X_train,\n",
    "    y_train,\n",
    "    batch_size=128,\n",
    "    epochs=15,\n",
    "    validation_split=0.2,\n",
    "    verbose=2)"
   ]
  },
  {
   "cell_type": "code",
   "execution_count": 12,
   "metadata": {
    "id": "6Ky2ofAPbfzh"
   },
   "outputs": [],
   "source": [
    "def denormalize_data(data, scaling_parameter, minima):\n",
    "    \"\"\"Denormalizes the input data.\"\"\"\n",
    "    return (data * scaling_parameter) + minima\n",
    "\n",
    "def calculate_mape(y_true, y_pred):\n",
    "    \"\"\"Calculates the mean absolute percentage error.\"\"\"\n",
    "    return np.mean(np.abs((y_true - y_pred) / y_true)) * 100\n",
    "\n",
    "def plot_forecast(actual, predicted, time_window=24):\n",
    "    \"\"\"Plots the actual vs predicted forecast.\"\"\"\n",
    "    plt.plot(actual[:time_window], label='Actual', color='blue')\n",
    "    plt.plot(predicted[:time_window], label='Predicted', color='red')\n",
    "    plt.xlabel('Time Sequence')\n",
    "    plt.ylabel('Load (MW)')\n",
    "    plt.title(f'Actual vs Predicted Results in the Next {time_window * 1800} Seconds')\n",
    "    plt.legend()\n",
    "    plt.show()"
   ]
  },
  {
   "cell_type": "code",
   "execution_count": 13,
   "metadata": {},
   "outputs": [
    {
     "name": "stdout",
     "output_type": "stream",
     "text": [
      "438/438 [==============================] - 11s 24ms/step\n",
      "Test MAPE: 27.731\n",
      "Test MAE: 561.951\n"
     ]
    },
    {
     "data": {
      "image/png": "[encoded data removed]",
      "text/plain": [
       "<Figure size 432x288 with 1 Axes>"
      ]
     },
     "metadata": {
      "needs_background": "light"
     },
     "output_type": "display_data"
    }
   ],
   "source": [
    "# Get the predicted and actual data\n",
    "predicted = denormalize_data(model.predict(X_test), demand_scaling_param, min_demand)\n",
    "actual = denormalize_data(y_test, demand_scaling_param, min_demand)\n",
    "\n",
    "# Calculate and print the mean absolute percentage error and mean absolute error\n",
    "mape = calculate_mape(actual, predicted)\n",
    "mae = mean_absolute_error(actual, predicted)\n",
    "print(f'Test MAPE: {mape:.3f}')\n",
    "print(f'Test MAE: {mae:.3f}')\n",
    "\n",
    "#Plot the forecast\n",
    "plot_forecast(actual, predicted)"
   ]
  }
 ],
 "metadata": {
  "colab": {
   "collapsed_sections": [],
   "name": "Q3_Starter_Code.ipynb",
   "provenance": []
  },
  "kernelspec": {
   "display_name": "Python 3",
   "language": "python",
   "name": "python3"
  },
  "language_info": {
   "codemirror_mode": {
    "name": "ipython",
    "version": 3
   },
   "file_extension": ".py",
   "mimetype": "text/x-python",
   "name": "python",
   "nbconvert_exporter": "python",
   "pygments_lexer": "ipython3",
   "version": "3.9.4"
  },
  "vscode": {
   "interpreter": {
    "hash": "346812b7c4f63123021a0011a7ad9c451703c57cd6c6827f3f726952f0a6ac21"
   }
  }
 },
 "nbformat": 4,
 "nbformat_minor": 1
}
