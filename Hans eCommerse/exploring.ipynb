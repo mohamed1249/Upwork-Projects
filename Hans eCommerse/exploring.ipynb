{
 "cells": [
  {
   "cell_type": "code",
   "execution_count": 1,
   "metadata": {},
   "outputs": [],
   "source": [
    "import pandas as pd"
   ]
  },
  {
   "cell_type": "code",
   "execution_count": 4,
   "metadata": {},
   "outputs": [
    {
     "name": "stderr",
     "output_type": "stream",
     "text": [
      "C:\\Users\\LAPTOP WORLD\\AppData\\Local\\Temp\\ipykernel_26360\\3139266249.py:1: DtypeWarning: Columns (5) have mixed types. Specify dtype option on import or set low_memory=False.\n",
      "  data = pd.read_csv('order_export.csv',sep='\\t')\n"
     ]
    }
   ],
   "source": [
    "data = pd.read_csv('order_export.csv',sep='\\t')"
   ]
  },
  {
   "cell_type": "code",
   "execution_count": 6,
   "metadata": {},
   "outputs": [
    {
     "data": {
      "text/html": [
       "<div>\n",
       "<style scoped>\n",
       "    .dataframe tbody tr th:only-of-type {\n",
       "        vertical-align: middle;\n",
       "    }\n",
       "\n",
       "    .dataframe tbody tr th {\n",
       "        vertical-align: top;\n",
       "    }\n",
       "\n",
       "    .dataframe thead th {\n",
       "        text-align: right;\n",
       "    }\n",
       "</style>\n",
       "<table border=\"1\" class=\"dataframe\">\n",
       "  <thead>\n",
       "    <tr style=\"text-align: right;\">\n",
       "      <th></th>\n",
       "      <th>state</th>\n",
       "      <th>store_id</th>\n",
       "      <th>country_id</th>\n",
       "      <th>name</th>\n",
       "      <th>customer_is_guest</th>\n",
       "      <th>increment_id</th>\n",
       "      <th>created_at</th>\n",
       "      <th>subtotal</th>\n",
       "      <th>total_item_count</th>\n",
       "      <th>sku</th>\n",
       "      <th>qty_ordered</th>\n",
       "      <th>row_total_incl_tax</th>\n",
       "    </tr>\n",
       "  </thead>\n",
       "  <tbody>\n",
       "    <tr>\n",
       "      <th>0</th>\n",
       "      <td>complete</td>\n",
       "      <td>3</td>\n",
       "      <td>FR</td>\n",
       "      <td>Français</td>\n",
       "      <td>0</td>\n",
       "      <td>300039997</td>\n",
       "      <td>2014-05-01 05:34:34</td>\n",
       "      <td>42.1488</td>\n",
       "      <td>1</td>\n",
       "      <td>246265</td>\n",
       "      <td>1.0</td>\n",
       "      <td>51.00</td>\n",
       "    </tr>\n",
       "    <tr>\n",
       "      <th>1</th>\n",
       "      <td>complete</td>\n",
       "      <td>13</td>\n",
       "      <td>BE</td>\n",
       "      <td>Belgium/Français</td>\n",
       "      <td>0</td>\n",
       "      <td>1300003752</td>\n",
       "      <td>2014-05-01 06:48:32</td>\n",
       "      <td>33.0579</td>\n",
       "      <td>1</td>\n",
       "      <td>371882</td>\n",
       "      <td>1.0</td>\n",
       "      <td>40.00</td>\n",
       "    </tr>\n",
       "    <tr>\n",
       "      <th>2</th>\n",
       "      <td>complete</td>\n",
       "      <td>3</td>\n",
       "      <td>FR</td>\n",
       "      <td>Français</td>\n",
       "      <td>0</td>\n",
       "      <td>300039998</td>\n",
       "      <td>2014-05-01 06:53:09</td>\n",
       "      <td>179.5455</td>\n",
       "      <td>5</td>\n",
       "      <td>363863</td>\n",
       "      <td>1.0</td>\n",
       "      <td>29.25</td>\n",
       "    </tr>\n",
       "    <tr>\n",
       "      <th>3</th>\n",
       "      <td>complete</td>\n",
       "      <td>3</td>\n",
       "      <td>FR</td>\n",
       "      <td>Français</td>\n",
       "      <td>0</td>\n",
       "      <td>300039998</td>\n",
       "      <td>2014-05-01 06:53:09</td>\n",
       "      <td>179.5455</td>\n",
       "      <td>5</td>\n",
       "      <td>371820</td>\n",
       "      <td>1.0</td>\n",
       "      <td>13.75</td>\n",
       "    </tr>\n",
       "    <tr>\n",
       "      <th>4</th>\n",
       "      <td>complete</td>\n",
       "      <td>3</td>\n",
       "      <td>FR</td>\n",
       "      <td>Français</td>\n",
       "      <td>0</td>\n",
       "      <td>300039998</td>\n",
       "      <td>2014-05-01 06:53:09</td>\n",
       "      <td>179.5455</td>\n",
       "      <td>5</td>\n",
       "      <td>397066</td>\n",
       "      <td>1.0</td>\n",
       "      <td>54.00</td>\n",
       "    </tr>\n",
       "  </tbody>\n",
       "</table>\n",
       "</div>"
      ],
      "text/plain": [
       "      state  store_id country_id              name  customer_is_guest   \n",
       "0  complete         3         FR          Français                  0  \\\n",
       "1  complete        13         BE  Belgium/Français                  0   \n",
       "2  complete         3         FR          Français                  0   \n",
       "3  complete         3         FR          Français                  0   \n",
       "4  complete         3         FR          Français                  0   \n",
       "\n",
       "  increment_id           created_at  subtotal  total_item_count     sku   \n",
       "0    300039997  2014-05-01 05:34:34   42.1488                 1  246265  \\\n",
       "1   1300003752  2014-05-01 06:48:32   33.0579                 1  371882   \n",
       "2    300039998  2014-05-01 06:53:09  179.5455                 5  363863   \n",
       "3    300039998  2014-05-01 06:53:09  179.5455                 5  371820   \n",
       "4    300039998  2014-05-01 06:53:09  179.5455                 5  397066   \n",
       "\n",
       "   qty_ordered  row_total_incl_tax  \n",
       "0          1.0               51.00  \n",
       "1          1.0               40.00  \n",
       "2          1.0               29.25  \n",
       "3          1.0               13.75  \n",
       "4          1.0               54.00  "
      ]
     },
     "execution_count": 6,
     "metadata": {},
     "output_type": "execute_result"
    }
   ],
   "source": [
    "data.head()"
   ]
  },
  {
   "cell_type": "code",
   "execution_count": 7,
   "metadata": {},
   "outputs": [
    {
     "name": "stdout",
     "output_type": "stream",
     "text": [
      "<class 'pandas.core.frame.DataFrame'>\n",
      "RangeIndex: 2361822 entries, 0 to 2361821\n",
      "Data columns (total 12 columns):\n",
      " #   Column              Dtype  \n",
      "---  ------              -----  \n",
      " 0   state               object \n",
      " 1   store_id            int64  \n",
      " 2   country_id          object \n",
      " 3   name                object \n",
      " 4   customer_is_guest   int64  \n",
      " 5   increment_id        object \n",
      " 6   created_at          object \n",
      " 7   subtotal            float64\n",
      " 8   total_item_count    int64  \n",
      " 9   sku                 int64  \n",
      " 10  qty_ordered         float64\n",
      " 11  row_total_incl_tax  float64\n",
      "dtypes: float64(3), int64(4), object(5)\n",
      "memory usage: 216.2+ MB\n"
     ]
    }
   ],
   "source": [
    "data.info()"
   ]
  },
  {
   "cell_type": "code",
   "execution_count": 8,
   "metadata": {},
   "outputs": [],
   "source": [
    "data.head(1000).to_csv('orders_1000.csv',index=False)"
   ]
  },
  {
   "cell_type": "code",
   "execution_count": null,
   "metadata": {},
   "outputs": [],
   "source": []
  }
 ],
 "metadata": {
  "kernelspec": {
   "display_name": "Python 3",
   "language": "python",
   "name": "python3"
  },
  "language_info": {
   "codemirror_mode": {
    "name": "ipython",
    "version": 3
   },
   "file_extension": ".py",
   "mimetype": "text/x-python",
   "name": "python",
   "nbconvert_exporter": "python",
   "pygments_lexer": "ipython3",
   "version": "3.9.4"
  },
  "orig_nbformat": 4
 },
 "nbformat": 4,
 "nbformat_minor": 2
}
