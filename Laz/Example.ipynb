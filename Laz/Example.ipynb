{
 "cells": [
  {
   "cell_type": "markdown",
   "metadata": {},
   "source": [
    "# Genrating data:"
   ]
  },
  {
   "cell_type": "code",
   "execution_count": 1,
   "metadata": {},
   "outputs": [],
   "source": [
    "import pandas as pd\n",
    "import numpy as np"
   ]
  },
  {
   "cell_type": "code",
   "execution_count": 2,
   "metadata": {},
   "outputs": [],
   "source": [
    "assignment_cols = []\n",
    "for i in range(1,11):\n",
    "    assignment_cols.append(f'assignment_{i}')\n",
    "\n",
    "department_ids = []\n",
    "tool_ids = []\n",
    "for i in range(1,7):\n",
    "    for j in range(1,31):\n",
    "        department_ids.append(i)\n",
    "        tool_ids.append(j)"
   ]
  },
  {
   "cell_type": "code",
   "execution_count": 3,
   "metadata": {},
   "outputs": [
    {
     "data": {
      "text/html": [
       "<div>\n",
       "<style scoped>\n",
       "    .dataframe tbody tr th:only-of-type {\n",
       "        vertical-align: middle;\n",
       "    }\n",
       "\n",
       "    .dataframe tbody tr th {\n",
       "        vertical-align: top;\n",
       "    }\n",
       "\n",
       "    .dataframe thead th {\n",
       "        text-align: right;\n",
       "    }\n",
       "</style>\n",
       "<table border=\"1\" class=\"dataframe\">\n",
       "  <thead>\n",
       "    <tr style=\"text-align: right;\">\n",
       "      <th></th>\n",
       "      <th>department_id</th>\n",
       "      <th>tool_id</th>\n",
       "      <th>participate</th>\n",
       "      <th>attendance</th>\n",
       "      <th>assignment_1</th>\n",
       "      <th>assignment_2</th>\n",
       "      <th>assignment_3</th>\n",
       "      <th>assignment_4</th>\n",
       "      <th>assignment_5</th>\n",
       "      <th>assignment_6</th>\n",
       "      <th>assignment_7</th>\n",
       "      <th>assignment_8</th>\n",
       "      <th>assignment_9</th>\n",
       "      <th>assignment_10</th>\n",
       "    </tr>\n",
       "  </thead>\n",
       "  <tbody>\n",
       "    <tr>\n",
       "      <th>0</th>\n",
       "      <td>1</td>\n",
       "      <td>1</td>\n",
       "      <td>NaN</td>\n",
       "      <td>NaN</td>\n",
       "      <td>NaN</td>\n",
       "      <td>NaN</td>\n",
       "      <td>NaN</td>\n",
       "      <td>NaN</td>\n",
       "      <td>NaN</td>\n",
       "      <td>NaN</td>\n",
       "      <td>NaN</td>\n",
       "      <td>NaN</td>\n",
       "      <td>NaN</td>\n",
       "      <td>NaN</td>\n",
       "    </tr>\n",
       "    <tr>\n",
       "      <th>1</th>\n",
       "      <td>1</td>\n",
       "      <td>2</td>\n",
       "      <td>NaN</td>\n",
       "      <td>NaN</td>\n",
       "      <td>NaN</td>\n",
       "      <td>NaN</td>\n",
       "      <td>NaN</td>\n",
       "      <td>NaN</td>\n",
       "      <td>NaN</td>\n",
       "      <td>NaN</td>\n",
       "      <td>NaN</td>\n",
       "      <td>NaN</td>\n",
       "      <td>NaN</td>\n",
       "      <td>NaN</td>\n",
       "    </tr>\n",
       "    <tr>\n",
       "      <th>2</th>\n",
       "      <td>1</td>\n",
       "      <td>3</td>\n",
       "      <td>NaN</td>\n",
       "      <td>NaN</td>\n",
       "      <td>NaN</td>\n",
       "      <td>NaN</td>\n",
       "      <td>NaN</td>\n",
       "      <td>NaN</td>\n",
       "      <td>NaN</td>\n",
       "      <td>NaN</td>\n",
       "      <td>NaN</td>\n",
       "      <td>NaN</td>\n",
       "      <td>NaN</td>\n",
       "      <td>NaN</td>\n",
       "    </tr>\n",
       "    <tr>\n",
       "      <th>3</th>\n",
       "      <td>1</td>\n",
       "      <td>4</td>\n",
       "      <td>NaN</td>\n",
       "      <td>NaN</td>\n",
       "      <td>NaN</td>\n",
       "      <td>NaN</td>\n",
       "      <td>NaN</td>\n",
       "      <td>NaN</td>\n",
       "      <td>NaN</td>\n",
       "      <td>NaN</td>\n",
       "      <td>NaN</td>\n",
       "      <td>NaN</td>\n",
       "      <td>NaN</td>\n",
       "      <td>NaN</td>\n",
       "    </tr>\n",
       "    <tr>\n",
       "      <th>4</th>\n",
       "      <td>1</td>\n",
       "      <td>5</td>\n",
       "      <td>NaN</td>\n",
       "      <td>NaN</td>\n",
       "      <td>NaN</td>\n",
       "      <td>NaN</td>\n",
       "      <td>NaN</td>\n",
       "      <td>NaN</td>\n",
       "      <td>NaN</td>\n",
       "      <td>NaN</td>\n",
       "      <td>NaN</td>\n",
       "      <td>NaN</td>\n",
       "      <td>NaN</td>\n",
       "      <td>NaN</td>\n",
       "    </tr>\n",
       "    <tr>\n",
       "      <th>...</th>\n",
       "      <td>...</td>\n",
       "      <td>...</td>\n",
       "      <td>...</td>\n",
       "      <td>...</td>\n",
       "      <td>...</td>\n",
       "      <td>...</td>\n",
       "      <td>...</td>\n",
       "      <td>...</td>\n",
       "      <td>...</td>\n",
       "      <td>...</td>\n",
       "      <td>...</td>\n",
       "      <td>...</td>\n",
       "      <td>...</td>\n",
       "      <td>...</td>\n",
       "    </tr>\n",
       "    <tr>\n",
       "      <th>175</th>\n",
       "      <td>6</td>\n",
       "      <td>26</td>\n",
       "      <td>NaN</td>\n",
       "      <td>NaN</td>\n",
       "      <td>NaN</td>\n",
       "      <td>NaN</td>\n",
       "      <td>NaN</td>\n",
       "      <td>NaN</td>\n",
       "      <td>NaN</td>\n",
       "      <td>NaN</td>\n",
       "      <td>NaN</td>\n",
       "      <td>NaN</td>\n",
       "      <td>NaN</td>\n",
       "      <td>NaN</td>\n",
       "    </tr>\n",
       "    <tr>\n",
       "      <th>176</th>\n",
       "      <td>6</td>\n",
       "      <td>27</td>\n",
       "      <td>NaN</td>\n",
       "      <td>NaN</td>\n",
       "      <td>NaN</td>\n",
       "      <td>NaN</td>\n",
       "      <td>NaN</td>\n",
       "      <td>NaN</td>\n",
       "      <td>NaN</td>\n",
       "      <td>NaN</td>\n",
       "      <td>NaN</td>\n",
       "      <td>NaN</td>\n",
       "      <td>NaN</td>\n",
       "      <td>NaN</td>\n",
       "    </tr>\n",
       "    <tr>\n",
       "      <th>177</th>\n",
       "      <td>6</td>\n",
       "      <td>28</td>\n",
       "      <td>NaN</td>\n",
       "      <td>NaN</td>\n",
       "      <td>NaN</td>\n",
       "      <td>NaN</td>\n",
       "      <td>NaN</td>\n",
       "      <td>NaN</td>\n",
       "      <td>NaN</td>\n",
       "      <td>NaN</td>\n",
       "      <td>NaN</td>\n",
       "      <td>NaN</td>\n",
       "      <td>NaN</td>\n",
       "      <td>NaN</td>\n",
       "    </tr>\n",
       "    <tr>\n",
       "      <th>178</th>\n",
       "      <td>6</td>\n",
       "      <td>29</td>\n",
       "      <td>NaN</td>\n",
       "      <td>NaN</td>\n",
       "      <td>NaN</td>\n",
       "      <td>NaN</td>\n",
       "      <td>NaN</td>\n",
       "      <td>NaN</td>\n",
       "      <td>NaN</td>\n",
       "      <td>NaN</td>\n",
       "      <td>NaN</td>\n",
       "      <td>NaN</td>\n",
       "      <td>NaN</td>\n",
       "      <td>NaN</td>\n",
       "    </tr>\n",
       "    <tr>\n",
       "      <th>179</th>\n",
       "      <td>6</td>\n",
       "      <td>30</td>\n",
       "      <td>NaN</td>\n",
       "      <td>NaN</td>\n",
       "      <td>NaN</td>\n",
       "      <td>NaN</td>\n",
       "      <td>NaN</td>\n",
       "      <td>NaN</td>\n",
       "      <td>NaN</td>\n",
       "      <td>NaN</td>\n",
       "      <td>NaN</td>\n",
       "      <td>NaN</td>\n",
       "      <td>NaN</td>\n",
       "      <td>NaN</td>\n",
       "    </tr>\n",
       "  </tbody>\n",
       "</table>\n",
       "<p>180 rows × 14 columns</p>\n",
       "</div>"
      ],
      "text/plain": [
       "     department_id  tool_id participate attendance assignment_1 assignment_2  \\\n",
       "0                1        1         NaN        NaN          NaN          NaN   \n",
       "1                1        2         NaN        NaN          NaN          NaN   \n",
       "2                1        3         NaN        NaN          NaN          NaN   \n",
       "3                1        4         NaN        NaN          NaN          NaN   \n",
       "4                1        5         NaN        NaN          NaN          NaN   \n",
       "..             ...      ...         ...        ...          ...          ...   \n",
       "175              6       26         NaN        NaN          NaN          NaN   \n",
       "176              6       27         NaN        NaN          NaN          NaN   \n",
       "177              6       28         NaN        NaN          NaN          NaN   \n",
       "178              6       29         NaN        NaN          NaN          NaN   \n",
       "179              6       30         NaN        NaN          NaN          NaN   \n",
       "\n",
       "    assignment_3 assignment_4 assignment_5 assignment_6 assignment_7  \\\n",
       "0            NaN          NaN          NaN          NaN          NaN   \n",
       "1            NaN          NaN          NaN          NaN          NaN   \n",
       "2            NaN          NaN          NaN          NaN          NaN   \n",
       "3            NaN          NaN          NaN          NaN          NaN   \n",
       "4            NaN          NaN          NaN          NaN          NaN   \n",
       "..           ...          ...          ...          ...          ...   \n",
       "175          NaN          NaN          NaN          NaN          NaN   \n",
       "176          NaN          NaN          NaN          NaN          NaN   \n",
       "177          NaN          NaN          NaN          NaN          NaN   \n",
       "178          NaN          NaN          NaN          NaN          NaN   \n",
       "179          NaN          NaN          NaN          NaN          NaN   \n",
       "\n",
       "    assignment_8 assignment_9 assignment_10  \n",
       "0            NaN          NaN           NaN  \n",
       "1            NaN          NaN           NaN  \n",
       "2            NaN          NaN           NaN  \n",
       "3            NaN          NaN           NaN  \n",
       "4            NaN          NaN           NaN  \n",
       "..           ...          ...           ...  \n",
       "175          NaN          NaN           NaN  \n",
       "176          NaN          NaN           NaN  \n",
       "177          NaN          NaN           NaN  \n",
       "178          NaN          NaN           NaN  \n",
       "179          NaN          NaN           NaN  \n",
       "\n",
       "[180 rows x 14 columns]"
      ]
     },
     "execution_count": 3,
     "metadata": {},
     "output_type": "execute_result"
    }
   ],
   "source": [
    "new_data = pd.DataFrame(columns=['department_id','tool_id','participate','attendance']+assignment_cols)\n",
    "new_data['department_id'] = department_ids\n",
    "new_data['tool_id'] = tool_ids\n",
    "new_data"
   ]
  },
  {
   "cell_type": "code",
   "execution_count": 4,
   "metadata": {},
   "outputs": [
    {
     "data": {
      "text/html": [
       "<div>\n",
       "<style scoped>\n",
       "    .dataframe tbody tr th:only-of-type {\n",
       "        vertical-align: middle;\n",
       "    }\n",
       "\n",
       "    .dataframe tbody tr th {\n",
       "        vertical-align: top;\n",
       "    }\n",
       "\n",
       "    .dataframe thead th {\n",
       "        text-align: right;\n",
       "    }\n",
       "</style>\n",
       "<table border=\"1\" class=\"dataframe\">\n",
       "  <thead>\n",
       "    <tr style=\"text-align: right;\">\n",
       "      <th></th>\n",
       "      <th>department_id</th>\n",
       "      <th>tool_id</th>\n",
       "      <th>participate</th>\n",
       "      <th>attendance</th>\n",
       "      <th>assignment_1</th>\n",
       "      <th>assignment_2</th>\n",
       "      <th>assignment_3</th>\n",
       "      <th>assignment_4</th>\n",
       "      <th>assignment_5</th>\n",
       "      <th>assignment_6</th>\n",
       "      <th>assignment_7</th>\n",
       "      <th>assignment_8</th>\n",
       "      <th>assignment_9</th>\n",
       "      <th>assignment_10</th>\n",
       "    </tr>\n",
       "  </thead>\n",
       "  <tbody>\n",
       "    <tr>\n",
       "      <th>0</th>\n",
       "      <td>1</td>\n",
       "      <td>1</td>\n",
       "      <td>71</td>\n",
       "      <td>0</td>\n",
       "      <td>100</td>\n",
       "      <td>57</td>\n",
       "      <td>4</td>\n",
       "      <td>33</td>\n",
       "      <td>83</td>\n",
       "      <td>44</td>\n",
       "      <td>0</td>\n",
       "      <td>25</td>\n",
       "      <td>6</td>\n",
       "      <td>79</td>\n",
       "    </tr>\n",
       "    <tr>\n",
       "      <th>1</th>\n",
       "      <td>1</td>\n",
       "      <td>2</td>\n",
       "      <td>65</td>\n",
       "      <td>1</td>\n",
       "      <td>33</td>\n",
       "      <td>84</td>\n",
       "      <td>57</td>\n",
       "      <td>78</td>\n",
       "      <td>100</td>\n",
       "      <td>80</td>\n",
       "      <td>31</td>\n",
       "      <td>97</td>\n",
       "      <td>65</td>\n",
       "      <td>24</td>\n",
       "    </tr>\n",
       "    <tr>\n",
       "      <th>2</th>\n",
       "      <td>1</td>\n",
       "      <td>3</td>\n",
       "      <td>52</td>\n",
       "      <td>0</td>\n",
       "      <td>15</td>\n",
       "      <td>99</td>\n",
       "      <td>12</td>\n",
       "      <td>40</td>\n",
       "      <td>6</td>\n",
       "      <td>56</td>\n",
       "      <td>68</td>\n",
       "      <td>38</td>\n",
       "      <td>97</td>\n",
       "      <td>26</td>\n",
       "    </tr>\n",
       "    <tr>\n",
       "      <th>3</th>\n",
       "      <td>1</td>\n",
       "      <td>4</td>\n",
       "      <td>53</td>\n",
       "      <td>0</td>\n",
       "      <td>55</td>\n",
       "      <td>14</td>\n",
       "      <td>55</td>\n",
       "      <td>69</td>\n",
       "      <td>3</td>\n",
       "      <td>2</td>\n",
       "      <td>50</td>\n",
       "      <td>49</td>\n",
       "      <td>48</td>\n",
       "      <td>41</td>\n",
       "    </tr>\n",
       "    <tr>\n",
       "      <th>4</th>\n",
       "      <td>1</td>\n",
       "      <td>5</td>\n",
       "      <td>55</td>\n",
       "      <td>0</td>\n",
       "      <td>72</td>\n",
       "      <td>57</td>\n",
       "      <td>4</td>\n",
       "      <td>78</td>\n",
       "      <td>74</td>\n",
       "      <td>81</td>\n",
       "      <td>79</td>\n",
       "      <td>87</td>\n",
       "      <td>31</td>\n",
       "      <td>100</td>\n",
       "    </tr>\n",
       "    <tr>\n",
       "      <th>...</th>\n",
       "      <td>...</td>\n",
       "      <td>...</td>\n",
       "      <td>...</td>\n",
       "      <td>...</td>\n",
       "      <td>...</td>\n",
       "      <td>...</td>\n",
       "      <td>...</td>\n",
       "      <td>...</td>\n",
       "      <td>...</td>\n",
       "      <td>...</td>\n",
       "      <td>...</td>\n",
       "      <td>...</td>\n",
       "      <td>...</td>\n",
       "      <td>...</td>\n",
       "    </tr>\n",
       "    <tr>\n",
       "      <th>175</th>\n",
       "      <td>6</td>\n",
       "      <td>26</td>\n",
       "      <td>75</td>\n",
       "      <td>0</td>\n",
       "      <td>30</td>\n",
       "      <td>84</td>\n",
       "      <td>98</td>\n",
       "      <td>25</td>\n",
       "      <td>44</td>\n",
       "      <td>40</td>\n",
       "      <td>14</td>\n",
       "      <td>42</td>\n",
       "      <td>93</td>\n",
       "      <td>38</td>\n",
       "    </tr>\n",
       "    <tr>\n",
       "      <th>176</th>\n",
       "      <td>6</td>\n",
       "      <td>27</td>\n",
       "      <td>53</td>\n",
       "      <td>0</td>\n",
       "      <td>17</td>\n",
       "      <td>7</td>\n",
       "      <td>42</td>\n",
       "      <td>59</td>\n",
       "      <td>19</td>\n",
       "      <td>24</td>\n",
       "      <td>55</td>\n",
       "      <td>13</td>\n",
       "      <td>74</td>\n",
       "      <td>13</td>\n",
       "    </tr>\n",
       "    <tr>\n",
       "      <th>177</th>\n",
       "      <td>6</td>\n",
       "      <td>28</td>\n",
       "      <td>40</td>\n",
       "      <td>0</td>\n",
       "      <td>7</td>\n",
       "      <td>27</td>\n",
       "      <td>23</td>\n",
       "      <td>29</td>\n",
       "      <td>67</td>\n",
       "      <td>57</td>\n",
       "      <td>62</td>\n",
       "      <td>59</td>\n",
       "      <td>81</td>\n",
       "      <td>43</td>\n",
       "    </tr>\n",
       "    <tr>\n",
       "      <th>178</th>\n",
       "      <td>6</td>\n",
       "      <td>29</td>\n",
       "      <td>74</td>\n",
       "      <td>1</td>\n",
       "      <td>2</td>\n",
       "      <td>39</td>\n",
       "      <td>8</td>\n",
       "      <td>19</td>\n",
       "      <td>98</td>\n",
       "      <td>38</td>\n",
       "      <td>46</td>\n",
       "      <td>89</td>\n",
       "      <td>95</td>\n",
       "      <td>36</td>\n",
       "    </tr>\n",
       "    <tr>\n",
       "      <th>179</th>\n",
       "      <td>6</td>\n",
       "      <td>30</td>\n",
       "      <td>25</td>\n",
       "      <td>0</td>\n",
       "      <td>38</td>\n",
       "      <td>15</td>\n",
       "      <td>46</td>\n",
       "      <td>49</td>\n",
       "      <td>99</td>\n",
       "      <td>49</td>\n",
       "      <td>60</td>\n",
       "      <td>5</td>\n",
       "      <td>51</td>\n",
       "      <td>93</td>\n",
       "    </tr>\n",
       "  </tbody>\n",
       "</table>\n",
       "<p>180 rows × 14 columns</p>\n",
       "</div>"
      ],
      "text/plain": [
       "     department_id  tool_id  participate  attendance  assignment_1  \\\n",
       "0                1        1           71           0           100   \n",
       "1                1        2           65           1            33   \n",
       "2                1        3           52           0            15   \n",
       "3                1        4           53           0            55   \n",
       "4                1        5           55           0            72   \n",
       "..             ...      ...          ...         ...           ...   \n",
       "175              6       26           75           0            30   \n",
       "176              6       27           53           0            17   \n",
       "177              6       28           40           0             7   \n",
       "178              6       29           74           1             2   \n",
       "179              6       30           25           0            38   \n",
       "\n",
       "     assignment_2  assignment_3  assignment_4  assignment_5  assignment_6  \\\n",
       "0              57             4            33            83            44   \n",
       "1              84            57            78           100            80   \n",
       "2              99            12            40             6            56   \n",
       "3              14            55            69             3             2   \n",
       "4              57             4            78            74            81   \n",
       "..            ...           ...           ...           ...           ...   \n",
       "175            84            98            25            44            40   \n",
       "176             7            42            59            19            24   \n",
       "177            27            23            29            67            57   \n",
       "178            39             8            19            98            38   \n",
       "179            15            46            49            99            49   \n",
       "\n",
       "     assignment_7  assignment_8  assignment_9  assignment_10  \n",
       "0               0            25             6             79  \n",
       "1              31            97            65             24  \n",
       "2              68            38            97             26  \n",
       "3              50            49            48             41  \n",
       "4              79            87            31            100  \n",
       "..            ...           ...           ...            ...  \n",
       "175            14            42            93             38  \n",
       "176            55            13            74             13  \n",
       "177            62            59            81             43  \n",
       "178            46            89            95             36  \n",
       "179            60             5            51             93  \n",
       "\n",
       "[180 rows x 14 columns]"
      ]
     },
     "execution_count": 4,
     "metadata": {},
     "output_type": "execute_result"
    }
   ],
   "source": [
    "for assignment in assignment_cols:\n",
    "    new_data[assignment] = np.random.randint(0,101,180)\n",
    "new_data['participate'] = np.random.randint(25,76,180)\n",
    "new_data['attendance'] = np.random.randint(0,2,180)\n",
    "new_data"
   ]
  },
  {
   "cell_type": "code",
   "execution_count": 5,
   "metadata": {},
   "outputs": [],
   "source": [
    "new_data.to_csv('new_data.csv',index=False)"
   ]
  },
  {
   "cell_type": "code",
   "execution_count": 23,
   "metadata": {},
   "outputs": [],
   "source": [
    "new_data.to_json('new_data.json')"
   ]
  },
  {
   "cell_type": "code",
   "execution_count": 6,
   "metadata": {},
   "outputs": [
    {
     "data": {
      "text/html": [
       "<div>\n",
       "<style scoped>\n",
       "    .dataframe tbody tr th:only-of-type {\n",
       "        vertical-align: middle;\n",
       "    }\n",
       "\n",
       "    .dataframe tbody tr th {\n",
       "        vertical-align: top;\n",
       "    }\n",
       "\n",
       "    .dataframe thead th {\n",
       "        text-align: right;\n",
       "    }\n",
       "</style>\n",
       "<table border=\"1\" class=\"dataframe\">\n",
       "  <thead>\n",
       "    <tr style=\"text-align: right;\">\n",
       "      <th></th>\n",
       "      <th>department_id</th>\n",
       "      <th>required_participate</th>\n",
       "    </tr>\n",
       "  </thead>\n",
       "  <tbody>\n",
       "    <tr>\n",
       "      <th>0</th>\n",
       "      <td>1</td>\n",
       "      <td>64</td>\n",
       "    </tr>\n",
       "    <tr>\n",
       "      <th>1</th>\n",
       "      <td>2</td>\n",
       "      <td>68</td>\n",
       "    </tr>\n",
       "    <tr>\n",
       "      <th>2</th>\n",
       "      <td>3</td>\n",
       "      <td>34</td>\n",
       "    </tr>\n",
       "    <tr>\n",
       "      <th>3</th>\n",
       "      <td>4</td>\n",
       "      <td>72</td>\n",
       "    </tr>\n",
       "    <tr>\n",
       "      <th>4</th>\n",
       "      <td>5</td>\n",
       "      <td>46</td>\n",
       "    </tr>\n",
       "    <tr>\n",
       "      <th>5</th>\n",
       "      <td>6</td>\n",
       "      <td>34</td>\n",
       "    </tr>\n",
       "  </tbody>\n",
       "</table>\n",
       "</div>"
      ],
      "text/plain": [
       "   department_id  required_participate\n",
       "0              1                    64\n",
       "1              2                    68\n",
       "2              3                    34\n",
       "3              4                    72\n",
       "4              5                    46\n",
       "5              6                    34"
      ]
     },
     "execution_count": 6,
     "metadata": {},
     "output_type": "execute_result"
    }
   ],
   "source": [
    "participate = pd.DataFrame(columns=['department_id','required_participate'])\n",
    "participate['department_id'] = list(set(department_ids))\n",
    "participate['required_participate'] = np.random.randint(25,76,6)\n",
    "participate"
   ]
  },
  {
   "cell_type": "code",
   "execution_count": 7,
   "metadata": {},
   "outputs": [],
   "source": [
    "participate.to_csv('participate.csv',index=False)"
   ]
  },
  {
   "cell_type": "code",
   "execution_count": 8,
   "metadata": {},
   "outputs": [],
   "source": [
    "week = []\n",
    "delta = []\n",
    "for i in range(1,8):\n",
    "    week.append(f'day_{i}')\n",
    "    delta.append(f'delta_{i}')"
   ]
  },
  {
   "cell_type": "code",
   "execution_count": 9,
   "metadata": {},
   "outputs": [
    {
     "data": {
      "text/html": [
       "<div>\n",
       "<style scoped>\n",
       "    .dataframe tbody tr th:only-of-type {\n",
       "        vertical-align: middle;\n",
       "    }\n",
       "\n",
       "    .dataframe tbody tr th {\n",
       "        vertical-align: top;\n",
       "    }\n",
       "\n",
       "    .dataframe thead th {\n",
       "        text-align: right;\n",
       "    }\n",
       "</style>\n",
       "<table border=\"1\" class=\"dataframe\">\n",
       "  <thead>\n",
       "    <tr style=\"text-align: right;\">\n",
       "      <th></th>\n",
       "      <th>department_id</th>\n",
       "      <th>today_department_avg_performance</th>\n",
       "      <th>last_week_avg_performance</th>\n",
       "      <th>today_delta</th>\n",
       "      <th>day_1</th>\n",
       "      <th>day_2</th>\n",
       "      <th>day_3</th>\n",
       "      <th>day_4</th>\n",
       "      <th>day_5</th>\n",
       "      <th>day_6</th>\n",
       "      <th>day_7</th>\n",
       "      <th>delta_1</th>\n",
       "      <th>delta_2</th>\n",
       "      <th>delta_3</th>\n",
       "      <th>delta_4</th>\n",
       "      <th>delta_5</th>\n",
       "      <th>delta_6</th>\n",
       "      <th>delta_7</th>\n",
       "    </tr>\n",
       "  </thead>\n",
       "  <tbody>\n",
       "    <tr>\n",
       "      <th>0</th>\n",
       "      <td>1</td>\n",
       "      <td>34</td>\n",
       "      <td>40.400781</td>\n",
       "      <td>-6.400781</td>\n",
       "      <td>22.920705</td>\n",
       "      <td>80.228612</td>\n",
       "      <td>13.068704</td>\n",
       "      <td>10.068766</td>\n",
       "      <td>58.760378</td>\n",
       "      <td>18.654567</td>\n",
       "      <td>79.103734</td>\n",
       "      <td>2.946367</td>\n",
       "      <td>-4.817743</td>\n",
       "      <td>8.172806</td>\n",
       "      <td>-7.517443</td>\n",
       "      <td>9.996281</td>\n",
       "      <td>-19.848061</td>\n",
       "      <td>-18.020096</td>\n",
       "    </tr>\n",
       "    <tr>\n",
       "      <th>1</th>\n",
       "      <td>2</td>\n",
       "      <td>40</td>\n",
       "      <td>55.061151</td>\n",
       "      <td>-15.061151</td>\n",
       "      <td>58.351420</td>\n",
       "      <td>49.176443</td>\n",
       "      <td>62.847782</td>\n",
       "      <td>41.019160</td>\n",
       "      <td>43.547055</td>\n",
       "      <td>68.276586</td>\n",
       "      <td>62.209608</td>\n",
       "      <td>4.718881</td>\n",
       "      <td>8.669145</td>\n",
       "      <td>-2.258579</td>\n",
       "      <td>24.564198</td>\n",
       "      <td>-21.975305</td>\n",
       "      <td>-7.386746</td>\n",
       "      <td>16.937754</td>\n",
       "    </tr>\n",
       "    <tr>\n",
       "      <th>2</th>\n",
       "      <td>3</td>\n",
       "      <td>54</td>\n",
       "      <td>56.696273</td>\n",
       "      <td>-2.696273</td>\n",
       "      <td>61.205481</td>\n",
       "      <td>17.163533</td>\n",
       "      <td>80.324783</td>\n",
       "      <td>31.539175</td>\n",
       "      <td>28.180254</td>\n",
       "      <td>90.802982</td>\n",
       "      <td>87.657707</td>\n",
       "      <td>-9.551125</td>\n",
       "      <td>20.134885</td>\n",
       "      <td>2.930800</td>\n",
       "      <td>18.288055</td>\n",
       "      <td>7.103058</td>\n",
       "      <td>24.930095</td>\n",
       "      <td>14.728298</td>\n",
       "    </tr>\n",
       "    <tr>\n",
       "      <th>3</th>\n",
       "      <td>4</td>\n",
       "      <td>58</td>\n",
       "      <td>47.162673</td>\n",
       "      <td>10.837327</td>\n",
       "      <td>74.012929</td>\n",
       "      <td>62.407468</td>\n",
       "      <td>73.830288</td>\n",
       "      <td>19.130832</td>\n",
       "      <td>39.657248</td>\n",
       "      <td>49.958356</td>\n",
       "      <td>11.141592</td>\n",
       "      <td>9.218299</td>\n",
       "      <td>2.724167</td>\n",
       "      <td>5.267798</td>\n",
       "      <td>22.615279</td>\n",
       "      <td>-21.121298</td>\n",
       "      <td>-23.755345</td>\n",
       "      <td>-3.866624</td>\n",
       "    </tr>\n",
       "    <tr>\n",
       "      <th>4</th>\n",
       "      <td>5</td>\n",
       "      <td>36</td>\n",
       "      <td>41.162110</td>\n",
       "      <td>-5.162110</td>\n",
       "      <td>19.602025</td>\n",
       "      <td>75.858608</td>\n",
       "      <td>15.892812</td>\n",
       "      <td>29.434241</td>\n",
       "      <td>64.741177</td>\n",
       "      <td>43.996069</td>\n",
       "      <td>38.609840</td>\n",
       "      <td>-12.324463</td>\n",
       "      <td>5.472948</td>\n",
       "      <td>-0.545233</td>\n",
       "      <td>4.862134</td>\n",
       "      <td>0.623783</td>\n",
       "      <td>16.742997</td>\n",
       "      <td>-17.639460</td>\n",
       "    </tr>\n",
       "    <tr>\n",
       "      <th>5</th>\n",
       "      <td>6</td>\n",
       "      <td>35</td>\n",
       "      <td>47.878485</td>\n",
       "      <td>-12.878485</td>\n",
       "      <td>23.353379</td>\n",
       "      <td>75.520160</td>\n",
       "      <td>54.831044</td>\n",
       "      <td>35.155074</td>\n",
       "      <td>33.213891</td>\n",
       "      <td>59.650161</td>\n",
       "      <td>53.425684</td>\n",
       "      <td>4.817776</td>\n",
       "      <td>-0.768989</td>\n",
       "      <td>23.053443</td>\n",
       "      <td>-10.351118</td>\n",
       "      <td>17.571119</td>\n",
       "      <td>13.451642</td>\n",
       "      <td>-3.026943</td>\n",
       "    </tr>\n",
       "  </tbody>\n",
       "</table>\n",
       "</div>"
      ],
      "text/plain": [
       "   department_id  today_department_avg_performance  last_week_avg_performance  \\\n",
       "0              1                                34                  40.400781   \n",
       "1              2                                40                  55.061151   \n",
       "2              3                                54                  56.696273   \n",
       "3              4                                58                  47.162673   \n",
       "4              5                                36                  41.162110   \n",
       "5              6                                35                  47.878485   \n",
       "\n",
       "   today_delta      day_1      day_2      day_3      day_4      day_5  \\\n",
       "0    -6.400781  22.920705  80.228612  13.068704  10.068766  58.760378   \n",
       "1   -15.061151  58.351420  49.176443  62.847782  41.019160  43.547055   \n",
       "2    -2.696273  61.205481  17.163533  80.324783  31.539175  28.180254   \n",
       "3    10.837327  74.012929  62.407468  73.830288  19.130832  39.657248   \n",
       "4    -5.162110  19.602025  75.858608  15.892812  29.434241  64.741177   \n",
       "5   -12.878485  23.353379  75.520160  54.831044  35.155074  33.213891   \n",
       "\n",
       "       day_6      day_7    delta_1    delta_2    delta_3    delta_4  \\\n",
       "0  18.654567  79.103734   2.946367  -4.817743   8.172806  -7.517443   \n",
       "1  68.276586  62.209608   4.718881   8.669145  -2.258579  24.564198   \n",
       "2  90.802982  87.657707  -9.551125  20.134885   2.930800  18.288055   \n",
       "3  49.958356  11.141592   9.218299   2.724167   5.267798  22.615279   \n",
       "4  43.996069  38.609840 -12.324463   5.472948  -0.545233   4.862134   \n",
       "5  59.650161  53.425684   4.817776  -0.768989  23.053443 -10.351118   \n",
       "\n",
       "     delta_5    delta_6    delta_7  \n",
       "0   9.996281 -19.848061 -18.020096  \n",
       "1 -21.975305  -7.386746  16.937754  \n",
       "2   7.103058  24.930095  14.728298  \n",
       "3 -21.121298 -23.755345  -3.866624  \n",
       "4   0.623783  16.742997 -17.639460  \n",
       "5  17.571119  13.451642  -3.026943  "
      ]
     },
     "execution_count": 9,
     "metadata": {},
     "output_type": "execute_result"
    }
   ],
   "source": [
    "performance = pd.DataFrame(columns=['department_id','today_department_avg_performance','last_week_avg_performance','today_delta']+week)\n",
    "performance.department_id = participate.department_id\n",
    "for day in week:\n",
    "    performance[day] = np.random.uniform(10,91,6)\n",
    "for D in delta:\n",
    "    performance[D] = np.random.uniform(-25,26,6)\n",
    "performance.today_department_avg_performance = np.random.randint(25,76,6)\n",
    "performance.last_week_avg_performance = performance[week].T.mean().values\n",
    "performance.today_delta = performance.today_department_avg_performance.values - performance.last_week_avg_performance.values\n",
    "\n",
    "performance"
   ]
  },
  {
   "cell_type": "code",
   "execution_count": 10,
   "metadata": {},
   "outputs": [],
   "source": [
    "performance.to_csv('perfomance.csv',index=False)"
   ]
  },
  {
   "cell_type": "markdown",
   "metadata": {},
   "source": [
    "# Calculation:"
   ]
  },
  {
   "cell_type": "code",
   "execution_count": 11,
   "metadata": {},
   "outputs": [
    {
     "data": {
      "text/html": [
       "<div>\n",
       "<style scoped>\n",
       "    .dataframe tbody tr th:only-of-type {\n",
       "        vertical-align: middle;\n",
       "    }\n",
       "\n",
       "    .dataframe tbody tr th {\n",
       "        vertical-align: top;\n",
       "    }\n",
       "\n",
       "    .dataframe thead th {\n",
       "        text-align: right;\n",
       "    }\n",
       "</style>\n",
       "<table border=\"1\" class=\"dataframe\">\n",
       "  <thead>\n",
       "    <tr style=\"text-align: right;\">\n",
       "      <th></th>\n",
       "      <th>department_id</th>\n",
       "      <th>tool_id</th>\n",
       "      <th>participate</th>\n",
       "      <th>attendance</th>\n",
       "      <th>avg_tool_assignment_performance</th>\n",
       "    </tr>\n",
       "  </thead>\n",
       "  <tbody>\n",
       "    <tr>\n",
       "      <th>0</th>\n",
       "      <td>1</td>\n",
       "      <td>1</td>\n",
       "      <td>71</td>\n",
       "      <td>0</td>\n",
       "      <td>43.1</td>\n",
       "    </tr>\n",
       "    <tr>\n",
       "      <th>1</th>\n",
       "      <td>1</td>\n",
       "      <td>2</td>\n",
       "      <td>65</td>\n",
       "      <td>1</td>\n",
       "      <td>64.9</td>\n",
       "    </tr>\n",
       "    <tr>\n",
       "      <th>2</th>\n",
       "      <td>1</td>\n",
       "      <td>3</td>\n",
       "      <td>52</td>\n",
       "      <td>0</td>\n",
       "      <td>45.7</td>\n",
       "    </tr>\n",
       "    <tr>\n",
       "      <th>3</th>\n",
       "      <td>1</td>\n",
       "      <td>4</td>\n",
       "      <td>53</td>\n",
       "      <td>0</td>\n",
       "      <td>38.6</td>\n",
       "    </tr>\n",
       "    <tr>\n",
       "      <th>4</th>\n",
       "      <td>1</td>\n",
       "      <td>5</td>\n",
       "      <td>55</td>\n",
       "      <td>0</td>\n",
       "      <td>66.3</td>\n",
       "    </tr>\n",
       "    <tr>\n",
       "      <th>...</th>\n",
       "      <td>...</td>\n",
       "      <td>...</td>\n",
       "      <td>...</td>\n",
       "      <td>...</td>\n",
       "      <td>...</td>\n",
       "    </tr>\n",
       "    <tr>\n",
       "      <th>175</th>\n",
       "      <td>6</td>\n",
       "      <td>26</td>\n",
       "      <td>75</td>\n",
       "      <td>0</td>\n",
       "      <td>50.8</td>\n",
       "    </tr>\n",
       "    <tr>\n",
       "      <th>176</th>\n",
       "      <td>6</td>\n",
       "      <td>27</td>\n",
       "      <td>53</td>\n",
       "      <td>0</td>\n",
       "      <td>32.3</td>\n",
       "    </tr>\n",
       "    <tr>\n",
       "      <th>177</th>\n",
       "      <td>6</td>\n",
       "      <td>28</td>\n",
       "      <td>40</td>\n",
       "      <td>0</td>\n",
       "      <td>45.5</td>\n",
       "    </tr>\n",
       "    <tr>\n",
       "      <th>178</th>\n",
       "      <td>6</td>\n",
       "      <td>29</td>\n",
       "      <td>74</td>\n",
       "      <td>1</td>\n",
       "      <td>47.0</td>\n",
       "    </tr>\n",
       "    <tr>\n",
       "      <th>179</th>\n",
       "      <td>6</td>\n",
       "      <td>30</td>\n",
       "      <td>25</td>\n",
       "      <td>0</td>\n",
       "      <td>50.5</td>\n",
       "    </tr>\n",
       "  </tbody>\n",
       "</table>\n",
       "<p>180 rows × 5 columns</p>\n",
       "</div>"
      ],
      "text/plain": [
       "     department_id  tool_id  participate  attendance  \\\n",
       "0                1        1           71           0   \n",
       "1                1        2           65           1   \n",
       "2                1        3           52           0   \n",
       "3                1        4           53           0   \n",
       "4                1        5           55           0   \n",
       "..             ...      ...          ...         ...   \n",
       "175              6       26           75           0   \n",
       "176              6       27           53           0   \n",
       "177              6       28           40           0   \n",
       "178              6       29           74           1   \n",
       "179              6       30           25           0   \n",
       "\n",
       "     avg_tool_assignment_performance  \n",
       "0                               43.1  \n",
       "1                               64.9  \n",
       "2                               45.7  \n",
       "3                               38.6  \n",
       "4                               66.3  \n",
       "..                               ...  \n",
       "175                             50.8  \n",
       "176                             32.3  \n",
       "177                             45.5  \n",
       "178                             47.0  \n",
       "179                             50.5  \n",
       "\n",
       "[180 rows x 5 columns]"
      ]
     },
     "execution_count": 11,
     "metadata": {},
     "output_type": "execute_result"
    }
   ],
   "source": [
    "new_data = pd.read_csv('new_data.csv')\n",
    "new_data_ = new_data.iloc[:,:-10].copy()\n",
    "new_data_['avg_tool_assignment_performance'] = new_data.iloc[:,-10:].T.mean().values\n",
    "new_data_"
   ]
  },
  {
   "cell_type": "code",
   "execution_count": 12,
   "metadata": {},
   "outputs": [
    {
     "data": {
      "text/html": [
       "<div>\n",
       "<style scoped>\n",
       "    .dataframe tbody tr th:only-of-type {\n",
       "        vertical-align: middle;\n",
       "    }\n",
       "\n",
       "    .dataframe tbody tr th {\n",
       "        vertical-align: top;\n",
       "    }\n",
       "\n",
       "    .dataframe thead th {\n",
       "        text-align: right;\n",
       "    }\n",
       "</style>\n",
       "<table border=\"1\" class=\"dataframe\">\n",
       "  <thead>\n",
       "    <tr style=\"text-align: right;\">\n",
       "      <th></th>\n",
       "      <th>department_id</th>\n",
       "      <th>required_participate</th>\n",
       "    </tr>\n",
       "  </thead>\n",
       "  <tbody>\n",
       "    <tr>\n",
       "      <th>0</th>\n",
       "      <td>1</td>\n",
       "      <td>64</td>\n",
       "    </tr>\n",
       "    <tr>\n",
       "      <th>1</th>\n",
       "      <td>2</td>\n",
       "      <td>68</td>\n",
       "    </tr>\n",
       "    <tr>\n",
       "      <th>2</th>\n",
       "      <td>3</td>\n",
       "      <td>34</td>\n",
       "    </tr>\n",
       "    <tr>\n",
       "      <th>3</th>\n",
       "      <td>4</td>\n",
       "      <td>72</td>\n",
       "    </tr>\n",
       "    <tr>\n",
       "      <th>4</th>\n",
       "      <td>5</td>\n",
       "      <td>46</td>\n",
       "    </tr>\n",
       "    <tr>\n",
       "      <th>5</th>\n",
       "      <td>6</td>\n",
       "      <td>34</td>\n",
       "    </tr>\n",
       "  </tbody>\n",
       "</table>\n",
       "</div>"
      ],
      "text/plain": [
       "   department_id  required_participate\n",
       "0              1                    64\n",
       "1              2                    68\n",
       "2              3                    34\n",
       "3              4                    72\n",
       "4              5                    46\n",
       "5              6                    34"
      ]
     },
     "execution_count": 12,
     "metadata": {},
     "output_type": "execute_result"
    }
   ],
   "source": [
    "participate = pd.read_csv('participate.csv')\n",
    "participate"
   ]
  },
  {
   "cell_type": "code",
   "execution_count": 13,
   "metadata": {},
   "outputs": [
    {
     "data": {
      "text/html": [
       "<div>\n",
       "<style scoped>\n",
       "    .dataframe tbody tr th:only-of-type {\n",
       "        vertical-align: middle;\n",
       "    }\n",
       "\n",
       "    .dataframe tbody tr th {\n",
       "        vertical-align: top;\n",
       "    }\n",
       "\n",
       "    .dataframe thead th {\n",
       "        text-align: right;\n",
       "    }\n",
       "</style>\n",
       "<table border=\"1\" class=\"dataframe\">\n",
       "  <thead>\n",
       "    <tr style=\"text-align: right;\">\n",
       "      <th></th>\n",
       "      <th>department_id</th>\n",
       "      <th>tool_id</th>\n",
       "      <th>participate</th>\n",
       "      <th>attendance</th>\n",
       "      <th>avg_tool_assignment_performance</th>\n",
       "      <th>required_participate</th>\n",
       "    </tr>\n",
       "  </thead>\n",
       "  <tbody>\n",
       "    <tr>\n",
       "      <th>0</th>\n",
       "      <td>1</td>\n",
       "      <td>1</td>\n",
       "      <td>71</td>\n",
       "      <td>0</td>\n",
       "      <td>43.1</td>\n",
       "      <td>64</td>\n",
       "    </tr>\n",
       "    <tr>\n",
       "      <th>1</th>\n",
       "      <td>1</td>\n",
       "      <td>2</td>\n",
       "      <td>65</td>\n",
       "      <td>1</td>\n",
       "      <td>64.9</td>\n",
       "      <td>64</td>\n",
       "    </tr>\n",
       "    <tr>\n",
       "      <th>2</th>\n",
       "      <td>1</td>\n",
       "      <td>3</td>\n",
       "      <td>52</td>\n",
       "      <td>0</td>\n",
       "      <td>45.7</td>\n",
       "      <td>64</td>\n",
       "    </tr>\n",
       "    <tr>\n",
       "      <th>3</th>\n",
       "      <td>1</td>\n",
       "      <td>4</td>\n",
       "      <td>53</td>\n",
       "      <td>0</td>\n",
       "      <td>38.6</td>\n",
       "      <td>64</td>\n",
       "    </tr>\n",
       "    <tr>\n",
       "      <th>4</th>\n",
       "      <td>1</td>\n",
       "      <td>5</td>\n",
       "      <td>55</td>\n",
       "      <td>0</td>\n",
       "      <td>66.3</td>\n",
       "      <td>64</td>\n",
       "    </tr>\n",
       "    <tr>\n",
       "      <th>...</th>\n",
       "      <td>...</td>\n",
       "      <td>...</td>\n",
       "      <td>...</td>\n",
       "      <td>...</td>\n",
       "      <td>...</td>\n",
       "      <td>...</td>\n",
       "    </tr>\n",
       "    <tr>\n",
       "      <th>175</th>\n",
       "      <td>6</td>\n",
       "      <td>26</td>\n",
       "      <td>75</td>\n",
       "      <td>0</td>\n",
       "      <td>50.8</td>\n",
       "      <td>34</td>\n",
       "    </tr>\n",
       "    <tr>\n",
       "      <th>176</th>\n",
       "      <td>6</td>\n",
       "      <td>27</td>\n",
       "      <td>53</td>\n",
       "      <td>0</td>\n",
       "      <td>32.3</td>\n",
       "      <td>34</td>\n",
       "    </tr>\n",
       "    <tr>\n",
       "      <th>177</th>\n",
       "      <td>6</td>\n",
       "      <td>28</td>\n",
       "      <td>40</td>\n",
       "      <td>0</td>\n",
       "      <td>45.5</td>\n",
       "      <td>34</td>\n",
       "    </tr>\n",
       "    <tr>\n",
       "      <th>178</th>\n",
       "      <td>6</td>\n",
       "      <td>29</td>\n",
       "      <td>74</td>\n",
       "      <td>1</td>\n",
       "      <td>47.0</td>\n",
       "      <td>34</td>\n",
       "    </tr>\n",
       "    <tr>\n",
       "      <th>179</th>\n",
       "      <td>6</td>\n",
       "      <td>30</td>\n",
       "      <td>25</td>\n",
       "      <td>0</td>\n",
       "      <td>50.5</td>\n",
       "      <td>34</td>\n",
       "    </tr>\n",
       "  </tbody>\n",
       "</table>\n",
       "<p>180 rows × 6 columns</p>\n",
       "</div>"
      ],
      "text/plain": [
       "     department_id  tool_id  participate  attendance  \\\n",
       "0                1        1           71           0   \n",
       "1                1        2           65           1   \n",
       "2                1        3           52           0   \n",
       "3                1        4           53           0   \n",
       "4                1        5           55           0   \n",
       "..             ...      ...          ...         ...   \n",
       "175              6       26           75           0   \n",
       "176              6       27           53           0   \n",
       "177              6       28           40           0   \n",
       "178              6       29           74           1   \n",
       "179              6       30           25           0   \n",
       "\n",
       "     avg_tool_assignment_performance  required_participate  \n",
       "0                               43.1                    64  \n",
       "1                               64.9                    64  \n",
       "2                               45.7                    64  \n",
       "3                               38.6                    64  \n",
       "4                               66.3                    64  \n",
       "..                               ...                   ...  \n",
       "175                             50.8                    34  \n",
       "176                             32.3                    34  \n",
       "177                             45.5                    34  \n",
       "178                             47.0                    34  \n",
       "179                             50.5                    34  \n",
       "\n",
       "[180 rows x 6 columns]"
      ]
     },
     "execution_count": 13,
     "metadata": {},
     "output_type": "execute_result"
    }
   ],
   "source": [
    "new_data_ = pd.merge(new_data_,participate,on='department_id',how='left')\n",
    "new_data_"
   ]
  },
  {
   "cell_type": "code",
   "execution_count": 14,
   "metadata": {},
   "outputs": [
    {
     "name": "stderr",
     "output_type": "stream",
     "text": [
      "C:\\Users\\LAPTOP~1\\AppData\\Local\\Temp/ipykernel_11492/2305779860.py:2: SettingWithCopyWarning: \n",
      "A value is trying to be set on a copy of a slice from a DataFrame\n",
      "\n",
      "See the caveats in the documentation: https://pandas.pydata.org/pandas-docs/stable/user_guide/indexing.html#returning-a-view-versus-a-copy\n",
      "  new_data_.participated[new_data_.participated > 100] = 100\n"
     ]
    },
    {
     "data": {
      "text/html": [
       "<div>\n",
       "<style scoped>\n",
       "    .dataframe tbody tr th:only-of-type {\n",
       "        vertical-align: middle;\n",
       "    }\n",
       "\n",
       "    .dataframe tbody tr th {\n",
       "        vertical-align: top;\n",
       "    }\n",
       "\n",
       "    .dataframe thead th {\n",
       "        text-align: right;\n",
       "    }\n",
       "</style>\n",
       "<table border=\"1\" class=\"dataframe\">\n",
       "  <thead>\n",
       "    <tr style=\"text-align: right;\">\n",
       "      <th></th>\n",
       "      <th>department_id</th>\n",
       "      <th>tool_id</th>\n",
       "      <th>participate</th>\n",
       "      <th>attendance</th>\n",
       "      <th>avg_tool_assignment_performance</th>\n",
       "      <th>required_participate</th>\n",
       "      <th>participated</th>\n",
       "    </tr>\n",
       "  </thead>\n",
       "  <tbody>\n",
       "    <tr>\n",
       "      <th>0</th>\n",
       "      <td>1</td>\n",
       "      <td>1</td>\n",
       "      <td>71</td>\n",
       "      <td>0</td>\n",
       "      <td>43.1</td>\n",
       "      <td>64</td>\n",
       "      <td>100.000000</td>\n",
       "    </tr>\n",
       "    <tr>\n",
       "      <th>1</th>\n",
       "      <td>1</td>\n",
       "      <td>2</td>\n",
       "      <td>65</td>\n",
       "      <td>1</td>\n",
       "      <td>64.9</td>\n",
       "      <td>64</td>\n",
       "      <td>100.000000</td>\n",
       "    </tr>\n",
       "    <tr>\n",
       "      <th>2</th>\n",
       "      <td>1</td>\n",
       "      <td>3</td>\n",
       "      <td>52</td>\n",
       "      <td>0</td>\n",
       "      <td>45.7</td>\n",
       "      <td>64</td>\n",
       "      <td>81.250000</td>\n",
       "    </tr>\n",
       "    <tr>\n",
       "      <th>3</th>\n",
       "      <td>1</td>\n",
       "      <td>4</td>\n",
       "      <td>53</td>\n",
       "      <td>0</td>\n",
       "      <td>38.6</td>\n",
       "      <td>64</td>\n",
       "      <td>82.812500</td>\n",
       "    </tr>\n",
       "    <tr>\n",
       "      <th>4</th>\n",
       "      <td>1</td>\n",
       "      <td>5</td>\n",
       "      <td>55</td>\n",
       "      <td>0</td>\n",
       "      <td>66.3</td>\n",
       "      <td>64</td>\n",
       "      <td>85.937500</td>\n",
       "    </tr>\n",
       "    <tr>\n",
       "      <th>...</th>\n",
       "      <td>...</td>\n",
       "      <td>...</td>\n",
       "      <td>...</td>\n",
       "      <td>...</td>\n",
       "      <td>...</td>\n",
       "      <td>...</td>\n",
       "      <td>...</td>\n",
       "    </tr>\n",
       "    <tr>\n",
       "      <th>175</th>\n",
       "      <td>6</td>\n",
       "      <td>26</td>\n",
       "      <td>75</td>\n",
       "      <td>0</td>\n",
       "      <td>50.8</td>\n",
       "      <td>34</td>\n",
       "      <td>100.000000</td>\n",
       "    </tr>\n",
       "    <tr>\n",
       "      <th>176</th>\n",
       "      <td>6</td>\n",
       "      <td>27</td>\n",
       "      <td>53</td>\n",
       "      <td>0</td>\n",
       "      <td>32.3</td>\n",
       "      <td>34</td>\n",
       "      <td>100.000000</td>\n",
       "    </tr>\n",
       "    <tr>\n",
       "      <th>177</th>\n",
       "      <td>6</td>\n",
       "      <td>28</td>\n",
       "      <td>40</td>\n",
       "      <td>0</td>\n",
       "      <td>45.5</td>\n",
       "      <td>34</td>\n",
       "      <td>100.000000</td>\n",
       "    </tr>\n",
       "    <tr>\n",
       "      <th>178</th>\n",
       "      <td>6</td>\n",
       "      <td>29</td>\n",
       "      <td>74</td>\n",
       "      <td>1</td>\n",
       "      <td>47.0</td>\n",
       "      <td>34</td>\n",
       "      <td>100.000000</td>\n",
       "    </tr>\n",
       "    <tr>\n",
       "      <th>179</th>\n",
       "      <td>6</td>\n",
       "      <td>30</td>\n",
       "      <td>25</td>\n",
       "      <td>0</td>\n",
       "      <td>50.5</td>\n",
       "      <td>34</td>\n",
       "      <td>73.529412</td>\n",
       "    </tr>\n",
       "  </tbody>\n",
       "</table>\n",
       "<p>180 rows × 7 columns</p>\n",
       "</div>"
      ],
      "text/plain": [
       "     department_id  tool_id  participate  attendance  \\\n",
       "0                1        1           71           0   \n",
       "1                1        2           65           1   \n",
       "2                1        3           52           0   \n",
       "3                1        4           53           0   \n",
       "4                1        5           55           0   \n",
       "..             ...      ...          ...         ...   \n",
       "175              6       26           75           0   \n",
       "176              6       27           53           0   \n",
       "177              6       28           40           0   \n",
       "178              6       29           74           1   \n",
       "179              6       30           25           0   \n",
       "\n",
       "     avg_tool_assignment_performance  required_participate  participated  \n",
       "0                               43.1                    64    100.000000  \n",
       "1                               64.9                    64    100.000000  \n",
       "2                               45.7                    64     81.250000  \n",
       "3                               38.6                    64     82.812500  \n",
       "4                               66.3                    64     85.937500  \n",
       "..                               ...                   ...           ...  \n",
       "175                             50.8                    34    100.000000  \n",
       "176                             32.3                    34    100.000000  \n",
       "177                             45.5                    34    100.000000  \n",
       "178                             47.0                    34    100.000000  \n",
       "179                             50.5                    34     73.529412  \n",
       "\n",
       "[180 rows x 7 columns]"
      ]
     },
     "execution_count": 14,
     "metadata": {},
     "output_type": "execute_result"
    }
   ],
   "source": [
    "new_data_['participated'] = (new_data_.participate / new_data_.required_participate)*100\n",
    "new_data_.participated[new_data_.participated > 100] = 100\n",
    "new_data_"
   ]
  },
  {
   "cell_type": "code",
   "execution_count": 15,
   "metadata": {},
   "outputs": [
    {
     "data": {
      "text/html": [
       "<div>\n",
       "<style scoped>\n",
       "    .dataframe tbody tr th:only-of-type {\n",
       "        vertical-align: middle;\n",
       "    }\n",
       "\n",
       "    .dataframe tbody tr th {\n",
       "        vertical-align: top;\n",
       "    }\n",
       "\n",
       "    .dataframe thead th {\n",
       "        text-align: right;\n",
       "    }\n",
       "</style>\n",
       "<table border=\"1\" class=\"dataframe\">\n",
       "  <thead>\n",
       "    <tr style=\"text-align: right;\">\n",
       "      <th></th>\n",
       "      <th>today_avg_performance</th>\n",
       "    </tr>\n",
       "    <tr>\n",
       "      <th>department_id</th>\n",
       "      <th></th>\n",
       "    </tr>\n",
       "  </thead>\n",
       "  <tbody>\n",
       "    <tr>\n",
       "      <th>1</th>\n",
       "      <td>52.347813</td>\n",
       "    </tr>\n",
       "    <tr>\n",
       "      <th>2</th>\n",
       "      <td>51.768843</td>\n",
       "    </tr>\n",
       "    <tr>\n",
       "      <th>3</th>\n",
       "      <td>52.772667</td>\n",
       "    </tr>\n",
       "    <tr>\n",
       "      <th>4</th>\n",
       "      <td>52.415944</td>\n",
       "    </tr>\n",
       "    <tr>\n",
       "      <th>5</th>\n",
       "      <td>55.583217</td>\n",
       "    </tr>\n",
       "    <tr>\n",
       "      <th>6</th>\n",
       "      <td>54.270745</td>\n",
       "    </tr>\n",
       "  </tbody>\n",
       "</table>\n",
       "</div>"
      ],
      "text/plain": [
       "               today_avg_performance\n",
       "department_id                       \n",
       "1                          52.347813\n",
       "2                          51.768843\n",
       "3                          52.772667\n",
       "4                          52.415944\n",
       "5                          55.583217\n",
       "6                          54.270745"
      ]
     },
     "execution_count": 15,
     "metadata": {},
     "output_type": "execute_result"
    }
   ],
   "source": [
    "new_data_['tool_performance'] = new_data_.avg_tool_assignment_performance*0.8 + new_data_.participated*0.15 + new_data_.attendance*0.5\n",
    "today_avg_performance = new_data_[['department_id','tool_performance']].groupby('department_id').mean().rename(columns={'tool_performance':'today_avg_performance'})\n",
    "today_avg_performance"
   ]
  },
  {
   "cell_type": "code",
   "execution_count": 16,
   "metadata": {},
   "outputs": [
    {
     "data": {
      "text/html": [
       "<div>\n",
       "<style scoped>\n",
       "    .dataframe tbody tr th:only-of-type {\n",
       "        vertical-align: middle;\n",
       "    }\n",
       "\n",
       "    .dataframe tbody tr th {\n",
       "        vertical-align: top;\n",
       "    }\n",
       "\n",
       "    .dataframe thead th {\n",
       "        text-align: right;\n",
       "    }\n",
       "</style>\n",
       "<table border=\"1\" class=\"dataframe\">\n",
       "  <thead>\n",
       "    <tr style=\"text-align: right;\">\n",
       "      <th></th>\n",
       "      <th>department_id</th>\n",
       "      <th>today_department_avg_performance</th>\n",
       "      <th>last_week_avg_performance</th>\n",
       "      <th>today_delta</th>\n",
       "      <th>day_1</th>\n",
       "      <th>day_2</th>\n",
       "      <th>day_3</th>\n",
       "      <th>day_4</th>\n",
       "      <th>day_5</th>\n",
       "      <th>day_6</th>\n",
       "      <th>day_7</th>\n",
       "      <th>delta_1</th>\n",
       "      <th>delta_2</th>\n",
       "      <th>delta_3</th>\n",
       "      <th>delta_4</th>\n",
       "      <th>delta_5</th>\n",
       "      <th>delta_6</th>\n",
       "      <th>delta_7</th>\n",
       "    </tr>\n",
       "  </thead>\n",
       "  <tbody>\n",
       "    <tr>\n",
       "      <th>0</th>\n",
       "      <td>1</td>\n",
       "      <td>34</td>\n",
       "      <td>40.400781</td>\n",
       "      <td>-6.400781</td>\n",
       "      <td>22.920705</td>\n",
       "      <td>80.228612</td>\n",
       "      <td>13.068704</td>\n",
       "      <td>10.068766</td>\n",
       "      <td>58.760378</td>\n",
       "      <td>18.654567</td>\n",
       "      <td>79.103734</td>\n",
       "      <td>2.946367</td>\n",
       "      <td>-4.817743</td>\n",
       "      <td>8.172806</td>\n",
       "      <td>-7.517443</td>\n",
       "      <td>9.996281</td>\n",
       "      <td>-19.848061</td>\n",
       "      <td>-18.020096</td>\n",
       "    </tr>\n",
       "    <tr>\n",
       "      <th>1</th>\n",
       "      <td>2</td>\n",
       "      <td>40</td>\n",
       "      <td>55.061151</td>\n",
       "      <td>-15.061151</td>\n",
       "      <td>58.351420</td>\n",
       "      <td>49.176443</td>\n",
       "      <td>62.847782</td>\n",
       "      <td>41.019160</td>\n",
       "      <td>43.547055</td>\n",
       "      <td>68.276586</td>\n",
       "      <td>62.209608</td>\n",
       "      <td>4.718881</td>\n",
       "      <td>8.669145</td>\n",
       "      <td>-2.258579</td>\n",
       "      <td>24.564198</td>\n",
       "      <td>-21.975305</td>\n",
       "      <td>-7.386746</td>\n",
       "      <td>16.937754</td>\n",
       "    </tr>\n",
       "    <tr>\n",
       "      <th>2</th>\n",
       "      <td>3</td>\n",
       "      <td>54</td>\n",
       "      <td>56.696273</td>\n",
       "      <td>-2.696273</td>\n",
       "      <td>61.205481</td>\n",
       "      <td>17.163533</td>\n",
       "      <td>80.324783</td>\n",
       "      <td>31.539175</td>\n",
       "      <td>28.180254</td>\n",
       "      <td>90.802982</td>\n",
       "      <td>87.657707</td>\n",
       "      <td>-9.551125</td>\n",
       "      <td>20.134885</td>\n",
       "      <td>2.930800</td>\n",
       "      <td>18.288055</td>\n",
       "      <td>7.103058</td>\n",
       "      <td>24.930095</td>\n",
       "      <td>14.728298</td>\n",
       "    </tr>\n",
       "    <tr>\n",
       "      <th>3</th>\n",
       "      <td>4</td>\n",
       "      <td>58</td>\n",
       "      <td>47.162673</td>\n",
       "      <td>10.837327</td>\n",
       "      <td>74.012929</td>\n",
       "      <td>62.407468</td>\n",
       "      <td>73.830288</td>\n",
       "      <td>19.130832</td>\n",
       "      <td>39.657248</td>\n",
       "      <td>49.958356</td>\n",
       "      <td>11.141592</td>\n",
       "      <td>9.218299</td>\n",
       "      <td>2.724167</td>\n",
       "      <td>5.267798</td>\n",
       "      <td>22.615279</td>\n",
       "      <td>-21.121298</td>\n",
       "      <td>-23.755345</td>\n",
       "      <td>-3.866624</td>\n",
       "    </tr>\n",
       "    <tr>\n",
       "      <th>4</th>\n",
       "      <td>5</td>\n",
       "      <td>36</td>\n",
       "      <td>41.162110</td>\n",
       "      <td>-5.162110</td>\n",
       "      <td>19.602025</td>\n",
       "      <td>75.858608</td>\n",
       "      <td>15.892812</td>\n",
       "      <td>29.434241</td>\n",
       "      <td>64.741177</td>\n",
       "      <td>43.996069</td>\n",
       "      <td>38.609840</td>\n",
       "      <td>-12.324463</td>\n",
       "      <td>5.472948</td>\n",
       "      <td>-0.545233</td>\n",
       "      <td>4.862134</td>\n",
       "      <td>0.623783</td>\n",
       "      <td>16.742997</td>\n",
       "      <td>-17.639460</td>\n",
       "    </tr>\n",
       "    <tr>\n",
       "      <th>5</th>\n",
       "      <td>6</td>\n",
       "      <td>35</td>\n",
       "      <td>47.878485</td>\n",
       "      <td>-12.878485</td>\n",
       "      <td>23.353379</td>\n",
       "      <td>75.520160</td>\n",
       "      <td>54.831044</td>\n",
       "      <td>35.155074</td>\n",
       "      <td>33.213891</td>\n",
       "      <td>59.650161</td>\n",
       "      <td>53.425684</td>\n",
       "      <td>4.817776</td>\n",
       "      <td>-0.768989</td>\n",
       "      <td>23.053443</td>\n",
       "      <td>-10.351118</td>\n",
       "      <td>17.571119</td>\n",
       "      <td>13.451642</td>\n",
       "      <td>-3.026943</td>\n",
       "    </tr>\n",
       "  </tbody>\n",
       "</table>\n",
       "</div>"
      ],
      "text/plain": [
       "   department_id  today_department_avg_performance  last_week_avg_performance  \\\n",
       "0              1                                34                  40.400781   \n",
       "1              2                                40                  55.061151   \n",
       "2              3                                54                  56.696273   \n",
       "3              4                                58                  47.162673   \n",
       "4              5                                36                  41.162110   \n",
       "5              6                                35                  47.878485   \n",
       "\n",
       "   today_delta      day_1      day_2      day_3      day_4      day_5  \\\n",
       "0    -6.400781  22.920705  80.228612  13.068704  10.068766  58.760378   \n",
       "1   -15.061151  58.351420  49.176443  62.847782  41.019160  43.547055   \n",
       "2    -2.696273  61.205481  17.163533  80.324783  31.539175  28.180254   \n",
       "3    10.837327  74.012929  62.407468  73.830288  19.130832  39.657248   \n",
       "4    -5.162110  19.602025  75.858608  15.892812  29.434241  64.741177   \n",
       "5   -12.878485  23.353379  75.520160  54.831044  35.155074  33.213891   \n",
       "\n",
       "       day_6      day_7    delta_1    delta_2    delta_3    delta_4  \\\n",
       "0  18.654567  79.103734   2.946367  -4.817743   8.172806  -7.517443   \n",
       "1  68.276586  62.209608   4.718881   8.669145  -2.258579  24.564198   \n",
       "2  90.802982  87.657707  -9.551125  20.134885   2.930800  18.288055   \n",
       "3  49.958356  11.141592   9.218299   2.724167   5.267798  22.615279   \n",
       "4  43.996069  38.609840 -12.324463   5.472948  -0.545233   4.862134   \n",
       "5  59.650161  53.425684   4.817776  -0.768989  23.053443 -10.351118   \n",
       "\n",
       "     delta_5    delta_6    delta_7  \n",
       "0   9.996281 -19.848061 -18.020096  \n",
       "1 -21.975305  -7.386746  16.937754  \n",
       "2   7.103058  24.930095  14.728298  \n",
       "3 -21.121298 -23.755345  -3.866624  \n",
       "4   0.623783  16.742997 -17.639460  \n",
       "5  17.571119  13.451642  -3.026943  "
      ]
     },
     "execution_count": 16,
     "metadata": {},
     "output_type": "execute_result"
    }
   ],
   "source": [
    "performance = pd.read_csv('perfomance.csv')\n",
    "performance"
   ]
  },
  {
   "cell_type": "code",
   "execution_count": 17,
   "metadata": {},
   "outputs": [
    {
     "data": {
      "text/html": [
       "<div>\n",
       "<style scoped>\n",
       "    .dataframe tbody tr th:only-of-type {\n",
       "        vertical-align: middle;\n",
       "    }\n",
       "\n",
       "    .dataframe tbody tr th {\n",
       "        vertical-align: top;\n",
       "    }\n",
       "\n",
       "    .dataframe thead th {\n",
       "        text-align: right;\n",
       "    }\n",
       "</style>\n",
       "<table border=\"1\" class=\"dataframe\">\n",
       "  <thead>\n",
       "    <tr style=\"text-align: right;\">\n",
       "      <th></th>\n",
       "      <th>department_id</th>\n",
       "      <th>today_department_avg_performance</th>\n",
       "      <th>last_week_avg_performance</th>\n",
       "      <th>today_delta</th>\n",
       "      <th>day_1</th>\n",
       "      <th>day_2</th>\n",
       "      <th>day_3</th>\n",
       "      <th>day_4</th>\n",
       "      <th>day_5</th>\n",
       "      <th>day_6</th>\n",
       "      <th>day_7</th>\n",
       "      <th>delta_1</th>\n",
       "      <th>delta_2</th>\n",
       "      <th>delta_3</th>\n",
       "      <th>delta_4</th>\n",
       "      <th>delta_5</th>\n",
       "      <th>delta_6</th>\n",
       "      <th>delta_7</th>\n",
       "    </tr>\n",
       "  </thead>\n",
       "  <tbody>\n",
       "    <tr>\n",
       "      <th>0</th>\n",
       "      <td>1</td>\n",
       "      <td>52.347813</td>\n",
       "      <td>41.983538</td>\n",
       "      <td>10.364275</td>\n",
       "      <td>80.228612</td>\n",
       "      <td>13.068704</td>\n",
       "      <td>10.068766</td>\n",
       "      <td>58.760378</td>\n",
       "      <td>18.654567</td>\n",
       "      <td>79.103734</td>\n",
       "      <td>34</td>\n",
       "      <td>-4.817743</td>\n",
       "      <td>8.172806</td>\n",
       "      <td>-7.517443</td>\n",
       "      <td>9.996281</td>\n",
       "      <td>-19.848061</td>\n",
       "      <td>-18.020096</td>\n",
       "      <td>-6.400781</td>\n",
       "    </tr>\n",
       "    <tr>\n",
       "      <th>1</th>\n",
       "      <td>2</td>\n",
       "      <td>51.768843</td>\n",
       "      <td>52.439519</td>\n",
       "      <td>-0.670676</td>\n",
       "      <td>49.176443</td>\n",
       "      <td>62.847782</td>\n",
       "      <td>41.019160</td>\n",
       "      <td>43.547055</td>\n",
       "      <td>68.276586</td>\n",
       "      <td>62.209608</td>\n",
       "      <td>40</td>\n",
       "      <td>8.669145</td>\n",
       "      <td>-2.258579</td>\n",
       "      <td>24.564198</td>\n",
       "      <td>-21.975305</td>\n",
       "      <td>-7.386746</td>\n",
       "      <td>16.937754</td>\n",
       "      <td>-15.061151</td>\n",
       "    </tr>\n",
       "    <tr>\n",
       "      <th>2</th>\n",
       "      <td>3</td>\n",
       "      <td>52.772667</td>\n",
       "      <td>55.666919</td>\n",
       "      <td>-2.894252</td>\n",
       "      <td>17.163533</td>\n",
       "      <td>80.324783</td>\n",
       "      <td>31.539175</td>\n",
       "      <td>28.180254</td>\n",
       "      <td>90.802982</td>\n",
       "      <td>87.657707</td>\n",
       "      <td>54</td>\n",
       "      <td>20.134885</td>\n",
       "      <td>2.930800</td>\n",
       "      <td>18.288055</td>\n",
       "      <td>7.103058</td>\n",
       "      <td>24.930095</td>\n",
       "      <td>14.728298</td>\n",
       "      <td>-2.696273</td>\n",
       "    </tr>\n",
       "    <tr>\n",
       "      <th>3</th>\n",
       "      <td>4</td>\n",
       "      <td>52.415944</td>\n",
       "      <td>44.875112</td>\n",
       "      <td>7.540833</td>\n",
       "      <td>62.407468</td>\n",
       "      <td>73.830288</td>\n",
       "      <td>19.130832</td>\n",
       "      <td>39.657248</td>\n",
       "      <td>49.958356</td>\n",
       "      <td>11.141592</td>\n",
       "      <td>58</td>\n",
       "      <td>2.724167</td>\n",
       "      <td>5.267798</td>\n",
       "      <td>22.615279</td>\n",
       "      <td>-21.121298</td>\n",
       "      <td>-23.755345</td>\n",
       "      <td>-3.866624</td>\n",
       "      <td>10.837327</td>\n",
       "    </tr>\n",
       "    <tr>\n",
       "      <th>4</th>\n",
       "      <td>5</td>\n",
       "      <td>55.583217</td>\n",
       "      <td>43.504678</td>\n",
       "      <td>12.078539</td>\n",
       "      <td>75.858608</td>\n",
       "      <td>15.892812</td>\n",
       "      <td>29.434241</td>\n",
       "      <td>64.741177</td>\n",
       "      <td>43.996069</td>\n",
       "      <td>38.609840</td>\n",
       "      <td>36</td>\n",
       "      <td>5.472948</td>\n",
       "      <td>-0.545233</td>\n",
       "      <td>4.862134</td>\n",
       "      <td>0.623783</td>\n",
       "      <td>16.742997</td>\n",
       "      <td>-17.639460</td>\n",
       "      <td>-5.162110</td>\n",
       "    </tr>\n",
       "    <tr>\n",
       "      <th>5</th>\n",
       "      <td>6</td>\n",
       "      <td>54.270745</td>\n",
       "      <td>49.542288</td>\n",
       "      <td>4.728457</td>\n",
       "      <td>75.520160</td>\n",
       "      <td>54.831044</td>\n",
       "      <td>35.155074</td>\n",
       "      <td>33.213891</td>\n",
       "      <td>59.650161</td>\n",
       "      <td>53.425684</td>\n",
       "      <td>35</td>\n",
       "      <td>-0.768989</td>\n",
       "      <td>23.053443</td>\n",
       "      <td>-10.351118</td>\n",
       "      <td>17.571119</td>\n",
       "      <td>13.451642</td>\n",
       "      <td>-3.026943</td>\n",
       "      <td>-12.878485</td>\n",
       "    </tr>\n",
       "  </tbody>\n",
       "</table>\n",
       "</div>"
      ],
      "text/plain": [
       "   department_id  today_department_avg_performance  last_week_avg_performance  \\\n",
       "0              1                         52.347813                  41.983538   \n",
       "1              2                         51.768843                  52.439519   \n",
       "2              3                         52.772667                  55.666919   \n",
       "3              4                         52.415944                  44.875112   \n",
       "4              5                         55.583217                  43.504678   \n",
       "5              6                         54.270745                  49.542288   \n",
       "\n",
       "   today_delta      day_1      day_2      day_3      day_4      day_5  \\\n",
       "0    10.364275  80.228612  13.068704  10.068766  58.760378  18.654567   \n",
       "1    -0.670676  49.176443  62.847782  41.019160  43.547055  68.276586   \n",
       "2    -2.894252  17.163533  80.324783  31.539175  28.180254  90.802982   \n",
       "3     7.540833  62.407468  73.830288  19.130832  39.657248  49.958356   \n",
       "4    12.078539  75.858608  15.892812  29.434241  64.741177  43.996069   \n",
       "5     4.728457  75.520160  54.831044  35.155074  33.213891  59.650161   \n",
       "\n",
       "       day_6  day_7    delta_1    delta_2    delta_3    delta_4    delta_5  \\\n",
       "0  79.103734     34  -4.817743   8.172806  -7.517443   9.996281 -19.848061   \n",
       "1  62.209608     40   8.669145  -2.258579  24.564198 -21.975305  -7.386746   \n",
       "2  87.657707     54  20.134885   2.930800  18.288055   7.103058  24.930095   \n",
       "3  11.141592     58   2.724167   5.267798  22.615279 -21.121298 -23.755345   \n",
       "4  38.609840     36   5.472948  -0.545233   4.862134   0.623783  16.742997   \n",
       "5  53.425684     35  -0.768989  23.053443 -10.351118  17.571119  13.451642   \n",
       "\n",
       "     delta_6    delta_7  \n",
       "0 -18.020096  -6.400781  \n",
       "1  16.937754 -15.061151  \n",
       "2  14.728298  -2.696273  \n",
       "3  -3.866624  10.837327  \n",
       "4 -17.639460  -5.162110  \n",
       "5  -3.026943 -12.878485  "
      ]
     },
     "execution_count": 17,
     "metadata": {},
     "output_type": "execute_result"
    }
   ],
   "source": [
    "for i in range(1,7):\n",
    "    performance[f'day_{i}'] = performance[f'day_{i+1}']\n",
    "    performance[f'delta_{i}'] = performance[f'delta_{i+1}']\n",
    "performance.day_7 = performance.today_department_avg_performance.values\n",
    "performance.today_department_avg_performance = today_avg_performance.today_avg_performance.values\n",
    "performance.delta_7 = performance.today_delta\n",
    "performance.last_week_avg_performance = performance.iloc[:,4:-7].T.mean().values\n",
    "performance.today_delta = performance.today_department_avg_performance.values - performance.last_week_avg_performance.values\n",
    "performance"
   ]
  },
  {
   "cell_type": "code",
   "execution_count": 18,
   "metadata": {},
   "outputs": [
    {
     "data": {
      "application/vnd.plotly.v1+json": {
       "config": {
        "plotlyServerURL": "https://plot.ly"
       },
       "data": [
        {
         "hovertemplate": "variable=0<br>index=%{x}<br>value=%{y}<extra></extra>",
         "legendgroup": "0",
         "line": {
          "color": "#636efa",
          "dash": "solid"
         },
         "marker": {
          "symbol": "circle"
         },
         "mode": "lines",
         "name": "0",
         "orientation": "v",
         "showlegend": true,
         "type": "scatter",
         "x": [
          "delta_1",
          "delta_2",
          "delta_3",
          "delta_4",
          "delta_5",
          "delta_6",
          "delta_7"
         ],
         "xaxis": "x",
         "y": [
          -4.817743307048925,
          8.172806005006194,
          -7.5174433740398,
          9.996281420760733,
          -19.84806081439936,
          -18.020096140136936,
          -6.400781085994446
         ],
         "yaxis": "y"
        },
        {
         "hovertemplate": "variable=1<br>index=%{x}<br>value=%{y}<extra></extra>",
         "legendgroup": "1",
         "line": {
          "color": "#EF553B",
          "dash": "solid"
         },
         "marker": {
          "symbol": "circle"
         },
         "mode": "lines",
         "name": "1",
         "orientation": "v",
         "showlegend": true,
         "type": "scatter",
         "x": [
          "delta_1",
          "delta_2",
          "delta_3",
          "delta_4",
          "delta_5",
          "delta_6",
          "delta_7"
         ],
         "xaxis": "x",
         "y": [
          8.669145404754964,
          -2.2585786619123063,
          24.56419820172772,
          -21.97530547045848,
          -7.386745771948764,
          16.937754058766053,
          -15.061150607620393
         ],
         "yaxis": "y"
        },
        {
         "hovertemplate": "variable=2<br>index=%{x}<br>value=%{y}<extra></extra>",
         "legendgroup": "2",
         "line": {
          "color": "#00cc96",
          "dash": "solid"
         },
         "marker": {
          "symbol": "circle"
         },
         "mode": "lines",
         "name": "2",
         "orientation": "v",
         "showlegend": true,
         "type": "scatter",
         "x": [
          "delta_1",
          "delta_2",
          "delta_3",
          "delta_4",
          "delta_5",
          "delta_6",
          "delta_7"
         ],
         "xaxis": "x",
         "y": [
          20.134885379343217,
          2.930799648918832,
          18.28805460750729,
          7.1030583300871655,
          24.93009488582513,
          14.728297719642695,
          -2.696273438313561
         ],
         "yaxis": "y"
        },
        {
         "hovertemplate": "variable=3<br>index=%{x}<br>value=%{y}<extra></extra>",
         "legendgroup": "3",
         "line": {
          "color": "#ab63fa",
          "dash": "solid"
         },
         "marker": {
          "symbol": "circle"
         },
         "mode": "lines",
         "name": "3",
         "orientation": "v",
         "showlegend": true,
         "type": "scatter",
         "x": [
          "delta_1",
          "delta_2",
          "delta_3",
          "delta_4",
          "delta_5",
          "delta_6",
          "delta_7"
         ],
         "xaxis": "x",
         "y": [
          2.724167392323281,
          5.26779838948864,
          22.615278986556483,
          -21.12129785558929,
          -23.755345075508792,
          -3.86662403385251,
          10.837326773687714
         ],
         "yaxis": "y"
        },
        {
         "hovertemplate": "variable=4<br>index=%{x}<br>value=%{y}<extra></extra>",
         "legendgroup": "4",
         "line": {
          "color": "#FFA15A",
          "dash": "solid"
         },
         "marker": {
          "symbol": "circle"
         },
         "mode": "lines",
         "name": "4",
         "orientation": "v",
         "showlegend": true,
         "type": "scatter",
         "x": [
          "delta_1",
          "delta_2",
          "delta_3",
          "delta_4",
          "delta_5",
          "delta_6",
          "delta_7"
         ],
         "xaxis": "x",
         "y": [
          5.472948223437793,
          -0.5452327764154461,
          4.862134166360853,
          0.6237828751064924,
          16.74299725475059,
          -17.639459545919987,
          -5.162110389934689
         ],
         "yaxis": "y"
        },
        {
         "hovertemplate": "variable=5<br>index=%{x}<br>value=%{y}<extra></extra>",
         "legendgroup": "5",
         "line": {
          "color": "#19d3f3",
          "dash": "solid"
         },
         "marker": {
          "symbol": "circle"
         },
         "mode": "lines",
         "name": "5",
         "orientation": "v",
         "showlegend": true,
         "type": "scatter",
         "x": [
          "delta_1",
          "delta_2",
          "delta_3",
          "delta_4",
          "delta_5",
          "delta_6",
          "delta_7"
         ],
         "xaxis": "x",
         "y": [
          -0.7689894009386009,
          23.05344300281692,
          -10.351117569052786,
          17.571118769652017,
          13.45164214485576,
          -3.0269434508545885,
          -12.87848459449959
         ],
         "yaxis": "y"
        }
       ],
       "layout": {
        "legend": {
         "title": {
          "text": "variable"
         },
         "tracegroupgap": 0
        },
        "margin": {
         "t": 60
        },
        "template": {
         "data": {
          "bar": [
           {
            "error_x": {
             "color": "#2a3f5f"
            },
            "error_y": {
             "color": "#2a3f5f"
            },
            "marker": {
             "line": {
              "color": "#E5ECF6",
              "width": 0.5
             },
             "pattern": {
              "fillmode": "overlay",
              "size": 10,
              "solidity": 0.2
             }
            },
            "type": "bar"
           }
          ],
          "barpolar": [
           {
            "marker": {
             "line": {
              "color": "#E5ECF6",
              "width": 0.5
             },
             "pattern": {
              "fillmode": "overlay",
              "size": 10,
              "solidity": 0.2
             }
            },
            "type": "barpolar"
           }
          ],
          "carpet": [
           {
            "aaxis": {
             "endlinecolor": "#2a3f5f",
             "gridcolor": "white",
             "linecolor": "white",
             "minorgridcolor": "white",
             "startlinecolor": "#2a3f5f"
            },
            "baxis": {
             "endlinecolor": "#2a3f5f",
             "gridcolor": "white",
             "linecolor": "white",
             "minorgridcolor": "white",
             "startlinecolor": "#2a3f5f"
            },
            "type": "carpet"
           }
          ],
          "choropleth": [
           {
            "colorbar": {
             "outlinewidth": 0,
             "ticks": ""
            },
            "type": "choropleth"
           }
          ],
          "contour": [
           {
            "colorbar": {
             "outlinewidth": 0,
             "ticks": ""
            },
            "colorscale": [
             [
              0,
              "#0d0887"
             ],
             [
              0.1111111111111111,
              "#46039f"
             ],
             [
              0.2222222222222222,
              "#7201a8"
             ],
             [
              0.3333333333333333,
              "#9c179e"
             ],
             [
              0.4444444444444444,
              "#bd3786"
             ],
             [
              0.5555555555555556,
              "#d8576b"
             ],
             [
              0.6666666666666666,
              "#ed7953"
             ],
             [
              0.7777777777777778,
              "#fb9f3a"
             ],
             [
              0.8888888888888888,
              "#fdca26"
             ],
             [
              1,
              "#f0f921"
             ]
            ],
            "type": "contour"
           }
          ],
          "contourcarpet": [
           {
            "colorbar": {
             "outlinewidth": 0,
             "ticks": ""
            },
            "type": "contourcarpet"
           }
          ],
          "heatmap": [
           {
            "colorbar": {
             "outlinewidth": 0,
             "ticks": ""
            },
            "colorscale": [
             [
              0,
              "#0d0887"
             ],
             [
              0.1111111111111111,
              "#46039f"
             ],
             [
              0.2222222222222222,
              "#7201a8"
             ],
             [
              0.3333333333333333,
              "#9c179e"
             ],
             [
              0.4444444444444444,
              "#bd3786"
             ],
             [
              0.5555555555555556,
              "#d8576b"
             ],
             [
              0.6666666666666666,
              "#ed7953"
             ],
             [
              0.7777777777777778,
              "#fb9f3a"
             ],
             [
              0.8888888888888888,
              "#fdca26"
             ],
             [
              1,
              "#f0f921"
             ]
            ],
            "type": "heatmap"
           }
          ],
          "heatmapgl": [
           {
            "colorbar": {
             "outlinewidth": 0,
             "ticks": ""
            },
            "colorscale": [
             [
              0,
              "#0d0887"
             ],
             [
              0.1111111111111111,
              "#46039f"
             ],
             [
              0.2222222222222222,
              "#7201a8"
             ],
             [
              0.3333333333333333,
              "#9c179e"
             ],
             [
              0.4444444444444444,
              "#bd3786"
             ],
             [
              0.5555555555555556,
              "#d8576b"
             ],
             [
              0.6666666666666666,
              "#ed7953"
             ],
             [
              0.7777777777777778,
              "#fb9f3a"
             ],
             [
              0.8888888888888888,
              "#fdca26"
             ],
             [
              1,
              "#f0f921"
             ]
            ],
            "type": "heatmapgl"
           }
          ],
          "histogram": [
           {
            "marker": {
             "pattern": {
              "fillmode": "overlay",
              "size": 10,
              "solidity": 0.2
             }
            },
            "type": "histogram"
           }
          ],
          "histogram2d": [
           {
            "colorbar": {
             "outlinewidth": 0,
             "ticks": ""
            },
            "colorscale": [
             [
              0,
              "#0d0887"
             ],
             [
              0.1111111111111111,
              "#46039f"
             ],
             [
              0.2222222222222222,
              "#7201a8"
             ],
             [
              0.3333333333333333,
              "#9c179e"
             ],
             [
              0.4444444444444444,
              "#bd3786"
             ],
             [
              0.5555555555555556,
              "#d8576b"
             ],
             [
              0.6666666666666666,
              "#ed7953"
             ],
             [
              0.7777777777777778,
              "#fb9f3a"
             ],
             [
              0.8888888888888888,
              "#fdca26"
             ],
             [
              1,
              "#f0f921"
             ]
            ],
            "type": "histogram2d"
           }
          ],
          "histogram2dcontour": [
           {
            "colorbar": {
             "outlinewidth": 0,
             "ticks": ""
            },
            "colorscale": [
             [
              0,
              "#0d0887"
             ],
             [
              0.1111111111111111,
              "#46039f"
             ],
             [
              0.2222222222222222,
              "#7201a8"
             ],
             [
              0.3333333333333333,
              "#9c179e"
             ],
             [
              0.4444444444444444,
              "#bd3786"
             ],
             [
              0.5555555555555556,
              "#d8576b"
             ],
             [
              0.6666666666666666,
              "#ed7953"
             ],
             [
              0.7777777777777778,
              "#fb9f3a"
             ],
             [
              0.8888888888888888,
              "#fdca26"
             ],
             [
              1,
              "#f0f921"
             ]
            ],
            "type": "histogram2dcontour"
           }
          ],
          "mesh3d": [
           {
            "colorbar": {
             "outlinewidth": 0,
             "ticks": ""
            },
            "type": "mesh3d"
           }
          ],
          "parcoords": [
           {
            "line": {
             "colorbar": {
              "outlinewidth": 0,
              "ticks": ""
             }
            },
            "type": "parcoords"
           }
          ],
          "pie": [
           {
            "automargin": true,
            "type": "pie"
           }
          ],
          "scatter": [
           {
            "fillpattern": {
             "fillmode": "overlay",
             "size": 10,
             "solidity": 0.2
            },
            "type": "scatter"
           }
          ],
          "scatter3d": [
           {
            "line": {
             "colorbar": {
              "outlinewidth": 0,
              "ticks": ""
             }
            },
            "marker": {
             "colorbar": {
              "outlinewidth": 0,
              "ticks": ""
             }
            },
            "type": "scatter3d"
           }
          ],
          "scattercarpet": [
           {
            "marker": {
             "colorbar": {
              "outlinewidth": 0,
              "ticks": ""
             }
            },
            "type": "scattercarpet"
           }
          ],
          "scattergeo": [
           {
            "marker": {
             "colorbar": {
              "outlinewidth": 0,
              "ticks": ""
             }
            },
            "type": "scattergeo"
           }
          ],
          "scattergl": [
           {
            "marker": {
             "colorbar": {
              "outlinewidth": 0,
              "ticks": ""
             }
            },
            "type": "scattergl"
           }
          ],
          "scattermapbox": [
           {
            "marker": {
             "colorbar": {
              "outlinewidth": 0,
              "ticks": ""
             }
            },
            "type": "scattermapbox"
           }
          ],
          "scatterpolar": [
           {
            "marker": {
             "colorbar": {
              "outlinewidth": 0,
              "ticks": ""
             }
            },
            "type": "scatterpolar"
           }
          ],
          "scatterpolargl": [
           {
            "marker": {
             "colorbar": {
              "outlinewidth": 0,
              "ticks": ""
             }
            },
            "type": "scatterpolargl"
           }
          ],
          "scatterternary": [
           {
            "marker": {
             "colorbar": {
              "outlinewidth": 0,
              "ticks": ""
             }
            },
            "type": "scatterternary"
           }
          ],
          "surface": [
           {
            "colorbar": {
             "outlinewidth": 0,
             "ticks": ""
            },
            "colorscale": [
             [
              0,
              "#0d0887"
             ],
             [
              0.1111111111111111,
              "#46039f"
             ],
             [
              0.2222222222222222,
              "#7201a8"
             ],
             [
              0.3333333333333333,
              "#9c179e"
             ],
             [
              0.4444444444444444,
              "#bd3786"
             ],
             [
              0.5555555555555556,
              "#d8576b"
             ],
             [
              0.6666666666666666,
              "#ed7953"
             ],
             [
              0.7777777777777778,
              "#fb9f3a"
             ],
             [
              0.8888888888888888,
              "#fdca26"
             ],
             [
              1,
              "#f0f921"
             ]
            ],
            "type": "surface"
           }
          ],
          "table": [
           {
            "cells": {
             "fill": {
              "color": "#EBF0F8"
             },
             "line": {
              "color": "white"
             }
            },
            "header": {
             "fill": {
              "color": "#C8D4E3"
             },
             "line": {
              "color": "white"
             }
            },
            "type": "table"
           }
          ]
         },
         "layout": {
          "annotationdefaults": {
           "arrowcolor": "#2a3f5f",
           "arrowhead": 0,
           "arrowwidth": 1
          },
          "autotypenumbers": "strict",
          "coloraxis": {
           "colorbar": {
            "outlinewidth": 0,
            "ticks": ""
           }
          },
          "colorscale": {
           "diverging": [
            [
             0,
             "#8e0152"
            ],
            [
             0.1,
             "#c51b7d"
            ],
            [
             0.2,
             "#de77ae"
            ],
            [
             0.3,
             "#f1b6da"
            ],
            [
             0.4,
             "#fde0ef"
            ],
            [
             0.5,
             "#f7f7f7"
            ],
            [
             0.6,
             "#e6f5d0"
            ],
            [
             0.7,
             "#b8e186"
            ],
            [
             0.8,
             "#7fbc41"
            ],
            [
             0.9,
             "#4d9221"
            ],
            [
             1,
             "#276419"
            ]
           ],
           "sequential": [
            [
             0,
             "#0d0887"
            ],
            [
             0.1111111111111111,
             "#46039f"
            ],
            [
             0.2222222222222222,
             "#7201a8"
            ],
            [
             0.3333333333333333,
             "#9c179e"
            ],
            [
             0.4444444444444444,
             "#bd3786"
            ],
            [
             0.5555555555555556,
             "#d8576b"
            ],
            [
             0.6666666666666666,
             "#ed7953"
            ],
            [
             0.7777777777777778,
             "#fb9f3a"
            ],
            [
             0.8888888888888888,
             "#fdca26"
            ],
            [
             1,
             "#f0f921"
            ]
           ],
           "sequentialminus": [
            [
             0,
             "#0d0887"
            ],
            [
             0.1111111111111111,
             "#46039f"
            ],
            [
             0.2222222222222222,
             "#7201a8"
            ],
            [
             0.3333333333333333,
             "#9c179e"
            ],
            [
             0.4444444444444444,
             "#bd3786"
            ],
            [
             0.5555555555555556,
             "#d8576b"
            ],
            [
             0.6666666666666666,
             "#ed7953"
            ],
            [
             0.7777777777777778,
             "#fb9f3a"
            ],
            [
             0.8888888888888888,
             "#fdca26"
            ],
            [
             1,
             "#f0f921"
            ]
           ]
          },
          "colorway": [
           "#636efa",
           "#EF553B",
           "#00cc96",
           "#ab63fa",
           "#FFA15A",
           "#19d3f3",
           "#FF6692",
           "#B6E880",
           "#FF97FF",
           "#FECB52"
          ],
          "font": {
           "color": "#2a3f5f"
          },
          "geo": {
           "bgcolor": "white",
           "lakecolor": "white",
           "landcolor": "#E5ECF6",
           "showlakes": true,
           "showland": true,
           "subunitcolor": "white"
          },
          "hoverlabel": {
           "align": "left"
          },
          "hovermode": "closest",
          "mapbox": {
           "style": "light"
          },
          "paper_bgcolor": "white",
          "plot_bgcolor": "#E5ECF6",
          "polar": {
           "angularaxis": {
            "gridcolor": "white",
            "linecolor": "white",
            "ticks": ""
           },
           "bgcolor": "#E5ECF6",
           "radialaxis": {
            "gridcolor": "white",
            "linecolor": "white",
            "ticks": ""
           }
          },
          "scene": {
           "xaxis": {
            "backgroundcolor": "#E5ECF6",
            "gridcolor": "white",
            "gridwidth": 2,
            "linecolor": "white",
            "showbackground": true,
            "ticks": "",
            "zerolinecolor": "white"
           },
           "yaxis": {
            "backgroundcolor": "#E5ECF6",
            "gridcolor": "white",
            "gridwidth": 2,
            "linecolor": "white",
            "showbackground": true,
            "ticks": "",
            "zerolinecolor": "white"
           },
           "zaxis": {
            "backgroundcolor": "#E5ECF6",
            "gridcolor": "white",
            "gridwidth": 2,
            "linecolor": "white",
            "showbackground": true,
            "ticks": "",
            "zerolinecolor": "white"
           }
          },
          "shapedefaults": {
           "line": {
            "color": "#2a3f5f"
           }
          },
          "ternary": {
           "aaxis": {
            "gridcolor": "white",
            "linecolor": "white",
            "ticks": ""
           },
           "baxis": {
            "gridcolor": "white",
            "linecolor": "white",
            "ticks": ""
           },
           "bgcolor": "#E5ECF6",
           "caxis": {
            "gridcolor": "white",
            "linecolor": "white",
            "ticks": ""
           }
          },
          "title": {
           "x": 0.05
          },
          "xaxis": {
           "automargin": true,
           "gridcolor": "white",
           "linecolor": "white",
           "ticks": "",
           "title": {
            "standoff": 15
           },
           "zerolinecolor": "white",
           "zerolinewidth": 2
          },
          "yaxis": {
           "automargin": true,
           "gridcolor": "white",
           "linecolor": "white",
           "ticks": "",
           "title": {
            "standoff": 15
           },
           "zerolinecolor": "white",
           "zerolinewidth": 2
          }
         }
        },
        "xaxis": {
         "anchor": "y",
         "domain": [
          0,
          1
         ],
         "title": {
          "text": "index"
         }
        },
        "yaxis": {
         "anchor": "x",
         "domain": [
          0,
          1
         ],
         "title": {
          "text": "value"
         }
        }
       }
      }
     },
     "metadata": {},
     "output_type": "display_data"
    }
   ],
   "source": [
    "import plotly.express as px\n",
    "\n",
    "px.line(performance.iloc[:,-7:].T)"
   ]
  },
  {
   "cell_type": "code",
   "execution_count": 19,
   "metadata": {},
   "outputs": [
    {
     "data": {
      "application/vnd.plotly.v1+json": {
       "config": {
        "plotlyServerURL": "https://plot.ly"
       },
       "data": [
        {
         "hovertemplate": "variable=0<br>index=%{x}<br>value=%{y}<extra></extra>",
         "legendgroup": "0",
         "line": {
          "color": "#636efa",
          "dash": "solid"
         },
         "marker": {
          "symbol": "circle"
         },
         "mode": "lines",
         "name": "0",
         "orientation": "v",
         "showlegend": true,
         "type": "scatter",
         "x": [
          "delta_1",
          "delta_2",
          "delta_3",
          "delta_4",
          "delta_5",
          "delta_6",
          "delta_7"
         ],
         "xaxis": "x",
         "y": [
          5.235735615311955,
          6.103505934650472,
          8.743517503176626,
          -1.3003936550735606,
          0.6890971039290944,
          -1.8145118987258788,
          -5.22691222377916
         ],
         "yaxis": "y"
        }
       ],
       "layout": {
        "legend": {
         "title": {
          "text": "variable"
         },
         "tracegroupgap": 0
        },
        "template": {
         "data": {
          "bar": [
           {
            "error_x": {
             "color": "#2a3f5f"
            },
            "error_y": {
             "color": "#2a3f5f"
            },
            "marker": {
             "line": {
              "color": "#E5ECF6",
              "width": 0.5
             },
             "pattern": {
              "fillmode": "overlay",
              "size": 10,
              "solidity": 0.2
             }
            },
            "type": "bar"
           }
          ],
          "barpolar": [
           {
            "marker": {
             "line": {
              "color": "#E5ECF6",
              "width": 0.5
             },
             "pattern": {
              "fillmode": "overlay",
              "size": 10,
              "solidity": 0.2
             }
            },
            "type": "barpolar"
           }
          ],
          "carpet": [
           {
            "aaxis": {
             "endlinecolor": "#2a3f5f",
             "gridcolor": "white",
             "linecolor": "white",
             "minorgridcolor": "white",
             "startlinecolor": "#2a3f5f"
            },
            "baxis": {
             "endlinecolor": "#2a3f5f",
             "gridcolor": "white",
             "linecolor": "white",
             "minorgridcolor": "white",
             "startlinecolor": "#2a3f5f"
            },
            "type": "carpet"
           }
          ],
          "choropleth": [
           {
            "colorbar": {
             "outlinewidth": 0,
             "ticks": ""
            },
            "type": "choropleth"
           }
          ],
          "contour": [
           {
            "colorbar": {
             "outlinewidth": 0,
             "ticks": ""
            },
            "colorscale": [
             [
              0,
              "#0d0887"
             ],
             [
              0.1111111111111111,
              "#46039f"
             ],
             [
              0.2222222222222222,
              "#7201a8"
             ],
             [
              0.3333333333333333,
              "#9c179e"
             ],
             [
              0.4444444444444444,
              "#bd3786"
             ],
             [
              0.5555555555555556,
              "#d8576b"
             ],
             [
              0.6666666666666666,
              "#ed7953"
             ],
             [
              0.7777777777777778,
              "#fb9f3a"
             ],
             [
              0.8888888888888888,
              "#fdca26"
             ],
             [
              1,
              "#f0f921"
             ]
            ],
            "type": "contour"
           }
          ],
          "contourcarpet": [
           {
            "colorbar": {
             "outlinewidth": 0,
             "ticks": ""
            },
            "type": "contourcarpet"
           }
          ],
          "heatmap": [
           {
            "colorbar": {
             "outlinewidth": 0,
             "ticks": ""
            },
            "colorscale": [
             [
              0,
              "#0d0887"
             ],
             [
              0.1111111111111111,
              "#46039f"
             ],
             [
              0.2222222222222222,
              "#7201a8"
             ],
             [
              0.3333333333333333,
              "#9c179e"
             ],
             [
              0.4444444444444444,
              "#bd3786"
             ],
             [
              0.5555555555555556,
              "#d8576b"
             ],
             [
              0.6666666666666666,
              "#ed7953"
             ],
             [
              0.7777777777777778,
              "#fb9f3a"
             ],
             [
              0.8888888888888888,
              "#fdca26"
             ],
             [
              1,
              "#f0f921"
             ]
            ],
            "type": "heatmap"
           }
          ],
          "heatmapgl": [
           {
            "colorbar": {
             "outlinewidth": 0,
             "ticks": ""
            },
            "colorscale": [
             [
              0,
              "#0d0887"
             ],
             [
              0.1111111111111111,
              "#46039f"
             ],
             [
              0.2222222222222222,
              "#7201a8"
             ],
             [
              0.3333333333333333,
              "#9c179e"
             ],
             [
              0.4444444444444444,
              "#bd3786"
             ],
             [
              0.5555555555555556,
              "#d8576b"
             ],
             [
              0.6666666666666666,
              "#ed7953"
             ],
             [
              0.7777777777777778,
              "#fb9f3a"
             ],
             [
              0.8888888888888888,
              "#fdca26"
             ],
             [
              1,
              "#f0f921"
             ]
            ],
            "type": "heatmapgl"
           }
          ],
          "histogram": [
           {
            "marker": {
             "pattern": {
              "fillmode": "overlay",
              "size": 10,
              "solidity": 0.2
             }
            },
            "type": "histogram"
           }
          ],
          "histogram2d": [
           {
            "colorbar": {
             "outlinewidth": 0,
             "ticks": ""
            },
            "colorscale": [
             [
              0,
              "#0d0887"
             ],
             [
              0.1111111111111111,
              "#46039f"
             ],
             [
              0.2222222222222222,
              "#7201a8"
             ],
             [
              0.3333333333333333,
              "#9c179e"
             ],
             [
              0.4444444444444444,
              "#bd3786"
             ],
             [
              0.5555555555555556,
              "#d8576b"
             ],
             [
              0.6666666666666666,
              "#ed7953"
             ],
             [
              0.7777777777777778,
              "#fb9f3a"
             ],
             [
              0.8888888888888888,
              "#fdca26"
             ],
             [
              1,
              "#f0f921"
             ]
            ],
            "type": "histogram2d"
           }
          ],
          "histogram2dcontour": [
           {
            "colorbar": {
             "outlinewidth": 0,
             "ticks": ""
            },
            "colorscale": [
             [
              0,
              "#0d0887"
             ],
             [
              0.1111111111111111,
              "#46039f"
             ],
             [
              0.2222222222222222,
              "#7201a8"
             ],
             [
              0.3333333333333333,
              "#9c179e"
             ],
             [
              0.4444444444444444,
              "#bd3786"
             ],
             [
              0.5555555555555556,
              "#d8576b"
             ],
             [
              0.6666666666666666,
              "#ed7953"
             ],
             [
              0.7777777777777778,
              "#fb9f3a"
             ],
             [
              0.8888888888888888,
              "#fdca26"
             ],
             [
              1,
              "#f0f921"
             ]
            ],
            "type": "histogram2dcontour"
           }
          ],
          "mesh3d": [
           {
            "colorbar": {
             "outlinewidth": 0,
             "ticks": ""
            },
            "type": "mesh3d"
           }
          ],
          "parcoords": [
           {
            "line": {
             "colorbar": {
              "outlinewidth": 0,
              "ticks": ""
             }
            },
            "type": "parcoords"
           }
          ],
          "pie": [
           {
            "automargin": true,
            "type": "pie"
           }
          ],
          "scatter": [
           {
            "fillpattern": {
             "fillmode": "overlay",
             "size": 10,
             "solidity": 0.2
            },
            "type": "scatter"
           }
          ],
          "scatter3d": [
           {
            "line": {
             "colorbar": {
              "outlinewidth": 0,
              "ticks": ""
             }
            },
            "marker": {
             "colorbar": {
              "outlinewidth": 0,
              "ticks": ""
             }
            },
            "type": "scatter3d"
           }
          ],
          "scattercarpet": [
           {
            "marker": {
             "colorbar": {
              "outlinewidth": 0,
              "ticks": ""
             }
            },
            "type": "scattercarpet"
           }
          ],
          "scattergeo": [
           {
            "marker": {
             "colorbar": {
              "outlinewidth": 0,
              "ticks": ""
             }
            },
            "type": "scattergeo"
           }
          ],
          "scattergl": [
           {
            "marker": {
             "colorbar": {
              "outlinewidth": 0,
              "ticks": ""
             }
            },
            "type": "scattergl"
           }
          ],
          "scattermapbox": [
           {
            "marker": {
             "colorbar": {
              "outlinewidth": 0,
              "ticks": ""
             }
            },
            "type": "scattermapbox"
           }
          ],
          "scatterpolar": [
           {
            "marker": {
             "colorbar": {
              "outlinewidth": 0,
              "ticks": ""
             }
            },
            "type": "scatterpolar"
           }
          ],
          "scatterpolargl": [
           {
            "marker": {
             "colorbar": {
              "outlinewidth": 0,
              "ticks": ""
             }
            },
            "type": "scatterpolargl"
           }
          ],
          "scatterternary": [
           {
            "marker": {
             "colorbar": {
              "outlinewidth": 0,
              "ticks": ""
             }
            },
            "type": "scatterternary"
           }
          ],
          "surface": [
           {
            "colorbar": {
             "outlinewidth": 0,
             "ticks": ""
            },
            "colorscale": [
             [
              0,
              "#0d0887"
             ],
             [
              0.1111111111111111,
              "#46039f"
             ],
             [
              0.2222222222222222,
              "#7201a8"
             ],
             [
              0.3333333333333333,
              "#9c179e"
             ],
             [
              0.4444444444444444,
              "#bd3786"
             ],
             [
              0.5555555555555556,
              "#d8576b"
             ],
             [
              0.6666666666666666,
              "#ed7953"
             ],
             [
              0.7777777777777778,
              "#fb9f3a"
             ],
             [
              0.8888888888888888,
              "#fdca26"
             ],
             [
              1,
              "#f0f921"
             ]
            ],
            "type": "surface"
           }
          ],
          "table": [
           {
            "cells": {
             "fill": {
              "color": "#EBF0F8"
             },
             "line": {
              "color": "white"
             }
            },
            "header": {
             "fill": {
              "color": "#C8D4E3"
             },
             "line": {
              "color": "white"
             }
            },
            "type": "table"
           }
          ]
         },
         "layout": {
          "annotationdefaults": {
           "arrowcolor": "#2a3f5f",
           "arrowhead": 0,
           "arrowwidth": 1
          },
          "autotypenumbers": "strict",
          "coloraxis": {
           "colorbar": {
            "outlinewidth": 0,
            "ticks": ""
           }
          },
          "colorscale": {
           "diverging": [
            [
             0,
             "#8e0152"
            ],
            [
             0.1,
             "#c51b7d"
            ],
            [
             0.2,
             "#de77ae"
            ],
            [
             0.3,
             "#f1b6da"
            ],
            [
             0.4,
             "#fde0ef"
            ],
            [
             0.5,
             "#f7f7f7"
            ],
            [
             0.6,
             "#e6f5d0"
            ],
            [
             0.7,
             "#b8e186"
            ],
            [
             0.8,
             "#7fbc41"
            ],
            [
             0.9,
             "#4d9221"
            ],
            [
             1,
             "#276419"
            ]
           ],
           "sequential": [
            [
             0,
             "#0d0887"
            ],
            [
             0.1111111111111111,
             "#46039f"
            ],
            [
             0.2222222222222222,
             "#7201a8"
            ],
            [
             0.3333333333333333,
             "#9c179e"
            ],
            [
             0.4444444444444444,
             "#bd3786"
            ],
            [
             0.5555555555555556,
             "#d8576b"
            ],
            [
             0.6666666666666666,
             "#ed7953"
            ],
            [
             0.7777777777777778,
             "#fb9f3a"
            ],
            [
             0.8888888888888888,
             "#fdca26"
            ],
            [
             1,
             "#f0f921"
            ]
           ],
           "sequentialminus": [
            [
             0,
             "#0d0887"
            ],
            [
             0.1111111111111111,
             "#46039f"
            ],
            [
             0.2222222222222222,
             "#7201a8"
            ],
            [
             0.3333333333333333,
             "#9c179e"
            ],
            [
             0.4444444444444444,
             "#bd3786"
            ],
            [
             0.5555555555555556,
             "#d8576b"
            ],
            [
             0.6666666666666666,
             "#ed7953"
            ],
            [
             0.7777777777777778,
             "#fb9f3a"
            ],
            [
             0.8888888888888888,
             "#fdca26"
            ],
            [
             1,
             "#f0f921"
            ]
           ]
          },
          "colorway": [
           "#636efa",
           "#EF553B",
           "#00cc96",
           "#ab63fa",
           "#FFA15A",
           "#19d3f3",
           "#FF6692",
           "#B6E880",
           "#FF97FF",
           "#FECB52"
          ],
          "font": {
           "color": "#2a3f5f"
          },
          "geo": {
           "bgcolor": "white",
           "lakecolor": "white",
           "landcolor": "#E5ECF6",
           "showlakes": true,
           "showland": true,
           "subunitcolor": "white"
          },
          "hoverlabel": {
           "align": "left"
          },
          "hovermode": "closest",
          "mapbox": {
           "style": "light"
          },
          "paper_bgcolor": "white",
          "plot_bgcolor": "#E5ECF6",
          "polar": {
           "angularaxis": {
            "gridcolor": "white",
            "linecolor": "white",
            "ticks": ""
           },
           "bgcolor": "#E5ECF6",
           "radialaxis": {
            "gridcolor": "white",
            "linecolor": "white",
            "ticks": ""
           }
          },
          "scene": {
           "xaxis": {
            "backgroundcolor": "#E5ECF6",
            "gridcolor": "white",
            "gridwidth": 2,
            "linecolor": "white",
            "showbackground": true,
            "ticks": "",
            "zerolinecolor": "white"
           },
           "yaxis": {
            "backgroundcolor": "#E5ECF6",
            "gridcolor": "white",
            "gridwidth": 2,
            "linecolor": "white",
            "showbackground": true,
            "ticks": "",
            "zerolinecolor": "white"
           },
           "zaxis": {
            "backgroundcolor": "#E5ECF6",
            "gridcolor": "white",
            "gridwidth": 2,
            "linecolor": "white",
            "showbackground": true,
            "ticks": "",
            "zerolinecolor": "white"
           }
          },
          "shapedefaults": {
           "line": {
            "color": "#2a3f5f"
           }
          },
          "ternary": {
           "aaxis": {
            "gridcolor": "white",
            "linecolor": "white",
            "ticks": ""
           },
           "baxis": {
            "gridcolor": "white",
            "linecolor": "white",
            "ticks": ""
           },
           "bgcolor": "#E5ECF6",
           "caxis": {
            "gridcolor": "white",
            "linecolor": "white",
            "ticks": ""
           }
          },
          "title": {
           "x": 0.05
          },
          "xaxis": {
           "automargin": true,
           "gridcolor": "white",
           "linecolor": "white",
           "ticks": "",
           "title": {
            "standoff": 15
           },
           "zerolinecolor": "white",
           "zerolinewidth": 2
          },
          "yaxis": {
           "automargin": true,
           "gridcolor": "white",
           "linecolor": "white",
           "ticks": "",
           "title": {
            "standoff": 15
           },
           "zerolinecolor": "white",
           "zerolinewidth": 2
          }
         }
        },
        "title": {
         "text": "Company performance"
        },
        "xaxis": {
         "anchor": "y",
         "domain": [
          0,
          1
         ],
         "title": {
          "text": "index"
         }
        },
        "yaxis": {
         "anchor": "x",
         "domain": [
          0,
          1
         ],
         "title": {
          "text": "value"
         }
        }
       }
      }
     },
     "metadata": {},
     "output_type": "display_data"
    }
   ],
   "source": [
    "px.line(performance.iloc[:,-7:].mean(),title='Company performance')"
   ]
  },
  {
   "cell_type": "code",
   "execution_count": 20,
   "metadata": {},
   "outputs": [],
   "source": [
    "performance.to_csv('last_update.csv', index=False)"
   ]
  }
 ],
 "metadata": {
  "kernelspec": {
   "display_name": "Python 3.9.7 ('base')",
   "language": "python",
   "name": "python3"
  },
  "language_info": {
   "codemirror_mode": {
    "name": "ipython",
    "version": 3
   },
   "file_extension": ".py",
   "mimetype": "text/x-python",
   "name": "python",
   "nbconvert_exporter": "python",
   "pygments_lexer": "ipython3",
   "version": "3.9.7"
  },
  "orig_nbformat": 4,
  "vscode": {
   "interpreter": {
    "hash": "c39ee6e24b83006eb386f86b08c4fd4839bfb2c807e17caea351eeccecc27516"
   }
  }
 },
 "nbformat": 4,
 "nbformat_minor": 2
}
