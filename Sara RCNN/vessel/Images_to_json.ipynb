{
 "cells": [
  {
   "cell_type": "code",
   "execution_count": 1,
   "metadata": {},
   "outputs": [],
   "source": [
    "import json\n",
    "import base64\n",
    "import numpy as np\n",
    "from PIL import Image\n",
    "import os\n",
    "\n",
    "data = {}\n",
    "\n",
    "for filename in os.listdir('images'):\n",
    "\n",
    "    # Load image and convert to matrix\n",
    "    img = Image.open(f'images\\{filename}')\n",
    "    img_matrix = np.array(img)\n",
    "\n",
    "    # Encode matrix as base64 string\n",
    "    img_data = base64.b64encode(img_matrix).decode('utf-8')\n",
    "\n",
    "    # Create JSON object and add metadata and image data\n",
    "    data[filename] = img_data\n",
    "\n",
    "# Save JSON object to file\n",
    "with open('images.json', 'w') as f:\n",
    "    json.dump(data, f)"
   ]
  },
  {
   "attachments": {},
   "cell_type": "markdown",
   "metadata": {},
   "source": [
    "This code loads all image files in the 'images' directory, encodes them as base64 strings, and creates a JSON object containing the metadata and image data for each file. Specifically, the code does the following:\n",
    "\n",
    "1. Initializes an empty dictionary `data`.\n",
    "2. Loops over all files in the 'images' directory using `os.listdir()`.\n",
    "3. For each file, it loads the image using `PIL.Image.open()`, converts the image to a numpy matrix using `np.array()`, and encodes the matrix as a base64 string using `base64.b64encode()`.\n",
    "4. It then adds the filename and image data to the `data` dictionary.\n",
    "5. Finally, it saves the `data` dictionary to a JSON file 'images.json' using `json.dump()`.\n",
    "\n",
    "The resulting 'images.json' file contains a dictionary of image filenames as keys and base64-encoded image data as values. This format allows the image data to be easily stored and transmitted as a JSON object, which can be decoded back into an image matrix using the `base64` and `numpy` modules."
   ]
  }
 ],
 "metadata": {
  "kernelspec": {
   "display_name": "Python 3",
   "language": "python",
   "name": "python3"
  },
  "language_info": {
   "codemirror_mode": {
    "name": "ipython",
    "version": 3
   },
   "file_extension": ".py",
   "mimetype": "text/x-python",
   "name": "python",
   "nbconvert_exporter": "python",
   "pygments_lexer": "ipython3",
   "version": "3.9.4"
  },
  "orig_nbformat": 4
 },
 "nbformat": 4,
 "nbformat_minor": 2
}
