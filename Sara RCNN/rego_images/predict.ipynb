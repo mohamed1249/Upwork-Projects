{
 "cells": [
  {
   "attachments": {},
   "cell_type": "markdown",
   "metadata": {},
   "source": [
    "Model 1: microsoft/trocr-base-printed"
   ]
  },
  {
   "cell_type": "code",
   "execution_count": null,
   "metadata": {},
   "outputs": [],
   "source": [
    "import os\n",
    "from transformers import TrOCRProcessor, VisionEncoderDecoderModel\n",
    "from PIL import Image\n",
    "import pandas as pd\n",
    "\n",
    "# Initialize empty lists to store images and predicted labels\n",
    "images = []\n",
    "pred_labels = []\n",
    "\n",
    "# Path to the data directory\n",
    "data_path = r'data'\n",
    "\n",
    "# Load the TrOCR processor and VisionEncoderDecoderModel from pretrained models\n",
    "processor = TrOCRProcessor.from_pretrained(\"microsoft/trocr-base-printed\")\n",
    "model = VisionEncoderDecoderModel.from_pretrained(\"microsoft/trocr-base-printed\")\n",
    "\n",
    "# Loop through each image in the data directory\n",
    "for img in os.listdir(data_path):\n",
    "    \n",
    "    # Append the image filename to the images list\n",
    "    images.append(img)\n",
    "\n",
    "    # Open the image file, convert it to RGB format\n",
    "    image = Image.open(os.path.join(data_path,img)).convert(\"RGB\")\n",
    "\n",
    "    # Get the pixel values of the image using the TrOCR processor\n",
    "    pixel_values = processor(image, return_tensors=\"pt\").pixel_values\n",
    "\n",
    "    # Generate text from the pixel values using the VisionEncoderDecoderModel\n",
    "    generated_ids = model.generate(pixel_values)\n",
    "\n",
    "    # Decode the generated IDs into text, skipping special tokens\n",
    "    generated_text = processor.batch_decode(generated_ids, skip_special_tokens=True)[0]\n",
    "\n",
    "    # Append the generated text to the predicted labels list\n",
    "    pred_labels.append(generated_text)\n",
    "\n",
    "    # Print a dash to indicate progress (optional)\n",
    "    print('-', end='')\n",
    "\n",
    "# Create a DataFrame to store the images and predicted labels\n",
    "df = pd.DataFrame({'images': images, 'predicted label': pred_labels})\n",
    "\n",
    "# Display the first few rows of the DataFrame\n",
    "df.head()\n"
   ]
  },
  {
   "cell_type": "code",
   "execution_count": null,
   "metadata": {},
   "outputs": [],
   "source": [
    "df.to_csv('predictionmp.csv', index=False)"
   ]
  },
  {
   "cell_type": "code",
   "execution_count": 32,
   "metadata": {},
   "outputs": [],
   "source": [
    "def get_ready_data(real, pred):\n",
    "    # Convert the 'real' and 'pred' arrays to string type and lowercase all the elements\n",
    "    real = real.astype(str).str.lower()\n",
    "    pred = pred.astype(str).str.lower()\n",
    "\n",
    "    # Create empty lists to store the output data\n",
    "    out_real = []\n",
    "    out_pred = []\n",
    "\n",
    "    # Iterate over pairs of elements from 'real' and 'pred' arrays\n",
    "    for rl, prd in zip(real, pred):\n",
    "        # Find the minimum length between the current 'rl' and 'prd' elements\n",
    "        limit = min([len(rl), len(prd)])\n",
    "\n",
    "        # Iterate from 0 to the minimum length\n",
    "        for i in range(limit):\n",
    "            # Append the i-th character from 'rl' and 'prd' to the respective output lists\n",
    "            out_real.append(rl[i])\n",
    "            out_pred.append(prd[i])\n",
    "\n",
    "    # Return the output lists containing the processed data\n",
    "    return out_real, out_pred\n"
   ]
  },
  {
   "cell_type": "code",
   "execution_count": 33,
   "metadata": {},
   "outputs": [
    {
     "data": {
      "text/html": [
       "<div>\n",
       "<style scoped>\n",
       "    .dataframe tbody tr th:only-of-type {\n",
       "        vertical-align: middle;\n",
       "    }\n",
       "\n",
       "    .dataframe tbody tr th {\n",
       "        vertical-align: top;\n",
       "    }\n",
       "\n",
       "    .dataframe thead th {\n",
       "        text-align: right;\n",
       "    }\n",
       "</style>\n",
       "<table border=\"1\" class=\"dataframe\">\n",
       "  <thead>\n",
       "    <tr style=\"text-align: right;\">\n",
       "      <th></th>\n",
       "      <th>images</th>\n",
       "      <th>real label</th>\n",
       "      <th>predicted label</th>\n",
       "    </tr>\n",
       "  </thead>\n",
       "  <tbody>\n",
       "    <tr>\n",
       "      <th>0</th>\n",
       "      <td>20230403_094217-6172f02f-75df-4e7c-b1dd-90271d...</td>\n",
       "      <td>QT869</td>\n",
       "      <td>QTYES</td>\n",
       "    </tr>\n",
       "    <tr>\n",
       "      <th>1</th>\n",
       "      <td>20230403_094217-96b2f11d-9f00-434c-a838-1fda41...</td>\n",
       "      <td>QT869</td>\n",
       "      <td>QTYES</td>\n",
       "    </tr>\n",
       "    <tr>\n",
       "      <th>2</th>\n",
       "      <td>20230403_094217-a33648aa-fda3-40e9-bdf1-f0015b...</td>\n",
       "      <td>QT869</td>\n",
       "      <td>QTYES</td>\n",
       "    </tr>\n",
       "    <tr>\n",
       "      <th>3</th>\n",
       "      <td>20230403_094217-ae807121-7d6a-43b2-8193-7e827b...</td>\n",
       "      <td>QT869</td>\n",
       "      <td>QTYED</td>\n",
       "    </tr>\n",
       "    <tr>\n",
       "      <th>4</th>\n",
       "      <td>20230403_094217-bbb7f34d-860e-4d1a-aa1d-ac1e06...</td>\n",
       "      <td>QT869</td>\n",
       "      <td>QT@6%</td>\n",
       "    </tr>\n",
       "  </tbody>\n",
       "</table>\n",
       "</div>"
      ],
      "text/plain": [
       "                                              images real label   \n",
       "0  20230403_094217-6172f02f-75df-4e7c-b1dd-90271d...      QT869  \\\n",
       "1  20230403_094217-96b2f11d-9f00-434c-a838-1fda41...      QT869   \n",
       "2  20230403_094217-a33648aa-fda3-40e9-bdf1-f0015b...      QT869   \n",
       "3  20230403_094217-ae807121-7d6a-43b2-8193-7e827b...      QT869   \n",
       "4  20230403_094217-bbb7f34d-860e-4d1a-aa1d-ac1e06...      QT869   \n",
       "\n",
       "  predicted label  \n",
       "0           QTYES  \n",
       "1           QTYES  \n",
       "2           QTYES  \n",
       "3           QTYED  \n",
       "4           QT@6%  "
      ]
     },
     "execution_count": 33,
     "metadata": {},
     "output_type": "execute_result"
    }
   ],
   "source": [
    "datamp = pd.read_excel('predictionmp.xlsx')\n",
    "datamp.head()"
   ]
  },
  {
   "cell_type": "code",
   "execution_count": 34,
   "metadata": {},
   "outputs": [],
   "source": [
    "rlmp, prdmp = get_ready_data(datamp['real label'],datamp['predicted label'])"
   ]
  },
  {
   "cell_type": "code",
   "execution_count": 35,
   "metadata": {},
   "outputs": [
    {
     "data": {
      "text/plain": [
       "0.6751237623762376"
      ]
     },
     "execution_count": 35,
     "metadata": {},
     "output_type": "execute_result"
    }
   ],
   "source": [
    "from sklearn.metrics import accuracy_score, recall_score, precision_score\n",
    "\n",
    "accuracy_score(rlmp, prdmp)"
   ]
  },
  {
   "cell_type": "code",
   "execution_count": 36,
   "metadata": {},
   "outputs": [
    {
     "name": "stderr",
     "output_type": "stream",
     "text": [
      "c:\\Users\\LAPTOP WORLD\\AppData\\Local\\Programs\\Python\\Python39\\lib\\site-packages\\sklearn\\metrics\\_classification.py:1344: UndefinedMetricWarning: Recall is ill-defined and being set to 0.0 in labels with no true samples. Use `zero_division` parameter to control this behavior.\n",
      "  _warn_prf(average, modifier, msg_start, len(result))\n"
     ]
    },
    {
     "data": {
      "text/plain": [
       "0.6165237739743213"
      ]
     },
     "execution_count": 36,
     "metadata": {},
     "output_type": "execute_result"
    }
   ],
   "source": [
    "recall_score(rlmp, prdmp, average='macro')"
   ]
  },
  {
   "cell_type": "code",
   "execution_count": 37,
   "metadata": {},
   "outputs": [
    {
     "data": {
      "text/plain": [
       "0.5741521685721933"
      ]
     },
     "execution_count": 37,
     "metadata": {},
     "output_type": "execute_result"
    }
   ],
   "source": [
    "precision_score(rlmp, prdmp, average='macro')"
   ]
  },
  {
   "cell_type": "code",
   "execution_count": null,
   "metadata": {},
   "outputs": [],
   "source": []
  },
  {
   "cell_type": "code",
   "execution_count": null,
   "metadata": {},
   "outputs": [],
   "source": []
  },
  {
   "cell_type": "code",
   "execution_count": null,
   "metadata": {},
   "outputs": [],
   "source": []
  },
  {
   "cell_type": "markdown",
   "metadata": {},
   "source": [
    "model 2: microsoft/trocr-base-handwritten"
   ]
  },
  {
   "cell_type": "code",
   "execution_count": 1,
   "metadata": {},
   "outputs": [
    {
     "name": "stderr",
     "output_type": "stream",
     "text": [
      "Could not find image processor class in the image processor config or the model config. Loading based on pattern matching with the model's feature extractor configuration.\n",
      "Some weights of VisionEncoderDecoderModel were not initialized from the model checkpoint at microsoft/trocr-base-handwritten and are newly initialized: ['encoder.pooler.dense.bias', 'encoder.pooler.dense.weight']\n",
      "You should probably TRAIN this model on a down-stream task to be able to use it for predictions and inference.\n",
      "c:\\Users\\LAPTOP WORLD\\AppData\\Local\\Programs\\Python\\Python39\\lib\\site-packages\\transformers\\generation\\utils.py:1346: UserWarning: Using `max_length`'s default (20) to control the generation length. This behaviour is deprecated and will be removed from the config in v5 of Transformers -- we recommend using `max_new_tokens` to control the maximum length of the generation.\n",
      "  warnings.warn(\n"
     ]
    },
    {
     "name": "stdout",
     "output_type": "stream",
     "text": [
      "---------------------------------------------------------------------------------------------------------------------------------------------------------------------------------------------------------------------------------------------------------------------------------------------------------------------------------------------------------------------------------------------------------------------------------------------------------------------------------------------------------------------------------------------------------------------------------------------------------------------------------------------------------------------------------------------------------------------------------------------------------------------------------------------------------------------------------------------------------------------------------------------------------------------------------------------------------------------------------------------------------------------------------------"
     ]
    },
    {
     "data": {
      "text/html": [
       "<div>\n",
       "<style scoped>\n",
       "    .dataframe tbody tr th:only-of-type {\n",
       "        vertical-align: middle;\n",
       "    }\n",
       "\n",
       "    .dataframe tbody tr th {\n",
       "        vertical-align: top;\n",
       "    }\n",
       "\n",
       "    .dataframe thead th {\n",
       "        text-align: right;\n",
       "    }\n",
       "</style>\n",
       "<table border=\"1\" class=\"dataframe\">\n",
       "  <thead>\n",
       "    <tr style=\"text-align: right;\">\n",
       "      <th></th>\n",
       "      <th>images</th>\n",
       "      <th>predicted label</th>\n",
       "    </tr>\n",
       "  </thead>\n",
       "  <tbody>\n",
       "    <tr>\n",
       "      <th>0</th>\n",
       "      <td>data - 20230403_094217-6172f02f-75df-4e7c-b1dd...</td>\n",
       "      <td>turners.</td>\n",
       "    </tr>\n",
       "    <tr>\n",
       "      <th>1</th>\n",
       "      <td>data - 20230403_094217-96b2f11d-9f00-434c-a838...</td>\n",
       "      <td>votes.</td>\n",
       "    </tr>\n",
       "    <tr>\n",
       "      <th>2</th>\n",
       "      <td>data - 20230403_094217-a33648aa-fda3-40e9-bdf1...</td>\n",
       "      <td>tombers.</td>\n",
       "    </tr>\n",
       "    <tr>\n",
       "      <th>3</th>\n",
       "      <td>data - 20230403_094217-ae807121-7d6a-43b2-8193...</td>\n",
       "      <td>to raise</td>\n",
       "    </tr>\n",
       "    <tr>\n",
       "      <th>4</th>\n",
       "      <td>data - 20230403_094217-bbb7f34d-860e-4d1a-aa1d...</td>\n",
       "      <td>outcome</td>\n",
       "    </tr>\n",
       "  </tbody>\n",
       "</table>\n",
       "</div>"
      ],
      "text/plain": [
       "                                              images predicted label\n",
       "0  data - 20230403_094217-6172f02f-75df-4e7c-b1dd...        turners.\n",
       "1  data - 20230403_094217-96b2f11d-9f00-434c-a838...          votes.\n",
       "2  data - 20230403_094217-a33648aa-fda3-40e9-bdf1...        tombers.\n",
       "3  data - 20230403_094217-ae807121-7d6a-43b2-8193...        to raise\n",
       "4  data - 20230403_094217-bbb7f34d-860e-4d1a-aa1d...         outcome"
      ]
     },
     "execution_count": 1,
     "metadata": {},
     "output_type": "execute_result"
    }
   ],
   "source": [
    "import os\n",
    "from transformers import TrOCRProcessor, VisionEncoderDecoderModel\n",
    "from PIL import Image\n",
    "import pandas as pd\n",
    "\n",
    "images = []  # List to store image filenames\n",
    "pred_labels = []  # List to store predicted labels\n",
    "data_path = r'data'  # Path to the directory containing images\n",
    "\n",
    "# Initializing the TrOCRProcessor with the pretrained model\n",
    "processor = TrOCRProcessor.from_pretrained(\"microsoft/trocr-base-handwritten\")\n",
    "\n",
    "# Initializing the VisionEncoderDecoderModel with the pretrained model\n",
    "model = VisionEncoderDecoderModel.from_pretrained(\"microsoft/trocr-base-handwritten\")\n",
    "\n",
    "# Iterate through each image file in the data directory\n",
    "for img in os.listdir(data_path):\n",
    "    images.append(img)  # Store the filename in the images list\n",
    "\n",
    "    # Open the image, convert it to RGB format\n",
    "    image = Image.open(os.path.join(data_path,img)).convert(\"RGB\")\n",
    "\n",
    "    # Extract pixel values from the image using the TrOCRProcessor\n",
    "    pixel_values = processor(image, return_tensors=\"pt\").pixel_values\n",
    "\n",
    "    # Generate text predictions using the VisionEncoderDecoderModel\n",
    "    generated_ids = model.generate(pixel_values)\n",
    "\n",
    "    # Decode the generated text predictions and remove special tokens\n",
    "    generated_text = processor.batch_decode(generated_ids, skip_special_tokens=True)[0]\n",
    "\n",
    "    pred_labels.append(generated_text)  # Store the predicted label in the pred_labels list\n",
    "\n",
    "    print('-',end='')  # Print a '-' to indicate progress\n",
    "\n",
    "# Create a DataFrame to store the images and their predicted labels\n",
    "df = pd.DataFrame({'images': images, 'predicted label': pred_labels})\n",
    "df.head()  # Display the first few rows of the DataFrame\n"
   ]
  },
  {
   "cell_type": "code",
   "execution_count": 2,
   "metadata": {},
   "outputs": [],
   "source": [
    "df.to_csv('predictionmh.csv', index=False)"
   ]
  },
  {
   "cell_type": "code",
   "execution_count": 40,
   "metadata": {},
   "outputs": [],
   "source": [
    "# Read the CSV file 'predictionmh.csv' and store it in the 'datamh' DataFrame\n",
    "datamh = pd.read_csv('predictionmh.csv')\n",
    "\n",
    "# Remove the string 'data - ' from the 'images' column in the 'datamh' DataFrame\n",
    "datamh.images = datamh.images.str.replace('data - ','')\n",
    "\n",
    "# Filter the 'datamh' DataFrame to keep only the rows where the 'images' column values are present in the 'datamp.images' column\n",
    "datamh = datamh[datamh.images.isin(datamp.images)].reset_index().iloc[:,1:]\n",
    "\n",
    "# Add a new column named 'real label' to the 'datamh' DataFrame and assign the values from the 'real label' column of 'datamp'\n",
    "datamh['real label'] = datamp['real label']"
   ]
  },
  {
   "cell_type": "code",
   "execution_count": 41,
   "metadata": {},
   "outputs": [
    {
     "data": {
      "text/html": [
       "<div>\n",
       "<style scoped>\n",
       "    .dataframe tbody tr th:only-of-type {\n",
       "        vertical-align: middle;\n",
       "    }\n",
       "\n",
       "    .dataframe tbody tr th {\n",
       "        vertical-align: top;\n",
       "    }\n",
       "\n",
       "    .dataframe thead th {\n",
       "        text-align: right;\n",
       "    }\n",
       "</style>\n",
       "<table border=\"1\" class=\"dataframe\">\n",
       "  <thead>\n",
       "    <tr style=\"text-align: right;\">\n",
       "      <th></th>\n",
       "      <th>images</th>\n",
       "      <th>predicted label</th>\n",
       "      <th>real label</th>\n",
       "    </tr>\n",
       "  </thead>\n",
       "  <tbody>\n",
       "    <tr>\n",
       "      <th>0</th>\n",
       "      <td>20230403_094217-6172f02f-75df-4e7c-b1dd-90271d...</td>\n",
       "      <td>turners.</td>\n",
       "      <td>QT869</td>\n",
       "    </tr>\n",
       "    <tr>\n",
       "      <th>1</th>\n",
       "      <td>20230403_094217-96b2f11d-9f00-434c-a838-1fda41...</td>\n",
       "      <td>votes.</td>\n",
       "      <td>QT869</td>\n",
       "    </tr>\n",
       "    <tr>\n",
       "      <th>2</th>\n",
       "      <td>20230403_094217-a33648aa-fda3-40e9-bdf1-f0015b...</td>\n",
       "      <td>tombers.</td>\n",
       "      <td>QT869</td>\n",
       "    </tr>\n",
       "    <tr>\n",
       "      <th>3</th>\n",
       "      <td>20230403_094217-ae807121-7d6a-43b2-8193-7e827b...</td>\n",
       "      <td>to raise</td>\n",
       "      <td>QT869</td>\n",
       "    </tr>\n",
       "    <tr>\n",
       "      <th>4</th>\n",
       "      <td>20230403_094217-bbb7f34d-860e-4d1a-aa1d-ac1e06...</td>\n",
       "      <td>outcome</td>\n",
       "      <td>QT869</td>\n",
       "    </tr>\n",
       "    <tr>\n",
       "      <th>...</th>\n",
       "      <td>...</td>\n",
       "      <td>...</td>\n",
       "      <td>...</td>\n",
       "    </tr>\n",
       "    <tr>\n",
       "      <th>346</th>\n",
       "      <td>PTZ_motion_20230324_105255-VW873-e97d6fab-59ca...</td>\n",
       "      <td>vways</td>\n",
       "      <td>VW873</td>\n",
       "    </tr>\n",
       "    <tr>\n",
       "      <th>347</th>\n",
       "      <td>PTZ_motion_20230325_161738-33174aff-2fe4-4677-...</td>\n",
       "      <td>treaties.</td>\n",
       "      <td>VW873</td>\n",
       "    </tr>\n",
       "    <tr>\n",
       "      <th>348</th>\n",
       "      <td>PTZ_motion_20230325_161738-bd7c2bc4-29ea-421b-...</td>\n",
       "      <td>terrettation</td>\n",
       "      <td>XR417</td>\n",
       "    </tr>\n",
       "    <tr>\n",
       "      <th>349</th>\n",
       "      <td>PTZ_motion_20230325_161738-f139c26c-9e09-4b98-...</td>\n",
       "      <td>extempt</td>\n",
       "      <td>XR417</td>\n",
       "    </tr>\n",
       "    <tr>\n",
       "      <th>350</th>\n",
       "      <td>PTZ_motion_20230325_161738-f927e634-bfb5-4c9b-...</td>\n",
       "      <td>terrettants</td>\n",
       "      <td>XR417</td>\n",
       "    </tr>\n",
       "  </tbody>\n",
       "</table>\n",
       "<p>351 rows × 3 columns</p>\n",
       "</div>"
      ],
      "text/plain": [
       "                                                images predicted label   \n",
       "0    20230403_094217-6172f02f-75df-4e7c-b1dd-90271d...        turners.  \\\n",
       "1    20230403_094217-96b2f11d-9f00-434c-a838-1fda41...          votes.   \n",
       "2    20230403_094217-a33648aa-fda3-40e9-bdf1-f0015b...        tombers.   \n",
       "3    20230403_094217-ae807121-7d6a-43b2-8193-7e827b...        to raise   \n",
       "4    20230403_094217-bbb7f34d-860e-4d1a-aa1d-ac1e06...         outcome   \n",
       "..                                                 ...             ...   \n",
       "346  PTZ_motion_20230324_105255-VW873-e97d6fab-59ca...           vways   \n",
       "347  PTZ_motion_20230325_161738-33174aff-2fe4-4677-...       treaties.   \n",
       "348  PTZ_motion_20230325_161738-bd7c2bc4-29ea-421b-...    terrettation   \n",
       "349  PTZ_motion_20230325_161738-f139c26c-9e09-4b98-...         extempt   \n",
       "350  PTZ_motion_20230325_161738-f927e634-bfb5-4c9b-...     terrettants   \n",
       "\n",
       "    real label  \n",
       "0        QT869  \n",
       "1        QT869  \n",
       "2        QT869  \n",
       "3        QT869  \n",
       "4        QT869  \n",
       "..         ...  \n",
       "346      VW873  \n",
       "347      VW873  \n",
       "348      XR417  \n",
       "349      XR417  \n",
       "350      XR417  \n",
       "\n",
       "[351 rows x 3 columns]"
      ]
     },
     "execution_count": 41,
     "metadata": {},
     "output_type": "execute_result"
    }
   ],
   "source": [
    "datamh"
   ]
  },
  {
   "cell_type": "code",
   "execution_count": 42,
   "metadata": {},
   "outputs": [],
   "source": [
    "rlmh, prdmh = get_ready_data(datamh['real label'],datamh['predicted label'])"
   ]
  },
  {
   "cell_type": "code",
   "execution_count": 43,
   "metadata": {},
   "outputs": [
    {
     "data": {
      "text/plain": [
       "0.12086513994910941"
      ]
     },
     "execution_count": 43,
     "metadata": {},
     "output_type": "execute_result"
    }
   ],
   "source": [
    "from sklearn.metrics import accuracy_score, recall_score, precision_score\n",
    "\n",
    "accuracy_score(rlmh, prdmh)"
   ]
  },
  {
   "cell_type": "code",
   "execution_count": 44,
   "metadata": {},
   "outputs": [
    {
     "name": "stderr",
     "output_type": "stream",
     "text": [
      "c:\\Users\\LAPTOP WORLD\\AppData\\Local\\Programs\\Python\\Python39\\lib\\site-packages\\sklearn\\metrics\\_classification.py:1344: UndefinedMetricWarning: Recall is ill-defined and being set to 0.0 in labels with no true samples. Use `zero_division` parameter to control this behavior.\n",
      "  _warn_prf(average, modifier, msg_start, len(result))\n"
     ]
    },
    {
     "data": {
      "text/plain": [
       "0.13884082844883108"
      ]
     },
     "execution_count": 44,
     "metadata": {},
     "output_type": "execute_result"
    }
   ],
   "source": [
    "recall_score(rlmh, prdmh, average='macro')"
   ]
  },
  {
   "cell_type": "code",
   "execution_count": 45,
   "metadata": {},
   "outputs": [
    {
     "data": {
      "text/plain": [
       "0.18308674069258019"
      ]
     },
     "execution_count": 45,
     "metadata": {},
     "output_type": "execute_result"
    }
   ],
   "source": [
    "precision_score(rlmh, prdmh, average='macro')"
   ]
  },
  {
   "cell_type": "code",
   "execution_count": 53,
   "metadata": {},
   "outputs": [],
   "source": [
    "datamh.to_csv('predictionmh.csv', index=False)"
   ]
  },
  {
   "cell_type": "code",
   "execution_count": null,
   "metadata": {},
   "outputs": [],
   "source": []
  },
  {
   "attachments": {},
   "cell_type": "markdown",
   "metadata": {},
   "source": [
    "model 3: pytesseract"
   ]
  },
  {
   "cell_type": "code",
   "execution_count": 5,
   "metadata": {},
   "outputs": [
    {
     "name": "stdout",
     "output_type": "stream",
     "text": [
      "---------------------------------------------------------------------------------------------------------------------------------------------------------------------------------------------------------------------------------------------------------------------------------------------------------------------------------------------------------------------------------------------------------------------------------------------------------------------------------------------------------------------------------------------------------------------------------------------------------------------------------------------------------------------------------------------------------------------------------------------------------------------------------------------------------------------------------------------------------------------------------------------------------------------------------------------------------------------------------------------------------------------------------------"
     ]
    }
   ],
   "source": [
    "import cv2\n",
    "import pytesseract\n",
    "import os\n",
    "import pandas as pd\n",
    "\n",
    "# Create empty lists to store image names and predicted labels\n",
    "images = []\n",
    "pred_labels = []\n",
    "\n",
    "# Path to the data directory\n",
    "data_path = r'dataS'\n",
    "\n",
    "# Set the Tesseract OCR executable path\n",
    "pytesseract.pytesseract.tesseract_cmd = r\"C:\\Program Files\\Tesseract-OCR\\tesseract.exe\"\n",
    "\n",
    "# Iterate through the files in the data directory\n",
    "for img in os.listdir(data_path):\n",
    "    # Add the image name to the list\n",
    "    images.append(img)\n",
    "\n",
    "    # Read the image using OpenCV\n",
    "    img = cv2.imread(os.path.join(data_path, img))\n",
    "\n",
    "    # Configure Tesseract OCR with custom options\n",
    "    custom_config = r'--oem 3 --psm 6'\n",
    "\n",
    "    # Perform OCR on the image and extract the predicted text\n",
    "    pred_labels.append(pytesseract.image_to_string(img, config=custom_config).replace('\\n', ''))\n",
    "\n",
    "    # Print a '-' to indicate progress\n",
    "    print('-', end='')\n",
    "\n",
    "# Create a DataFrame to store the image names and predicted labels\n",
    "df = pd.DataFrame({'images': images, 'predicted label': pred_labels})\n",
    "\n",
    "# Display the first few rows of the DataFrame\n",
    "df.head()\n",
    "\n",
    "# Save the DataFrame to a CSV file named 'predictionSS.csv' without the index column\n",
    "df.to_csv('predictionSS.csv', index=False)\n"
   ]
  },
  {
   "cell_type": "code",
   "execution_count": 6,
   "metadata": {},
   "outputs": [],
   "source": [
    "df.to_csv('predictionpt.csv', index=False)"
   ]
  },
  {
   "cell_type": "code",
   "execution_count": 46,
   "metadata": {},
   "outputs": [],
   "source": [
    "datapt = pd.read_csv('predictionpt.csv')\n",
    "datapt.images = datapt.images.str.replace('data - ','')\n",
    "datapt = datapt[datapt.images.isin(datamp.images)].reset_index().iloc[:,1:]\n",
    "datapt['real label'] = datamp['real label']"
   ]
  },
  {
   "cell_type": "code",
   "execution_count": 47,
   "metadata": {},
   "outputs": [
    {
     "data": {
      "text/html": [
       "<div>\n",
       "<style scoped>\n",
       "    .dataframe tbody tr th:only-of-type {\n",
       "        vertical-align: middle;\n",
       "    }\n",
       "\n",
       "    .dataframe tbody tr th {\n",
       "        vertical-align: top;\n",
       "    }\n",
       "\n",
       "    .dataframe thead th {\n",
       "        text-align: right;\n",
       "    }\n",
       "</style>\n",
       "<table border=\"1\" class=\"dataframe\">\n",
       "  <thead>\n",
       "    <tr style=\"text-align: right;\">\n",
       "      <th></th>\n",
       "      <th>images</th>\n",
       "      <th>predicted label</th>\n",
       "      <th>real label</th>\n",
       "    </tr>\n",
       "  </thead>\n",
       "  <tbody>\n",
       "    <tr>\n",
       "      <th>0</th>\n",
       "      <td>20230403_094217-6172f02f-75df-4e7c-b1dd-90271d...</td>\n",
       "      <td>GTe6s-</td>\n",
       "      <td>QT869</td>\n",
       "    </tr>\n",
       "    <tr>\n",
       "      <th>1</th>\n",
       "      <td>20230403_094217-96b2f11d-9f00-434c-a838-1fda41...</td>\n",
       "      <td>WW 8o5</td>\n",
       "      <td>QT869</td>\n",
       "    </tr>\n",
       "    <tr>\n",
       "      <th>2</th>\n",
       "      <td>20230403_094217-a33648aa-fda3-40e9-bdf1-f0015b...</td>\n",
       "      <td>GTéEZ</td>\n",
       "      <td>QT869</td>\n",
       "    </tr>\n",
       "    <tr>\n",
       "      <th>3</th>\n",
       "      <td>20230403_094217-ae807121-7d6a-43b2-8193-7e827b...</td>\n",
       "      <td>Gia63</td>\n",
       "      <td>QT869</td>\n",
       "    </tr>\n",
       "    <tr>\n",
       "      <th>4</th>\n",
       "      <td>20230403_094217-bbb7f34d-860e-4d1a-aa1d-ac1e06...</td>\n",
       "      <td>Qi a6ez_</td>\n",
       "      <td>QT869</td>\n",
       "    </tr>\n",
       "    <tr>\n",
       "      <th>...</th>\n",
       "      <td>...</td>\n",
       "      <td>...</td>\n",
       "      <td>...</td>\n",
       "    </tr>\n",
       "    <tr>\n",
       "      <th>205</th>\n",
       "      <td>20230513_145820-ef4b4b7e-6c42-4cf1-8253-0a1fe5...</td>\n",
       "      <td>NaN</td>\n",
       "      <td>KX608</td>\n",
       "    </tr>\n",
       "    <tr>\n",
       "      <th>206</th>\n",
       "      <td>PTZ_motion_20230325_161738-33174aff-2fe4-4677-...</td>\n",
       "      <td>NaN</td>\n",
       "      <td>KX608</td>\n",
       "    </tr>\n",
       "    <tr>\n",
       "      <th>207</th>\n",
       "      <td>PTZ_motion_20230325_161738-bd7c2bc4-29ea-421b-...</td>\n",
       "      <td>ARGAT</td>\n",
       "      <td>UD768</td>\n",
       "    </tr>\n",
       "    <tr>\n",
       "      <th>208</th>\n",
       "      <td>PTZ_motion_20230325_161738-f139c26c-9e09-4b98-...</td>\n",
       "      <td>NaN</td>\n",
       "      <td>UD768</td>\n",
       "    </tr>\n",
       "    <tr>\n",
       "      <th>209</th>\n",
       "      <td>PTZ_motion_20230325_161738-f927e634-bfb5-4c9b-...</td>\n",
       "      <td>NaN</td>\n",
       "      <td>UD768</td>\n",
       "    </tr>\n",
       "  </tbody>\n",
       "</table>\n",
       "<p>210 rows × 3 columns</p>\n",
       "</div>"
      ],
      "text/plain": [
       "                                                images predicted label   \n",
       "0    20230403_094217-6172f02f-75df-4e7c-b1dd-90271d...          GTe6s-  \\\n",
       "1    20230403_094217-96b2f11d-9f00-434c-a838-1fda41...          WW 8o5   \n",
       "2    20230403_094217-a33648aa-fda3-40e9-bdf1-f0015b...           GTéEZ   \n",
       "3    20230403_094217-ae807121-7d6a-43b2-8193-7e827b...           Gia63   \n",
       "4    20230403_094217-bbb7f34d-860e-4d1a-aa1d-ac1e06...        Qi a6ez_   \n",
       "..                                                 ...             ...   \n",
       "205  20230513_145820-ef4b4b7e-6c42-4cf1-8253-0a1fe5...             NaN   \n",
       "206  PTZ_motion_20230325_161738-33174aff-2fe4-4677-...             NaN   \n",
       "207  PTZ_motion_20230325_161738-bd7c2bc4-29ea-421b-...           ARGAT   \n",
       "208  PTZ_motion_20230325_161738-f139c26c-9e09-4b98-...             NaN   \n",
       "209  PTZ_motion_20230325_161738-f927e634-bfb5-4c9b-...             NaN   \n",
       "\n",
       "    real label  \n",
       "0        QT869  \n",
       "1        QT869  \n",
       "2        QT869  \n",
       "3        QT869  \n",
       "4        QT869  \n",
       "..         ...  \n",
       "205      KX608  \n",
       "206      KX608  \n",
       "207      UD768  \n",
       "208      UD768  \n",
       "209      UD768  \n",
       "\n",
       "[210 rows x 3 columns]"
      ]
     },
     "execution_count": 47,
     "metadata": {},
     "output_type": "execute_result"
    }
   ],
   "source": [
    "datapt"
   ]
  },
  {
   "cell_type": "code",
   "execution_count": 48,
   "metadata": {},
   "outputs": [],
   "source": [
    "rlpt, prdpt = get_ready_data(datapt['real label'],datapt['predicted label'])"
   ]
  },
  {
   "cell_type": "code",
   "execution_count": 49,
   "metadata": {},
   "outputs": [
    {
     "data": {
      "text/plain": [
       "0.15022935779816513"
      ]
     },
     "execution_count": 49,
     "metadata": {},
     "output_type": "execute_result"
    }
   ],
   "source": [
    "from sklearn.metrics import accuracy_score, recall_score, precision_score\n",
    "\n",
    "accuracy_score(rlpt, prdpt)"
   ]
  },
  {
   "cell_type": "code",
   "execution_count": 50,
   "metadata": {},
   "outputs": [
    {
     "name": "stderr",
     "output_type": "stream",
     "text": [
      "c:\\Users\\LAPTOP WORLD\\AppData\\Local\\Programs\\Python\\Python39\\lib\\site-packages\\sklearn\\metrics\\_classification.py:1344: UndefinedMetricWarning: Recall is ill-defined and being set to 0.0 in labels with no true samples. Use `zero_division` parameter to control this behavior.\n",
      "  _warn_prf(average, modifier, msg_start, len(result))\n"
     ]
    },
    {
     "data": {
      "text/plain": [
       "0.10481263360115774"
      ]
     },
     "execution_count": 50,
     "metadata": {},
     "output_type": "execute_result"
    }
   ],
   "source": [
    "recall_score(rlpt, prdpt, average='macro')"
   ]
  },
  {
   "cell_type": "code",
   "execution_count": 51,
   "metadata": {},
   "outputs": [
    {
     "name": "stderr",
     "output_type": "stream",
     "text": [
      "c:\\Users\\LAPTOP WORLD\\AppData\\Local\\Programs\\Python\\Python39\\lib\\site-packages\\sklearn\\metrics\\_classification.py:1344: UndefinedMetricWarning: Precision is ill-defined and being set to 0.0 in labels with no predicted samples. Use `zero_division` parameter to control this behavior.\n",
      "  _warn_prf(average, modifier, msg_start, len(result))\n"
     ]
    },
    {
     "data": {
      "text/plain": [
       "0.17696128349780343"
      ]
     },
     "execution_count": 51,
     "metadata": {},
     "output_type": "execute_result"
    }
   ],
   "source": [
    "precision_score(rlpt, prdpt, average='macro')"
   ]
  },
  {
   "cell_type": "code",
   "execution_count": 54,
   "metadata": {},
   "outputs": [],
   "source": [
    "datapt.to_csv('predictionpt.csv', index=False)"
   ]
  },
  {
   "cell_type": "code",
   "execution_count": null,
   "metadata": {},
   "outputs": [],
   "source": []
  },
  {
   "cell_type": "code",
   "execution_count": null,
   "metadata": {},
   "outputs": [],
   "source": []
  }
 ],
 "metadata": {
  "kernelspec": {
   "display_name": "Python 3",
   "language": "python",
   "name": "python3"
  },
  "language_info": {
   "codemirror_mode": {
    "name": "ipython",
    "version": 3
   },
   "file_extension": ".py",
   "mimetype": "text/x-python",
   "name": "python",
   "nbconvert_exporter": "python",
   "pygments_lexer": "ipython3",
   "version": "3.9.4"
  },
  "orig_nbformat": 4
 },
 "nbformat": 4,
 "nbformat_minor": 2
}
