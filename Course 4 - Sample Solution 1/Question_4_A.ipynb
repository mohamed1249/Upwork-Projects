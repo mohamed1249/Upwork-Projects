{
  "cells": [
    {
      "cell_type": "markdown",
      "metadata": {
        "id": "HgrSHrPcsfmK"
      },
      "source": [
        "# **$\\color{green}{\\text{Student Name: Aysha AlRemeithi}}$**\n",
        "\n",
        "\n",
        "$\\color{blue}{\\text{Batch 3 - Group B (2022) }}$"
      ]
    },
    {
      "cell_type": "code",
      "execution_count": 10,
      "metadata": {
        "id": "7IRauKOQsnjO"
      },
      "outputs": [],
      "source": [
        "#standard imports\n",
        "import numpy as np\n",
        "import matplotlib.pyplot as plt"
      ]
    },
    {
      "cell_type": "code",
      "execution_count": 11,
      "metadata": {
        "id": "HWlPstkqspzq"
      },
      "outputs": [],
      "source": [
        "#dynamics:\n",
        "A = np.matrix([[1]])\n",
        "\n",
        "#process noise variance:\n",
        "V = np.matrix([[9]])\n",
        "\n",
        "#measurement model:\n",
        "H = np.matrix([[1]])\n",
        "\n",
        "#measurement noise variance:\n",
        "W = np.matrix([[25]])"
      ]
    },
    {
      "cell_type": "code",
      "execution_count": 12,
      "metadata": {
        "id": "_VaP5iiJsw-M"
      },
      "outputs": [],
      "source": [
        "#these measurements start at time k=1,2,3.... \n",
        "# note that the first element is zero, it's never used (corresponds to z[0])\n",
        "\n",
        "measurements_z = [np.nan, 17.8, 22.6, 30.2, 37.3, 46.2, 49.5, 44.6, 50.3, 56.3, 51.6]\n",
        "inputs_uf = [10, 10, 10, 10, 10, 10, 10, 10, 10, 10, 10] #dk= 10\n",
        "m = [7, 7, 7, 7, 7, 7, 7, 7, 7, 7, 7]"
      ]
    },
    {
      "cell_type": "code",
      "execution_count": 13,
      "metadata": {
        "id": "qoYdtBKks0YU"
      },
      "outputs": [],
      "source": [
        "hat_x_m = np.mat([[20]])  # prior estimate of the state\n",
        "P_m = np.mat([[25]])  # variance of prior"
      ]
    },
    {
      "cell_type": "code",
      "execution_count": 14,
      "metadata": {
        "id": "eLX-67MUs3S8"
      },
      "outputs": [],
      "source": [
        "numSteps = 10  # how many time steps will we run the estimator?\n",
        "# where we'll store the history our estimate\n",
        "hist_hat_x_m = np.zeros([numSteps+1])\n",
        "# where we'll store the history our estimate's variance\n",
        "hist_P_m_diag = np.zeros([numSteps+1])  \n",
        "\n",
        "#save the prior:\n",
        "hist_hat_x_m[0] = hat_x_m[0]\n",
        "\n",
        "hist_P_m_diag[0] = P_m[0]\n",
        "\n",
        "\n",
        "for k in np.arange(1,numSteps+1):\n",
        "    #step 1: Kalman filter prediction\n",
        "    #our current input u(k-1):\n",
        "    uf = inputs_uf[k-1] - m[k-1]\n",
        "    u = np.matrix([[uf]])\n",
        "    \n",
        "    hat_x_p = A*hat_x_m + u\n",
        "    P_p = A**2*P_m + V\n",
        "    \n",
        "    #step 2: Kalman filter measurement update:\n",
        "    #our current measurement \n",
        "    z = measurements_z[k]\n",
        "    \n",
        "    K = P_p @ H.T @ np.linalg.inv(H @ P_p @ H.T + W)\n",
        "    hat_x_m = hat_x_p + K @ (z - H @ hat_x_p)\n",
        "    P_m = (np.eye(1) - K @ H) @ P_p @ (np.eye(1) - K @ H).T + K @ W @ K.T\n",
        "    \n",
        "    #store the variables for plotting. Don't modify the below lines:\n",
        "    hist_hat_x_m[k] = hat_x_m[0]\n",
        "   \n",
        "    hist_P_m_diag[k] = P_m[0]"
      ]
    },
    {
      "cell_type": "code",
      "execution_count": 15,
      "metadata": {},
      "outputs": [
        {
          "data": {
            "text/plain": [
              "array([20.        , 20.00338983, 22.80833333, 27.81781218, 33.73358943,\n",
              "       40.96940069, 46.44012115, 47.27893033, 50.28833685, 54.63282623,\n",
              "       54.93964473])"
            ]
          },
          "execution_count": 15,
          "metadata": {},
          "output_type": "execute_result"
        }
      ],
      "source": [
        "hist_hat_x_m"
      ]
    },
    {
      "cell_type": "code",
      "execution_count": 16,
      "metadata": {
        "colab": {
          "base_uri": "https://localhost:8080/",
          "height": 280
        },
        "id": "woOS0yits5CH",
        "outputId": "513e4cc9-48b7-4a3a-b40b-8de21ba47c94"
      },
      "outputs": [
        {
          "data": {
            "image/png": "[encoded data removed]",
            "text/plain": [
              "<Figure size 432x288 with 1 Axes>"
            ]
          },
          "metadata": {
            "needs_background": "light"
          },
          "output_type": "display_data"
        }
      ],
      "source": [
        "fig, ax = plt.subplots(1,1,sharex=True)\n",
        "\n",
        "ax.plot(hist_hat_x_m[:],'b.-',label=\"estimated state\")\n",
        "ax.plot(hist_hat_x_m[:]+np.sqrt(hist_P_m_diag[:]),'g:',label=\"1 sigma\")\n",
        "ax.plot(hist_hat_x_m[:]-np.sqrt(hist_P_m_diag[:]),'g:',)\n",
        "ax.plot(measurements_z,'rx',label=\" measerments z(k)\")\n",
        "ax.set_ylabel('r(k)')\n",
        "ax.set_xlabel('Time step k')\n",
        "ax.legend()\n",
        "ax.grid(True)"
      ]
    },
    {
      "cell_type": "code",
      "execution_count": 17,
      "metadata": {
        "colab": {
          "base_uri": "https://localhost:8080/",
          "height": 280
        },
        "id": "lEI8V4yEtAcE",
        "outputId": "b10d17a9-023a-4a8f-b67f-be82c5cfa9aa"
      },
      "outputs": [
        {
          "data": {
            "image/png": "[encoded data removed]",
            "text/plain": [
              "<Figure size 432x288 with 1 Axes>"
            ]
          },
          "metadata": {
            "needs_background": "light"
          },
          "output_type": "display_data"
        }
      ],
      "source": [
        "fig, ax = plt.subplots(1,1,sharex=True)\n",
        "\n",
        "ax.plot(hist_P_m_diag[:],'g.-',label=\"P(k)\")\n",
        "ax.set_xlabel('Time step k')\n",
        "ax.set_ylabel('P(k)')\n",
        "ax.legend()\n",
        "ax.grid(True)"
      ]
    }
  ],
  "metadata": {
    "colab": {
      "collapsed_sections": [],
      "name": "Question_4_Aysha_AlRemeithi_A.ipynb",
      "provenance": []
    },
    "kernelspec": {
      "display_name": "Python 3.9.4 64-bit",
      "language": "python",
      "name": "python3"
    },
    "language_info": {
      "codemirror_mode": {
        "name": "ipython",
        "version": 3
      },
      "file_extension": ".py",
      "mimetype": "text/x-python",
      "name": "python",
      "nbconvert_exporter": "python",
      "pygments_lexer": "ipython3",
      "version": "3.9.4"
    },
    "vscode": {
      "interpreter": {
        "hash": "346812b7c4f63123021a0011a7ad9c451703c57cd6c6827f3f726952f0a6ac21"
      }
    }
  },
  "nbformat": 4,
  "nbformat_minor": 0
}
