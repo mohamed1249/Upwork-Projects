{
  "cells": [
    {
      "cell_type": "markdown",
      "metadata": {
        "id": "9yqgEz3VRIkh"
      },
      "source": [
        "# **$\\color{green}{\\text{Student Name: Aysha AlRemeithi}}$**\n",
        "\n",
        "\n",
        "$\\color{blue}{\\text{Batch 3 - Group B (2022) }}$"
      ]
    },
    {
      "cell_type": "markdown",
      "metadata": {
        "id": "IZNsxRp_Yald"
      },
      "source": [
        "### Question (1):Part(A)\n",
        "#### Confirm that this is a valid PDF\n",
        "\n"
      ]
    },
    {
      "cell_type": "code",
      "execution_count": 5,
      "metadata": {
        "colab": {
          "base_uri": "https://localhost:8080/",
          "height": 78
        },
        "id": "5ZgFYh5QYYmH",
        "outputId": "ff66d361-0c6e-42b8-efc2-ef84b8b8f124"
      },
      "outputs": [
        {
          "name": "stdout",
          "output_type": "stream",
          "text": [
            "f(t)= t*exp(-t**2/1000000)/500000\n"
          ]
        },
        {
          "data": {
            "text/latex": [
              "$\\displaystyle \\frac{t e^{- \\frac{t^{2}}{1000000}}}{500000}$"
            ],
            "text/plain": [
              "t*exp(-t**2/1000000)/500000"
            ]
          },
          "execution_count": 5,
          "metadata": {},
          "output_type": "execute_result"
        }
      ],
      "source": [
        "import sympy\n",
        "import numpy as np\n",
        "\n",
        "t=sympy.symbols('t')\n",
        "ft=(2*t/1000**2)*(sympy.exp(-t**2/1000**2))\n",
        "print('f(t)=',ft)\n",
        "ft"
      ]
    },
    {
      "cell_type": "code",
      "execution_count": 6,
      "metadata": {
        "colab": {
          "base_uri": "https://localhost:8080/",
          "height": 38
        },
        "id": "2HZ4bUodaR8g",
        "outputId": "195d592b-bd04-4895-f39a-4f69743ea207"
      },
      "outputs": [
        {
          "data": {
            "text/latex": [
              "$\\displaystyle 1$"
            ],
            "text/plain": [
              "1"
            ]
          },
          "execution_count": 6,
          "metadata": {},
          "output_type": "execute_result"
        }
      ],
      "source": [
        "#to confirm it is a valid PDF\n",
        "sympy.integrate(ft, [t,0,sympy.oo])"
      ]
    },
    {
      "cell_type": "markdown",
      "metadata": {
        "id": "xNo_9d3i_iTT"
      },
      "source": [
        "### Question (1):Part(B)\n",
        "##How long after installation should we do preventative maintenance if we wish to have the probability of unexpected failure be less than 1%, 10%, 50%, and 99%"
      ]
    },
    {
      "cell_type": "code",
      "execution_count": 7,
      "metadata": {
        "colab": {
          "base_uri": "https://localhost:8080/"
        },
        "id": "2tYTafsa_M9f",
        "outputId": "df52f3fb-bdfe-4b81-894e-3ca829315094"
      },
      "outputs": [
        {
          "data": {
            "text/plain": [
              "[100.25136334983904, 324.59284597450124, 832.5546111576977, 2145.966026289347]"
            ]
          },
          "execution_count": 7,
          "metadata": {},
          "output_type": "execute_result"
        }
      ],
      "source": [
        "lamda=1000\n",
        "x=[0.01,0.1,0.5,0.99]\n",
        "[lamda*np.sqrt(-np.log(1-xx)) for xx in x]"
      ]
    },
    {
      "cell_type": "markdown",
      "metadata": {
        "id": "vQxdHvbubIai"
      },
      "source": [
        "## Question (1) - Part (C)\n",
        "## Finding the Expectation\n"
      ]
    },
    {
      "cell_type": "code",
      "execution_count": 8,
      "metadata": {},
      "outputs": [
        {
          "data": {
            "text/latex": [
              "$\\displaystyle \\infty$"
            ],
            "text/plain": [
              "oo"
            ]
          },
          "execution_count": 8,
          "metadata": {},
          "output_type": "execute_result"
        }
      ],
      "source": [
        "sympy.oo"
      ]
    },
    {
      "cell_type": "code",
      "execution_count": 9,
      "metadata": {
        "colab": {
          "base_uri": "https://localhost:8080/"
        },
        "id": "EaEgOj31bXss",
        "outputId": "9d7da653-a252-4b19-e922-104ae6c9723f"
      },
      "outputs": [
        {
          "name": "stdout",
          "output_type": "stream",
          "text": [
            "500*sqrt(pi)\n"
          ]
        }
      ],
      "source": [
        "#to find expectation E(t)\n",
        "\n",
        "exp_t=sympy.integrate(t*ft, [t,0,sympy.oo])\n",
        "print(exp_t)\n",
        "\n"
      ]
    },
    {
      "cell_type": "code",
      "execution_count": 10,
      "metadata": {
        "colab": {
          "base_uri": "https://localhost:8080/"
        },
        "id": "fbUt9fHAb3Go",
        "outputId": "e6faaf0f-97cf-4508-cfcc-b5f1a1afeaa2"
      },
      "outputs": [
        {
          "name": "stdout",
          "output_type": "stream",
          "text": [
            "1 - exp(-pi/4)\n"
          ]
        }
      ],
      "source": [
        "#calculation based on the expression above\n",
        "prob_failure=sympy.integrate(ft,[t,0,exp_t])\n",
        "print(prob_failure)"
      ]
    },
    {
      "cell_type": "markdown",
      "metadata": {
        "id": "POapB-FeeZw1"
      },
      "source": [
        "##Question (1) - Part (D)\n",
        "\n",
        "##Finding the Variance "
      ]
    },
    {
      "cell_type": "code",
      "execution_count": 22,
      "metadata": {
        "colab": {
          "base_uri": "https://localhost:8080/",
          "height": 40
        },
        "id": "-K_S5wlkegzm",
        "outputId": "25a006ab-3ee6-47b7-c962-2b1b4f665c53"
      },
      "outputs": [
        {
          "data": {
            "text/latex": [
              "$\\displaystyle 1000000 - 250000 \\pi$"
            ],
            "text/plain": [
              "1000000 - 250000*pi"
            ]
          },
          "execution_count": 22,
          "metadata": {},
          "output_type": "execute_result"
        }
      ],
      "source": [
        "#to find variance var(t)\n",
        "\n",
        "var_t=sympy.integrate(ft*(t-exp_t)**2, [t,0,sympy.oo])\n",
        "var_t"
      ]
    },
    {
      "cell_type": "markdown",
      "metadata": {
        "id": "IkfCTs2hf3Kb"
      },
      "source": [
        "### Question (1):Part(E)\n",
        "#### Finding the Average Runing Cost\n"
      ]
    },
    {
      "cell_type": "code",
      "execution_count": 12,
      "metadata": {
        "colab": {
          "base_uri": "https://localhost:8080/",
          "height": 44
        },
        "id": "b1KZiaAEgHnn",
        "outputId": "16dc56a8-104d-464a-ef1e-117666b52600"
      },
      "outputs": [
        {
          "data": {
            "text/latex": [
              "$\\displaystyle 1 - e^{- \\frac{t^{2}}{1000000}}$"
            ],
            "text/plain": [
              "1 - exp(-t**2/1000000)"
            ]
          },
          "execution_count": 12,
          "metadata": {},
          "output_type": "execute_result"
        }
      ],
      "source": [
        "#compute the CDF\n",
        "\n",
        "Ft=sympy.integrate(ft,[t, 0,t])\n",
        "Ft"
      ]
    },
    {
      "cell_type": "code",
      "execution_count": 13,
      "metadata": {
        "colab": {
          "base_uri": "https://localhost:8080/"
        },
        "id": "xP5KpnBJhj3N",
        "outputId": "a8e25a13-4f80-4877-89aa-afbb0aae2846"
      },
      "outputs": [
        {
          "data": {
            "text/plain": [
              "[-1000*sqrt(log(-1/(u - 1))), 1000*sqrt(log(-1/(u - 1)))]"
            ]
          },
          "execution_count": 13,
          "metadata": {},
          "output_type": "execute_result"
        }
      ],
      "source": [
        "u=sympy.symbols('u')\n",
        "sympy.solve(u-Ft,t)"
      ]
    },
    {
      "cell_type": "code",
      "execution_count": 23,
      "metadata": {
        "colab": {
          "base_uri": "https://localhost:8080/"
        },
        "id": "iWh6eZZfj1lf",
        "outputId": "bdd8ec12-5f17-44e2-a677-72e1d7b960c3"
      },
      "outputs": [
        {
          "name": "stdout",
          "output_type": "stream",
          "text": [
            "Over 1000000 samples:\n",
            "The sample mean is: 999.1618953774764\n",
            "The sample variance is: 997619.9921804712\n",
            "Average cost for tm = 1 is $ 51.97327439349039\n"
          ]
        }
      ],
      "source": [
        "# first case when t_m = 1\n",
        "\n",
        "import math\n",
        "import numpy as np\n",
        "\n",
        "nSamples=10**6 #number of samples\n",
        "tSamples=np.zeros((nSamples,)) #Array to store corresponding samples\n",
        "Runcost=np.zeros((nSamples,))  #Array to store Runcost\n",
        "t_m=1\n",
        "cr=250\n",
        "cm=50\n",
        "\n",
        "for k in range(nSamples):\n",
        "        \n",
        "    u=np.random.uniform()\n",
        "    tSamples[k]=(1000*math.log(-1/(u-1)))\n",
        "    \n",
        "    if tSamples[k]<=t_m:\n",
        "        Runcost[k]=cr/tSamples[k]\n",
        "    else:\n",
        "        Runcost[k]=cm/t_m\n",
        "\n",
        "sampleMean=np.mean(tSamples)\n",
        "sampleVariance=np.var(tSamples)\n",
        "avg_R=np.mean(Runcost)\n",
        "\n",
        "#print(Runcost)\n",
        "print('Over', nSamples,'samples:')\n",
        "print('The sample mean is:', sampleMean)\n",
        "print('The sample variance is:', sampleVariance)\n",
        "print('Average cost for tm =', t_m,'is $', avg_R)"
      ]
    },
    {
      "cell_type": "code",
      "execution_count": 24,
      "metadata": {
        "colab": {
          "base_uri": "https://localhost:8080/"
        },
        "id": "dcGfj-KukHLj",
        "outputId": "407ba9e1-1775-485a-858b-cf319401deaf"
      },
      "outputs": [
        {
          "name": "stdout",
          "output_type": "stream",
          "text": [
            "Over 1000000 samples:\n",
            "The sample mean is: 998.7614360197708\n",
            "The sample variance is: 999866.0019769726\n",
            "Average cost for tm = 10 is $ 18.18302513029109\n"
          ]
        }
      ],
      "source": [
        "# Second case when t_m = 10\n",
        "\n",
        "import math\n",
        "import numpy as np\n",
        "\n",
        "nSamples=10**6 #number of samples\n",
        "tSamples=np.zeros((nSamples,)) #Array to store corresponding samples\n",
        "Runcost=np.zeros((nSamples,))  #Array to store Runcost\n",
        "t_m=10\n",
        "cr=250\n",
        "cm=50\n",
        "\n",
        "for k in range(nSamples):\n",
        "        \n",
        "    u=np.random.uniform()\n",
        "    tSamples[k]=(1000*math.log(-1/(u-1)))\n",
        "    \n",
        "    if tSamples[k]<=t_m:\n",
        "        Runcost[k]=cr/tSamples[k]\n",
        "    else:\n",
        "        Runcost[k]=cm/t_m\n",
        "\n",
        "sampleMean=np.mean(tSamples)\n",
        "sampleVariance=np.var(tSamples)\n",
        "avg_R=np.mean(Runcost)\n",
        "\n",
        "#print(Runcost)\n",
        "print('Over', nSamples,'samples:')\n",
        "print('The sample mean is:', sampleMean)\n",
        "print('The sample variance is:', sampleVariance)\n",
        "print('Average cost for tm =', t_m,'is $', avg_R)"
      ]
    },
    {
      "cell_type": "code",
      "execution_count": 16,
      "metadata": {
        "colab": {
          "base_uri": "https://localhost:8080/"
        },
        "id": "-0JVlR1wkWo2",
        "outputId": "330bd549-ec64-422c-ec44-b47c29abe49e"
      },
      "outputs": [
        {
          "name": "stdout",
          "output_type": "stream",
          "text": [
            "Over 1000000 samples:\n",
            "The sample mean is: 998.9508951483267\n",
            "The sample variance is: 995379.0348652118\n",
            "Average cost for tm = 100 is $ 3.3365447280937315\n"
          ]
        }
      ],
      "source": [
        "# Third case when t_m = 100\n",
        "\n",
        "import math\n",
        "import numpy as np\n",
        "\n",
        "nSamples=10**6 #number of samples\n",
        "tSamples=np.zeros((nSamples,)) #Array to store corresponding samples\n",
        "Runcost=np.zeros((nSamples,))  #Array to store Runcost\n",
        "t_m=100\n",
        "cr=250\n",
        "cm=50\n",
        "\n",
        "for k in range(nSamples):\n",
        "        \n",
        "    u=np.random.uniform()\n",
        "    tSamples[k]=(1000*math.log(-1/(u-1)))\n",
        "    \n",
        "    if tSamples[k]<=t_m:\n",
        "        Runcost[k]=cr/tSamples[k]\n",
        "    else:\n",
        "        Runcost[k]=cm/t_m\n",
        "\n",
        "sampleMean=np.mean(tSamples)\n",
        "sampleVariance=np.var(tSamples)\n",
        "avg_R=np.mean(Runcost)\n",
        "\n",
        "#print(Runcost)\n",
        "print('Over', nSamples,'samples:')\n",
        "print('The sample mean is:', sampleMean)\n",
        "print('The sample variance is:', sampleVariance)\n",
        "print('Average cost for tm =', t_m,'is $', avg_R)"
      ]
    },
    {
      "cell_type": "code",
      "execution_count": 17,
      "metadata": {
        "colab": {
          "base_uri": "https://localhost:8080/"
        },
        "id": "VHx9NPkdkuBH",
        "outputId": "71f50fa0-d0ce-4e6f-d044-87e106bcd11d"
      },
      "outputs": [
        {
          "name": "stdout",
          "output_type": "stream",
          "text": [
            "Over 1000000 samples:\n",
            "The sample mean is: 999.3107560651764\n",
            "The sample variance is: 999266.8413172443\n",
            "Average cost for tm = 1000 is $ 3.6557791833600044\n"
          ]
        }
      ],
      "source": [
        "# Fourth case when t_m = 1000\n",
        "\n",
        "import math\n",
        "import numpy as np\n",
        "\n",
        "nSamples=10**6 #number of samples\n",
        "tSamples=np.zeros((nSamples,)) #Array to store corresponding samples\n",
        "Runcost=np.zeros((nSamples,))  #Array to store Runcost\n",
        "t_m=1000\n",
        "cr=250\n",
        "cm=50\n",
        "\n",
        "for k in range(nSamples):\n",
        "        \n",
        "    u=np.random.uniform()\n",
        "    tSamples[k]=(1000*math.log(-1/(u-1)))\n",
        "    \n",
        "    if tSamples[k]<=t_m:\n",
        "        Runcost[k]=cr/tSamples[k]\n",
        "    else:\n",
        "        Runcost[k]=cm/t_m\n",
        "\n",
        "sampleMean=np.mean(tSamples)\n",
        "sampleVariance=np.var(tSamples)\n",
        "avg_R=np.mean(Runcost)\n",
        "\n",
        "#print(Runcost)\n",
        "print('Over', nSamples,'samples:')\n",
        "print('The sample mean is:', sampleMean)\n",
        "print('The sample variance is:', sampleVariance)\n",
        "print('Average cost for tm =', t_m,'is $', avg_R)"
      ]
    },
    {
      "cell_type": "code",
      "execution_count": 18,
      "metadata": {
        "colab": {
          "base_uri": "https://localhost:8080/"
        },
        "id": "qfCBich-MYm_",
        "outputId": "fd4ffc42-e3ac-4255-b0b6-982eb2be0696"
      },
      "outputs": [
        {
          "name": "stdout",
          "output_type": "stream",
          "text": [
            "Over 1000000 samples:\n",
            "The sample mean is: 999.7248356213408\n",
            "The sample variance is: 1000214.3514027947\n",
            "Average cost for tm = 10000 is $ 3.4563550253317654\n"
          ]
        }
      ],
      "source": [
        "# Fifth case when t_m = 10000\n",
        "\n",
        "import math\n",
        "import numpy as np\n",
        "\n",
        "nSamples=10**6 #number of samples\n",
        "tSamples=np.zeros((nSamples,)) #Array to store corresponding samples\n",
        "Runcost=np.zeros((nSamples,))  #Array to store Runcost\n",
        "t_m=10000\n",
        "cr=250\n",
        "cm=50\n",
        "\n",
        "for k in range(nSamples):\n",
        "        \n",
        "    u=np.random.uniform()\n",
        "    tSamples[k]=(1000*math.log(-1/(u-1)))\n",
        "    \n",
        "    if tSamples[k]<=t_m:\n",
        "        Runcost[k]=cr/tSamples[k]\n",
        "    else:\n",
        "        Runcost[k]=cm/t_m\n",
        "\n",
        "sampleMean=np.mean(tSamples)\n",
        "sampleVariance=np.var(tSamples)\n",
        "avg_R=np.mean(Runcost)\n",
        "\n",
        "#print(Runcost)\n",
        "print('Over', nSamples,'samples:')\n",
        "print('The sample mean is:', sampleMean)\n",
        "print('The sample variance is:', sampleVariance)\n",
        "print('Average cost for tm =', t_m,'is $', avg_R)"
      ]
    }
  ],
  "metadata": {
    "colab": {
      "collapsed_sections": [],
      "name": "Q1_Aysha_AlRemeithi.ipynb",
      "provenance": []
    },
    "kernelspec": {
      "display_name": "Python 3.9.4 64-bit",
      "language": "python",
      "name": "python3"
    },
    "language_info": {
      "codemirror_mode": {
        "name": "ipython",
        "version": 3
      },
      "file_extension": ".py",
      "mimetype": "text/x-python",
      "name": "python",
      "nbconvert_exporter": "python",
      "pygments_lexer": "ipython3",
      "version": "3.9.4"
    },
    "vscode": {
      "interpreter": {
        "hash": "346812b7c4f63123021a0011a7ad9c451703c57cd6c6827f3f726952f0a6ac21"
      }
    }
  },
  "nbformat": 4,
  "nbformat_minor": 0
}
