{
 "cells": [
  {
   "cell_type": "code",
   "execution_count": 105,
   "metadata": {},
   "outputs": [],
   "source": [
    "# importing libraries\n",
    "from sympy import *\n",
    "import numpy as np\n",
    "import math\n",
    "import matplotlib.pyplot as plt"
   ]
  },
  {
   "cell_type": "markdown",
   "metadata": {},
   "source": [
    "### The probability density function(PDF):"
   ]
  },
  {
   "cell_type": "code",
   "execution_count": 106,
   "metadata": {},
   "outputs": [
    {
     "data": {
      "text/latex": [
       "$\\displaystyle \\frac{2 t e^{- \\frac{t^{2}}{λ^{2}}}}{λ^{2}}$"
      ],
      "text/plain": [
       "2*t*exp(-t**2/λ**2)/λ**2"
      ]
     },
     "execution_count": 106,
     "metadata": {},
     "output_type": "execute_result"
    }
   ],
   "source": [
    "t=symbols('t')\n",
    "λ = symbols('λ')\n",
    "\n",
    "pdf = (2*t)*exp((-(t**2))/(λ**2))/λ**2\n",
    "pdf"
   ]
  },
  {
   "cell_type": "code",
   "execution_count": 1,
   "metadata": {},
   "outputs": [
    {
     "ename": "NameError",
     "evalue": "name 't' is not defined",
     "output_type": "error",
     "traceback": [
      "\u001b[1;31m---------------------------------------------------------------------------\u001b[0m",
      "\u001b[1;31mNameError\u001b[0m                                 Traceback (most recent call last)",
      "\u001b[1;32mf:\\python\\projects\\Course 4 - Sample Solution 1\\Problem1.ipynb Cell 4\u001b[0m in \u001b[0;36m<cell line: 2>\u001b[1;34m()\u001b[0m\n\u001b[0;32m      <a href='vscode-notebook-cell:/f%3A/python/projects/Course%204%20-%20Sample%20Solution%201/Problem1.ipynb#W3sZmlsZQ%3D%3D?line=0'>1</a>\u001b[0m λ \u001b[39m=\u001b[39m \u001b[39m500\u001b[39m \u001b[39m# λ is a parameter, with specifically λ = 500days.\u001b[39;00m\n\u001b[1;32m----> <a href='vscode-notebook-cell:/f%3A/python/projects/Course%204%20-%20Sample%20Solution%201/Problem1.ipynb#W3sZmlsZQ%3D%3D?line=1'>2</a>\u001b[0m pdf \u001b[39m=\u001b[39m (\u001b[39m2\u001b[39m\u001b[39m*\u001b[39mt)\u001b[39m*\u001b[39mexp((\u001b[39m-\u001b[39m(t\u001b[39m*\u001b[39m\u001b[39m*\u001b[39m\u001b[39m2\u001b[39m))\u001b[39m/\u001b[39m(λ\u001b[39m*\u001b[39m\u001b[39m*\u001b[39m\u001b[39m2\u001b[39m))\u001b[39m/\u001b[39mλ\u001b[39m*\u001b[39m\u001b[39m*\u001b[39m\u001b[39m2\u001b[39m\n",
      "\u001b[1;31mNameError\u001b[0m: name 't' is not defined"
     ]
    }
   ],
   "source": [
    "λ = 500 # λ is a parameter, with specifically λ = 500days.\n",
    "pdf = (2*t)*exp((-(t**2))/(λ**2))/λ**2 # with only t as a variable."
   ]
  },
  {
   "cell_type": "markdown",
   "metadata": {},
   "source": [
    "### The PDF is plotted below:"
   ]
  },
  {
   "cell_type": "code",
   "execution_count": 108,
   "metadata": {},
   "outputs": [
    {
     "data": {
      "image/png": "[encoded data removed]",
      "text/plain": [
       "<Figure size 432x288 with 1 Axes>"
      ]
     },
     "metadata": {
      "needs_background": "light"
     },
     "output_type": "display_data"
    }
   ],
   "source": [
    "def PDF(t, λ = λ):\n",
    "\n",
    "    if t >= 0:\n",
    "        return (2*t)*np.exp((-(t**2))/(λ**2))/λ**2\n",
    "    else:\n",
    "        return 0\n",
    "        \n",
    "arr = np.array([])\n",
    "for t0 in range(1500):\n",
    "    arr = np.append(arr,PDF(t0))\n",
    "\n",
    "plt.plot(arr);"
   ]
  },
  {
   "cell_type": "markdown",
   "metadata": {},
   "source": [
    "## a. Confirming that this is a valid PDF:"
   ]
  },
  {
   "cell_type": "code",
   "execution_count": 109,
   "metadata": {},
   "outputs": [
    {
     "name": "stdout",
     "output_type": "stream",
     "text": [
      "Number of Nigative Values = 0\n"
     ]
    }
   ],
   "source": [
    "# checking if it is non-negative everywhere:\n",
    "print(f'Number of Nigative Values = {(arr<0).sum()}')"
   ]
  },
  {
   "cell_type": "code",
   "execution_count": 110,
   "metadata": {},
   "outputs": [
    {
     "name": "stdout",
     "output_type": "stream",
     "text": [
      "area under the curve = 1\n"
     ]
    }
   ],
   "source": [
    "# checking if the area under the curve equals 1:\n",
    "print(\"area under the curve =\", integrate(pdf, [t,0,oo]))"
   ]
  },
  {
   "cell_type": "markdown",
   "metadata": {},
   "source": [
    "## b. How long after installation should we do preventative maintenance if we wish to have the probability of unexpected failure be less than 1%, 10%, 50%, and 99%?"
   ]
  },
  {
   "cell_type": "code",
   "execution_count": 111,
   "metadata": {},
   "outputs": [
    {
     "name": "stdout",
     "output_type": "stream",
     "text": [
      "To have a prbability of unexpected failure be less than 1%, you should do preventative maintenance at day: 51\n",
      "To have a prbability of unexpected failure be less than 10%, you should do preventative maintenance at day: 163\n",
      "To have a prbability of unexpected failure be less than 50%, you should do preventative maintenance at day: 417\n",
      "To have a prbability of unexpected failure be less than 99%, you should do preventative maintenance at day: 1073\n"
     ]
    }
   ],
   "source": [
    "def time_after_installation(target):\n",
    "\n",
    "    for idxt, _ in enumerate(arr):\n",
    "\n",
    "        narr = arr[:idxt]\n",
    "\n",
    "        if np.trapz(narr) >= target:\n",
    "\n",
    "            return idxt-1\n",
    "\n",
    "days = []\n",
    "\n",
    "for p in [0.01,0.1,0.5,0.99]:\n",
    "    \n",
    "    ndays = time_after_installation(p)\n",
    "    days.append(ndays)\n",
    "    print(f'To have a prbability of unexpected failure be less than {int(p*100)}%, you should do preventative maintenance at day: {ndays}')"
   ]
  },
  {
   "cell_type": "markdown",
   "metadata": {},
   "source": [
    "## c. What is the expected lifetime for this pump? What is the probability of failure before the expected lifetime?"
   ]
  },
  {
   "cell_type": "code",
   "execution_count": 112,
   "metadata": {},
   "outputs": [
    {
     "name": "stdout",
     "output_type": "stream",
     "text": [
      "The expected lifetime is: 443 days\n"
     ]
    }
   ],
   "source": [
    "elt = integrate(t*pdf, [t,0,oo])\n",
    "print(f'The expected lifetime is: {round(elt)} days')"
   ]
  },
  {
   "cell_type": "code",
   "execution_count": 113,
   "metadata": {},
   "outputs": [
    {
     "name": "stdout",
     "output_type": "stream",
     "text": [
      "The probability of failure before the expected lifetime is: 54.41%\n"
     ]
    }
   ],
   "source": [
    "pf = round(integrate(pdf,[t,0,elt]),4)\n",
    "print(f'The probability of failure before the expected lifetime is: {pf*100}%')"
   ]
  },
  {
   "cell_type": "markdown",
   "metadata": {},
   "source": [
    "## d. What is the variance of the pump’s lifetime? What is the range of the lifetime that falls within one standard deviation of the expected value?"
   ]
  },
  {
   "cell_type": "code",
   "execution_count": 114,
   "metadata": {},
   "outputs": [
    {
     "name": "stdout",
     "output_type": "stream",
     "text": [
      "The variance of the pump’s lifetime is: 53650.46\n",
      "The standard deviation of the pump’s lifetime is: 231.63\n"
     ]
    }
   ],
   "source": [
    "vlt = integrate(pdf*( t  -elt )**2 , [t,0, oo])\n",
    "print(f'The variance of the pump’s lifetime is: {round(vlt,2)}')\n",
    "print(f'The standard deviation of the pump’s lifetime is: {round(sqrt(vlt),2)}')"
   ]
  },
  {
   "cell_type": "markdown",
   "metadata": {},
   "source": [
    "#### Getting the CDF before writing a program that generates samples of t from its distribution:"
   ]
  },
  {
   "cell_type": "code",
   "execution_count": 115,
   "metadata": {},
   "outputs": [
    {
     "data": {
      "text/latex": [
       "$\\displaystyle 1 - e^{- \\frac{t^{2}}{250000}}$"
      ],
      "text/plain": [
       "1 - exp(-t**2/250000)"
      ]
     },
     "execution_count": 115,
     "metadata": {},
     "output_type": "execute_result"
    }
   ],
   "source": [
    "cdf = integrate(pdf,[t, 0,t])\n",
    "cdf"
   ]
  },
  {
   "cell_type": "markdown",
   "metadata": {},
   "source": [
    "## e. Write a program that generates samples of t from its distribution."
   ]
  },
  {
   "cell_type": "code",
   "execution_count": 116,
   "metadata": {},
   "outputs": [],
   "source": [
    "def avg_rnng_cst(Tm ,n_samples = 10**6, Cr = 250, Cm= 50):\n",
    "\n",
    "    smpl_arr = rnng_cst_arr = np.zeros((n_samples,))\n",
    "    \n",
    "    for s in range(n_samples):\n",
    "\n",
    "        unfrm = np.random.uniform()\n",
    "        smpl_arr[s] = math.log(-1/(unfrm-1))*1000\n",
    "\n",
    "        if smpl_arr[s] <= Tm:\n",
    "            rnng_cst_arr[s] = Cr/smpl_arr[s]\n",
    "        else:\n",
    "            rnng_cst_arr[s] = Cm/Tm\n",
    "\n",
    "    avg_R = round(np.mean(rnng_cst_arr),4)    \n",
    "    avg_smpl = round(np.mean(smpl_arr),4)\n",
    "    var_smpl = round(np.var(smpl_arr),4)\n",
    "\n",
    "    print(f'Average cost for Tm = {Tm} was: {avg_R}$')\n",
    "    print(f'Sample average was: {avg_smpl}')\n",
    "    print(f'Sample variance was: {var_smpl}')"
   ]
  },
  {
   "cell_type": "code",
   "execution_count": 117,
   "metadata": {},
   "outputs": [
    {
     "name": "stdout",
     "output_type": "stream",
     "text": [
      "Average cost for Tm = 1 was: 52.2617$\n",
      "Sample average was: 52.2617\n",
      "Sample variance was: 376976.7833\n",
      "--------------------------------------------\n",
      "Average cost for Tm = 10 was: 7.1793$\n",
      "Sample average was: 7.1793\n",
      "Sample variance was: 35753.194\n",
      "--------------------------------------------\n",
      "Average cost for Tm = 100 was: 3.7559$\n",
      "Sample average was: 3.7559\n",
      "Sample variance was: 124511.8361\n",
      "--------------------------------------------\n",
      "Average cost for Tm = 1000 was: 5.3792$\n",
      "Sample average was: 5.3792\n",
      "Sample variance was: 2882009.4656\n",
      "--------------------------------------------\n",
      "Average cost for Tm = 10000 was: 3.4937$\n",
      "Sample average was: 3.4937\n",
      "Sample variance was: 175245.8277\n",
      "--------------------------------------------\n"
     ]
    }
   ],
   "source": [
    "for Tm in [1,10,100,1000,10000]:\n",
    "    avg_rnng_cst(Tm)\n",
    "    print(\"-\"*44)"
   ]
  }
 ],
 "metadata": {
  "kernelspec": {
   "display_name": "Python 3.9.4 64-bit",
   "language": "python",
   "name": "python3"
  },
  "language_info": {
   "codemirror_mode": {
    "name": "ipython",
    "version": 3
   },
   "file_extension": ".py",
   "mimetype": "text/x-python",
   "name": "python",
   "nbconvert_exporter": "python",
   "pygments_lexer": "ipython3",
   "version": "3.9.4"
  },
  "orig_nbformat": 4,
  "vscode": {
   "interpreter": {
    "hash": "346812b7c4f63123021a0011a7ad9c451703c57cd6c6827f3f726952f0a6ac21"
   }
  }
 },
 "nbformat": 4,
 "nbformat_minor": 2
}
