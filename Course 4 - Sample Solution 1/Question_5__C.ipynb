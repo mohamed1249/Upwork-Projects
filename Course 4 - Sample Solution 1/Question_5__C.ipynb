{
  "cells": [
    {
      "cell_type": "markdown",
      "metadata": {
        "id": "rLaGDiqMquOs"
      },
      "source": [
        "# **$\\color{green}{\\text{Student Name: Aysha AlRemeithi}}$**\n",
        "\n",
        "\n",
        "$\\color{blue}{\\text{Batch 3 - Group B (2022) }}$"
      ]
    },
    {
      "cell_type": "markdown",
      "metadata": {
        "id": "HzvJUZXnt-nG"
      },
      "source": [
        "Question (5): Part (C)"
      ]
    },
    {
      "cell_type": "code",
      "execution_count": 13,
      "metadata": {
        "id": "W8E1hCVvt6k7"
      },
      "outputs": [],
      "source": [
        "import numpy as np\n",
        "import matplotlib.pyplot as plt"
      ]
    },
    {
      "cell_type": "code",
      "execution_count": 14,
      "metadata": {
        "id": "g3YQyZ_fuFJD"
      },
      "outputs": [],
      "source": [
        "# Dynamics function\n",
        "def q(x, u, v):\n",
        "    return  x - u - v   # State at the next time step, given current state and control input"
      ]
    },
    {
      "cell_type": "code",
      "execution_count": 15,
      "metadata": {
        "id": "mMxuj5PFuHl-"
      },
      "outputs": [],
      "source": [
        "nSteps = 9  # Number of steps to simulate for in each ensemble\n",
        "x0 = 1    # Initial state\n",
        "\n",
        "#constants\n",
        "pp=0.1\n",
        "W=0.1\n",
        "\n",
        "# Time step array\n",
        "tArray = np.arange(nSteps+1) #same for all ensembles\n",
        "\n",
        "# State history array\n",
        "xArray = np.zeros(nSteps+1)\n",
        "hArray = np.zeros(nSteps+1)\n",
        "uArray = np.zeros(nSteps+1)\n",
        "a=np.zeros(nSteps+1)\n",
        "b=np.zeros(nSteps+1)\n",
        "\n",
        "xArray[0]=x0\n",
        "hArray[0]=(xArray[0]-1)**2\n",
        "a[0]=hArray[0]**2*pp\n",
        "b[0]=hArray[0]**2*pp+W\n",
        "uArray[0]=a[0]/b[0]\n",
        "\n",
        "for k in range(nSteps):\n",
        "        u = 0.1\n",
        "        v = np.random.normal(0,0.05)\n",
        "        xArray[k+1] = q(xArray[k], u, v)\n",
        "        hArray[k+1] = 3*(xArray[k+1]-1)**2\n",
        "        a[k+1]=pp*hArray[k+1]**2\n",
        "        b[k+1]=pp*hArray[k+1]**2+W\n",
        "        uArray[k+1] = a[k+1]/b[k+1]"
      ]
    },
    {
      "cell_type": "code",
      "execution_count": 16,
      "metadata": {
        "colab": {
          "base_uri": "https://localhost:8080/",
          "height": 280
        },
        "id": "zWBFJsPauT0G",
        "outputId": "91965c1d-cb47-44bf-fdc8-e753a16d62f5"
      },
      "outputs": [
        {
          "data": {
            "image/png": "[encoded data removed]",
            "text/plain": [
              "<Figure size 432x288 with 1 Axes>"
            ]
          },
          "metadata": {
            "needs_background": "light"
          },
          "output_type": "display_data"
        }
      ],
      "source": [
        "# Plot the distribution and histogram\n",
        "fig, ax = plt.subplots(1, 1)\n",
        "\n",
        "ax.plot(xArray, uArray, label='State evolution')\n",
        "ax.set_xlim([xArray[-1], xArray[0]])\n",
        "ax.set_xlabel('State of charge q')\n",
        "ax.set_ylabel('usefulness')\n",
        "ax.legend()\n",
        "ax.grid(True)\n",
        "plt.show()"
      ]
    },
    {
      "cell_type": "code",
      "execution_count": 17,
      "metadata": {
        "id": "H9Ur49arucXI"
      },
      "outputs": [],
      "source": [
        "q=np.linspace(0, 1, 100)\n",
        "h=3*(q-1)**2\n",
        "a=h**2*0.1\n",
        "b=a+0.1\n",
        "z=(a/b)"
      ]
    },
    {
      "cell_type": "code",
      "execution_count": 18,
      "metadata": {
        "colab": {
          "base_uri": "https://localhost:8080/",
          "height": 280
        },
        "id": "DYgSWPHpud3B",
        "outputId": "78641f1d-e126-4056-a67f-a125764a4188"
      },
      "outputs": [
        {
          "data": {
            "image/png": "[encoded data removed]",
            "text/plain": [
              "<Figure size 432x288 with 1 Axes>"
            ]
          },
          "metadata": {
            "needs_background": "light"
          },
          "output_type": "display_data"
        }
      ],
      "source": [
        "# Plot the distribution and histogram\n",
        "fig, ax = plt.subplots(1, 1)\n",
        "\n",
        "ax.plot(q, z, label='State evolution')\n",
        "ax.set_xlabel('State of charge q')\n",
        "ax.set_ylabel('usefulness')\n",
        "plt.show()"
      ]
    }
  ],
  "metadata": {
    "colab": {
      "name": "Question_5_Part(C).ipynb",
      "provenance": []
    },
    "kernelspec": {
      "display_name": "Python 3.9.4 64-bit",
      "language": "python",
      "name": "python3"
    },
    "language_info": {
      "codemirror_mode": {
        "name": "ipython",
        "version": 3
      },
      "file_extension": ".py",
      "mimetype": "text/x-python",
      "name": "python",
      "nbconvert_exporter": "python",
      "pygments_lexer": "ipython3",
      "version": "3.9.4"
    },
    "vscode": {
      "interpreter": {
        "hash": "346812b7c4f63123021a0011a7ad9c451703c57cd6c6827f3f726952f0a6ac21"
      }
    }
  },
  "nbformat": 4,
  "nbformat_minor": 0
}
