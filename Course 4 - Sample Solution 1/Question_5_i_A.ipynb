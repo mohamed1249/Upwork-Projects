{
  "cells": [
    {
      "cell_type": "markdown",
      "metadata": {
        "id": "57qZtwBGp2rP"
      },
      "source": [
        "# **$\\color{green}{\\text{Student Name: Aysha AlRemeithi}}$**\n",
        "\n",
        "\n",
        "$\\color{blue}{\\text{Batch 3 - Group B (2022) }}$"
      ]
    },
    {
      "cell_type": "markdown",
      "metadata": {
        "id": "dV9zFDrZqeq1"
      },
      "source": [
        "\n",
        "#### Solving EFK without measurments"
      ]
    },
    {
      "cell_type": "code",
      "execution_count": 1,
      "metadata": {
        "id": "wQE2P3jDqduw"
      },
      "outputs": [],
      "source": [
        "#standard imports\n",
        "import numpy as np\n",
        "import matplotlib.pyplot as plt"
      ]
    },
    {
      "cell_type": "code",
      "execution_count": 2,
      "metadata": {
        "id": "BktsQ5RUq5Q8"
      },
      "outputs": [],
      "source": [
        "#dynamics:\n",
        "def get_A(x):\n",
        "    return 1 #TODO COMPLETE\n",
        "\n",
        "def get_L(x):\n",
        "    return -1 #TODO COMPLETE\n",
        "\n",
        "def get_H(x):\n",
        "    return 3*(x-1)**2  #TODO COMPLETE\n",
        "\n",
        "def get_M(x):\n",
        "    return 1 #TODO COMPLETE\n",
        "\n",
        "#Define noise variances\n",
        "V = 0.05**2\n",
        "W = 0.1**2  # Var(w(0))\n",
        "j0=0.1\n",
        "\n",
        "#Define measurments\n",
        "#measurment_z=[4.04, 3.81, 3.95, 3.90, 3.88, 3.88, 3.90, 3.55, 3.18]"
      ]
    },
    {
      "cell_type": "code",
      "execution_count": 3,
      "metadata": {
        "id": "OX0bWgjwq7wr"
      },
      "outputs": [],
      "source": [
        "numSteps = 9  # how many time steps will we run the estimator?\n",
        "\n",
        "### EKF:\n",
        "#initialize: ##TODO\n",
        "hat_x_m = 1  # prior estimate of the state\n",
        "P_m = 0  # variance of prior\n",
        "\n",
        "# where we'll store the history our estimate\n",
        "hist_hat_x_m = np.zeros([numSteps+1,1])  \n",
        "\n",
        "# where we'll store the history our estimate's variance\n",
        "hist_P_m = np.zeros([numSteps+1,1]) \n",
        "\n",
        "# where we'll store the history our true (simulated) system state:\n",
        "hist_true_x = np.zeros([numSteps+1,1])  \n",
        "\n",
        "#the system true state:\n",
        "true_state_x = np.random.normal(1,0)\n",
        "\n",
        "#save the measurments:\n",
        "hist_z = np.zeros([numSteps+1,1])\n",
        "\n",
        "#save the prior:\n",
        "hist_hat_x_m[0,0] = hat_x_m\n",
        "hist_P_m[0,0] = P_m\n",
        "hist_true_x[0,0] = true_state_x\n",
        "\n",
        "for k in np.arange(1,numSteps+1):\n",
        "\n",
        "    ## SIMULATION START\n",
        "    #process noise\n",
        "    v = np.random.normal(0, 0.05)\n",
        "    #simulate the rocket:\n",
        "    new_x = true_state_x - j0 - v\n",
        "\n",
        "    true_state_x = new_x\n",
        "    \n",
        "    #generate the measurement:\n",
        "    w = np.random.normal(0, 0.1)\n",
        "    z = 4 + ((true_state_x)-1)**3 + w\n",
        "    #z=measurment_z[k-1]\n",
        "    \n",
        "    ## SIMULATION END\n",
        "    \n",
        "    hist_z[k,0]=z\n",
        "    \n",
        "    ## EKF START\n",
        "        \n",
        "    #step 1: Kalman filter prediction\n",
        "    #our current input u(k-1):    \n",
        "    hat_x_p = hat_x_m - j0 - 0  #TODO!\n",
        "    A = get_A(hat_x_p)\n",
        "    L = get_L(hat_x_p)\n",
        "    P_p = A*P_m*A + L*V*L # (no transpose, all scalars)\n",
        "    \n",
        "    #step 2: Kalman filter measurement update:\n",
        "    H = get_H(hat_x_p)\n",
        "    M = get_M(hat_x_p)\n",
        "    K = P_p*H*1/(H*P_p*H + W) #(no transpose, all scalars)\n",
        "    \n",
        "    predictedMeas = 4 + ((hat_x_p)-1)**3 + 0 #TODO!\n",
        "    \n",
        "    hat_x_m = hat_x_p + K*(z-predictedMeas)\n",
        "    I = 1\n",
        "    P_m = (I - K*H)*P_p*(I - K*H) + K*W*K # (no transpose, all scalars)\n",
        "    ## EKF END\n",
        "\n",
        "    #store the variables for plotting. Don't modify the below lines:\n",
        "    hist_hat_x_m[k,0] = hat_x_m\n",
        "    hist_P_m[k,0] = P_m\n",
        "    hist_true_x[k,0] = true_state_x"
      ]
    },
    {
      "cell_type": "code",
      "execution_count": 4,
      "metadata": {
        "colab": {
          "base_uri": "https://localhost:8080/",
          "height": 280
        },
        "id": "WsZ-p3etrKBM",
        "outputId": "b5820c14-3691-4b74-957d-3a3d0be4361c"
      },
      "outputs": [
        {
          "data": {
            "image/png": "[encoded data removed]",
            "text/plain": [
              "<Figure size 432x288 with 1 Axes>"
            ]
          },
          "metadata": {
            "needs_background": "light"
          },
          "output_type": "display_data"
        }
      ],
      "source": [
        "fig, ax = plt.subplots(1,1,sharex=True)\n",
        "\n",
        "ax.plot(hist_hat_x_m[:,0],'b.-',label=\"est\")\n",
        "#ax.plot(hist_hat_x_m[:,0]+np.sqrt(hist_P_m[:,0]),'g:',label=\"1 sigma\")\n",
        "#ax.plot(hist_hat_x_m[:,0]-np.sqrt(hist_P_m[:,0]),'g:',)\n",
        "#ax.plot(hist_true_x[:,0],'c.-',label=\"true\")\n",
        "#ax.plot(z,'rx', label=\"measurments\")\n",
        "\n",
        "ax.set_xlim(0,9)\n",
        "ax.set_xlabel('Time k')\n",
        "ax.set_ylabel('State estimated state of charge')\n",
        "ax.legend()\n",
        "ax.grid(True)\n",
        "\n",
        "plt.show()"
      ]
    },
    {
      "cell_type": "code",
      "execution_count": 5,
      "metadata": {
        "colab": {
          "base_uri": "https://localhost:8080/",
          "height": 284
        },
        "id": "gJLFpBBRrQFh",
        "outputId": "ecf63da8-37f1-4aa7-eb8e-afad093224a9"
      },
      "outputs": [
        {
          "data": {
            "image/png": "[encoded data removed]",
            "text/plain": [
              "<Figure size 432x288 with 1 Axes>"
            ]
          },
          "metadata": {
            "needs_background": "light"
          },
          "output_type": "display_data"
        }
      ],
      "source": [
        "fig, ax = plt.subplots(1,1,sharex=True)\n",
        "\n",
        "ax.plot(hist_P_m[:,0],'g.-',label=\"variance\")\n",
        "ax.set_xlabel('Time k')\n",
        "ax.set_xlim(0,9)\n",
        "ax.set_ylabel('variance of the estimated state of charge')\n",
        "ax.legend()\n",
        "ax.grid(True)"
      ]
    }
  ],
  "metadata": {
    "colab": {
      "collapsed_sections": [],
      "name": "Question_5_Part(A).ipynb",
      "provenance": []
    },
    "kernelspec": {
      "display_name": "Python 3.9.7 ('base')",
      "language": "python",
      "name": "python3"
    },
    "language_info": {
      "codemirror_mode": {
        "name": "ipython",
        "version": 3
      },
      "file_extension": ".py",
      "mimetype": "text/x-python",
      "name": "python",
      "nbconvert_exporter": "python",
      "pygments_lexer": "ipython3",
      "version": "3.9.7"
    },
    "vscode": {
      "interpreter": {
        "hash": "c39ee6e24b83006eb386f86b08c4fd4839bfb2c807e17caea351eeccecc27516"
      }
    }
  },
  "nbformat": 4,
  "nbformat_minor": 0
}
