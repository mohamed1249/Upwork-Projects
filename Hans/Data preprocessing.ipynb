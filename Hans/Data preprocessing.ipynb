{
 "cells": [
  {
   "cell_type": "code",
   "execution_count": 1,
   "metadata": {},
   "outputs": [
    {
     "data": {
      "text/html": [
       "<div>\n",
       "<style scoped>\n",
       "    .dataframe tbody tr th:only-of-type {\n",
       "        vertical-align: middle;\n",
       "    }\n",
       "\n",
       "    .dataframe tbody tr th {\n",
       "        vertical-align: top;\n",
       "    }\n",
       "\n",
       "    .dataframe thead th {\n",
       "        text-align: right;\n",
       "    }\n",
       "</style>\n",
       "<table border=\"1\" class=\"dataframe\">\n",
       "  <thead>\n",
       "    <tr style=\"text-align: right;\">\n",
       "      <th></th>\n",
       "      <th>id</th>\n",
       "      <th>content</th>\n",
       "      <th>cta_text</th>\n",
       "      <th>cta_link</th>\n",
       "      <th>background_color</th>\n",
       "      <th>title</th>\n",
       "      <th>use_checkmarks</th>\n",
       "    </tr>\n",
       "  </thead>\n",
       "  <tbody>\n",
       "    <tr>\n",
       "      <th>0</th>\n",
       "      <td>1</td>\n",
       "      <td>&lt;p&gt;Ut quibusdam voluptas dolor quasi tempore. ...</td>\n",
       "      <td>voluptate</td>\n",
       "      <td>[NT117]</td>\n",
       "      <td>PRIMARY</td>\n",
       "      <td>Eum reprehenderit provident saepe cupiditate l...</td>\n",
       "      <td>0</td>\n",
       "    </tr>\n",
       "    <tr>\n",
       "      <th>1</th>\n",
       "      <td>2</td>\n",
       "      <td>&lt;p&gt;Voluptatem harum debitis vitae omnis eum iu...</td>\n",
       "      <td>saepe</td>\n",
       "      <td>[NT107]</td>\n",
       "      <td>SECONDARY</td>\n",
       "      <td>Consectetur voluptatibus officiis sit in illum.</td>\n",
       "      <td>0</td>\n",
       "    </tr>\n",
       "    <tr>\n",
       "      <th>2</th>\n",
       "      <td>3</td>\n",
       "      <td>&lt;p&gt;Et soluta voluptatem qui et voluptatem dolo...</td>\n",
       "      <td>similique</td>\n",
       "      <td>[NT171]</td>\n",
       "      <td>SECONDARY</td>\n",
       "      <td>Eum voluptatem laudantium laborum.</td>\n",
       "      <td>0</td>\n",
       "    </tr>\n",
       "    <tr>\n",
       "      <th>3</th>\n",
       "      <td>4</td>\n",
       "      <td>&lt;p&gt;Eum recusandae iusto sed assumenda mollitia...</td>\n",
       "      <td>accusamus</td>\n",
       "      <td>[NT163]</td>\n",
       "      <td>PRIMARY</td>\n",
       "      <td>Laborum expedita maiores soluta.</td>\n",
       "      <td>0</td>\n",
       "    </tr>\n",
       "    <tr>\n",
       "      <th>4</th>\n",
       "      <td>5</td>\n",
       "      <td>&lt;p&gt;Consequatur aliquid assumenda qui quasi qua...</td>\n",
       "      <td>voluptatibus</td>\n",
       "      <td>[NT190]</td>\n",
       "      <td>SECONDARY</td>\n",
       "      <td>Incidunt quae et est.</td>\n",
       "      <td>0</td>\n",
       "    </tr>\n",
       "  </tbody>\n",
       "</table>\n",
       "</div>"
      ],
      "text/plain": [
       "  id                                            content      cta_text  \\\n",
       "0  1  <p>Ut quibusdam voluptas dolor quasi tempore. ...     voluptate   \n",
       "1  2  <p>Voluptatem harum debitis vitae omnis eum iu...         saepe   \n",
       "2  3  <p>Et soluta voluptatem qui et voluptatem dolo...     similique   \n",
       "3  4  <p>Eum recusandae iusto sed assumenda mollitia...     accusamus   \n",
       "4  5  <p>Consequatur aliquid assumenda qui quasi qua...  voluptatibus   \n",
       "\n",
       "  cta_link background_color  \\\n",
       "0  [NT117]          PRIMARY   \n",
       "1  [NT107]        SECONDARY   \n",
       "2  [NT171]        SECONDARY   \n",
       "3  [NT163]          PRIMARY   \n",
       "4  [NT190]        SECONDARY   \n",
       "\n",
       "                                               title use_checkmarks  \n",
       "0  Eum reprehenderit provident saepe cupiditate l...              0  \n",
       "1    Consectetur voluptatibus officiis sit in illum.              0  \n",
       "2                 Eum voluptatem laudantium laborum.              0  \n",
       "3                   Laborum expedita maiores soluta.              0  \n",
       "4                              Incidunt quae et est.              0  "
      ]
     },
     "execution_count": 1,
     "metadata": {},
     "output_type": "execute_result"
    }
   ],
   "source": [
    "import pandas as pd\n",
    "\n",
    "text_page = pd.read_csv('app_text_page_parts.csv', on_bad_lines='skip')\n",
    "text_page.head()"
   ]
  },
  {
   "cell_type": "code",
   "execution_count": 2,
   "metadata": {},
   "outputs": [
    {
     "name": "stdout",
     "output_type": "stream",
     "text": [
      "<class 'pandas.core.frame.DataFrame'>\n",
      "RangeIndex: 16279 entries, 0 to 16278\n",
      "Data columns (total 7 columns):\n",
      " #   Column            Non-Null Count  Dtype \n",
      "---  ------            --------------  ----- \n",
      " 0   id                16279 non-null  object\n",
      " 1   content           4624 non-null   object\n",
      " 2   cta_text          1597 non-null   object\n",
      " 3   cta_link          762 non-null    object\n",
      " 4   background_color  467 non-null    object\n",
      " 5   title             693 non-null    object\n",
      " 6   use_checkmarks    650 non-null    object\n",
      "dtypes: object(7)\n",
      "memory usage: 890.4+ KB\n"
     ]
    }
   ],
   "source": [
    "text_page.info()"
   ]
  },
  {
   "cell_type": "code",
   "execution_count": 3,
   "metadata": {},
   "outputs": [
    {
     "data": {
      "text/plain": [
       "16279"
      ]
     },
     "execution_count": 3,
     "metadata": {},
     "output_type": "execute_result"
    }
   ],
   "source": [
    "len(text_page)"
   ]
  },
  {
   "cell_type": "code",
   "execution_count": 4,
   "metadata": {},
   "outputs": [
    {
     "data": {
      "text/plain": [
       "\\t\\t\\t<td> </td>                                                                                                    194\n",
       "<p> </p>                                                                                                            184\n",
       "\\t\\t</tr><tr><td> </td>                                                                                             153\n",
       "\\t\\t\\t</td>                                                                                                         124\n",
       "<p> </p>\"                                                                                                            88\n",
       "                                                                                                                   ... \n",
       "\\t<li>Afscheiding<br>                                                                                                 1\n",
       "\\tIn het ziekenhuis hebt u misschien het gevoel dat u tot heel wat in staat bent                                      1\n",
       "<ul><li>Moeheid<br>                                                                                                   1\n",
       "De duur van het uiteindelijke herstel is bij elke vrouw verschillend. Sommige vrouwen zijn na zes weken hersteld      1\n",
       "1065                                                                                                                  1\n",
       "Name: id, Length: 9621, dtype: int64"
      ]
     },
     "execution_count": 4,
     "metadata": {},
     "output_type": "execute_result"
    }
   ],
   "source": [
    "text_page.id.value_counts()"
   ]
  },
  {
   "cell_type": "code",
   "execution_count": 5,
   "metadata": {},
   "outputs": [
    {
     "data": {
      "text/plain": [
       "981"
      ]
     },
     "execution_count": 5,
     "metadata": {},
     "output_type": "execute_result"
    }
   ],
   "source": [
    "text_page = text_page[text_page.id.isin([str(n) for n in range(len(text_page))])]\n",
    "text_page.id = text_page.id.astype(int)\n",
    "len(text_page)"
   ]
  },
  {
   "cell_type": "code",
   "execution_count": 6,
   "metadata": {},
   "outputs": [
    {
     "data": {
      "text/plain": [
       "1       1\n",
       "705     1\n",
       "707     1\n",
       "708     1\n",
       "709     1\n",
       "       ..\n",
       "373     1\n",
       "374     1\n",
       "375     1\n",
       "378     1\n",
       "1065    1\n",
       "Name: id, Length: 981, dtype: int64"
      ]
     },
     "execution_count": 6,
     "metadata": {},
     "output_type": "execute_result"
    }
   ],
   "source": [
    "text_page.id.value_counts()"
   ]
  },
  {
   "cell_type": "code",
   "execution_count": 7,
   "metadata": {},
   "outputs": [
    {
     "name": "stdout",
     "output_type": "stream",
     "text": [
      "<class 'pandas.core.frame.DataFrame'>\n",
      "Int64Index: 981 entries, 0 to 16278\n",
      "Data columns (total 7 columns):\n",
      " #   Column            Non-Null Count  Dtype \n",
      "---  ------            --------------  ----- \n",
      " 0   id                981 non-null    int32 \n",
      " 1   content           981 non-null    object\n",
      " 2   cta_text          75 non-null     object\n",
      " 3   cta_link          40 non-null     object\n",
      " 4   background_color  57 non-null     object\n",
      " 5   title             187 non-null    object\n",
      " 6   use_checkmarks    579 non-null    object\n",
      "dtypes: int32(1), object(6)\n",
      "memory usage: 57.5+ KB\n"
     ]
    }
   ],
   "source": [
    "text_page.info()"
   ]
  },
  {
   "cell_type": "code",
   "execution_count": 8,
   "metadata": {},
   "outputs": [
    {
     "data": {
      "text/html": [
       "<div>\n",
       "<style scoped>\n",
       "    .dataframe tbody tr th:only-of-type {\n",
       "        vertical-align: middle;\n",
       "    }\n",
       "\n",
       "    .dataframe tbody tr th {\n",
       "        vertical-align: top;\n",
       "    }\n",
       "\n",
       "    .dataframe thead th {\n",
       "        text-align: right;\n",
       "    }\n",
       "</style>\n",
       "<table border=\"1\" class=\"dataframe\">\n",
       "  <thead>\n",
       "    <tr style=\"text-align: right;\">\n",
       "      <th></th>\n",
       "      <th>id</th>\n",
       "      <th>content</th>\n",
       "      <th>cta_text</th>\n",
       "      <th>cta_link</th>\n",
       "      <th>background_color</th>\n",
       "      <th>title</th>\n",
       "      <th>use_checkmarks</th>\n",
       "    </tr>\n",
       "  </thead>\n",
       "  <tbody>\n",
       "    <tr>\n",
       "      <th>0</th>\n",
       "      <td>1</td>\n",
       "      <td>&lt;p&gt;Ut quibusdam voluptas dolor quasi tempore. ...</td>\n",
       "      <td>voluptate</td>\n",
       "      <td>[NT117]</td>\n",
       "      <td>PRIMARY</td>\n",
       "      <td>Eum reprehenderit provident saepe cupiditate l...</td>\n",
       "      <td>0</td>\n",
       "    </tr>\n",
       "    <tr>\n",
       "      <th>1</th>\n",
       "      <td>2</td>\n",
       "      <td>&lt;p&gt;Voluptatem harum debitis vitae omnis eum iu...</td>\n",
       "      <td>saepe</td>\n",
       "      <td>[NT107]</td>\n",
       "      <td>SECONDARY</td>\n",
       "      <td>Consectetur voluptatibus officiis sit in illum.</td>\n",
       "      <td>0</td>\n",
       "    </tr>\n",
       "    <tr>\n",
       "      <th>2</th>\n",
       "      <td>3</td>\n",
       "      <td>&lt;p&gt;Et soluta voluptatem qui et voluptatem dolo...</td>\n",
       "      <td>similique</td>\n",
       "      <td>[NT171]</td>\n",
       "      <td>SECONDARY</td>\n",
       "      <td>Eum voluptatem laudantium laborum.</td>\n",
       "      <td>0</td>\n",
       "    </tr>\n",
       "    <tr>\n",
       "      <th>3</th>\n",
       "      <td>4</td>\n",
       "      <td>&lt;p&gt;Eum recusandae iusto sed assumenda mollitia...</td>\n",
       "      <td>accusamus</td>\n",
       "      <td>[NT163]</td>\n",
       "      <td>PRIMARY</td>\n",
       "      <td>Laborum expedita maiores soluta.</td>\n",
       "      <td>0</td>\n",
       "    </tr>\n",
       "    <tr>\n",
       "      <th>4</th>\n",
       "      <td>5</td>\n",
       "      <td>&lt;p&gt;Consequatur aliquid assumenda qui quasi qua...</td>\n",
       "      <td>voluptatibus</td>\n",
       "      <td>[NT190]</td>\n",
       "      <td>SECONDARY</td>\n",
       "      <td>Incidunt quae et est.</td>\n",
       "      <td>0</td>\n",
       "    </tr>\n",
       "  </tbody>\n",
       "</table>\n",
       "</div>"
      ],
      "text/plain": [
       "   id                                            content      cta_text  \\\n",
       "0   1  <p>Ut quibusdam voluptas dolor quasi tempore. ...     voluptate   \n",
       "1   2  <p>Voluptatem harum debitis vitae omnis eum iu...         saepe   \n",
       "2   3  <p>Et soluta voluptatem qui et voluptatem dolo...     similique   \n",
       "3   4  <p>Eum recusandae iusto sed assumenda mollitia...     accusamus   \n",
       "4   5  <p>Consequatur aliquid assumenda qui quasi qua...  voluptatibus   \n",
       "\n",
       "  cta_link background_color  \\\n",
       "0  [NT117]          PRIMARY   \n",
       "1  [NT107]        SECONDARY   \n",
       "2  [NT171]        SECONDARY   \n",
       "3  [NT163]          PRIMARY   \n",
       "4  [NT190]        SECONDARY   \n",
       "\n",
       "                                               title use_checkmarks  \n",
       "0  Eum reprehenderit provident saepe cupiditate l...              0  \n",
       "1    Consectetur voluptatibus officiis sit in illum.              0  \n",
       "2                 Eum voluptatem laudantium laborum.              0  \n",
       "3                   Laborum expedita maiores soluta.              0  \n",
       "4                              Incidunt quae et est.              0  "
      ]
     },
     "execution_count": 8,
     "metadata": {},
     "output_type": "execute_result"
    }
   ],
   "source": [
    "text_page.head()"
   ]
  },
  {
   "cell_type": "code",
   "execution_count": 9,
   "metadata": {},
   "outputs": [
    {
     "name": "stdout",
     "output_type": "stream",
     "text": [
      "<class 'pandas.core.frame.DataFrame'>\n",
      "Int64Index: 981 entries, 0 to 16278\n",
      "Data columns (total 2 columns):\n",
      " #   Column   Non-Null Count  Dtype \n",
      "---  ------   --------------  ----- \n",
      " 0   content  981 non-null    object\n",
      " 1   title    187 non-null    object\n",
      "dtypes: object(2)\n",
      "memory usage: 23.0+ KB\n"
     ]
    }
   ],
   "source": [
    "text_page = text_page[['content','title']]\n",
    "text_page.info()"
   ]
  },
  {
   "cell_type": "code",
   "execution_count": 10,
   "metadata": {},
   "outputs": [
    {
     "data": {
      "text/html": [
       "<div>\n",
       "<style scoped>\n",
       "    .dataframe tbody tr th:only-of-type {\n",
       "        vertical-align: middle;\n",
       "    }\n",
       "\n",
       "    .dataframe tbody tr th {\n",
       "        vertical-align: top;\n",
       "    }\n",
       "\n",
       "    .dataframe thead th {\n",
       "        text-align: right;\n",
       "    }\n",
       "</style>\n",
       "<table border=\"1\" class=\"dataframe\">\n",
       "  <thead>\n",
       "    <tr style=\"text-align: right;\">\n",
       "      <th></th>\n",
       "      <th>content</th>\n",
       "      <th>title</th>\n",
       "    </tr>\n",
       "  </thead>\n",
       "  <tbody>\n",
       "    <tr>\n",
       "      <th>0</th>\n",
       "      <td>Ut quibusdam voluptas dolor quasi tempore Inve...</td>\n",
       "      <td>Eum reprehenderit provident saepe cupiditate l...</td>\n",
       "    </tr>\n",
       "    <tr>\n",
       "      <th>1</th>\n",
       "      <td>Voluptatem harum debitis vitae omnis eum iusto...</td>\n",
       "      <td>Consectetur voluptatibus officiis sit in illum.</td>\n",
       "    </tr>\n",
       "    <tr>\n",
       "      <th>2</th>\n",
       "      <td>Et soluta voluptatem qui et voluptatem dolores...</td>\n",
       "      <td>Eum voluptatem laudantium laborum.</td>\n",
       "    </tr>\n",
       "    <tr>\n",
       "      <th>3</th>\n",
       "      <td>Eum recusandae iusto sed assumenda mollitia mo...</td>\n",
       "      <td>Laborum expedita maiores soluta.</td>\n",
       "    </tr>\n",
       "    <tr>\n",
       "      <th>4</th>\n",
       "      <td>Consequatur aliquid assumenda qui quasi quae r...</td>\n",
       "      <td>Incidunt quae et est.</td>\n",
       "    </tr>\n",
       "  </tbody>\n",
       "</table>\n",
       "</div>"
      ],
      "text/plain": [
       "                                             content  \\\n",
       "0  Ut quibusdam voluptas dolor quasi tempore Inve...   \n",
       "1  Voluptatem harum debitis vitae omnis eum iusto...   \n",
       "2  Et soluta voluptatem qui et voluptatem dolores...   \n",
       "3  Eum recusandae iusto sed assumenda mollitia mo...   \n",
       "4  Consequatur aliquid assumenda qui quasi quae r...   \n",
       "\n",
       "                                               title  \n",
       "0  Eum reprehenderit provident saepe cupiditate l...  \n",
       "1    Consectetur voluptatibus officiis sit in illum.  \n",
       "2                 Eum voluptatem laudantium laborum.  \n",
       "3                   Laborum expedita maiores soluta.  \n",
       "4                              Incidunt quae et est.  "
      ]
     },
     "execution_count": 10,
     "metadata": {},
     "output_type": "execute_result"
    }
   ],
   "source": [
    "from bs4 import BeautifulSoup\n",
    "import re\n",
    "\n",
    "# Define a function to clean the text\n",
    "def clean_text(text):\n",
    "    # Remove HTML tags\n",
    "    text = BeautifulSoup(text, \"html.parser\").get_text()\n",
    "    # Remove special characters\n",
    "    text = re.sub(r'\\W+', ' ', text)\n",
    "    return text\n",
    "\n",
    "# Apply the function to the text_column\n",
    "text_page['content'] = text_page['content'].apply(clean_text)\n",
    "text_page.head()"
   ]
  },
  {
   "cell_type": "code",
   "execution_count": 11,
   "metadata": {},
   "outputs": [
    {
     "name": "stdout",
     "output_type": "stream",
     "text": [
      "<class 'pandas.core.frame.DataFrame'>\n",
      "Int64Index: 981 entries, 0 to 16278\n",
      "Data columns (total 1 columns):\n",
      " #   Column   Non-Null Count  Dtype \n",
      "---  ------   --------------  ----- \n",
      " 0   content  981 non-null    object\n",
      "dtypes: object(1)\n",
      "memory usage: 15.3+ KB\n"
     ]
    }
   ],
   "source": [
    "text_page.title.fillna('untitled', inplace=True)\n",
    "text_page.content = text_page['title'] +': '+ text_page['content']\n",
    "text_page.drop('title', axis=1, inplace=True)\n",
    "text_page.info()"
   ]
  },
  {
   "cell_type": "code",
   "execution_count": 12,
   "metadata": {},
   "outputs": [
    {
     "data": {
      "text/html": [
       "<div>\n",
       "<style scoped>\n",
       "    .dataframe tbody tr th:only-of-type {\n",
       "        vertical-align: middle;\n",
       "    }\n",
       "\n",
       "    .dataframe tbody tr th {\n",
       "        vertical-align: top;\n",
       "    }\n",
       "\n",
       "    .dataframe thead th {\n",
       "        text-align: right;\n",
       "    }\n",
       "</style>\n",
       "<table border=\"1\" class=\"dataframe\">\n",
       "  <thead>\n",
       "    <tr style=\"text-align: right;\">\n",
       "      <th></th>\n",
       "      <th>content</th>\n",
       "    </tr>\n",
       "  </thead>\n",
       "  <tbody>\n",
       "    <tr>\n",
       "      <th>16274</th>\n",
       "      <td>untitled: xxx</td>\n",
       "    </tr>\n",
       "    <tr>\n",
       "      <th>16275</th>\n",
       "      <td>untitled: xxx</td>\n",
       "    </tr>\n",
       "    <tr>\n",
       "      <th>16276</th>\n",
       "      <td>untitled: xxx</td>\n",
       "    </tr>\n",
       "    <tr>\n",
       "      <th>16277</th>\n",
       "      <td>untitled: xxx</td>\n",
       "    </tr>\n",
       "    <tr>\n",
       "      <th>16278</th>\n",
       "      <td>untitled: xxx</td>\n",
       "    </tr>\n",
       "  </tbody>\n",
       "</table>\n",
       "</div>"
      ],
      "text/plain": [
       "             content\n",
       "16274  untitled: xxx\n",
       "16275  untitled: xxx\n",
       "16276  untitled: xxx\n",
       "16277  untitled: xxx\n",
       "16278  untitled: xxx"
      ]
     },
     "execution_count": 12,
     "metadata": {},
     "output_type": "execute_result"
    }
   ],
   "source": [
    "text_page.tail()"
   ]
  },
  {
   "cell_type": "code",
   "execution_count": 13,
   "metadata": {},
   "outputs": [
    {
     "data": {
      "text/html": [
       "<div>\n",
       "<style scoped>\n",
       "    .dataframe tbody tr th:only-of-type {\n",
       "        vertical-align: middle;\n",
       "    }\n",
       "\n",
       "    .dataframe tbody tr th {\n",
       "        vertical-align: top;\n",
       "    }\n",
       "\n",
       "    .dataframe thead th {\n",
       "        text-align: right;\n",
       "    }\n",
       "</style>\n",
       "<table border=\"1\" class=\"dataframe\">\n",
       "  <thead>\n",
       "    <tr style=\"text-align: right;\">\n",
       "      <th></th>\n",
       "      <th>content</th>\n",
       "    </tr>\n",
       "  </thead>\n",
       "  <tbody>\n",
       "    <tr>\n",
       "      <th>16191</th>\n",
       "      <td>untitled: inleiding deze brochure is geschreve...</td>\n",
       "    </tr>\n",
       "    <tr>\n",
       "      <th>16192</th>\n",
       "      <td>untitled: slaapapneusyndroom sas inleiding in ...</td>\n",
       "    </tr>\n",
       "    <tr>\n",
       "      <th>16246</th>\n",
       "      <td>untitled: goede voeding is belangrijk zeker al...</td>\n",
       "    </tr>\n",
       "    <tr>\n",
       "      <th>16247</th>\n",
       "      <td>behandeling: tijdens ons bezoek bespreken we m...</td>\n",
       "    </tr>\n",
       "    <tr>\n",
       "      <th>16248</th>\n",
       "      <td>untitled: onze fysiotherapeut helpt patiënten ...</td>\n",
       "    </tr>\n",
       "  </tbody>\n",
       "</table>\n",
       "</div>"
      ],
      "text/plain": [
       "                                                 content\n",
       "16191  untitled: inleiding deze brochure is geschreve...\n",
       "16192  untitled: slaapapneusyndroom sas inleiding in ...\n",
       "16246  untitled: goede voeding is belangrijk zeker al...\n",
       "16247  behandeling: tijdens ons bezoek bespreken we m...\n",
       "16248  untitled: onze fysiotherapeut helpt patiënten ..."
      ]
     },
     "execution_count": 13,
     "metadata": {},
     "output_type": "execute_result"
    }
   ],
   "source": [
    "text_page.content = text_page.content.str.lower().str.strip()\n",
    "text_page = text_page[text_page['content'].str.len() >= 125]\n",
    "text_page.tail()"
   ]
  },
  {
   "cell_type": "code",
   "execution_count": 14,
   "metadata": {},
   "outputs": [
    {
     "data": {
      "text/plain": [
       "samen beslissen bij behandelkeuze prostaatkanker: het embraze kankernetwerk ziet samen beslissen als belangrijk thema om kwaliteit van zorg te verbeteren maar hoe maak je als arts en patiënt samen de beste keuze samen met vier andere ziekenhuizen uit het embraze kankernetwerk gebruiken we de keuzehulp prostaatkanker is eenmaal prostaatkanker geconstateerd dan kun je als patiënt de neiging hebben de arts te laten beslissen over je behandelplan toch biedt samen beslissen veel voordelen voor mannen met gelokaliseerd prostaatkanker zijn er vaak meerdere gelijkwaardige behandelingen mogelijk zoals actief volgen opereren en inwendig of uitwendig bestralen door de patiënt actief te betrekken bij zijn behandeling en hierover met hem in gesprek te gaan krijgt hij de behandeling die het beste bij hem past keuzehulp uroloog in amphia en voorzitter van de embraze werkgroep prostaat deric van der schoot door het gebruik van de keuzehulp is de patiënt beter geïnformeerd en meer betrokken bij zijn behandelkeuze hij kijkt kritischer naar eigen wensen voorkeuren en wat hij zelf belangrijk vindt met de samenvatting uit de keuzehulp kan de patiënt in het consult de informatie eenvoudig delen met de uroloog embraze kankernetwerk om de kwaliteit van de zorg voor patiënten met kanker continu te verbeteren en de kans op genezing te vergroten startten zeven ziekenhuizen en twee instituten radiotherapie in brabant en zeeland het kankernetwerk embraze binnen dit netwerk maakt een groot team van zorgprofessionals zich dagelijks hard voor het bieden van de best mogelijke zorg op het gebied van kanker zij werken volgens de laatste richtlijnen en nauw met elkaar samen in de regio zo bieden zij de best mogelijke zorg op het juiste moment en zo dicht mogelijk bij de patiënt dit bericht werd oorspronkelijk gepubliceerd op 22 augustus 2020                                                                                                                                                                                                                                                                                                                                                                                                                                                                                                                                                                                                                                                                                                                                                                                                                                                                                                                                                                                                                                                                                                                                                                                                                                                                                                                                                                                                                                                                                                                                                                                                                                                                                                                                                                                                                                                                                                                                                                                                                                                                                                                                                                                                                                                                                                                                                                                                                                                                                                                                                                                                                                                                                                                                                                                                                                                                                                                                                                                                                                                                                                                                                                                                                                                                                                                                                                                                                                                                                                                                                                                                                                                                                                                                                                                                                                                                                                                                                                                                                                                                                                                                                                                                                                                                                                                                                                                                                                                                                                                                                                                                                                                                                                                                                                                                                                                                                                                                                                                                                                                                                                                                                                                                                                                                                                                                                                                                                                                                                                                                                                                                                                                                                                                                                                                                                                                                                                                                                                                                                                                                                                                                                                                                                                                                                                                                                                                                                                                                                                                                                                                                                                                                                                                                                                                                                                                                                                                                                                                                                                                                                                                                                                                                                                                                                                                                                                                                                                                                                                                                                                                                                                                                                                                                                                                                                                                                                                                                                                                                                                                                                                                                                                                                                                                                                                                                                                                                                                                                                                                                                                                                                                                                                                                                                                                                                                                                                                                                                                                                                                                                                                                                                                                                                                                                                                                                                                                                                                                                                                                                                                                                                                                                                                                                                                                                                                                                                                                                                                                                                                                                                                                                                                                                                                                                                                                                                                                                                                                                                                                                                                                                                                                                                                                                                                                                                                                                                                                                                                                                                                                                                                                                                                                                                                                                                                                                                                                                                                                                                                                                                                                                                                                                                                                                                                                                                                                                                                                                                                                                                                                                                                        13\n",
       "untitled: inleiding binnenkort wordt u in ons ziekenhuis verwacht voor een hartspieronderzoek myocardscintigrafie het onderzoek vindt plaats op de afdeling nucleaire geneeskunde in deze folder kunt u lezen hoe dit onderzoek verloopt wat is myocardscintigrafie bij dit onderzoek wordt twee keer in twee dagen een licht radioactieve vloeistof technetium tetrofosmin toegediend om de doorbloeding van de hartspier vast te stellen de eerste dag wordt de vloeistof ingespoten tijdens inspanning en de tweede dag in rust op beide dagen wordt gekeken hoeveel radioactief technetium via het bloed door de hartspier is opgenomen deze vloeistof zendt gedurende een korte tijd straling uit met een speciale camera s worden foto s van uw hart gemaakt ook worden met hetzelfde apparaat röntgenfoto s ct scan van uw hart gemaakt uw specialist krijgt zo informatie of de bloedvaten in de hartspier kransslagaderen het hart van voldoende bloed en zuurstof kunnen voorzien de voorbereiding het onderzoek bestaat uit twee dagen voorbereiding dag 1 het inspanningsonderzoek de volgende medicijnen mogen de dag vóór het onderzoek en de dag ván het onderzoek niet worden ingenomen persantin asasantin en dipyridamol als er nog met andere medicijnen gestopt moet worden dan staat dat op uw afspraakbevestiging vermeld neem een lijstje waarop al uw medicijnen staan mee bent u cara patiënt chronische bronchitis astma of longemfyseem en gebruikt u inhalatie medicijnen dan verzoeken wij u die mee te nemen vanaf 18 00 uur op de avond voor de eerste onderzoeksdag én op de eerste onderzoeksdag zelf mag u geen koffie thee cola energiedrankjes chocola en banaan gebruiken alle andere dranken zijn wel toegestaan op de ochtend van het onderzoek mag u gewoon ontbijten hier mag u vruchtensap of melk bij drinken als u moet fietsen op een hometrainer draag dan een makkelijke broek en schoenen voorbereiding dag 2 het rustonderzoek het is belangrijk dat u zich zo min mogelijk inspant kom dus niet op de fiets voor het rustonderzoek zijn er verder geen beperkingen u mag eten drinken en al uw medicijnen weer gewoon innemen het onderzoek dag 1 het inspanningsonderzoek het inspanningsonderzoek kan op verschillende manieren worden uitgevoerd de inspanningstest gebeurt door middel van een fietstest of door toediening van een medicijn uw specialist bepaalt voor welke vorm er gekozen wordt u krijgt een infuus de bloeddruk wordt regelmatig gemeten en er wordt een hartfilmpje ecg gemaakt tijdens de inspanning wordt de radioactieve vloeistof toegediend na de inspanning wordt het infuus weer verwijderd hierna wacht u een half uur tot drie kwartier zodat de radioactieve stof zich kan verdelen in het lichaam in deze 3 kwartier wachttijd drinkt u 3 bekers water de laborant geeft u hierover nadere instructies daarna worden foto s van het hart gemaakt u ligt op uw rug op een onderzoekstafel de gamma camera s draaien om u heen zie afbeelding het totale onderzoek voor dag 1 duurt ongeveer anderhalf uur dag 2 het rustonderzoek u krijgt een injectie met radioactieve vloeistof daarna wacht u weer een half uur tot drie kwartier in de wachtkamer zodat de vloeistof kan inwerken u drinkt ook weer 3 bekers water vervolgens worden opnieuw foto s van het hart gemaakt net als de eerste dag het totale onderzoek op dag 2 duurt ongeveer een uur wat merkt u van het onderzoek als de inspanningstest met een medicijn wordt uitgevoerd kunnen soms klachten optreden hartbonzen hoofdpijn misselijkheid wazig zien pijn op de borst en kortademigheid deze klachten zijn van korte duur de uitslag de uitslag van het onderzoek hoort u van uw specialist is het onderzoek gevaarlijk de radioactieve stralingsdosis is niet gevaarlijk en heeft geen bijwerkingen de straling die wordt gebruikt is zeer gering de hoeveelheid straling is vergelijkbaar met het maken van röntgenfoto s ook de kleding die u draagt tijdens het onderzoek wordt niet radioactief belangrijk als u persantin dipyridamol of asasantin gebruikt dan mag u dat op de dag vóór het onderzoek en op de ochtend ván het onderzoek niet innemen vanaf 18 00 uur op de avond vóór de eerste onderzoeksdag en op de eerste onderzoeksdag zelf mag u geen koffie thee cola energiedrankjes chocola en banaan gebruiken wilt u op de eerste onderzoeksdag een lijstje meenemen van de medicijnen die u gebruikt blijft u na de toediening van de radioactieve stof op onze afdeling neem dan plaats in de wachtruimte voor patiënten ingespoten met radioactief materiaal bent u mogelijk zwanger of geeft u borstvoeding meldt u dit dan bij het maken van de afspraak of aan de laborant vóór het onderzoek begint reisverklaring gaat u binnen 3 dagen na het onderzoek een vliegreis maken meld dit bij de laborant u krijgt dan een vliegbrief met deze vliegbrief kunt u zonder problemen de douane passeren mochten de detectiepoortjes afgaan                                                                                                                                                                                                                                                                                                                                                                                                                                                                                                                                                                                                                                                                                                                                                                                                                                                                                                                                                                                                                                                                                                                                                                                                                                                                                                                                                                                                                                                                                                                                                                                                                                                                                                                                                                                                                                                                                                                                                                                                                                                                                                                                                                                                                                                                                                                                                                                                                                                                                                                                                                                                                                                                                                                                                                                                                                                                                                                                                                                                                                                                                                                                                                                                                                                                                                                                                                                                                                                                                                                                                                                                                                                                                                                                                                                                                                                                                                                                                                                                                                                                                                                                                                                                                                                                                                                                                                                                                                                                                                                                                                                                                                                                                                                                                                                                                                                                                                                                                                                                                                                                                                                                                                                                                                                                                                                                                                                                                                                                                                                                                                                                                                                                                                                                                                                                                                                                                                                                                                                                                                                                                                                                                                                                                                                                                                                                                                                                                                                                                                                                                                                                                                                                                                                                                                                                                                                                                                                                                                                                                                                                                                                                                                                                                                                                                                                                                                                                                                                                                                                                                                                                                                                                                                                                                                                                                                                                                                                                                                                                                                                                                                                                                                                                                                                                                                                                                                                                                                                                                                                                                                                                                                                                                                                                                                                                                                                                                                                                                                                           5\n",
       "untitled: verblijf op de acute opname afdeling aoa welkom op de acute opname afdeling van amphia u en uw familieleden krijgen in deze folder uitleg over de gang van zaken op de afdeling ook vindt u hier praktische informatie diagnose en zorg de aoa biedt zorg aan patiënten die met spoed opgenomen worden we nemen patiënten op voor de specialismen longgeneeskunde maag darm lever mdl neurologie en interne geneeskunde de aoa concentreert de medische onderzoeken behandeling en zorg op één plaats wanneer mogelijk wordt de analyse en behandeling poliklinisch afgerond als verdere of uitgebreidere behandeling noodzakelijk is wordt u na het verblijf op de aoa in principe max 48 uur opgenomen op één van de verpleegafdelingen binnen amphia door deze manier van werken wordt u efficiënter en sneller geholpen medicijnen als u thuis medicijnen gebruikt willen wij u vragen om uw medicatieoverzicht te overhandigen aan de verpleegkundige of deze zo spoedig mogelijk te laten brengen mocht u voor bepaalde medicatie allergisch zijn dan is het van belang dat u de verpleegkundige hiervan op de hoogte stelt uw verblijf de aoa is een drukke afdeling waar 24 uur per dag mensen met diverse klachten worden opgenomen en ontslagen u zult merken dat het verloop van patiënten op de afdeling dan ook groot is dat geldt ook voor het aantal zorgverleners uw verpleegkundige is in alle gevallen het eerste aanspreekpunt voor uw vragen contactpersoon de informatie over uw gezondheid is privé en aan deze privacy hechten wij veel waarde informatie geven wij dan ook alleen aan u of aan een door u aangewezen contactpersoon wij verzoeken u om de naam en het telefoonnummer van een contactpersoon door te geven aan de verpleegkundige visite van artsen medisch specialisten lopen één keer per dag visite dit zal in de loop van de ochtend zijn bezoektijden u of uw contactpersoon wordt verzocht het bezoek te coördineren om de rust rond patiënten te bewaren mogen er maximaal 2 bezoekers per patiënt op de kamer wachtend bezoek wordt verzocht buiten de unit te wachten zodat de privacy van u en andere patiënten gewaarborgd zijn bezoek kan wachten in het zitje in pantry bij de liften als uw gezondheidstoestand het toelaat mag u ook met het bezoek naar het zitje of naar beneden wanneer uw bezoek buiten de bezoektijden wil komen neem dan eerst even contact op met de verpleegkundige van de afdeling de bezoektijden zijn van 11 00 20 00 uur waardevolle spullen laat waardevolle spullen en geld zoveel mogelijk thuis op de afdeling is niet altijd toezicht op uw persoonlijke zaken er is een kluisje in de patiëntenkamer waar u geld en sieraden tijdelijk in kunt bewaren ontslag uw verblijf op de aoa duurt in principe niet langer dan 48 uur in deze periode bespreekt de arts de verschillende mogelijkheden met u u mag naar huis u wordt overgeplaatst naar een verpleegafdeling in ons ziekenhuis u gaat naar een andere instelling van uw arts of verpleegkundige krijgt u alle informatie die u nodig heeft voordat u met ontslag gaat voor vragen hierover of over de nazorg kunt u bij hen terecht vragen mocht u na het lezen van deze folder nog vragen hebben aarzel dan niet om deze aan ons te stellen positieve ervaringen en eventuele klachten horen wij ook graag door ons op de hoogte te houden kunnen wij namelijk onze zorg verbeteren wij wensen u een voorspoedig herstel toe team route 52a aoa www amphia nl                                                                                                                                                                                                                                                                                                                                                                                                                                                                                                                                                                                                                                                                                                                                                                                                                                                                                                                                                                                                                                                                                                                                                                                                                                                                                                                                                                                                                                                                                                                                                                                                                                                                                                                                                                                                                                                                                                                                                                                                                                                                                                                                                                                                                                                                                                                                                                                                                                                                                                                                                                                                                                                                                                                                                                                                                                                                                                                                                                                                                                                                                                                                                                                                                                                                                                                                                                                                                                                                                                                                                                                                                                                                                                                                                                                                                                                                                                                                                                                                                                                                                                                                                                                                                                                                                                                                                                                                                                                                                                                                                                                                                                                                                                                                                                                                                                                                                                                                                                                                                                                                                                                                                                                                                                                                                                                                                                                                                                                                                                                                                                                                                                                                                                                                                                                                                                                                                                                                                                                                                                                                                                                                                                                                                                                                                                                                                                                                                                                                                                                                                                                                                                                                                                                                                                                                                                                                                                                                                                                                                                                                                                                                                                                                                                                                                                                                                                                                                                                                                                                                                                                                                                                                                                                                                                                                                                                                                                                                                                                                                                                                                                                                                                                                                                                                                                                                                                                                                                                                                                                                                                                                                                                                                                                                                                                                                                                                                                                                                                                                                                                                                                                                                                                                                                                                                                                                                                                                                                                                                                                                                                                                                                                                                                                                                                                                                                                                                                                                                                                                                                                                                                                                                                                                                                                                                                                                                                                                                                                                                              5\n",
       "untitled: in onze folder vindt u meer informatie over uw behandeling op de polikliniek poliklinische kaakchirurgische ingrepen                                                                                                                                                                                                                                                                                                                                                                                                                                                                                                                                                                                                                                                                                                                                                                                                                                                                                                                                                                                                                                                                                                                                                                                                                                                                                                                                                                                                                                                                                                                                                                                                                                                                                                                                                                                                                                                                                                                                                                                                                                                                                                                                                                                                                                                                                                                                                                                                                                                                                                                                                                                                                                                                                                                                                                                                                                                                                                                                                                                                                                                                                                                                                                                                                                                                                                                                                                                                                                                                                                                                                                                                                                                                                                                                                                                                                                                                                                                                                                                                                                                                                                                                                                                                                                                                                                                                                                                                                                                                                                                                                                                                                                                                                                                                                                                                                                                                                                                                                                                                                                                                                                                                                                                                                                                                                                                                                                                                                                                                                                                                                                                                                                                                                                                                                                                                                                                                                                                                                                                                                                                                                                                                                                                                                                                                                                                                                                                                                                                                                                                                                                                                                                                                                                                                                                                                                                                                                                                                                                                                                                                                                                                                                                                                                                                                                                                                                                                                                                                                                                                                                                                                                                                                                                                                                                                                                                                                                                                                                                                                                                                                                                                                                                                                                                                                                                                                                                                                                                                                                                                                                                                                                                                                                                                                                                                                                                                                                                                                                                                                                                                                                                                                                                                                                                                                                                                                                                                                                                                                                                                                                                                                                                                                                                                                                                                                                                                                                                                                                                                                                                                                                                                                                                                                                                                                                                                                                                                                                                                                                                                                                                                                                                                                                                                                                                                                                                                                                                                                                                                                                                                                                                                                                                                                                                                                                                                                                                                                                                                                                                                                                                                                                                                                                                                                                                                                                                                                                                                                                                                                                                                                                                                                                                                                                                                                                                                                                                                                                                                                                                                                                                                                                                                                                                                                                                                                                                                                                                                                                                                                                                                                                                                                                                                                                                                                                                                                                                                                                                                                                                                                                                                                                                                                                                                                                                                                                                                                                        5\n",
       "untitled: in amphia bieden we medisch zinvolle zorg denk er als patiënt over mee indien mogelijk wilt u dat alles gedaan wordt wat technisch mogelijk is of wilt u dat uw kwaliteit van leven voorop staat en wie mag voor u beslissingen over de zorg nemen als u het niet meer kunt dit zijn lastige vragen maar wel belangrijk om hierover na te denken in amphia doen we dat samen met u u kunt uw behandelwensen meedelen en wij vertellen u de mogelijkheden grenzen en gevolgen van behandelingen u bent immers de deskundige van uzelf en uw leven en wij zijn de deskundige op het gebied van medische zorg denk en praat erover uw behandelwensen zijn heel persoonlijk u beslist zelf denk hier goed over na het kan u helpen om er met uw naasten over te praten zo krijgt u scherp hoe u de kwaliteit van uw leven ervaart en wat dit betekent voor uw behandeling                                                                                                                                                                                                                                                                                                                                                                                                                                                                                                                                                                                                                                                                                                                                                                                                                                                                                                                                                                                                                                                                                                                                                                                                                                                                                                                                                                                                                                                                                                                                                                                                                                                                                                                                                                                                                                                                                                                                                                                                                                                                                                                                                                                                                                                                                                                                                                                                                                                                                                                                                                                                                                                                                                                                                                                                                                                                                                                                                                                                                                                                                                                                                                                                                                                                                                                                                                                                                                                                                                                                                                                                                                                                                                                                                                                                                                                                                                                                                                                                                                                                                                                                                                                                                                                                                                                                                                                                                                                                                                                                                                                                                                                                                                                                                                                                                                                                                                                                                                                                                                                                                                                                                                                                                                                                                                                                                                                                                                                                                                                                                                                                                                                                                                                                                                                                                                                                                                                                                                                                                                                                                                                                                                                                                                                                                                                                                                                                                                                                                                                                                                                                                                                                                                                                                                                                                                                                                                                                                                                                                                                                                                                                                                                                                                                                                                                                                                                                                                                                                                                                                                                                                                                                                                                                                                                                                                                                                                                                                                                                                                                                                                                                                                                                                                                                                                                                                                                                                                                                                                                                                                                                                                                                                                                                                                                                                                                                                                                                                                                                                                                                                                                                                                                                                                                                                                                                                                                                                                                                                                                                                                                                                                                                                                                                                                                                                                                                                                                                                                                                                                                                                                                                                                                                                                                                                                                                                                                                                                                                                                                                                                                                                                                                                                                                                                                                                                                                                                                                                                                                                                                                                                                                                                                                                                                                                                                                                                                                                                                                                                                                                                                                                                                                                                                                                                                                                                                                                                                                                                                                                                                                                                                                                                                                                                                                                                                                                                                                                                                                                                                                                                                                                                                                                                                                                                                                                                                                                                                                                                                                                                                                                                                                       4\n",
       "                                                                                                                                                                                                                                                                                                                                                                                                                                                                                                                                                                                                                                                                                                                                                                                                                                                                                                                                                                                                                                                                                                                                                                                                                                                                                                                                                                                                                                                                                                                                                                                                                                                                                                                                                                                                                                                                                                                                                                                                                                                                                                                                                                                                                                                                                                                                                                                                                                                                                                                                                                                                                                                                                                                                                                                                                                                                                                                                                                                                                                                                                                                                                                                                                                                                                                                                                                                                                                                                                                                                                                                                                                                                                                                                                                                                                                                                                                                                                                                                                                                                                                                                                                                                                                                                                                                                                                                                                                                                                                                                                                                                                                                                                                                                                                                                                                                                                                                                                                                                                                                                                                                                                                                                                                                                                                                                                                                                                                                                                                                                                                                                                                                                                                                                                                                                                                                                                                                                                                                                                                                                                                                                                                                                                                                                                                                                                                                                                                                                                                                                                                                                                                                                                                                                                                                                                                                                                                                                                                                                                                                                                                                                                                                                                                                                                                                                                                                                                                                                                                                                                                                                                                                                                                                                                                                                                                                                                                                                                                                                                                                                                                                                                                                                                                                                                                                                                                                                                                                                                                                                                                                                                                                                                                                                                                                                                                                                                                                                                                                                                                                                                                                                                                                                                                                                                                                                                                                                                                                                                                                                                                                                                                                                                                                                                                                                                                                                                                                                                                                                                                                                                                                                                                                                                                                                                                                                                                                                                                                                                                                                                                                                                                                                                                                                                                                                                                                                                                                                                                                                                                                                                                                                                                                                                                                                                                                                                                                                                                                                                                                                                                                                                                                                                                                                                                                                                                                                                                                                                                                                                                                                                                                                                                                                                                                                                                                                                                                                                                                                                                                                                                                                                                                                                                                                                                                                                                                                                                                                                                                                                                                                                                                                                                                                                                                                                                                                                                                                                                                                                                                                                                                                                                                                                                                                                                                                                                                                                                                                                                                                                     ..\n",
       "untitled: wat is hysteroscopie hysteroscopie betekent kijken in de baarmoeder bij een hysteroscopie kijkt de gynaecoloog met een kijkbuis hysteroscoop via de schede naar de binnenkant van de baarmoeder een hysteroscoop kan worden aangesloten op een camera of televisiescherm als u dat wilt kunt u zelf meekijken waarom een hysteroscopie een hysteroscopie wordt uitgevoerd om oorzaken van afwijkingen in de baarmoeder op te sporen diagnostische reden of te behandelen therapeutische reden de gynaecoloog bespreekt met u de reden van de ingreep diagnostische redenen om de oorzaak van afwijkingen op te sporen zijn abnormaal bloedverlies bijvoorbeeld door een poliep een vleesboom of een spiraaltje of bloedverlies na de overgang opsporen van een spiraaltje vruchtbaarheidsstoornissen onvervulde kinderwens afwezigheid van de menstruatie en door verkleving van de baarmoeder therapeutische redenen voor het behandelen van meestal kleine afwijkingen verwijderen van een kleine vleesboom of poliep verwijderen van een spiraaltje wegnemen van littekenweefsel verwijderen van het slijmvlies van baarmoeder complicaties zoals bij iedere operatie kunnen ook bij de hysteroscopie complicaties optreden hoewel deze complicaties zeldzaam zijn kunt u bij twijfel altijd contact met ons opnemen abnormaal veel bloedverlies de behandeling veroorzaakt vaak een wond aan de binnenkant van de baarmoeder er kunnen ook wondjes zijn in de baarmoederhals door een tangetje dat daar werd geplaatst het bloedverlies of de bruine afscheiding gaat meestal binnen enkele dagen over is het bloedverlies meer dan een flinke menstruatie neem dan contact op met uw gynaecoloog beschadiging van de wand van de baarmoeder soms ontstaat tijdens de behandeling een gaatje in de wand van de baarmoeder perforatie meestal geneest dit vanzelf een groter gat moet soms operatief gesloten worden in dat geval is alsnog narcose noodzakelijk soms is een laparoscopie kijkoperatie voldoende om de ernst van het gat te beoordelen in andere gevallen kan een buikoperatie via een bikinisnee noodzakelijk zijn om een bloeding te stelpen deze complicatie komt vooral voor bij de behandeling van ernstige verklevingen of diep in de wand gelegen myomen maar ook bij eenvoudiger hysteroscopische operaties kan een perforatie voorkomen een zeer zeldzaam gevolg van een perforatie is beschadiging van de darm of blaas een dergelijke complicatie vergt extra zorg en een langere ziekenhuisopname ontsteking of infectie een infectie kan in de baarmoederwand maar ook in de eileiders optreden bij een hysteroscopische operatie komt deze complicatie weinig voor koorts en hevige buikpijn wijzen op een ontsteking behandeling met antibiotica is dan noodzakelijk u moet bij deze verschijnselen direct contact met het ziekenhuis opnemen overgevoeligheid u kunt overgevoelig zijn voor jodium de verdoving of de vloeistof voor het oprekken van de baarmoederholte als u weet dat u overgevoelig bent voor dergelijke stoffen geef dit dan door wij kunnen er dan rekening mee houden overvulling een zeldzame complicatie van een hysteroscopische operatie is overvulling van de bloedcirculatie er treedt dan een te grote vochtbelasting voor het lichaam op deze complicatie komt vooral voor bij de hysteroscopische verwijdering van een myoom en bij endometriumresectie bij deze operaties komt de vloeistof waarmee de gynaecoloog de baarmoeder vult gemakkelijk in de bloedbaan terecht als er te veel vocht in de bloedbaan komt moet de arts de operatie afbreken meestal kan het lichaam dit vocht gemakkelijk kwijt een plaspil kan noodzakelijk zijn een enkele keer is extra intensieve zorg na de operatie noodzakelijk syndroom van asherman bij elke operatie treedt littekenvorming op ook bij operaties in de baarmoeder kunnen littekens ontstaan in de vorm van verklevingen in de baarmoeder dit heet het syndroom van asherman deze complicatie is zeer zeldzaam als hij al voorkomt is het meestal na een hysteroscopische verwijdering van een myoom in ernstige gevallen kan het menstruatiebloed ten gevolge van de verklevingen niet naar buiten poliklinische hysteroscopie voorbereiding op de poliklinische hysteroscopie u hoeft niet nuchter te zijn wij adviseren u om na de ingreep niet alleen naar huis te rijden ten aanzien van de pijnstilling voorafgaand aan de ingreep stellen wij het volgende voor avond en 1 uur voor de ingreep paracetamol 2 tabletten van 500 mg en naproxen 1 tablet 500mg zo nodig na de ingreep paracetamol 2 tabletten van 500 mg en naproven 1 tablet 500mg bij allergie voor bepaalde middelen kan de arts een ander beleid met u hebben besproken indien van toepassing is het recept digitaal naar uw apotheek verstuurd dag van de ingreep op het afgesproken tijdstip mag u zich melden bij polikliniek gynaecologie u mag plaatsnemen in de wachtruimte uw begeleider ster mag tijdens de behandeling in de wachtkamer op u wachten neem zo min mogelijk waardevolle spullen mee uw handtas kunt u meenemen naar de behandelkamer de doktersassistent neemt u mee naar de kleedruimte waar u wordt verzocht de onderkleding uit te doen u kunt uw bovenkleding en sokken aanhouden vervolgens wordt de hysteroscoop vanuit de vagina via de baarmoederhals in de baarmoeder gebracht via het buisje wordt warm water ingebracht om te spoelen en om de baarmoederholte wat op te vullen zodat de gynaecoloog een goed overzicht krijgt dit water voelt u terug uit de schede lopen via dit kijkbuisje kunnen ook kleine instrumentjes in de baarmoederholte worden geschoven u mag meekijken met de gynaecoloog op het beeldscherm en hij zij zal u uitleg geven wat er te zien is het beeld op het beeldscherm is erg vergroot na de hysteroscopie na de ingreep mag u zich weer aankleden omdat het water dat in uw baarmoeder is gebracht er terug uit komt is het verstandig om de rest van de dag een maandverbandje te dragen om het water op te vangen als u zich goed voelt mag u daarna naar huis adviezen voor thuis u kunt na de behandeling wat bloed verlies hebben zolang u dit bloedverlies heeft mag u geen tampons gebruiken mag u geen geslachtsgemeenschap hebben mag u niet in bad gaan u mag zich wel gewoon douchen soms kunt u nog wat menstruatieachtige buikpijn hebben hiervoor mag u pijnstilling innemen maximaal 4x daags 2 tabletten paracetamol van 500 mg wij raden u aan om het bij thuiskomst de rest van de dag rustig aan te doen bij hevige buikpijn ruim bloedverlies of koorts kunt u ons na de ingreep bereiken overdag tijdens kantooruren 076 595 15 99 u krijgt een assistente van de gynaecoloog aan de lijn buiten kantooruren dient u contact op te nemen met het ziekenhuis via 076 595 30 00 u kunt vragen naar een medewerker van de triagekamer hysteroscopie onder narcose of verdoving gebruikt u bloedverdunners als u bloedverdunners antistollingsmedicatie gebruikt meld dit aan uw behandelend arts hij zij bespreekt met u of en wanneer u moet stoppen met deze medicijnen narcose of verdoving de hystheroscopie kan plaatsvinden onder algehele narcose regionale verdoving plaatselijke verdoving om al uw lichaamsfuncties tijdens de operatie bij zowel algehele verdoving als regionale verdoving te controleren bent u op bewakingsapparatuur aangesloten u krijgt plakkers op de borst om de hartslag te meten en een klemmetje op uw vinger om het zuurstofgehalte in uw bloed te controleren de bloeddruk wordt aan uw arm gemeten u krijgt een naald ingebracht in een arm hierop wordt een infuus aangesloten om vocht toe te dienen algehele verdoving narcose bij een algehele verdoving wordt uw hele lichaam verdoofd en bent u tijdelijk buiten bewustzijn via een infuus in uw arm spuit de anesthesioloog de narcosemiddelen in dit kan even een koud of pijnlijk gevoel geven maar binnen een halve minuut valt u in een diepe slaap na de operatie kunt u last hebben van slaperigheid u kunt zich slaperig voelen en af en toe wegdommelen u kunt misselijk zijn en u moet misschien overgeven de verpleegkundigen weten precies wat ze u hier tegen mogen geven vraag er gerust om een zwaar of kriebelig gevoel achter in uw keel dat komt door het buisje dat tijdens de operatie in uw keel zat deze irritatie verdwijnt vanzelf binnen een aantal dagen regionale verdoving de regionale verdoving gebeurt met een ruggenprik de ruggenprik wordt ook spinale anesthesie genoemd de anesthesioloog spuit met een dunne naald een verdovende vloeistof in uw wervelkanaal vaak denken mensen ten onrechte dat de prik in de rug heel pijnlijk is de prik doet niet meer pijn dan een gewone injectie u merkt na de ruggenprik dat uw onderlichaam warm slap en gevoelloos wordt door de ruggenprik kunt u de eerste uren na de operatie de onderste helft van uw lichaam niet goed bewegen dit gevoel wordt beschreven als een verlamd gevoel soms kan het plassen daardoor tijdelijk moeilijker gaan dan normaal als de verdoving is uitgewerkt komt het gevoel en de kracht in uw onderlichaam weer terug en gaat ook het plassen weer normaal een regionale anesthesie kan een aantal bijwerkingen hebben u kunt misselijk zijn en u moet misschien braken de kans daarop is kleiner dan bij algehele verdoving meld de verpleegkundige dat u misselijk bent deze kan u hiervoor iets geven na een ruggenprik kunt u last krijgen van hoofdpijn als u last krijgt van hoofdpijn kunt u het beste een paracetamol innemen 4 tot 5 keer 500 mg per dag veel drinken 2 liter en plat gaan liggen als de hoofdpijn langer dan twee dagen aan houdt adviseren wij u contact op te nemen met de spoedeisende hulp het is mogelijk dat u na een ruggenprik een licht irriterend of soms wat pijnlijk gevoel in de benen heeft dit is niet verontrustend en gaat vanzelf over plaatselijke verdoving bij een plaatselijke verdoving spuit de arts met een dunne naaldje op een paar plaatsen in de baarmoederhals een verdovingsvloeistof de meeste vrouwen ervaren dit als weinig pijnlijk wel kan het een kleine bloeding veroorzaken bij een ruggenprik en plaatselijke verdoving bent u wakker en kunt u het verloop van de operatie eventueel volgen op het scherm de anesthesioloog kan adviseren over de mogelijkheden en ervaringen met deze soorten verdoving voorbereiding op de operatiebij narcose en regionale verdoving ruggenprik het is heel belangrijk dat u tijdens de ingreep nuchter bent zowel bij narcose als bij een regionale verdoving dit verkleint de kans dat u gaat braken tijdens en na de ingreep de ingreep gaat niet door als u niet nuchter bent bij narcose en bij een regionale verdoving u moet uw eigen medicijnen s ochtends gewoon innemen met een slokje water tenzij anders is afgesproken er wordt met u afgesproken of u uw bloedverdunnende medicijnen wel of niet in moet nemen wordt u s ochtends geholpen als u vóór 13 00 uur wordt geopereerd dan is tot middernacht 24 00 uur voor de operatie vast voedsel toegestaan u mag heldere drank drinken tot 6 00 uur in de ochtend wordt u s middags geholpen als u na 13 00 uur wordt geopereerd dan is vast voedsel tot middernacht toegestaan tot 7 00 uur mag u een licht ontbijt nuttigen en tot 10 00 uur mag u heldere drank drinken een licht ontbijt 1 of 2 beschuit en of toast eventueel licht besmeerd met boter en zoet beleg koffie thee of melkproducten heldere drank koffie zonder melk thee zonder melk frisdrank zonder co2 helder vruchtensap zonder vruchtvleesdeeltjes bijvoorbeeld appelsap druivensap water en ranja heldere dranken zijn niet melk en melkproducten pap ondoorzichtig vruchtensap of met vruchtvleesdeeltjes thee koffie met melk drinkyoghurt met fruitsmaak drinkontbijt fruitontbijt etcetera plaatselijke verdoving wanneer de ingreep onder plaatselijke verdoving plaatsvindt hoeft u niet nuchter te zijn u mag dan voor de ingreep normaal eten verdere voorbereiding we verwachten dat u zich s ochtends thuis doucht scheren is bij deze ingreep niet nodig na de ingreep sommige vrouwen hebben na de ingreep vervelende menstruatie achtige buikkrampen de krampen zijn normaal u hoeft zich er geen zorgen over te maken u kunt aan de verpleegkundige medicijnen vragen om de pijn te verlichten de verpleegkundige controleert uw bloeddruk pols en het vloeien veel dagelijkse activiteiten mag u in principe direct weer verrichten in eerste instantie zal de verpleegkundige u hierbij wel ondersteunen bijvoorbeeld bij het lopen het infuus verwijdert de verpleegkundige als blijkt dat u geen problemen heeft met eten en drinken wanneer kunt u weer naar huis als het eten en drinken goed gaat u geplast heeft en geen abnormaal bloedverlies meer heeft meestal is dit 2 uur nadat u op de afdeling terug bent weer thuis we adviseren u om niet zelf naar huis te rijden zorg ervoor dat iemand u komt ophalen u kunt na de operatie nog wat bloedverlies of bruinige afscheiding hebben dit bloedverlies is meestal binnen enkele dagen weer over zolang u vloeit mag u geen tampons gebruiken geen geslachtsgemeenschap hebben niet in bad u kunt zich in deze dagen wel douchen gedurende twee dagen dient u rustig aan te doen controle afspraak u bezoekt de polikliniek na ongeveer 4 weken we bespreken dan het resultaat van het onderzoek wanneer moet u contact opnemen met het ziekenhuis neem contact op als u na de hysterscopie last heeft van hevig bloedverlies hevige buikpijn koorts meer dan 38 graden duizeligheid of hartkloppingen bij bijzonderheden belt u naar de afdeling gynaecologie 076 595 27 25 vragen als u vragen heeft stel deze dan gerust aan de gynaecoloog                                                                                                                                1\n",
       "informatie over allergie: inleiding u bent overgevoelig voor de bovenvermelde stof ter bevordering van uw genezing en om te voorkomen dat het eczeem of een andere huidreactie weer optreedt ontvangt u hierbij informatie over deze stof probeer verdachte voorwerpen te vermijden deze lijst dient slechts als leidraad het is onmogelijk om alle producten aan te geven omdat deze steeds kunnen wisselen van samenstelling algemeen de composieten asteraceae of samengestelde bloemen vormen een grote plantenfamilie die als kenmerk hebben dat hun afzonderlijke bloemen zijn opgebouwd uit vele kleine bloemen de compositae mix is een mengsel van plantenextracten van deze familie evenals de sesquiterpene lactone mix een ander mengsel van deze composieten familie deze mix bestaat uit 3 bestanddelen alantolactone dehyderocostus lactone costunolide 65 van de composieten allergie wordt door deze test ontdekt gebruik en voorkomen sierplanten chrysant margriet matricaria margriet kamille aster dahlia korenbloem afrikaantjes en guldenroede onkruid duizendblad boerenwormkruid en paardebloem groenten andijvie witlof ook groenlof en roodlof sla alle soorten schorseneren en artisjokken cosmetica met ingrediënten van deze planten zalven crèmes etc met ingrediënten van deze planten nb er kan een huidreactie optreden door contact van de deeltjes met de huid via de lucht denk ook aan reformprodukten zoals kamillosan calendula zalf lees ook het allergie inlegvel over sesquiterpene lactone mix                                                                                                                                                                                                                                                                                                                                                                                                                                                                                                                                                                                                                                                                                                                                                                                                                                                                                                                                                                                                                                                                                                                                                                                                                                                                                                                                                                                                                                                                                                                                                                                                                                                                                                                                                                                                                                                                                                                                                                                                                                                                                                                                                                                                                                                                                                                                                                                                                                                                                                                                                                                                                                                                                                                                                                                                                                                                                                                                                                                                                                                                                                                                                                                                                                                                                                                                                                                                                                                                                                                                                                                                                                                                                                                                                                                                                                                                                                                                                                                                                                                                                                                                                                                                                                                                                                                                                                                                                                                                                                                                                                                                                                                                                                                                                                                                                                                                                                                                                                                                                                                                                                                                                                                                                                                                                                                                                                                                                                                                                                                                                                                                                                                                                                                                                                                                                                                                                                                                                                                                                                                                                                                                                                                                                                                                                                                                                                                                                                                                                                                                                                                                                                                                                                                                                                                                                                                                                                                                                                                                                                                                                                                                                                                                                                                                                                                                                                                                                                                                                                                                                                                                                                                                                                                                                                                                                                                                                                                                                                                                                                                                                                                                                                                                                                                                                                                                                                                                                                                                                                                                                                                                                                                                                                                                                                                                                                                                                                                                                                                                                                                                                                                                                                                                                                                                                                                                                                                                                                                                                                                                                                                                                                                                                                                                                                                                                                                                                                                                                                                                                                                                                                                                                                                                                                                                                                                                                                                                                                                                                                                                                                                                                                                                                                                                                                                                                                                                                                                                                                                                                                                                                                                                                                                                                                                                                                                                                                                                                                                                                                                                                                                                                                                                                                                                                                                                                                                                                                                                                                                                                                                                                                                                                                                                                                                                                                                                                                                                                                                                            1\n",
       "untitled: inleiding deze folder geeft u informatie die u nodig heeft om goed voorbereid te zijn op de operatie aan de dikke darm en uw herstel daarnaast wordt ingegaan op het herstelprogramma alle aspecten rondom de operatie de operatie zelf en het ontslag informatie over de aandoeningen waarvoor een dikke darm operatie nodig kan zijn komt summier aan bod heeft u naar aanleiding van deze folder nog vragen of zijn er onduidelijkheden dan kunt u uw vragen stellen tijdens het gesprek met de casemanager ge oncologie of mdl stoma consulent achterin de folder is ruimte om uw vragen te noteren zo voor komt u dat u ze vergeet te stellen het is prettig als uw partner of familie ook de folder leest zij hebben dan ook en duidelijk beeld van uw operatie en de herstelperiode het is goed u te realiseren dat voor u persoonlijk de situatie anders kan zijn dan beschreven wat is de functie en de ligging van de dikke darm ons voedsel komt via slokdarm maag en dunne darm terecht in de dikke darm de dikke darm is het laatste deel van ons spijsverteringskanaal hier vinden de laatste processen van de spijsvertering plaats de dikke darm onttrekt water en zouten aan de brij waardoor de ontlasting indikt deze functie kan ook nog goed vervuld worden wanneer een groot deel van de dikke darm is verwijderd de dikke darm is in totaal ongeveer 1 5 meter lang en kan in een aantal delen worden onderscheiden zie tekening                                                                                                                                                                                                                                                                                                                                                                                                                                                                                                                                                                                                                                                                                                                                                                                                                                                                                                                                                                                                                                                                                                                                                                                                                                                                                                                                                                                                                                                                                                                                                                                                                                                                                                                                                                                                                                                                                                                                                                                                                                                                                                                                                                                                                                                                                                                                                                                                                                                                                                                                                                                                                                                                                                                                                                                                                                                                                                                                                                                                                                                                                                                                                                                                                                                                                                                                                                                                                                                                                                                                                                                                                                                                                                                                                                                                                                                                                                                                                                                                                                                                                                                                                                                                                                                                                                                                                                                                                                                                                                                                                                                                                                                                                                                                                                                                                                                                                                                                                                                                                                                                                                                                                                                                                                                                                                                                                                                                                                                                                                                                                                                                                                                                                                                                                                                                                                                                                                                                                                                                                                                                                                                                                                                                                                                                                                                                                                                                                                                                                                                                                                                                                                                                                                                                                                                                                                                                                                                                                                                                                                                                                                                                                                                                                                                                                                                                                                                                                                                                                                                                                                                                                                                                                                                                                                                                                                                                                                                                                                                                                                                                                                                                                                                                                                                                                                                                                                                                                                                                                                                                                                                                                                                                                                                                                                                                                                                                                                                                                                                                                                                                                                                                                                                                                                                                                                                                                                                                                                                                                                                                                                                                                                                                                                                                                                                                                                                                                                                                                                                                                                                                                                                                                                                                                                                                                                                                                                                                                                                                                                                                                                                                                                                                                                                                                                                                                                                                                                                                                                                                                                                                                                                                                                                                                                                                                                                                                                                                                                                                                                                                                                                                                                                                                                                                                                                                                                                                                                                                                                                                                                                                                                                                                                                                                                                                                                                                                                                                                                                                                                                                                     1\n",
       "untitled: wat is een laparoscopie de gynaecoloog heeft voorgesteld een laparoscopie bij u te verrichten de operatie gebeurt bijna altijd onder narcose algehele verdoving het is een ingreep waarbij de arts met een kijkbuis laparoscoop in de buikholte kan kijken de gynaecoloog maakt twee sneetjes in de buik meestal onzichtbaar in de navel en het schaamhaar om die laparoscoop en een tastinstrument in de buikholte in te brengen wat kunt u verwachten een laparoscopie is een vrij eenvoudige ingreep die gemiddeld een half uur in beslag neemt meestal wordt de ingreep tijdens dagopname gedaan zodat u dezelfde dag weer naar huis mag als de laparoscopie niet mogelijk blijkt of problemen geeft moet de gynaecoloog over gaan tot een laparotomie bij een laparotomie maakt de gynaecoloog een grote horizontale snede 10 15 cm in de onderbuik dit komt zelden voor u verblijft dan ook langer in het ziekenhuis hoe verloopt de laparoscopie de gynaecoloog maakt meestal een sneetje van ongeveer 1 cm in de onderrand van de navel en brengt door dat sneetje een dunne holle naald in de buikholte hierdoor wordt de buik gevuld met onschadelijk koolzuurgas zo ontstaat ruimte in de buik om de verschillende organen te zien daarna brengt de gynaecoloog via hetzelfde sneetje de laparoscoop kijkbuis in de buik en sluit deze aan op een videocamera de baarmoeder eileiders en eierstokken zijn zo zichtbaar op de monitor bij het vermoeden op het bestaan van verklevingen brengt de arts soms de naald en de laparoscoop op een andere plaats in bijvoorbeeld onder de ribbenboog ook op een paar andere plaatsen zoals net boven het schaambeen en de zijkanten van de onderbuik maakt de arts sneetjes waardoor hij operatieinstrumenten inbrengt via de vagina en de baarmoederhals brengt de gynaecoloog soms een instrument in de baarmoederholte om de baarmoeder tijdens de operatie te bewegen tot slot kan ook in de vagina achter de baarmoedermond een snee gemaakt worden hierdoor is het mogelijk bijvoorbeeld een vergrote eierstok of een vleesboom uit de buikholte te verwijderen als het onderzoek en de eventuele behandeling zijn afgelopen laat de arts het gas weer uit de buik ontsnappen de laparoscoop wordt verwijderd en de sneetjes worden gehecht gynaecologen gebruiken laparoscopie al vele jaren bij sterilisaties en vruchtbaarheidsonderzoek door verbeteringen van het instrumentarium is het mogelijk steeds uitgebreidere operaties te doen zo is het mogelijk het openen van de buikholte met een grotere snede te voorkomen bij een laparoscopische operatie blijft de buikholte afgesloten in vergelijking met een gewone operatie treedt minder prikkeling van het buikvlies op en werken de darmen na afloop sneller de kleinere sneetjes veroorzaken minder wondpijn hierdoor is ook het verblijf in het ziekenhuis korter en gaat het herstel thuis doorgaans sneller wel duurt de operatie soms langer zodat u langer onder narcose bent de ervaring van uw gynaecoloog en het soort operatie spelen een rol bij de operatieduur waarom een laparoscopie bij een laparoscopie bekijkt de arts de organen in de buikholte bekijkt eenvoudige ingrepen kan de arts ook doen met laparoscopie zoals het opheffen van kleine vergroeiingen sterilisatie en een biopsie soms spoort de arts oorzaken van verschillende klachten op en behandelt deze zo mogelijk direct behandeld in andere gevallen bekijkt de arts of een andere grotere operatie nodig is sterilisatie het afsluiten van de eileiders vindt dikwijls via een laparoscopie plaats de eileiders worden met een ringetje of klemmetje dichtgedrukt of dichtgeschroeid eicel en zaadcel kunnen elkaar nu niet meer bereiken zodat geen zwangerschap kan optreden buikpijn vaak zal een laparoscopie uitgevoerd worden vanwege buikpijnklachten buikpijn kan uiteenlopende oorzaken hebben ook na een laparoscopie is er lang niet altijd een verklaring voor onvruchtbaarheid bij het vruchtbaarheidsonderzoek kan de gynaecoloog met laparoscopie afwijkingen opsporen die met andere onderzoekmethoden o a echografie en baarmoederfoto niet of onvoldoende zichtbaar zijn via de baarmoederhals spuit de gynaecoloog een blauwe kleurstof in zijn de eileiders open dan wordt de kleurstof in de buikholte zichtbaar de laparoscopie wordt in dit geval in de tweede week van de cyclus gedaan dus tussen de laatste menstruatie en de te verwachten eisprong in als de ingreep toch is gepland rond de eisprong vermijd dan een week een onbeschermde samenleving coitus endometriose baarmoederslijmvlies in medische termen endometrium genoemd kan ook buiten de baarmoeder bijvoorbeeld in de buikholte voorkomen tijdens de menstruatie bloeden deze stukjes baarmoederslijmvlies mee hierdoor kunnen de menstruaties soms heviger worden en bovendien kunnen zij een rol meespelen bij pijnklachten en vruchtbaarheidsstoornissen met een laparoscopie kan de arts vaststellen waar de endometriumhaarden zich bevinden en welke behandeling voorhanden ligt na de behandeling kan een laparoscopie uitsluitsel geven over het succes hiervan ontstekingen bij ontstekingen van de eileiders kan de arts via een laparoscopie bekijken hoe ernstig de ontsteking is na behandeling kan de arts nagaan of de ontsteking helemaal over is ook kan hij wat weefsel meenemen voor bacteriologisch onderzoek verklevingen door ontstekingen of operaties kan littekenweefsel in de buik ontstaan dit kan verkleving en verdraaiing van organen tot gevolg hebben die soms klachten geven kleine verklevingen kan de arts tijdens een laparoscopie losmaken met een speciaal schaartje inwendige bloedingen soms kan bijvoorbeeld bij een eisprong of buitenbaarmoederlijke zwangerschap een bloeding in de buik optreden met een laparoscopie kan worden bepaald waar het bloed vandaan komt de ophoping van bloed kan veel pijn veroorzaken de arts kan met laparoscopie overtollig bloed wegzuigen soms moet de arts overgaan tot laparotomie ziekten van andere buikorganen meestal wordt een laparoscopie toegepast bij gynaecologisch onderzoek maar het kan ook aandoeningen van andere organen in de buik helpen vaststellen zwellingen in de buik deze kunnen bij vrouwen én mannen via een laparoscopie worden onderzocht zo n zwelling kan pijnlijk zijn enkele veel voorkomende afwijkingen bij vrouwen die gepaard gaan met zwellingen zijn eierstokvergroting een eierstok kan vergroot raken door een cyste een met vloeistof gevulde holte of een gezwel met een laparoscopie kan de arts zien waar het hierom gaat is er een cyste dan kan die soms meteen worden leeggezogen blijkt het een gezwel te zijn dan wordt een stukje weefsel weggenomen voor nader onderzoek eileidervergroting ook kan ophoping van vocht een eileider afsluiten dit is met een laparoscopie vast te stellen bij vruchtbaarheidsstoornissen kan de arts kijken of de eileider met een operatie te herstellen is buitenbaarmoederlijke zwangerschap een buitenbaarmoederlijke zwangerschap heet ook een extra uteriene graviditeit vaak afgekort als eug extra buiten uterus baarmoeder graviditeit zwangerschap de zwangerschap bevindt zich buiten de baarmoeder meestal in de eileider kleine buitenbaarmoederlijke zwangerschappen sterven soms uit zich zelf af het lichaam ruimt ze dan op soms is een medicijn nodig om dit proces te bespoedigen bij grotere buitenbaarmoederlijke zwangerschappen of bij een bloeding door het barsten van de eileider is nogal eens een buikoperatie laparotomie noodzakelijk de gynaecoloog kan besluiten de hele eileider met de buitenbaar moederlijk zwangerschap te verwijderen soms is het mogelijk de zwangerschap voorzichtig uit de eileider te pellen een andere mogelijkheid is het inspuiten van medicijnen of suikerwater in de buitenbaarmoederlijke zwangerschap de arts verwacht dat deze daarna uit zichzelf afsterft myomen myomen of vleesbomen bevinden zich in of op de wand van de baarmoeder ze bestaan uit spieren bindweefsel en variëren in grootte afhankelijk van de plaats waar ze zich bevinden kunnen zij klachten veroorzaken onderzoek naar kanker na behandeling met medicijnen kan de arts met een laparoscopie zien of een gezwel kleiner wordt of niet ook kan de arts zien door laparoscopie of een operatie zinvol en uitvoerbaar is en hij zij kan stukjes weefsel voor nader onderzoek wegnemen na de operatie pijn direct na de ingreep heeft u vaak hevige buikpijn de pijn vermindert de eerste uren na de operatie en verdwijnt meestal aan het eind van de dag sommige vrouwen houden de eerste dagen nog buikpijn u kunt hiervoor pijnstillers gebruiken ook schouderpijn komt voor het in de buik ingebrachte koolzuurgas prikkelt het middenrif wat de pijn veroorzaakt het lichaam ruimt het gas vanzelf op de schouderpijn verdwijnt meestal de dag na de operatie bloedverlies soms is tijdens de operatie de baarmoederhals via de vagina met een paktangetje vastgepakt om de baarmoeder te kunnen bewegen of om vloeistof in de baarmoeder te spuiten voor het testen van de doorgankelijkheid van de eileiders hierdoor kan er enkele dagen na de ingreep wat bloedverlies zijn hechtingen de wondjes in uw buik zijn gehecht deze moeten na een week bij de huisarts verwijderd worden u kunt gerust douchen of een bad nemen terwijl de hechtingen nog aanwezig zijn gebruik een pleister zolang er nog wondvocht uit de wondjes komt om uw kleding te beschermen naar huis op de dag van de ingreep bent u door de operatie en narcose vaak nog behoorlijk slap het is daarom verstandig dat u wordt opgehaald uit het ziekenhuis we raden u af om zelf auto te rijden of met openbaar vervoer naar huis te gaan herstel de meeste vrouwen hebben een paar dagen nodig voordat dat zij zich weer helemaal hersteld voelen als u thuis kleine kinderen heeft is het verstandig de eerste dagen extra hulp te regelen werk kunt u weer hervatten als u zich weer hersteld voelt voor de meeste vrouwen is dit na enkele dagen andere vrouwen hebben wat langer tijd nodig bijvoorbeeld een week de zwaarte van de operatie de snelheid van uw herstel en de zwaarte van uw werk zijn hierbij van belang controle afspraak bij het controlebezoek zal uw behandelend gynaecoloog de resultaten van het onderzoek en of behandeling met u doornemen de operateur komt na de ingreep bij u langs om de eerste indruk te bespreken uw behandelend gynaecoloog bespreekt echter met u het verdere medisch beleid mogelijke complicaties en risico s wij bespreken hier een aantal mogelijke gevolgen en complicaties van laparoscopische operaties bedenk bij het lezen dat het om mogelijke gevolgen gaat de meeste operaties verlopen zonder complicaties de meeste complicaties kunnen ook optreden bij een niet laparoscopische operatie de meest voorkomende complicatie bij een laparoscopische operatie is dat er toch een gewone buikoperatie laparotomie moet plaatsvinden via een grotere snede in wezen is dit geen echte complicatie omdat het soms gewoon te moeilijk is om zorgvuldig te opereren met behulp van de laparoscopische methode dit komt vooral voor bij ernstige verklevingen door endometriose of een eerdere buikoperatie ook andere technische problemen zijn mogelijk zoals het niet goed zichtbaar zijn van afwijkingen houdt u er dus altijd rekening mee dat u met een grotere snede dan gepland wakker kunt worden de opname in het ziekenhuis en het herstel duren dan langer bij het opereren zelf kunnen complicaties optreden in zeer zeldzame gevallen worden de urinewegen of darmen beschadigd de gevolgen zijn soms pas zichtbaar als u al uit het ziekenhuis ontslagen bent bij ernstige buikpijn koorts of pijn in de nierstreek aan de zijkant van de rug is het dan ook verstandig direct met de dienstdoende gynaecoloog contact op te nemen deze beschadigingen zijn meestal goed te behandelen maar ze vragen extra zorg en het herstel duurt langer elke narcose brengt risico s met zich mee als u verder gezond bent zijn deze risico s zeer klein keelpijn kan optreden als gevolg van het inbrengen van een buisje tijdens de operatie bij de operatie brengt de arts meestal een katheter in de blaas daardoor kan een blaasontsteking ontstaan zo n ontsteking is lastig en pijnlijk maar goed te behandelen er kan in de buikwand of in de vagina een nabloeding optreden meestal verwerkt het lichaam zelf een bloeduitstorting maar dit vergt een langere periode van herstel bij een ernstige nabloeding is soms een tweede operatie nodig vaak via een grote snede bij iedere operatie is er een klein risico op het ontstaan van een infectie of trombose een littekenbreuk is een complicatie op langere termijn darmen en buikvlies puilen dan door de buikwand onder de huid naar buiten deze complicatie kan bij alle buikoperaties voorkomen dus ook bij laparoscopische ingrepen sommige vrouwen hebben na de operatie klachten als duizeligheid slapeloosheid moeheid concentratiestoornissen buik en of rugpijn deze zijn niet ernstig te noemen maar kunnen vervelend zijn als het verloop van het herstel na de operatie anders is of langer duurt dan verwacht is het verstandig dit met uw huisarts of gynaecoloog te bespreken wanneer moet u contact opnemen met het ziekenhuis bij één of meer van de volgende verschijnselen buikpijn die niet minder wordt maar steeds heviger koorts boven de 38 graden roodheid en zwelling van de wond vochtverlies uit de wond buitensporig vloeien bloedverlies neiging tot flauwvallen u belt de polikliniek gynaecologie telefoonnummer 076 595 10 03 buiten kantooruren en in het weekend belt u naar de verpleegafdeling 076 595 27 25 vragen voor vragen kunt u bellen naar de polikliniek gynaecologie ruimte voor uw vragen en of opmerkingen     1\n",
       "behandeling: tijdens ons bezoek bespreken we met u hoe het eten en drinken in het ziekenhuis gaat wij geven u adviezen over uw voeding in relatie tot uw aandoening of ziekte deze adviezen leggen we vast in het digitale dossier we geven deze ook door aan uw specialist de verpleegkundige en de gastvrouw of gastheer zo weten zij ook wat we samen hebben afgesproken u wordt behandeld door diëtisten die geregistreerd zijn in het kwaliteitsregister iedere diëtist heeft een eigen aandachtsgebied en specialisme weer naar huis wanneer u bijna naar huis mag bekijkt de diëtist of de dieetbehandeling door moet gaan soms wordt u hierbij begeleid door de diëtist van amphia wanneer dat niet mogelijk is draagt dediëtist de begeleiding in overleg met u over aan een andere diëtist                                                                                                                                                                                                                                                                                                                                                                                                                                                                                                                                                                                                                                                                                                                                                                                                                                                                                                                                                                                                                                                                                                                                                                                                                                                                                                                                                                                                                                                                                                                                                                                                                                                                                                                                                                                                                                                                                                                                                                                                                                                                                                                                                                                                                                                                                                                                                                                                                                                                                                                                                                                                                                                                                                                                                                                                                                                                                                                                                                                                                                                                                                                                                                                                                                                                                                                                                                                                                                                                                                                                                                                                                                                                                                                                                                                                                                                                                                                                                                                                                                                                                                                                                                                                                                                                                                                                                                                                                                                                                                                                                                                                                                                                                                                                                                                                                                                                                                                                                                                                                                                                                                                                                                                                                                                                                                                                                                                                                                                                                                                                                                                                                                                                                                                                                                                                                                                                                                                                                                                                                                                                                                                                                                                                                                                                                                                                                                                                                                                                                                                                                                                                                                                                                                                                                                                                                                                                                                                                                                                                                                                                                                                                                                                                                                                                                                                                                                                                                                                                                                                                                                                                                                                                                                                                                                                                                                                                                                                                                                                                                                                                                                                                                                                                                                                                                                                                                                                                                                                                                                                                                                                                                                                                                                                                                                                                                                                                                                                                                                                                                                                                                                                                                                                                                                                                                                                                                                                                                                                                                                                                                                                                                                                                                                                                                                                                                                                                                                                                                                                                                                                                                                                                                                                                                                                                                                                                                                                                                                                                                                                                                                                                                                                                                                                                                                                                                                                                                                                                                                                                                                                                                                                                                                                                                                                                                                                                                                                                                                                                                                                                                                                                                                                                                                                                                                                                                                                                                                                                                                                                                                                                                                                                                                                                                                                                                                                                                                                                                                                                                                                                                                                                                                                                                                                                                                                                                                                                                                                                                                                                                                                                                                                                                                                                                  1\n",
       "Name: content, Length: 736, dtype: int64"
      ]
     },
     "execution_count": 14,
     "metadata": {},
     "output_type": "execute_result"
    }
   ],
   "source": [
    "text_page.content.value_counts()"
   ]
  },
  {
   "cell_type": "code",
   "execution_count": 15,
   "metadata": {},
   "outputs": [
    {
     "data": {
      "text/plain": [
       "eum reprehenderit provident saepe cupiditate libero.: ut quibusdam voluptas dolor quasi tempore inventore adipisci porro nemo consequatur voluptates soluta neque tempore quidem optio nobis sed eum sunt iusto repudiandae nobis id et et et aut sit ut est nihil eos qui nihil hic accusantium et nobis nihil ut est sequi dolores et enim distinctio laborum voluptatem neque tenetur minus mollitia eos cupiditate quia placeat dolorem quis ipsa commodi ut enim voluptas sunt provident sunt rerum at consequatur ut                                                                                                                                                                                                                                                                                                                                                                                                                                                                                                                                                                                                                                                                                                                                                                                                                                                                                                                                                                                                                                                                                                                                                                                                                                                                                                                                                                                                                                                                                                                                                                                                                                                                                                                                                                                                                                                                                                                                                                                                                                                                                                                                                                                                                                                                                                                                                                                                                                                                                                                                                                                                                                                                                                                                                                                                                                                                                                                                                                                                                                                                                                                                                                                                                                                                                                                                                                                                                                                                                                                                                                                                                                                                                                                                                                                                                                                                                                                                                                                                                                                                                                                                                                                                                                                                                                                                                                                                                                                                                                                                                                                                                                                                                                                                                                                                                                                                                                                                                                                                                                                                                                                                                                                                                                                                                                                                                                                                                                                                                                                                                                                                                                                                                                                                                                                                                                                                                                                                                                                                                                                                                                                                                                                                                                                                                                                                                                                                                                                                                                                                                                                                                                                                                                                               1\n",
       "untitled: u of uw naaste is opgenomen in het amphia ziekenhuis en wordt in isolatie verpleegd deze folder geeft meer informatie over het verplegen in strikte isolatie mrsa en over de maatregelen die tot doel hebben verspreiding van mrsa bacteriën naar patiënten bezoekers en ziekenhuismedewerkers te voorkomen strikte isolatie mrsa er kunnen aan aantal redenen zijn waarom verpleging in strikte isolatie mrsa noodzakelijk is er is aangetoond dat u drager bent van de mrsa bacterie mrsa is niet aangetoond maar u bent mogelijk besmet met de mrsa bacterie dit geldt voor patiënten die de afgelopen 2 maanden in een buitenlands ziekenhuis of gezondheidscentrum behandeld zijn en langer dan 24 uur opgenomen zijn geweest of een operatie hebben ondergaan of een drain of katheter hebben gehad of beademd zijn of open wonden of infecties zoals abcessen hebben of waarbij de huid doorgebroken is door bijvoorbeeld een punctie scopie katheterisatie of het inbrengen van een sonde u wordt opgenomen vanuit een nederlands ziekenhuis of andere gezondheidsinstelling waar mrsa problemen zijn u heeft beroepsmatig contact met levende vleeskuikens varkens of vleeskalveren of bent woonachtig op een varkens vleeskalverenhouderij u bent woonachtig geweest in een instelling voor asielzoekers u heeft een huisgenoot partner of verzorgende die mrsa besmet is bij patiënten die tot een mrsa risicocategorie behoren maar waarbij niet eerder mrsa is aangetoond worden mrsa kweken afgenomen met behulp van wattenstokjes worden uitstrijken gemaakt van de neus keel en het perineum ook eventuele wonden worden uitgestreken de uitslag hiervan is na maximaal vijf dagen bekend wanneer er geen mrsa wordt gekweekt wordt de isolatie opgeheven waarom wordt strikte isolatie mrsa toegepast strikte isolatie wordt ingesteld om overdracht van het micro organisme via direct contact handen voorwerpen en via aërosolen hele kleine druppeltjes te voorkomen om verspreiding van resistente bacteriën zoals mrsa te voorkomen zijn de algemene hygiënemaatregelen niet voldoende er worden dan speciale voorzorgsmaatregelen genomen deze maatregelen worden isolatiemaatregelen genoemd en staan vermeld op een rode kaart die buiten op de deur is aangebracht isolatie kan ook nodig zijn als u zelf geen klachten heeft de isolatie heeft geen consequenties voor uw behandeling deze kan altijd doorgaan uw behandelend arts zal u informeren waarom deze maatregel bij u nodig is wat betekent strikte isolatie mrsa voor u u verblijft op een éénpersoonskamer met sluis een sluis is een aparte ruimte tussen uw kamer en de gang de deuren naar de gang mogen niet open staan of tegelijk geopend worden behalve tijdens transport van het bed aan de deur van uw kamer hangt een rode kaart met daarop de maatregelen voor patiënt en bezoeker de medewerkers die u verzorgen dragen beschermende kleding een schort met lange mouwen handschoenen een mondneusmasker en een muts de medewerkers verwijderen na het verlaten van de kamer de beschermende kleding in de sluis de medewerkers desinfecteren hun handen met handalcohol bij het betreden en verlaten van de kamer en tussendoor bij verpleegkundige en medische handelingen u kunt gewoon bezoek ontvangen u blijft in principe op uw kamer alleen als dit voor uw behandeling van belang is bijvoorbeeld voor onderzoek of behandeling mag u in overleg met de verpleging de kamer begeleid verlaten hierbij gelden de volgende voorwaarden als u voor onderzoek of behandeling uw kamer moet verlaten dan krijgt u een schone pyjama aan en wordt uw bed voorzien van schoon beddengoed of u krijgt een schoon bed u wordt door verpleegkundigen van uw afdeling vervoerd u desinfecteert de handen met handalcohol u maakt geen contact met andere patiënten u maakt geen gebruik van algemene toiletten als u voor onderzoek of behandeling naar een andere afdeling gaat dan gelden dezelfde maatregelen om organisatorische redenen wordt uw behandeling of onderzoek zoveel mogelijk aan het eind van de dag of van het behandelingsprogramma uitgevoerd wat betekent strikte isolatie voor uw bezoek bezoekers dienen zich voorafgaand aan het eerste bezoek bij de verpleging te melden de verpleging zal het bezoek instrueren over de juiste wijze van handdesinfectie uw bezoekers houden zich ook aan de voorgeschreven maatregelen volgens de rode kaart dit betekent voor het betreden en na het verlaten van de kamer in de sluis de handen desinfecteren met handalcohol bezoekers die in de gezondheidszorg werkzaam zijn moeten wel beschermende maatregelen nemen bij het betreden van de kamer deze maatregelen staan beschreven op de rode kaart aan de deur na afloop van het bezoek aan u dienen de bezoekers het ziekenhuis direct te verlaten eventuele andere bezoeken in het ziekenhuis kunnen zij afleggen voordat ze naar u toekomen ook zwangeren en kinderen kunnen u zonder risico bezoeken opheffen isolatiemaatregelen regelmatig kan bij u worden nagegaan of het micro organisme nog aanwezig is hiertoe kunnen verschillende soorten kweken worden afgenomen bijvoorbeeld een kweek van de keel neus of perineum een wond faeces ontlasting urine bloed of opgehoest sputum deze kweken worden in het laboratorium gecontroleerd op de aanwezigheid van het micro organisme dit gebeurt totdat het zeker is dat u het micro organisme niet meer heeft op dat moment worden de speciale verzorgingsmaatregelen opgeheven maatregelen in de thuissituatie als u drager bent van de mrsa bacterie zijn gewone hygiënische maatregelen voldoende om verspreiding van deze bacterie thuis te voorkomen hiermee bedoelen we met name dat u altijd handen wast na ieder toiletbezoek trek bij het verzorgen van wonden handschoenen aan en was daarna uw handen voor uw gezin en andere sociale contacten heeft uw mrsa dragerschap geen enkele consequentie u kunt zonder beperkingen uw dagelijkse gang van zaken voortzetten u kunt gewoon uw boodschappen doen visite ontvangen naar school of werk of naar een verjaardag thuis gaat u om met uw huisgenoten zoals u gewend bent uw familie en vrienden omhelzen kussen en knuffelen is geen enkel probleem wanneer u zelf uw huisgenoten of andere intensieve contacten werkzaam zijn in een verpleeghuis ziekenhuis of andere gezondheidsinstelling is het belangrijk om bij de arbodienst of preventieafdeling van de instelling te melden dat u mrsa positief bent of intensief contact heeft met een mrsa drager in overleg kan bepaald worden welke maatregelen nodig zijn tenslotte we beseffen dat de situatie wanneer de isolatiemaatregelen op u van toepassing zijn voor u ingrijpend en onaangenaam kan zijn het is voor ons echter de enige manier om u zo goed mogelijk te kunnen behandelen en andere patiënten te beschermen tegen mogelijke besmetting met mrsa we zullen proberen om uw verblijf in amphia ook tijdens de isolatieperiode zo prettig mogelijk te maken met vragen en eventuele problemen kunt u altijd terecht bij uw behandelend arts en de verpleegkundigen zie voor meer informatie over mrsa onze folder mrsa    1\n",
       "untitled: u bent geopereerd vanwege een botbreuk bij deze operatie zijn kirschnerdraden k draden gebruikt om de breuk vast te zetten in deze folder leest u meer over het verwijderen van deze k draden en hoe hier verder mee om te gaan wat is er gebeurd u bent geopereerd om het bot weer in een goede stand te krijgen tijdens de operatie is de breuk gezet zoals dat heet ofwel gereponeerd om de breuk goed vast te zetten heeft de arts metalen pennetjes k draden gebruikt wat doen k draden deze draden maken de twee delen van het bot niet aan elkaar vast zoals je misschien zou denken maar ze houden de botdelen in de juiste stand als het goed is vormt zich nieuw bot daardoor groeit de breuk aan elkaar is er voldoende nieuw bot gevormd dan zijn de k draden niet meer nodig en worden ze verwijderd wel of geen gips tijdens de operatie besluit de arts of u na het verwijderen van de draden wel of geen gips krijgt dit hangt af van het soort breuk hoe werkt het verwijderen van k draden de k draden kunnen uitsteken of onder uw huid verborgen zitten de draden steken uit wanneer de draden uitsteken kan de arts besluiten om ze op de gipskamer eruit te laten halen dit gebeurt zonder verdoving omdat het verwijderen heel kort enkele seconden duurt de pijn is vergelijkbaar met een verdovende injectie neem ongeveer een uur voor de afspraak een paracetamol in de k draden worden verwijderd met behulp van een tangetje u krijgt daarna een pleister of een klein verbandje dit mag er af als de wond niet meer lekt afhankelijk van wat de arts besluit krijgt u wel of geen gips om de breuk verder te laten genezen u mag de verwijderde pennen meenemen naar huis de draden zitten onder de huid steken de pennen niet door de huid dan worden ze via een kleine operatieve ingreep verwijderd dit gebeurt op de afdeling dagbehandeling onder een korte narcose indien nodig legt de gipsverbandmeester een gipsverband aan houd u daarna rekening met een blauwe plek of zwelling die nog enige tijd zichtbaar kan zijn na het verwijderen van de k draden douchen en zwemmen de wondjes genezen meestal binnen een paar dagen in deze dagen mag u gewoon douchen spoel na gebruik van shampoo of badschuim de wond na met behulp van de douchekop gaat u niet in bad of zwemmen zolang de wondjes open zijn dit in verband met een verhoogde kans op infectie lopen tillen sporten vermijd in het begin grote kracht op het bot waar de pennetjes zijn uitgehaald de wond en het bot moeten herstellen u mag natuurlijk wel voorzichtig gaan bewegen voelt u geen pijn dan kunt u het bewegen steeds verder uitbreiden contact heeft u nog vragen na het lezen van deze folder belt u dan tijdens kantooruren met de gipsverbandmeester op telefoonnummer 076 595 40 69 of 0162 32 73 63 in de avond en nachturen en in het weekend neemt u contact op met de spoedeisende hulp 076 595 40 47                                                                                                                                                                                                                                                                                                                                                                                                                                                                                                                                                                                                                                                                                                                                                                                                                                                                                                                                                                                                                                                                                                                                                                                                                                                                                                                                                                                                                                                                                                                                                                                                                                                                                                                                                                                                                                                                                                                                                                                                                                                                                                                                                                                                                                                                                                                                                                                                                                                                                                                                                                                                                                                                                                                                                                                                                                                                                                                                                                                                                                                                                                                                                                                                                                                                                                                                                                                                                                                                                                                                                                                                                                                                                                                                                                                                                                                                                                                                                                                                                                                                                                                                                                                                                                                                                                         1\n",
       "untitled: inleiding u leest deze folder omdat u bent opgenomen op een verpleegafdeling van amphia door uw specialist is de logopedist ingeschakeld in deze folder leest u meer informatie over logopedie logopedie de logopedist onderzoekt begeleidt en adviseert u bij klachten op het gebied van spraak taal stem gehoor slikken of ademen hij of zij probeert uw herstel te bevorderen zodat u weer kunt communiceren of eten en drinken zoals u dat gewend was wanneer het oude niveau niet haalbaar blijkt zal de logopedist u begeleiden en samen met u zoeken naar aanpassingen waarom om de volgende redenen kan logopedie nodig zijn moeite met spreken het kan zijn dat u na het doormaken van een beroerte afdeling neurologie moeite heeft met het uitspreken van woorden moeite met taalgebruik het is mogelijk dat u een beroerte heeft gehad en daarna woordvindproblemen heeft of dat u moeite heeft met het verwerken van de taal moeite met slikken soms ervaren mensen tijdens hun verblijf in het ziekenhuis slikproblemen misschien verslikt u zich snel of merkt u dat het voedsel niet goed wegzakt moeite met de stem het kan zijn dat uw stem anders klinkt en dat spreken moeite kost de logopedist inventariseert uw klachten en geeft u zo nodig advies als u na het verlaten van het ziekenhuis nog logopedische begeleiding nodig heeft dan bespreekt de logopedist samen met u het vervolgtraject u krijgt in dat geval een overdracht mee met het verslag van de logopedist in het ziekenhuis vragen heeft u na het lezen van deze folder nog vragen neem dan contact op met de afdeling logopedie via het telefoonnummer 076 595 30 75 of stuur een e mail naar logopedie amphia nl                                                                                                                                                                                                                                                                                                                                                                                                                                                                                                                                                                                                                                                                                                                                                                                                                                                                                                                                                                                                                                                                                                                                                                                                                                                                                                                                                                                                                                                                                                                                                                                                                                                                                                                                                                                                                                                                                                                                                                                                                                                                                                                                                                                                                                                                                                                                                                                                                                                                                                                                                                                                                                                                                                                                                                                                                                                                                                                                                                                                                                                                                                                                                                                                                                                                                                                                                                                                                                                                                                                                                                                                                                                                                                                                                                                                                                                                                                                                                                                                                                                                                                                                                                                                                                                                                                                                                                                                                                                                                                                                                                                                                                                                                                                                                                                                                                                                                                                                                                                                                                                                                                                                                                                                                                                                                                                                                                                                                                                                                                                                    1\n",
       "untitled: aangezichtsverlamming het niet goed werken van de spieren in het gezicht wordt een aangezichtsverlamming of facialis parese genoemd in een normale situatie werken de spieren van de linker en rechter gezichtshelft min of meer gelijk bij een aangezichtsverlamming is de bewegingsmogelijkheid van één gezichtshelft verminderd of helemaal uitgevallen deze verlamming kan door verschillende oorzaken ontstaan wat bij u de oorzaak is heeft uw behandelend arts met u besproken zie ook de folder perifere aangezichtsverlamming er kunnen zogenaamde restverschijnselen ontstaan doordat de zenuw de nervus facialis niet of slechts gedeeltelijk is hersteld dit kan zich uiten door bijvoorbeeld een scheef gezicht minder bewegingsmogelijkheden en of ongewenste meebewegingen van mond en of oog een aangezichtsverlamming beïnvloedt niet alleen de mimiek maar ook functies als eten drinken en praten dit kan soms leiden tot psychosociale problemen het kan zinvol zijn om in de fase dat er nog géén beweging mogelijk is de logopedist te consulteren voor uitleg advies en het aanleren van massageoefeningen start behandeling mimetherapie is een behandeling voor mensen met een aangezichtsverlamming waarbij de functie gedeeltelijk is teruggekeerd zodra er weer enige beweging aan de aangedane kant van het gezicht zichtbaar is kan de behandeling starten doel behandeling het doel van de mimetherapie is het verminderen van hinderlijke restverschijnselen van de aangezichtsverlamming zo kunt u de controle over de gezichtsexpressie en de functie bij het eten drinken en praten verbeteren u leert het verschil tussen spanning en ontspanning in het gezicht zien en voelen u leert ook om het gezicht zo normaal mogelijk symmetrisch te bewegen zowel bij eten drinken praten als bij het uitdrukken van bepaalde emoties u leert daardoor ook om in het dagelijks leven beter met uw aangezichtsverlamming om te gaan de behandeling bij het eerste bezoek wordt u door de logopedist uitgebreid onderzocht en wordt beoordeeld of u met mimetherapie kan starten zo ja dan krijgt u informatie over de behandeling en over de verwachtingen van uw herstel de specifieke behandeling is gericht op een voor u optimaal herstel het aantal behandelingen ligt meestal tussen de 8 à 10 keer het is belangrijk dat u thuis regelmatig oefent de oefeningen die u thuis moet doen worden tijdens de behandelingen met u doorgenomen de rol van de logopedist is begeleiden en ondersteunen er wordt tijdens de therapie aandacht besteed aan massage van het gezicht oefeningen voor het bewegen van de mond wang ogen en voorhoofd het verschil tussen spanning en ontspanning beheersing van ongewenste meebewegingen verbetering van eten drinken en spreken oefenen van gezichtsuitdrukkingen met en zonder spiegel omgaan met een aangezichtsverlamming wat u zelf al kunt doen probeer uw gezicht zo ontspannen mogelijk te houden maak wanneer u uw gezicht beweegt alleen maar kleine bewegingen probeer uw gezicht zo symmetrisch mogelijk te houden soms wordt het advies gegeven om zelf alvast te gaan oefenen met gekke bekken trekken maar dit raden we af omdat hierdoor juist meer asymmetrie optreedt vragen bij vragen kunt u contact opnemen met het front office fysiotherapie ergotherapie logopedie en diëtetiek telefoonnummer 076 595 30 75                                                                                                                                                                                                                                                                                                                                                                                                                                                                                                                                                                                                                                                                                                                                                                                                                                                                                                                                                                                                                                                                                                                                                                                                                                                                                                                                                                                                                                                                                                                                                                                                                                                                                                                                                                                                                                                                                                                                                                                                                                                                                                                                                                                                                                                                                                                                                                                                                                                                                                                                                                                                                                                                                                                                                                                                                                                                                                                                                                                                                                                                                                                                                                                                                                                                                                                                                                                                                                                                                                                                                                                                                                                                                                                                                                                                                                   1\n",
       "                                                                                                                                                                                                                                                                                                                                                                                                                                                                                                                                                                                                                                                                                                                                                                                                                                                                                                                                                                                                                                                                                                                                                                                                                                                                                                                                                                                                                                                                                                                                                                                                                                                                                                                                                                                                                                                                                                                                                                                                                                                                                                                                                                                                                                                                                                                                                                                                                                                                                                                                                                                                                                                                                                                                                                                                                                                                                                                                                                                                                                                                                                                                                                                                                                                                                                                                                                                                                                                                                                                                                                                                                                                                                                                                                                                                                                                                                                                                                                                                                                                                                                                                                                                                                                                                                                                                                                                                                                                                                                                                                                                                                                                                                                                                                                                                                                                                                                                                                                                                                                                                                                                                                                                                                                                                                                                                                                                                                                                                                                                                                                                                                                                                                                                                                                                                                                                                                                                                                                                                                                                                                                                                                                                                                                                                                                                                                                                                                                                                                                                                                                                                                                                                                                                                                                                                                                                                                                                                                                                                                                                                                                                                                                                                                                                        ..\n",
       "untitled: inleiding in deze folder leest u over het ontstaan en de verschijnselen van een vernauwing in de halsslagader daarnaast geeft de folder u informatie over de behandeling en de operatie hoe ontstaat een vernauwing in de halsslagader carotis door slagaderverkalking ontstaan vernauwingen in de slagaders slagaderverkalking is een natuurlijk gevolg van het ouderdomsproces de bloedvaten verliezen op den duur hun elasticiteit en worden dik en stug tevens raakt de binnenkant van de slagader beschadigd als gevolg van afzettingen van vetten en kalk de slagaders worden hierdoor steeds nauwer hierdoor kan er minder bloed langs het natuurlijke verloop van het ouderdomsproces slagaderverkalking kan versneld optreden als er sprake is van één of meerdere risicofactoren de allerbelangrijkste is roken maar ook een te hoog cholesterolgehalte te hoge bloeddruk en suikerziekte kunnen tot ernstige vaatproblemen leiden andersom kan door het terugdringen van risicofactoren bijvoorbeeld door te stoppen met roken en medicatie het versnelde proces van slagaderverkalking worden vertraagd hier heeft u zelf invloed op                                                                                                                                                                                                                                                                                                                                                                                                                                                                                                                                                                                                                                                                                                                                                                                                                                                                                                                                                                                                                                                                                                                                                                                                                                                                                                                                                                                                                                                                                                                                                                                                                                                                                                                                                                                                                                                                                                                                                                                                                                                                                                                                                                                                                                                                                                                                                                                                                                                                                                                                                                                                                                                                                                                                                                                                                                                                                                                                                                                                                                                                                                                                                                                                                                                                                                                                                                                                                                                                                                                                                                                                                                                                                                                                                                                                                                                                                                                                                                                                                                                                                                                                                                                                                                                                                                                                                                                                                                                                                                                                                                                                                                                                                                                                                                                                                                                                                                                                                                                                                                                                                                                                                                                                                                                                                                                                                                                                                                                                                                                                                                                                                                                                                                                                                                                                                                                                                                                                                                                                                                                                                               1\n",
       "welkom op onze afdeling:  welkomstwoord welkom op onze afdeling u bent opgenomen op de afdeling chirurgie deze folder geeft u en uw familieleden specifieke informatie over de afdeling organisatie van de afdeling de afdeling chirurgie is opgesplitst over meerdere afdelingen op deze afdelingen verblijven patiënten voor dagbehandeling kort of langverblijf afhankelijk van uw opname indicatie zult u een afdeling krijgen toegewezen op de afdeling werkt een team van verpleegkundigen leerling verpleegkundigen en stagiaires het uitgangspunt is dat u zoveel mogelijk dezelfde verpleegkundigen aan uw bed krijgt zodat u en uw familie weten bij wie u met uw vragen terecht kunt daarnaast zijn er medewerkers die uw eten en drinken verzorgen en uw kamer en badkamer schoonmaken de teams worden aangestuurd door teamleidinggevenden dievan maandag tot en met vrijdag op de afdeling aanwezig zijn arts assistenten en chirurgen er zijn altijd meerdere chirurgen en arts assistenten chirurgie in het ziekenhuis aanwezig de arts assistent verzorgt de dagelijkse artsenvisite de arts assistent werkt onder supervisie van een chirurg andere disciplines het kan zijn dat er gedurende de opname andere zorgverleners bij de behandeling betrokken worden u kunt hierbij denken aan de diëtiste de fysiotherapeut de verpleegkundig consulent maag darm lever en stoma de wond en decubitus consulent de transferverpleegkundige de maatschappelijk werker de geestelijk verzorger indien u dit wenst medicatie gedurende uw opname wordt uw medicatie verstrekt door de ziekenhuisapotheek de apothekers assistente zal de thuismedicatie met u doornemen heeft u specifieke weinig voorkomende medicatie neem deze dan mee naar het ziekenhuis het kan voorkomen dat de medicatie die u in het ziekenhuis krijgt een andere merknaam of kleur heeft dan u gewend bent heeft u twijfels over uw medicatie vraag uw verpleegkundige om een toelichting u krijgt de medicatie aangeboden op vaste tijden waardevolle spullen laat waardevolle spullen en geld thuis op de afdeling is niet altijd toezicht op uw persoonlijke spullen er is in iedere kamer een kluisje aanwezig informatievoorziening informatie betreffende uw gezondheidstoestand wordt uiteraard met u besproken het is mogelijk om een gesprek te voeren met de arts assistent hierbij kan ook uw familie aanwezig zijn hiervoor kunt u een afspraak maken met de verpleegkundige die voor u zorgt alle informatie over uw gezondheidstoestand staat vermeld in uw persoonlijke digitale dossier er worden dagelijks schriftelijke verslagen gemaakt u hebt altijd het recht dit dossier in te zien dit geldt niet automatisch voor uw familie u kunt ook gebruik maken van het digitale patiëntenportaal mijnamphia meer informatie daarover vindt u op de amphia website mocht uw familie contact op willen nemen met de verpleegkundigen van de afdeling dan verzoeken wij u dit na 10 30 uur te doen bezoektijden er zijn geen vaste bezoektijden meer na 20 00 uur kunt u zich via de intercom melden een verpleegkundige zal ervoor zorgen dat de deur wordt geopend u of uw contactpersoon wordt verzocht het bezoek te coördineren er mogen maximaal 2 bezoekers per patiënt op de kamer u kunt ook gebruik maken van de lounge naast de afdeling of het restaurant beneden soms moeten we u verzorgen terwijl u bezoek heeft of moeten verpleegkundigen bij de wisseling van hun diensten de informatie over u met elkaar bespreken dit doen ze het beste bij u aan het bed in verband met de privacy en om zo min mogelijk gestoord te worden vragen ze dan of uw bezoek even wil wachten op de gang we rekenen op uw begrip hiervoor mantelzorg uiteraard is het voor uw mantelzorgers mogelijk om mee te helpen in de zorg denk dan bijvoorbeeld aan ondersteunen bij het mobiliseren het eten of met het wassen bespreek dit tijdens het opname gesprek met de verpleegkundige ontslag en nazorg voorafgaand aan uw opname is het verstandig dat de nazorg voor het ontslag al zoveel mogelijk is geregeld daarom vragen wij u goed na te denken wat u kan regelen voor de eerste periode nadat u met ontslag bent een aantal zaken zijn thuiszorg bij een thuiszorg organisatie bij u in de buurt hulpmiddelen zoals krukken of een rolstoel mantelzorg door familie huishoudelijke hulp stadskantoor loket wmo taxipas stadskantoor loket wmo vervoer naar huis of nazorginstelling tijdens de opname zal er samen met u en uw familie een ontslagdatum worden gepland wanneer er een indicatie is voor professionele nazorg zoals hulp bij wondzorg dan schakelt uw verpleegkundige de thuiszorg in of regelt een verwijzing naar de transferverpleegkundige wij maken voor u een controle afspraak op de polikliniek chirurgie wij vragen u om u op de dag van het ontslag rond 10 30 uur op te laten halen in de loop van de dag worden weer nieuwe patiënten verwacht vragen wij helpen u graag u kunt contact opnemen met polikliniek chirurgie 076 595 30 90                                                                                                                                                                                                                                                                                                                                                                                                                                                                                                                                                                                                                                                                                                                                                                                                                                                                                                                                                                                                                                                                                                                                                                                                                                                                                                                                                                                                                                                                                                                                                                                                                                                                                                                                                                                                                                                                                                                                                                                                                                                                                                                                                                           1\n",
       "untitled: inleiding u bent door uw specialist of huisarts doorverwezen naar de diëtist van de afdeling diëtetiek in amphia in deze brochure kunt u lezen wat diëtetiek is wat de diëtist voor u kan betekenen en hoe u deze kunt bereiken daarnaast treft u informatie aan over rechten en plichten die u in het geval van behandeling met elkaar aangaat wat is diëtetiek en wat is een diëtist diëtetiek is de leer van het dieet de beroepsbeoefenaar is de diëtist dé deskundige op het gebied van voeding bij gezondheid en ziekte de diëtist is een professional met een afgeronde vierjarige hbo opleiding voeding en diëtetiek na het afstuderen is iedere diëtist verplicht om het vak goed bij te houden voldoende werkervaring op te bouwen en te voldoen aan kwaliteitsnormen diëtisten die aan deze eisen voldoen worden ingeschreven in het kwaliteitsregister iedere diëtist in het ziekenhuis is verplicht aan deze eisen te voldoen u wordt dus altijd geholpen door een diëtist die is ingeschreven in het kwaliteitsregister en dus voldoende op de hoogte is van alle nieuwe ontwikkelingen waarom een diëtist eten is naast lekker en gezellig belangrijk voor onze gezondheid lekker en verstandig eten is nodig om gezond te blijven en om klachten bij ziekte te verminderen bij verschillende chronische aandoeningen speelt voeding een belangrijke rol zoals diabetes hart en vaatziekten of longziekten maar soms is het ook nodig om de voeding aan te passen bij bijvoorbeeld afwijkingen in de mond slokdarm of maag of bij klachten als verminderde eetlust en ongewenst gewichtsverlies de diëtist biedt een oplossing voor alle problemen die met voeding samenhangen wat mag u verwachten van een behandeling door de diëtist ieder mens is anders dus elke behandeling door de diëtist is maatwerk tijdens het eerste bezoek aan de diëtist krijgt u daarom veel vragen over uw eetgewoontes uw gezondheid uw verwachtingen en wensen daarna zal de diëtist samen met u een behandelplan en een persoonlijk advies opstellen hierbij houdt zij rekening met uw individuele wensen sociale omstandigheden en financiële mogelijkheden in de volgende consulten geeft de diëtist uitleg en informatie over uw voeding zij stemt de adviezen over uw voeding af op uw persoonlijke situatie en zoekt samen met u naar oplossingen voor eventuele knelpunten de diëtist helpt u leren omgaan met uw dieet óók tijdens speciale gelegen heden als een vakantie een feest en uit eten gaan u kunt bij haar terecht voor alle vragen en problemen op het gebied van voeding hoe werkt de diëtist ieder mens heeft zijn eigen eetgewoontes smaak en voorkeuren een diëtist geeft daarom altijd een dieetbehandeling op maat het contact met de diëtist kan deel uit maken van een behandeling die uw specialist heeft ingezet uw huisarts of specialist zal naar de diëtist verwijzen als hij zij professionele begeleiding van de diëtist noodzakelijk acht met de medische gegevens uit de verwijsbrief van uw specialist of huisarts zal de diëtist een dieetbehandeling opstarten wat kost een bezoek aan de diëtist er zijn geen kosten verbonden aan een consult bij de diëtist op de polikliniek van het ziekenhuis mits u een verwijsbrief heeft van uw specialist of huisarts via de basisverzekering vergoedt de zorgverzekeraar 4 uur dieetadvisering per kalenderjaar over het algemeen zal dit voldoende zijn sommige zorgverzekeraars vergoeden via een aanvullende verzekering enkele extra uren dieetadvisering dit is per verzekeraar anders in uw polis kunt u lezen of dit ook voor u geldt wij brengen u tijdig op de hoogte wanneer u de vier uur gaat overschrijden en bespreken de gevolgen daarvan met u hoe maakt u een afspraak met de diëtist op maandag dinsdag donderdag en vrijdagochtend kunt u bellen met het secretariaat van de afdeling diëtetiek om een afspraak te maken op andere tijdstippen kunt u uw naam en telefoonnummer inspreken waarop u overdag bereikbaar bent wij nemen dan contact met u op ook kunt u via de e mail een verzoek voor een afspraak doen telefoonnummer alle locaties 076 595 30 75 e mail dietetieksecretariaat amphia nl                                                                                                                                                                                                                                                                                                                                                                                                                                                                                                                                                                                                                                                                                                                                                                                                                                                                                                                                                                                                                                                                                                                                                                                                                                                                                                                                                                                                                                                                                                                                                                                                                                                                                                                                                                                                                                                                                                                                                                                                                                                                                                                                                                                                                                                                                                                                                                                                                                                                                                                                                                                                                                                                                                                                                                                                                                                                                                                                                                                                                                 1\n",
       "untitled: inleiding de fumaarzuurtherapie werd eind jaren vijftig in de vorige eeuw in duitsland ontwikkeld door de scheikundige dr schweckendiek begin jaren tachtig werd de fumaarzuurtherapie in nederland geïntroduceerd door de psoriasis patiënten vereniging in de jaren voor 2018 werd er veel behandeld met psorinovo een niet geregistreede vorm van fumaraten recent 2018 is er voor heel europa een middel op de markt gekomen in de geregistreerde vorm genaamd skilarence tegenwoordig zal dan ook met skilarence behandeld worden de werking van het middel fumaraten hebben invloed op de witte bloed lichaampjes deze spelen een rol bij ontstekingsprocessen die een rol kunnen spelen bij psoriasis ook is aangetoond dat fumaraten een remmend effect kunnen hebben op de bij psoriasis versterkte celdeling in de opperhuid dosering er wordt begonnen met een lage aanvangsdosis de dosering wordt geleidelijk opgehoogd volgens een schema wat u meegekregen heeft het is belangrijk dat u zich goed aan het schema houdt en zeker niet sneller stijgt dan in de dosering is aangegeven resultaten fumaarzuur kan goede resultaten opleveren met name voor de huid maar ook op de gewrichten bij 1 op de 4 patiënten is na 16 weken de psoriasis geheel onderdrukt nadeel is dat mede door het langzaam stijgen van de dosering in het begin het lang kan duren voordat de resultaten zichtbaar worden bijwerkingen de behandeling met fumaarzuur kan bijwerkingen tot gevolg hebben de bijwerkingen die het meeste voorkomen zijn roodheid en warmtegevoel in het hoofd de zogenaamde flushing daarnaast komen maag en darmklachten voor zoals maagpijn misselijkheid braken en diarree de klachten kunnen worden verminderd door het innemen van de tabletten tijdens de maaltijd of met een glas melk het zijn dan ook deze bijwerkingen die vaak bij langdurig gebruik weer verminderen bijwerkingen die minder vaak voorkomen zijn moeheid duizeligheid of hoofdpijn nier en leverbeschadigingen maar minder frequent dan bij andere psoriasis medicijnen bij het stoppen van het middel herstellen de lever en nierfunctie over het algemeen goed ook kan een vermindering optreden van bepaalde witte bloedcellen daarom is het nodig om geregeld bloedonderzoek te doen in het bijzonder bij het opstarten van de therapie in het geval van een onderhouds behandeling minstens twee keer per jaar zwangerschap en borstvoeding als u zwanger wilt worden of zwanger bent mag u geen fumaraten gebruiken ook niet tijdens borstvoeding tot slot voor meer informatie kunt u terecht op de website van de psoriasis patiëntenvereniging onder het kopje fumaraten https psoriasispatientennederland nl behandelingen inwendig systemische medicijnen                                                                                                                                                                                                                                                                                                                                                                                                                                                                                                                                                                                                                                                                                                                                                                                                                                                                                                                                                                                                                                                                                                                                                                                                                                                                                                                                                                                                                                                                                                                                                                                                                                                                                                                                                                                                                                                                                                                                                                                                                                                                                                                                                                                                                                                                                                                                                                                                                                                                                                                                                                                                                                                                                                                                                                                                                                                                                                                                                                                                                                                                                                                                                                                                                                                                                                                                                                                                                                                                                                                                                                                                                                                                                                                                                                                                                                                                                                                                                                                                                                                                                                                                                                                                                                                                                                                                                                                                                                                                       1\n",
       "behandeling: tijdens ons bezoek bespreken we met u hoe het eten en drinken in het ziekenhuis gaat wij geven u adviezen over uw voeding in relatie tot uw aandoening of ziekte deze adviezen leggen we vast in het digitale dossier we geven deze ook door aan uw specialist de verpleegkundige en de gastvrouw of gastheer zo weten zij ook wat we samen hebben afgesproken u wordt behandeld door diëtisten die geregistreerd zijn in het kwaliteitsregister iedere diëtist heeft een eigen aandachtsgebied en specialisme weer naar huis wanneer u bijna naar huis mag bekijkt de diëtist of de dieetbehandeling door moet gaan soms wordt u hierbij begeleid door de diëtist van amphia wanneer dat niet mogelijk is draagt dediëtist de begeleiding in overleg met u over aan een andere diëtist                                                                                                                                                                                                                                                                                                                                                                                                                                                                                                                                                                                                                                                                                                                                                                                                                                                                                                                                                                                                                                                                                                                                                                                                                                                                                                                                                                                                                                                                                                                                                                                                                                                                                                                                                                                                                                                                                                                                                                                                                                                                                                                                                                                                                                                                                                                                                                                                                                                                                                                                                                                                                                                                                                                                                                                                                                                                                                                                                                                                                                                                                                                                                                                                                                                                                                                                                                                                                                                                                                                                                                                                                                                                                                                                                                                                                                                                                                                                                                                                                                                                                                                                                                                                                                                                                                                                                                                                                                                                                                                                                                                                                                                                                                                                                                                                                                                                                                                                                                                                                                                                                                                                                                                                                                                                                                                                                                                                                                                                                                                                                                                                                                                                                                                                                                                                                                                                                                                                                                                                                                                                                                                                                                                                                                                                                                                                                                                                                                                     1\n",
       "Name: content, Length: 736, dtype: int64"
      ]
     },
     "execution_count": 15,
     "metadata": {},
     "output_type": "execute_result"
    }
   ],
   "source": [
    "text_page.drop_duplicates(inplace=True)\n",
    "text_page.content.value_counts()"
   ]
  },
  {
   "cell_type": "code",
   "execution_count": 16,
   "metadata": {},
   "outputs": [
    {
     "data": {
      "text/plain": [
       "736"
      ]
     },
     "execution_count": 16,
     "metadata": {},
     "output_type": "execute_result"
    }
   ],
   "source": [
    "len(text_page)"
   ]
  },
  {
   "cell_type": "code",
   "execution_count": 17,
   "metadata": {},
   "outputs": [],
   "source": [
    "text_page.to_csv('app_text_page_parts_preprocessed.csv', index=False)"
   ]
  },
  {
   "cell_type": "code",
   "execution_count": null,
   "metadata": {},
   "outputs": [],
   "source": []
  },
  {
   "cell_type": "code",
   "execution_count": 18,
   "metadata": {},
   "outputs": [
    {
     "data": {
      "text/html": [
       "<div>\n",
       "<style scoped>\n",
       "    .dataframe tbody tr th:only-of-type {\n",
       "        vertical-align: middle;\n",
       "    }\n",
       "\n",
       "    .dataframe tbody tr th {\n",
       "        vertical-align: top;\n",
       "    }\n",
       "\n",
       "    .dataframe thead th {\n",
       "        text-align: right;\n",
       "    }\n",
       "</style>\n",
       "<table border=\"1\" class=\"dataframe\">\n",
       "  <thead>\n",
       "    <tr style=\"text-align: right;\">\n",
       "      <th></th>\n",
       "      <th>id</th>\n",
       "      <th>title</th>\n",
       "      <th>page_title</th>\n",
       "      <th>header_image_id</th>\n",
       "      <th>overview_text</th>\n",
       "      <th>node_translation_id</th>\n",
       "      <th>label</th>\n",
       "      <th>label_choice</th>\n",
       "      <th>label_title</th>\n",
       "      <th>label_content</th>\n",
       "      <th>label_cta_text</th>\n",
       "      <th>label_cta_link</th>\n",
       "      <th>label_content_title</th>\n",
       "    </tr>\n",
       "  </thead>\n",
       "  <tbody>\n",
       "    <tr>\n",
       "      <th>0</th>\n",
       "      <td>1</td>\n",
       "      <td>Pageparts</td>\n",
       "      <td>Pageparts</td>\n",
       "      <td>8.0</td>\n",
       "      <td>Rem voluptas dolorum ipsum quia iste at perfer...</td>\n",
       "      <td>3</td>\n",
       "      <td>NaN</td>\n",
       "      <td>NaN</td>\n",
       "      <td>NaN</td>\n",
       "      <td>NaN</td>\n",
       "      <td>NaN</td>\n",
       "      <td>NaN</td>\n",
       "      <td>NaN</td>\n",
       "    </tr>\n",
       "    <tr>\n",
       "      <th>1</th>\n",
       "      <td>2</td>\n",
       "      <td>Patiënten en bezoekers??</td>\n",
       "      <td>Patiënten en bezoekers</td>\n",
       "      <td>NaN</td>\n",
       "      <td>Aut dolore quia aut est. Officia qui voluptatu...</td>\n",
       "      <td>4</td>\n",
       "      <td>NaN</td>\n",
       "      <td>NaN</td>\n",
       "      <td>NaN</td>\n",
       "      <td>NaN</td>\n",
       "      <td>NaN</td>\n",
       "      <td>NaN</td>\n",
       "      <td>NaN</td>\n",
       "    </tr>\n",
       "    <tr>\n",
       "      <th>2</th>\n",
       "      <td>3</td>\n",
       "      <td>Spoed</td>\n",
       "      <td>Spoed</td>\n",
       "      <td>1526.0</td>\n",
       "      <td>Heeft u dringend zorg nodig? Bel 112. Meer inf...</td>\n",
       "      <td>5</td>\n",
       "      <td>NaN</td>\n",
       "      <td>NaN</td>\n",
       "      <td>NaN</td>\n",
       "      <td>NaN</td>\n",
       "      <td>NaN</td>\n",
       "      <td>NaN</td>\n",
       "      <td>NaN</td>\n",
       "    </tr>\n",
       "    <tr>\n",
       "      <th>3</th>\n",
       "      <td>4</td>\n",
       "      <td>Uw afspraak</td>\n",
       "      <td>Uw afspraak</td>\n",
       "      <td>12.0</td>\n",
       "      <td>Vitae aut occaecati dolores non necessitatibus...</td>\n",
       "      <td>6</td>\n",
       "      <td>NaN</td>\n",
       "      <td>NaN</td>\n",
       "      <td>NaN</td>\n",
       "      <td>NaN</td>\n",
       "      <td>NaN</td>\n",
       "      <td>NaN</td>\n",
       "      <td>NaN</td>\n",
       "    </tr>\n",
       "    <tr>\n",
       "      <th>4</th>\n",
       "      <td>5</td>\n",
       "      <td>Naar het ziekenhuis</td>\n",
       "      <td>Naar het ziekenhuis</td>\n",
       "      <td>1632.0</td>\n",
       "      <td>Op deze pagina vindt u informatie om uzelf voo...</td>\n",
       "      <td>7</td>\n",
       "      <td>NaN</td>\n",
       "      <td>NaN</td>\n",
       "      <td>NaN</td>\n",
       "      <td>NaN</td>\n",
       "      <td>NaN</td>\n",
       "      <td>NaN</td>\n",
       "      <td>NaN</td>\n",
       "    </tr>\n",
       "  </tbody>\n",
       "</table>\n",
       "</div>"
      ],
      "text/plain": [
       "   id                     title              page_title  header_image_id  \\\n",
       "0   1                 Pageparts               Pageparts              8.0   \n",
       "1   2  Patiënten en bezoekers??  Patiënten en bezoekers              NaN   \n",
       "2   3                     Spoed                   Spoed           1526.0   \n",
       "3   4               Uw afspraak             Uw afspraak             12.0   \n",
       "4   5       Naar het ziekenhuis     Naar het ziekenhuis           1632.0   \n",
       "\n",
       "                                       overview_text  node_translation_id  \\\n",
       "0  Rem voluptas dolorum ipsum quia iste at perfer...                    3   \n",
       "1  Aut dolore quia aut est. Officia qui voluptatu...                    4   \n",
       "2  Heeft u dringend zorg nodig? Bel 112. Meer inf...                    5   \n",
       "3  Vitae aut occaecati dolores non necessitatibus...                    6   \n",
       "4  Op deze pagina vindt u informatie om uzelf voo...                    7   \n",
       "\n",
       "   label  label_choice  label_title  label_content  label_cta_text  \\\n",
       "0    NaN           NaN          NaN            NaN             NaN   \n",
       "1    NaN           NaN          NaN            NaN             NaN   \n",
       "2    NaN           NaN          NaN            NaN             NaN   \n",
       "3    NaN           NaN          NaN            NaN             NaN   \n",
       "4    NaN           NaN          NaN            NaN             NaN   \n",
       "\n",
       "   label_cta_link  label_content_title  \n",
       "0             NaN                  NaN  \n",
       "1             NaN                  NaN  \n",
       "2             NaN                  NaN  \n",
       "3             NaN                  NaN  \n",
       "4             NaN                  NaN  "
      ]
     },
     "execution_count": 18,
     "metadata": {},
     "output_type": "execute_result"
    }
   ],
   "source": [
    "cont_page = pd.read_csv('app_content_pages.csv', on_bad_lines='skip')\n",
    "cont_page.head()"
   ]
  },
  {
   "cell_type": "code",
   "execution_count": 19,
   "metadata": {},
   "outputs": [
    {
     "name": "stdout",
     "output_type": "stream",
     "text": [
      "<class 'pandas.core.frame.DataFrame'>\n",
      "RangeIndex: 1000 entries, 0 to 999\n",
      "Data columns (total 13 columns):\n",
      " #   Column               Non-Null Count  Dtype  \n",
      "---  ------               --------------  -----  \n",
      " 0   id                   1000 non-null   int64  \n",
      " 1   title                1000 non-null   object \n",
      " 2   page_title           699 non-null    object \n",
      " 3   header_image_id      639 non-null    float64\n",
      " 4   overview_text        924 non-null    object \n",
      " 5   node_translation_id  1000 non-null   int64  \n",
      " 6   label                0 non-null      float64\n",
      " 7   label_choice         0 non-null      float64\n",
      " 8   label_title          0 non-null      float64\n",
      " 9   label_content        0 non-null      float64\n",
      " 10  label_cta_text       0 non-null      float64\n",
      " 11  label_cta_link       0 non-null      float64\n",
      " 12  label_content_title  0 non-null      float64\n",
      "dtypes: float64(8), int64(2), object(3)\n",
      "memory usage: 101.7+ KB\n"
     ]
    }
   ],
   "source": [
    "cont_page.info()"
   ]
  },
  {
   "cell_type": "code",
   "execution_count": 20,
   "metadata": {},
   "outputs": [
    {
     "name": "stdout",
     "output_type": "stream",
     "text": [
      "<class 'pandas.core.frame.DataFrame'>\n",
      "RangeIndex: 1000 entries, 0 to 999\n",
      "Data columns (total 2 columns):\n",
      " #   Column   Non-Null Count  Dtype \n",
      "---  ------   --------------  ----- \n",
      " 0   content  924 non-null    object\n",
      " 1   title    1000 non-null   object\n",
      "dtypes: object(2)\n",
      "memory usage: 15.8+ KB\n"
     ]
    }
   ],
   "source": [
    "cont_page = cont_page[['overview_text','title']].rename(columns={'overview_text':'content'})\n",
    "cont_page.info()"
   ]
  },
  {
   "cell_type": "code",
   "execution_count": 21,
   "metadata": {},
   "outputs": [
    {
     "name": "stdout",
     "output_type": "stream",
     "text": [
      "<class 'pandas.core.frame.DataFrame'>\n",
      "RangeIndex: 1000 entries, 0 to 999\n",
      "Data columns (total 1 columns):\n",
      " #   Column   Non-Null Count  Dtype \n",
      "---  ------   --------------  ----- \n",
      " 0   content  924 non-null    object\n",
      "dtypes: object(1)\n",
      "memory usage: 7.9+ KB\n"
     ]
    }
   ],
   "source": [
    "cont_page.title.fillna('untitled', inplace=True)\n",
    "cont_page.content = cont_page['title'] +': '+ cont_page['content']\n",
    "cont_page.drop('title', axis=1, inplace=True)\n",
    "cont_page.info()"
   ]
  },
  {
   "cell_type": "code",
   "execution_count": 22,
   "metadata": {},
   "outputs": [
    {
     "name": "stdout",
     "output_type": "stream",
     "text": [
      "<class 'pandas.core.frame.DataFrame'>\n",
      "Int64Index: 376 entries, 0 to 975\n",
      "Data columns (total 1 columns):\n",
      " #   Column   Non-Null Count  Dtype \n",
      "---  ------   --------------  ----- \n",
      " 0   content  376 non-null    object\n",
      "dtypes: object(1)\n",
      "memory usage: 5.9+ KB\n"
     ]
    }
   ],
   "source": [
    "cont_page.content = cont_page.content.str.lower().str.strip()\n",
    "cont_page = cont_page[cont_page['content'].str.len() >= 125]\n",
    "cont_page.info()"
   ]
  },
  {
   "cell_type": "code",
   "execution_count": 23,
   "metadata": {},
   "outputs": [
    {
     "data": {
      "text/html": [
       "<div>\n",
       "<style scoped>\n",
       "    .dataframe tbody tr th:only-of-type {\n",
       "        vertical-align: middle;\n",
       "    }\n",
       "\n",
       "    .dataframe tbody tr th {\n",
       "        vertical-align: top;\n",
       "    }\n",
       "\n",
       "    .dataframe thead th {\n",
       "        text-align: right;\n",
       "    }\n",
       "</style>\n",
       "<table border=\"1\" class=\"dataframe\">\n",
       "  <thead>\n",
       "    <tr style=\"text-align: right;\">\n",
       "      <th></th>\n",
       "      <th>content</th>\n",
       "    </tr>\n",
       "  </thead>\n",
       "  <tbody>\n",
       "    <tr>\n",
       "      <th>0</th>\n",
       "      <td>pageparts: rem voluptas dolorum ipsum quia ist...</td>\n",
       "    </tr>\n",
       "    <tr>\n",
       "      <th>1</th>\n",
       "      <td>patiënten en bezoekers??: aut dolore quia aut ...</td>\n",
       "    </tr>\n",
       "    <tr>\n",
       "      <th>3</th>\n",
       "      <td>uw afspraak: vitae aut occaecati dolores non n...</td>\n",
       "    </tr>\n",
       "    <tr>\n",
       "      <th>6</th>\n",
       "      <td>coronamaatregelen: de kans op besmetting met c...</td>\n",
       "    </tr>\n",
       "    <tr>\n",
       "      <th>7</th>\n",
       "      <td>bezoektijden: u bent dagelijks welkom tussen 1...</td>\n",
       "    </tr>\n",
       "  </tbody>\n",
       "</table>\n",
       "</div>"
      ],
      "text/plain": [
       "                                             content\n",
       "0  pageparts: rem voluptas dolorum ipsum quia ist...\n",
       "1  patiënten en bezoekers??: aut dolore quia aut ...\n",
       "3  uw afspraak: vitae aut occaecati dolores non n...\n",
       "6  coronamaatregelen: de kans op besmetting met c...\n",
       "7  bezoektijden: u bent dagelijks welkom tussen 1..."
      ]
     },
     "execution_count": 23,
     "metadata": {},
     "output_type": "execute_result"
    }
   ],
   "source": [
    "cont_page.head()"
   ]
  },
  {
   "cell_type": "code",
   "execution_count": 24,
   "metadata": {},
   "outputs": [
    {
     "data": {
      "text/plain": [
       "wachttijden: heeft u een afspraak (nodig) in amphia voor een behandeling? op deze pagina vindt u de wachttijden voor elke afdeling van amphia.                                                                                                                    11\n",
       "kosten en verzekering: heeft u binnenkort een afspraak in het ziekenhuis? of bent u al patiënt? op deze pagina leest u meer over kosten en verzekering.                                                                                                           11\n",
       "zorg na opname: heeft u nadat u in het ziekenhuis heeft gelegen nog zorg nodig? dan zijn daar verschillende mogelijkheden voor. lees meer op deze pagina.                                                                                                         10\n",
       "meldpunt huiselijk geweld: amphia heeft een meldpunt voor huiselijk geweld en een meldcode voor artsen en medisch specialisten. meer leest u op deze pagina.                                                                                                      10\n",
       "privacyreglement: krijgt u zorg bij amphia? dan gebruiken wij persoonlijke gegevens van u. in onze privacyregels leest u hoe we met uw gegevens omgaan.                                                                                                            9\n",
       "                                                                                                                                                                                                                                                                  ..\n",
       "route en parkeren??: amet vel illo omnis impedit deserunt vitae sit incidunt. sequi rem quis odio totam quo reprehenderit dolorem. ipsam dolorum vero illo nihil. aut id magnam ipsam distinctio veniam laborum reiciendis.                                        1\n",
       "schadevergoeding??: heeft u schade geleden? en vindt u dat dit komt doordat we iets niet goed hebben gedaan? u leest hier hoe u een schadevergoeding aanvraagt.                                                                                                    1\n",
       "amphia bestuur en organisatiestructuur: op deze pagina leest u hoe amphia wordt geleid. en hoe onze organisatie is opgebouwd. met raad van bestuur, raad van commissarissen, adviesorganisaties, msb-a, en bestuursraad. lees meer en bekijk de organogrammen.     1\n",
       "geschillencommissie ziekenhuizen: ontevreden met de bemiddeling door de klachtenbemiddelaar of oordeel klachtencommissie? leg dan uw klacht voor aan de geschillencommissie ziekenhuizen.                                                                          1\n",
       "privacyreglement: in het privacyreglement leest u hoe we met uw gegevens omgaan. op deze pagina leggen we u meer uit over deze privacyregels.                                                                                                                      1\n",
       "Name: content, Length: 113, dtype: int64"
      ]
     },
     "execution_count": 24,
     "metadata": {},
     "output_type": "execute_result"
    }
   ],
   "source": [
    "cont_page.content.value_counts()"
   ]
  },
  {
   "cell_type": "code",
   "execution_count": 25,
   "metadata": {},
   "outputs": [
    {
     "data": {
      "text/plain": [
       "pageparts: rem voluptas dolorum ipsum quia iste at perferendis est. omnis possimus nisi natus vero nam reiciendis non. modi harum expedita nulla praesentium molestiae voluptatem id. ut facere aut quia reiciendis. est est et nihil architecto vel cumque vero.                                                     1\n",
       "urologie: peter's verhaal over blaaskanker: peter fleischacker (58) vertelt over zijn ervaringen met blaaskanker. “ik had eigenlijk helemaal geen klachten, behalve dat er wat bloed in mijn urine zat. lees hier zijn verhaal.                                                                                       1\n",
       "bestuur en organisatiestructuur: op deze pagina leest u hoe amphia wordt geleid. en hoe onze organisatie is opgebouwd. met raad van bestuur, raad van commissarissen, adviesorganisaties, msb-a, en bestuursraad. lees meer en bekijk de organogrammen.                                                               1\n",
       "orthopedie: regionaal infectiecentrum: orthopedie amphia is het regionale centrum voor infecties bij orthopedische implantaten. dit wordt ook wel een prothese infectie genoemd. patiënten worden naar orthopedie amphia verwezen vanuit diverse centra om een aanhoudende prothese infectie te laten behandelen.     1\n",
       "orthopedie : regionaal infectiecentrum: orthopedie amphia is het regionale centrum voor infecties bij orthopedische implantaten. dit wordt ook wel een prothese infectie genoemd. patiënten worden naar orthopedie amphia verwezen vanuit diverse centra om een aanhoudende prothese infectie te laten behandelen.    1\n",
       "                                                                                                                                                                                                                                                                                                                     ..\n",
       "route & parkeren??: amet vel illo omnis impedit deserunt vitae sit incidunt. sequi rem quis odio totam quo reprehenderit dolorem. ipsam dolorum vero illo nihil. aut id magnam ipsam distinctio veniam laborum reiciendis.                                                                                            1\n",
       "corona maatregelen??: voluptates nostrum dolore corrupti. sint tenetur reprehenderit voluptatem. et aut cumque accusamus nobis sint ad blanditiis.                                                                                                                                                                    1\n",
       "huiselijk geweld team (sip): amphia heeft een team voor huiselijk geweld en een meldcode voor artsen en medisch specialisten. meer leest u op deze pagina.                                                                                                                                                            1\n",
       "klachtenregeling: heeft u een klacht en komt u er met de afdeling of zorgverlener niet uit? op deze pagina leest u hoe u een klacht meldt.                                                                                                                                                                            1\n",
       "privacyreglement: in het privacyreglement leest u hoe we met uw gegevens omgaan. op deze pagina leggen we u meer uit over deze privacyregels.                                                                                                                                                                         1\n",
       "Name: content, Length: 113, dtype: int64"
      ]
     },
     "execution_count": 25,
     "metadata": {},
     "output_type": "execute_result"
    }
   ],
   "source": [
    "cont_page.drop_duplicates(inplace=True)\n",
    "cont_page.content.value_counts()"
   ]
  },
  {
   "cell_type": "code",
   "execution_count": 26,
   "metadata": {},
   "outputs": [
    {
     "name": "stdout",
     "output_type": "stream",
     "text": [
      "<class 'pandas.core.frame.DataFrame'>\n",
      "Int64Index: 113 entries, 0 to 975\n",
      "Data columns (total 1 columns):\n",
      " #   Column   Non-Null Count  Dtype \n",
      "---  ------   --------------  ----- \n",
      " 0   content  113 non-null    object\n",
      "dtypes: object(1)\n",
      "memory usage: 1.8+ KB\n"
     ]
    }
   ],
   "source": [
    "cont_page.info()"
   ]
  },
  {
   "cell_type": "code",
   "execution_count": 27,
   "metadata": {},
   "outputs": [],
   "source": [
    "cont_page.to_csv('app_content_pages_preprocessed.csv', index=False)"
   ]
  },
  {
   "cell_type": "code",
   "execution_count": null,
   "metadata": {},
   "outputs": [],
   "source": []
  },
  {
   "cell_type": "code",
   "execution_count": 28,
   "metadata": {},
   "outputs": [
    {
     "data": {
      "text/html": [
       "<div>\n",
       "<style scoped>\n",
       "    .dataframe tbody tr th:only-of-type {\n",
       "        vertical-align: middle;\n",
       "    }\n",
       "\n",
       "    .dataframe tbody tr th {\n",
       "        vertical-align: top;\n",
       "    }\n",
       "\n",
       "    .dataframe thead th {\n",
       "        text-align: right;\n",
       "    }\n",
       "</style>\n",
       "<table border=\"1\" class=\"dataframe\">\n",
       "  <thead>\n",
       "    <tr style=\"text-align: right;\">\n",
       "      <th></th>\n",
       "      <th>id</th>\n",
       "      <th>faq_page_part_id</th>\n",
       "      <th>question</th>\n",
       "      <th>answer</th>\n",
       "      <th>weight</th>\n",
       "    </tr>\n",
       "  </thead>\n",
       "  <tbody>\n",
       "    <tr>\n",
       "      <th>0</th>\n",
       "      <td>1</td>\n",
       "      <td>1</td>\n",
       "      <td>Ruiter, alsof hij dat deed). Hij leek allermin...</td>\n",
       "      <td>&lt;p&gt;Pariatur deleniti incidunt qui cupiditate. ...</td>\n",
       "      <td>0</td>\n",
       "    </tr>\n",
       "    <tr>\n",
       "      <th>1</th>\n",
       "      <td>2</td>\n",
       "      <td>1</td>\n",
       "      <td>Spiegelland. Wist je dat, lieverd?’ Het is een...</td>\n",
       "      <td>&lt;p&gt;Quidem quam ea excepturi non officia rerum ...</td>\n",
       "      <td>1</td>\n",
       "    </tr>\n",
       "    <tr>\n",
       "      <th>2</th>\n",
       "      <td>3</td>\n",
       "      <td>1</td>\n",
       "      <td>Na vier meter neem ik afscheid. En na vijf, ga...</td>\n",
       "      <td>&lt;p&gt;Incidunt suscipit enim sunt illum rem persp...</td>\n",
       "      <td>2</td>\n",
       "    </tr>\n",
       "    <tr>\n",
       "      <th>3</th>\n",
       "      <td>4</td>\n",
       "      <td>1</td>\n",
       "      <td>O, zo zal het hem wat moed gegeven heeft,’ zei...</td>\n",
       "      <td>&lt;p&gt;Et animi ut natus fugit at. Consequatur ut ...</td>\n",
       "      <td>3</td>\n",
       "    </tr>\n",
       "    <tr>\n",
       "      <th>4</th>\n",
       "      <td>5</td>\n",
       "      <td>2</td>\n",
       "      <td>Maartse Haas opgewonden. Wel waar!’ zei de Kat...</td>\n",
       "      <td>&lt;p&gt;In aut voluptatem omnis sapiente non autem....</td>\n",
       "      <td>0</td>\n",
       "    </tr>\n",
       "  </tbody>\n",
       "</table>\n",
       "</div>"
      ],
      "text/plain": [
       "  id faq_page_part_id                                           question  \\\n",
       "0  1                1  Ruiter, alsof hij dat deed). Hij leek allermin...   \n",
       "1  2                1  Spiegelland. Wist je dat, lieverd?’ Het is een...   \n",
       "2  3                1  Na vier meter neem ik afscheid. En na vijf, ga...   \n",
       "3  4                1  O, zo zal het hem wat moed gegeven heeft,’ zei...   \n",
       "4  5                2  Maartse Haas opgewonden. Wel waar!’ zei de Kat...   \n",
       "\n",
       "                                              answer weight  \n",
       "0  <p>Pariatur deleniti incidunt qui cupiditate. ...      0  \n",
       "1  <p>Quidem quam ea excepturi non officia rerum ...      1  \n",
       "2  <p>Incidunt suscipit enim sunt illum rem persp...      2  \n",
       "3  <p>Et animi ut natus fugit at. Consequatur ut ...      3  \n",
       "4  <p>In aut voluptatem omnis sapiente non autem....      0  "
      ]
     },
     "execution_count": 28,
     "metadata": {},
     "output_type": "execute_result"
    }
   ],
   "source": [
    "Q_A = pd.read_csv('app_question_answers.csv', on_bad_lines='skip')\n",
    "Q_A.head()"
   ]
  },
  {
   "cell_type": "code",
   "execution_count": 29,
   "metadata": {},
   "outputs": [
    {
     "name": "stdout",
     "output_type": "stream",
     "text": [
      "<class 'pandas.core.frame.DataFrame'>\n",
      "RangeIndex: 4135 entries, 0 to 4134\n",
      "Data columns (total 5 columns):\n",
      " #   Column            Non-Null Count  Dtype \n",
      "---  ------            --------------  ----- \n",
      " 0   id                4135 non-null   object\n",
      " 1   faq_page_part_id  1571 non-null   object\n",
      " 2   question          985 non-null    object\n",
      " 3   answer            947 non-null    object\n",
      " 4   weight            485 non-null    object\n",
      "dtypes: object(5)\n",
      "memory usage: 161.6+ KB\n"
     ]
    }
   ],
   "source": [
    "Q_A.info()"
   ]
  },
  {
   "cell_type": "code",
   "execution_count": 30,
   "metadata": {},
   "outputs": [
    {
     "data": {
      "text/plain": [
       "4135"
      ]
     },
     "execution_count": 30,
     "metadata": {},
     "output_type": "execute_result"
    }
   ],
   "source": [
    "len(Q_A)"
   ]
  },
  {
   "cell_type": "code",
   "execution_count": 31,
   "metadata": {},
   "outputs": [
    {
     "data": {
      "text/plain": [
       "</ul>\"                                                                       268\n",
       "\\t\\t\\t<td style=\"width: 40%;\"><strong>Toegangstijd in dagen</strong></td>    111\n",
       "\\t\\t\\t<td style=\"width: 40%;\"><strong>Wachttijd in dagen</strong></td>        59\n",
       "<div class=\"table-wrapper\">                                                   56\n",
       "\\t\\t</tr></tbody></table>\"                                                    53\n",
       "                                                                            ... \n",
       "361                                                                            1\n",
       "360                                                                            1\n",
       "359                                                                            1\n",
       "358                                                                            1\n",
       "1190                                                                           1\n",
       "Name: id, Length: 2261, dtype: int64"
      ]
     },
     "execution_count": 31,
     "metadata": {},
     "output_type": "execute_result"
    }
   ],
   "source": [
    "Q_A.id.value_counts()"
   ]
  },
  {
   "cell_type": "code",
   "execution_count": 32,
   "metadata": {},
   "outputs": [
    {
     "data": {
      "text/plain": [
       "933"
      ]
     },
     "execution_count": 32,
     "metadata": {},
     "output_type": "execute_result"
    }
   ],
   "source": [
    "Q_A = Q_A[Q_A.id.isin([str(n) for n in range(len(Q_A))])]\n",
    "Q_A.id = Q_A.id.astype(int)\n",
    "len(Q_A)"
   ]
  },
  {
   "cell_type": "code",
   "execution_count": 33,
   "metadata": {},
   "outputs": [
    {
     "data": {
      "text/plain": [
       "1       1\n",
       "845     1\n",
       "833     1\n",
       "834     1\n",
       "835     1\n",
       "       ..\n",
       "433     1\n",
       "434     1\n",
       "435     1\n",
       "436     1\n",
       "1190    1\n",
       "Name: id, Length: 933, dtype: int64"
      ]
     },
     "execution_count": 33,
     "metadata": {},
     "output_type": "execute_result"
    }
   ],
   "source": [
    "Q_A.id.value_counts()"
   ]
  },
  {
   "cell_type": "code",
   "execution_count": 34,
   "metadata": {},
   "outputs": [
    {
     "name": "stdout",
     "output_type": "stream",
     "text": [
      "<class 'pandas.core.frame.DataFrame'>\n",
      "Int64Index: 933 entries, 0 to 4124\n",
      "Data columns (total 5 columns):\n",
      " #   Column            Non-Null Count  Dtype \n",
      "---  ------            --------------  ----- \n",
      " 0   id                933 non-null    int32 \n",
      " 1   faq_page_part_id  933 non-null    object\n",
      " 2   question          933 non-null    object\n",
      " 3   answer            933 non-null    object\n",
      " 4   weight            484 non-null    object\n",
      "dtypes: int32(1), object(4)\n",
      "memory usage: 40.1+ KB\n"
     ]
    }
   ],
   "source": [
    "Q_A.info()"
   ]
  },
  {
   "cell_type": "code",
   "execution_count": 35,
   "metadata": {},
   "outputs": [
    {
     "data": {
      "text/html": [
       "<div>\n",
       "<style scoped>\n",
       "    .dataframe tbody tr th:only-of-type {\n",
       "        vertical-align: middle;\n",
       "    }\n",
       "\n",
       "    .dataframe tbody tr th {\n",
       "        vertical-align: top;\n",
       "    }\n",
       "\n",
       "    .dataframe thead th {\n",
       "        text-align: right;\n",
       "    }\n",
       "</style>\n",
       "<table border=\"1\" class=\"dataframe\">\n",
       "  <thead>\n",
       "    <tr style=\"text-align: right;\">\n",
       "      <th></th>\n",
       "      <th>id</th>\n",
       "      <th>faq_page_part_id</th>\n",
       "      <th>question</th>\n",
       "      <th>answer</th>\n",
       "      <th>weight</th>\n",
       "    </tr>\n",
       "  </thead>\n",
       "  <tbody>\n",
       "    <tr>\n",
       "      <th>0</th>\n",
       "      <td>1</td>\n",
       "      <td>1</td>\n",
       "      <td>Ruiter, alsof hij dat deed). Hij leek allermin...</td>\n",
       "      <td>&lt;p&gt;Pariatur deleniti incidunt qui cupiditate. ...</td>\n",
       "      <td>0</td>\n",
       "    </tr>\n",
       "    <tr>\n",
       "      <th>1</th>\n",
       "      <td>2</td>\n",
       "      <td>1</td>\n",
       "      <td>Spiegelland. Wist je dat, lieverd?’ Het is een...</td>\n",
       "      <td>&lt;p&gt;Quidem quam ea excepturi non officia rerum ...</td>\n",
       "      <td>1</td>\n",
       "    </tr>\n",
       "    <tr>\n",
       "      <th>2</th>\n",
       "      <td>3</td>\n",
       "      <td>1</td>\n",
       "      <td>Na vier meter neem ik afscheid. En na vijf, ga...</td>\n",
       "      <td>&lt;p&gt;Incidunt suscipit enim sunt illum rem persp...</td>\n",
       "      <td>2</td>\n",
       "    </tr>\n",
       "    <tr>\n",
       "      <th>3</th>\n",
       "      <td>4</td>\n",
       "      <td>1</td>\n",
       "      <td>O, zo zal het hem wat moed gegeven heeft,’ zei...</td>\n",
       "      <td>&lt;p&gt;Et animi ut natus fugit at. Consequatur ut ...</td>\n",
       "      <td>3</td>\n",
       "    </tr>\n",
       "    <tr>\n",
       "      <th>4</th>\n",
       "      <td>5</td>\n",
       "      <td>2</td>\n",
       "      <td>Maartse Haas opgewonden. Wel waar!’ zei de Kat...</td>\n",
       "      <td>&lt;p&gt;In aut voluptatem omnis sapiente non autem....</td>\n",
       "      <td>0</td>\n",
       "    </tr>\n",
       "  </tbody>\n",
       "</table>\n",
       "</div>"
      ],
      "text/plain": [
       "   id faq_page_part_id                                           question  \\\n",
       "0   1                1  Ruiter, alsof hij dat deed). Hij leek allermin...   \n",
       "1   2                1  Spiegelland. Wist je dat, lieverd?’ Het is een...   \n",
       "2   3                1  Na vier meter neem ik afscheid. En na vijf, ga...   \n",
       "3   4                1  O, zo zal het hem wat moed gegeven heeft,’ zei...   \n",
       "4   5                2  Maartse Haas opgewonden. Wel waar!’ zei de Kat...   \n",
       "\n",
       "                                              answer weight  \n",
       "0  <p>Pariatur deleniti incidunt qui cupiditate. ...      0  \n",
       "1  <p>Quidem quam ea excepturi non officia rerum ...      1  \n",
       "2  <p>Incidunt suscipit enim sunt illum rem persp...      2  \n",
       "3  <p>Et animi ut natus fugit at. Consequatur ut ...      3  \n",
       "4  <p>In aut voluptatem omnis sapiente non autem....      0  "
      ]
     },
     "execution_count": 35,
     "metadata": {},
     "output_type": "execute_result"
    }
   ],
   "source": [
    "Q_A.head()"
   ]
  },
  {
   "cell_type": "code",
   "execution_count": 36,
   "metadata": {},
   "outputs": [
    {
     "name": "stdout",
     "output_type": "stream",
     "text": [
      "<class 'pandas.core.frame.DataFrame'>\n",
      "Int64Index: 933 entries, 0 to 4124\n",
      "Data columns (total 2 columns):\n",
      " #   Column    Non-Null Count  Dtype \n",
      "---  ------    --------------  ----- \n",
      " 0   question  933 non-null    object\n",
      " 1   answer    933 non-null    object\n",
      "dtypes: object(2)\n",
      "memory usage: 21.9+ KB\n"
     ]
    }
   ],
   "source": [
    "Q_A = Q_A[['question','answer']]\n",
    "Q_A.info()"
   ]
  },
  {
   "cell_type": "code",
   "execution_count": 37,
   "metadata": {},
   "outputs": [
    {
     "name": "stderr",
     "output_type": "stream",
     "text": [
      "c:\\Users\\LAPTOP WORLD\\AppData\\Local\\Programs\\Python\\Python39\\lib\\site-packages\\bs4\\__init__.py:435: MarkupResemblesLocatorWarning: The input looks more like a filename than markup. You may want to open this file and pass the filehandle into Beautiful Soup.\n",
      "  warnings.warn(\n"
     ]
    },
    {
     "data": {
      "text/html": [
       "<div>\n",
       "<style scoped>\n",
       "    .dataframe tbody tr th:only-of-type {\n",
       "        vertical-align: middle;\n",
       "    }\n",
       "\n",
       "    .dataframe tbody tr th {\n",
       "        vertical-align: top;\n",
       "    }\n",
       "\n",
       "    .dataframe thead th {\n",
       "        text-align: right;\n",
       "    }\n",
       "</style>\n",
       "<table border=\"1\" class=\"dataframe\">\n",
       "  <thead>\n",
       "    <tr style=\"text-align: right;\">\n",
       "      <th></th>\n",
       "      <th>question</th>\n",
       "      <th>answer</th>\n",
       "    </tr>\n",
       "  </thead>\n",
       "  <tbody>\n",
       "    <tr>\n",
       "      <th>0</th>\n",
       "      <td>Ruiter alsof hij dat deed Hij leek allerminst ...</td>\n",
       "      <td>Pariatur deleniti incidunt qui cupiditate Est ...</td>\n",
       "    </tr>\n",
       "    <tr>\n",
       "      <th>1</th>\n",
       "      <td>Spiegelland Wist je dat lieverd Het is een mop...</td>\n",
       "      <td>Quidem quam ea excepturi non officia rerum con...</td>\n",
       "    </tr>\n",
       "    <tr>\n",
       "      <th>2</th>\n",
       "      <td>Na vier meter neem ik afscheid En na vijf ga i...</td>\n",
       "      <td>Incidunt suscipit enim sunt illum rem perspici...</td>\n",
       "    </tr>\n",
       "    <tr>\n",
       "      <th>3</th>\n",
       "      <td>O zo zal het hem wat moed gegeven heeft zeize ...</td>\n",
       "      <td>Et animi ut natus fugit at Consequatur ut et v...</td>\n",
       "    </tr>\n",
       "    <tr>\n",
       "      <th>4</th>\n",
       "      <td>Maartse Haas opgewonden Wel waar zei de Kat ik...</td>\n",
       "      <td>In aut voluptatem omnis sapiente non autem Num...</td>\n",
       "    </tr>\n",
       "  </tbody>\n",
       "</table>\n",
       "</div>"
      ],
      "text/plain": [
       "                                            question  \\\n",
       "0  Ruiter alsof hij dat deed Hij leek allerminst ...   \n",
       "1  Spiegelland Wist je dat lieverd Het is een mop...   \n",
       "2  Na vier meter neem ik afscheid En na vijf ga i...   \n",
       "3  O zo zal het hem wat moed gegeven heeft zeize ...   \n",
       "4  Maartse Haas opgewonden Wel waar zei de Kat ik...   \n",
       "\n",
       "                                              answer  \n",
       "0  Pariatur deleniti incidunt qui cupiditate Est ...  \n",
       "1  Quidem quam ea excepturi non officia rerum con...  \n",
       "2  Incidunt suscipit enim sunt illum rem perspici...  \n",
       "3  Et animi ut natus fugit at Consequatur ut et v...  \n",
       "4  In aut voluptatem omnis sapiente non autem Num...  "
      ]
     },
     "execution_count": 37,
     "metadata": {},
     "output_type": "execute_result"
    }
   ],
   "source": [
    "# Apply the function to the text_column\n",
    "Q_A['question'] = Q_A['question'].apply(clean_text)\n",
    "Q_A['answer'] = Q_A['answer'].apply(clean_text)\n",
    "Q_A.head()"
   ]
  },
  {
   "cell_type": "code",
   "execution_count": 38,
   "metadata": {},
   "outputs": [
    {
     "name": "stdout",
     "output_type": "stream",
     "text": [
      "<class 'pandas.core.frame.DataFrame'>\n",
      "Int64Index: 933 entries, 0 to 4124\n",
      "Data columns (total 1 columns):\n",
      " #   Column   Non-Null Count  Dtype \n",
      "---  ------   --------------  ----- \n",
      " 0   content  933 non-null    object\n",
      "dtypes: object(1)\n",
      "memory usage: 14.6+ KB\n"
     ]
    }
   ],
   "source": [
    "Q_A['content'] = Q_A['question'] +'? '+ Q_A['answer']\n",
    "Q_A.drop(['answer','question'], axis=1, inplace=True)\n",
    "Q_A.info()"
   ]
  },
  {
   "cell_type": "code",
   "execution_count": 39,
   "metadata": {},
   "outputs": [
    {
     "data": {
      "text/html": [
       "<div>\n",
       "<style scoped>\n",
       "    .dataframe tbody tr th:only-of-type {\n",
       "        vertical-align: middle;\n",
       "    }\n",
       "\n",
       "    .dataframe tbody tr th {\n",
       "        vertical-align: top;\n",
       "    }\n",
       "\n",
       "    .dataframe thead th {\n",
       "        text-align: right;\n",
       "    }\n",
       "</style>\n",
       "<table border=\"1\" class=\"dataframe\">\n",
       "  <thead>\n",
       "    <tr style=\"text-align: right;\">\n",
       "      <th></th>\n",
       "      <th>content</th>\n",
       "    </tr>\n",
       "  </thead>\n",
       "  <tbody>\n",
       "    <tr>\n",
       "      <th>4084</th>\n",
       "      <td>Revalidatiegeneeskunde? Polikliniek</td>\n",
       "    </tr>\n",
       "    <tr>\n",
       "      <th>4093</th>\n",
       "      <td>Slaapcentrum? Polikliniek</td>\n",
       "    </tr>\n",
       "    <tr>\n",
       "      <th>4098</th>\n",
       "      <td>Spatadercentrum? Polikliniek</td>\n",
       "    </tr>\n",
       "    <tr>\n",
       "      <th>4111</th>\n",
       "      <td>Sportgeneeskunde? Polikliniek</td>\n",
       "    </tr>\n",
       "    <tr>\n",
       "      <th>4124</th>\n",
       "      <td>Urologie? Polikliniek</td>\n",
       "    </tr>\n",
       "  </tbody>\n",
       "</table>\n",
       "</div>"
      ],
      "text/plain": [
       "                                  content\n",
       "4084  Revalidatiegeneeskunde? Polikliniek\n",
       "4093            Slaapcentrum? Polikliniek\n",
       "4098         Spatadercentrum? Polikliniek\n",
       "4111        Sportgeneeskunde? Polikliniek\n",
       "4124                Urologie? Polikliniek"
      ]
     },
     "execution_count": 39,
     "metadata": {},
     "output_type": "execute_result"
    }
   ],
   "source": [
    "Q_A.tail()"
   ]
  },
  {
   "cell_type": "code",
   "execution_count": 40,
   "metadata": {},
   "outputs": [
    {
     "data": {
      "text/html": [
       "<div>\n",
       "<style scoped>\n",
       "    .dataframe tbody tr th:only-of-type {\n",
       "        vertical-align: middle;\n",
       "    }\n",
       "\n",
       "    .dataframe tbody tr th {\n",
       "        vertical-align: top;\n",
       "    }\n",
       "\n",
       "    .dataframe thead th {\n",
       "        text-align: right;\n",
       "    }\n",
       "</style>\n",
       "<table border=\"1\" class=\"dataframe\">\n",
       "  <thead>\n",
       "    <tr style=\"text-align: right;\">\n",
       "      <th></th>\n",
       "      <th>content</th>\n",
       "    </tr>\n",
       "  </thead>\n",
       "  <tbody>\n",
       "    <tr>\n",
       "      <th>3537</th>\n",
       "      <td>mond kaak en aangezichtschirurgie mka ? polikl...</td>\n",
       "    </tr>\n",
       "    <tr>\n",
       "      <th>3740</th>\n",
       "      <td>uitleg toegangstijden poliklinieken? als uw hu...</td>\n",
       "    </tr>\n",
       "    <tr>\n",
       "      <th>3741</th>\n",
       "      <td>uitleg wachttijden onderzoek en behandeling? a...</td>\n",
       "    </tr>\n",
       "    <tr>\n",
       "      <th>3913</th>\n",
       "      <td>maag darm en leverziekten en endoscopiecentrum...</td>\n",
       "    </tr>\n",
       "    <tr>\n",
       "      <th>3930</th>\n",
       "      <td>mond kaak en aangezichtschirurgie mka ? polikl...</td>\n",
       "    </tr>\n",
       "  </tbody>\n",
       "</table>\n",
       "</div>"
      ],
      "text/plain": [
       "                                                content\n",
       "3537  mond kaak en aangezichtschirurgie mka ? polikl...\n",
       "3740  uitleg toegangstijden poliklinieken? als uw hu...\n",
       "3741  uitleg wachttijden onderzoek en behandeling? a...\n",
       "3913  maag darm en leverziekten en endoscopiecentrum...\n",
       "3930  mond kaak en aangezichtschirurgie mka ? polikl..."
      ]
     },
     "execution_count": 40,
     "metadata": {},
     "output_type": "execute_result"
    }
   ],
   "source": [
    "Q_A.content = Q_A.content.str.lower().str.strip()\n",
    "Q_A = Q_A[Q_A['content'].str.len() >= 50]\n",
    "Q_A.tail()"
   ]
  },
  {
   "cell_type": "code",
   "execution_count": 41,
   "metadata": {},
   "outputs": [
    {
     "data": {
      "text/plain": [
       "waar kan ik meer informatie vinden ? meer informatie over huidtherapie of huidziektes vindt u op deze websites www huidtherapie nl                                                                                                                                                                                           12\n",
       "zijn er wachttijden ? op onze wachttijden pagina vindt u hierover meer informatie de wachttijden zijn een schatting van dit moment deze veranderen soms bijvoorbeeld door spoedzorg speciale zorg of een second opinion of uw eigen keuze voor een specialist wilt u meer informatie bekijk de wachttijden van dit moment    11\n",
       "waar kan ik meer lezen over gynaecologie bij amphia ? ga naar gynaecologie                                                                                                                                                                                                                                                    6\n",
       "waar vind ik meer informatie ? meer nuttige informatie leest u op de volgende websites www hartstichting nl                                                                                                                                                                                                                   6\n",
       "waar kan ik meer lezen over chirurgie bij amphia ? ga naar chirurgie                                                                                                                                                                                                                                                          6\n",
       "                                                                                                                                                                                                                                                                                                                             ..\n",
       "met wie werkt amphia samen voor chirurgische oncologie ? amphia werkt samen met het bravis ziekenhuis en het elisabeth tweesteden ziekenhuis dat zijn andere ziekenhuizen in de regio ook werken we veel samen met het erasmus medisch centrum en het verbeeten instituut                                                     1\n",
       "ik heb een dikkedarmoperatie gehad hoe zien mijn controle afspraken eruit ? u vindt hier meer informatie over in onze folder controle afspraken na een dikke darmoperatie                                                                                                                                                     1\n",
       "waar vind ik meer informatie ? u vindt meer informatie in onze folders casemanager ge oncologie                                                                                                                                                                                                                               1\n",
       "waar vind ik meer informatie ? ga naar spataderencentrum                                                                                                                                                                                                                                                                      1\n",
       "verpleegafdeling cardiologie? breda molengracht route 24a 076 595 49 36 076 595 49 37                                                                                                                                                                                                                                         1\n",
       "Name: content, Length: 605, dtype: int64"
      ]
     },
     "execution_count": 41,
     "metadata": {},
     "output_type": "execute_result"
    }
   ],
   "source": [
    "Q_A.content.value_counts()"
   ]
  },
  {
   "cell_type": "code",
   "execution_count": 42,
   "metadata": {},
   "outputs": [
    {
     "data": {
      "text/plain": [
       "ruiter alsof hij dat deed hij leek allerminst op zijn arm en zei toen de vierde twee dagen achter zuchtte de soepschildpad met een kop thee en keek verward rond terwijl die twee grote ? pariatur deleniti incidunt qui cupiditate est neque doloribus et facilis est cupiditate reiciendis omnis est                                                                                                                          1\n",
       "kan ik bij mijn kind blijven slapen ? eén van de ouders of verzorgers mag blijven slapen u slaapt dan in de kamer bij uw kind de verpleegkundige vertelt van welk toilet en douche u gebruik kunt maken ook is er een ouderkamer waar u even kunt ontspannen ontbijt is er voor de ouders tegen betaling in de ouderkamer staat een koelkast waar u zelf meegebrachte spullen kunt bewaren en kunt bereiden in een magnetron    1\n",
       "waar kan ik meer lezen over neonatologie bij amphia ? te vroeg geboren kindjes komen bij amphia op de afdeling gezinssuites lees meer over gezinssuites                                                                                                                                                                                                                                                                         1\n",
       "waar kan ik meer lezen over kindergeneeskunde bij amphia ? ga naar kindergeneeskunde                                                                                                                                                                                                                                                                                                                                            1\n",
       "ik wil meer weten over couveusekinderen? ga naar care4neo                                                                                                                                                                                                                                                                                                                                                                       1\n",
       "                                                                                                                                                                                                                                                                                                                                                                                                                               ..\n",
       "zijn er kosten ? nee de hulp van het medisch maatschappelijk werk kost u niets                                                                                                                                                                                                                                                                                                                                                  1\n",
       "hoe zit het met mijn privacy ? uw gegevens worden vertrouwelijk behandeld dat betekent dat we ze niet aan anderen doorgeven de medisch maatschappelijk werker zet uw gegevens in het elektronisch patiëntendossier epd net zoals alle artsen moeten doen als de maatschappelijk werker het belangrijk vindt om anderen buiten het ziekenhuis te vertellen over uw situatie dan wordt dit eerst met u besproken                  1\n",
       "waar vind ik meer informatie ? u vindt meer informatie in onze folders welkom op onze afdeling                                                                                                                                                                                                                                                                                                                                  1\n",
       "waar kan ik meer informatie vinden ? meer informatie over huidtherapie of huidziektes vindt u op deze websites www huidenlasercentrum nl                                                                                                                                                                                                                                                                                        1\n",
       "verpleegafdeling cardiologie? breda molengracht route 24a 076 595 49 36 076 595 49 37                                                                                                                                                                                                                                                                                                                                           1\n",
       "Name: content, Length: 605, dtype: int64"
      ]
     },
     "execution_count": 42,
     "metadata": {},
     "output_type": "execute_result"
    }
   ],
   "source": [
    "Q_A.drop_duplicates(inplace=True)\n",
    "Q_A.content.value_counts()"
   ]
  },
  {
   "cell_type": "code",
   "execution_count": 43,
   "metadata": {},
   "outputs": [
    {
     "data": {
      "text/plain": [
       "605"
      ]
     },
     "execution_count": 43,
     "metadata": {},
     "output_type": "execute_result"
    }
   ],
   "source": [
    "len(Q_A)"
   ]
  },
  {
   "cell_type": "code",
   "execution_count": 44,
   "metadata": {},
   "outputs": [],
   "source": [
    "Q_A.to_csv('app_question_answers_preprocessed.csv', index=False)"
   ]
  },
  {
   "cell_type": "code",
   "execution_count": 45,
   "metadata": {},
   "outputs": [
    {
     "name": "stdout",
     "output_type": "stream",
     "text": [
      "<class 'pandas.core.frame.DataFrame'>\n",
      "Int64Index: 1454 entries, 0 to 3315\n",
      "Data columns (total 1 columns):\n",
      " #   Column   Non-Null Count  Dtype \n",
      "---  ------   --------------  ----- \n",
      " 0   content  1454 non-null   object\n",
      "dtypes: object(1)\n",
      "memory usage: 22.7+ KB\n"
     ]
    }
   ],
   "source": [
    "full_cont = pd.concat([text_page,cont_page,Q_A])\n",
    "full_cont.info()"
   ]
  },
  {
   "cell_type": "code",
   "execution_count": 46,
   "metadata": {},
   "outputs": [],
   "source": [
    "full_cont.to_csv('Full_Content.csv',index=False)"
   ]
  },
  {
   "cell_type": "code",
   "execution_count": null,
   "metadata": {},
   "outputs": [],
   "source": []
  }
 ],
 "metadata": {
  "kernelspec": {
   "display_name": "Python 3",
   "language": "python",
   "name": "python3"
  },
  "language_info": {
   "codemirror_mode": {
    "name": "ipython",
    "version": 3
   },
   "file_extension": ".py",
   "mimetype": "text/x-python",
   "name": "python",
   "nbconvert_exporter": "python",
   "pygments_lexer": "ipython3",
   "version": "3.9.4"
  },
  "orig_nbformat": 4
 },
 "nbformat": 4,
 "nbformat_minor": 2
}
